{
 "cells": [
  {
   "cell_type": "markdown",
   "metadata": {},
   "source": [
    "## Train classifier by layers\n",
    "\n",
    "This notebook trains a classifier that operates in two layers:\n",
    "- First we use a SVM classifier to label utterances with high degree of certainty.\n",
    "- Afterwards we use heuristics to complete the labeling"
   ]
  },
  {
   "cell_type": "markdown",
   "metadata": {},
   "source": [
    "### Import and path definition"
   ]
  },
  {
   "cell_type": "code",
   "execution_count": 1,
   "metadata": {},
   "outputs": [],
   "source": [
    "import os\n",
    "import pandas as pd\n",
    "import numpy as np\n",
    "import random\n",
    "import pickle\n",
    "import sys\n",
    "import matplotlib.pyplot as plt\n",
    "\n",
    "root_path = os.path.dirname(os.path.dirname(os.path.abspath(os.getcwd())))\n",
    "sys.path.append(root_path)\n",
    "\n",
    "from sklearn.svm import SVC\n",
    "from sklearn.svm import LinearSVC\n",
    "from sklearn.metrics import classification_report\n",
    "from sklearn.metrics import confusion_matrix\n",
    "from src import phase_classification as pc\n",
    "\n",
    "data_path = os.path.join(root_path,'data')\n",
    "tables_path = os.path.join(data_path,'tables')"
   ]
  },
  {
   "cell_type": "markdown",
   "metadata": {},
   "source": [
    "### Load data"
   ]
  },
  {
   "cell_type": "code",
   "execution_count": 2,
   "metadata": {},
   "outputs": [],
   "source": [
    "WITH_STEMMING = True\n",
    "#REMOVE_STOPWORDS = True\n",
    "SEED = 10\n",
    "NUM_TOPICS = 60\n",
    "random.seed(SEED)\n",
    "CLASS_W = False"
   ]
  },
  {
   "cell_type": "code",
   "execution_count": 3,
   "metadata": {},
   "outputs": [],
   "source": [
    "file_name = '[train]IBL_topic_distribution_by_utterance_with_phrase_before_and_after_time_utterance_minimum_0_words_with_stemming_{}_{}.xlsx'.format(WITH_STEMMING,NUM_TOPICS)\n",
    "df_data = pd.read_excel(os.path.join(tables_path,'train',file_name))"
   ]
  },
  {
   "cell_type": "markdown",
   "metadata": {},
   "source": [
    "### Data description"
   ]
  },
  {
   "cell_type": "code",
   "execution_count": 4,
   "metadata": {},
   "outputs": [
    {
     "data": {
      "text/html": [
       "<div>\n",
       "<style scoped>\n",
       "    .dataframe tbody tr th:only-of-type {\n",
       "        vertical-align: middle;\n",
       "    }\n",
       "\n",
       "    .dataframe tbody tr th {\n",
       "        vertical-align: top;\n",
       "    }\n",
       "\n",
       "    .dataframe thead th {\n",
       "        text-align: right;\n",
       "    }\n",
       "</style>\n",
       "<table border=\"1\" class=\"dataframe\">\n",
       "  <thead>\n",
       "    <tr style=\"text-align: right;\">\n",
       "      <th></th>\n",
       "      <th>Topic before 1</th>\n",
       "      <th>Topic before 2</th>\n",
       "      <th>Topic before 3</th>\n",
       "      <th>Topic before 4</th>\n",
       "      <th>Topic before 5</th>\n",
       "      <th>Topic before 6</th>\n",
       "      <th>Topic before 7</th>\n",
       "      <th>Topic before 8</th>\n",
       "      <th>Topic before 9</th>\n",
       "      <th>Topic before 10</th>\n",
       "      <th>...</th>\n",
       "      <th>Topic after 60</th>\n",
       "      <th>phase</th>\n",
       "      <th>phase_1</th>\n",
       "      <th>phase_2</th>\n",
       "      <th>phase_3</th>\n",
       "      <th>phase_4</th>\n",
       "      <th>phase_5</th>\n",
       "      <th>utterance</th>\n",
       "      <th>length utterance</th>\n",
       "      <th>utterance_relative_time</th>\n",
       "    </tr>\n",
       "  </thead>\n",
       "  <tbody>\n",
       "    <tr>\n",
       "      <th>0</th>\n",
       "      <td>0.022871</td>\n",
       "      <td>0.006985</td>\n",
       "      <td>0.015633</td>\n",
       "      <td>0.007367</td>\n",
       "      <td>0.005062</td>\n",
       "      <td>0.003185</td>\n",
       "      <td>0.008658</td>\n",
       "      <td>0.012719</td>\n",
       "      <td>0.003149</td>\n",
       "      <td>0.005543</td>\n",
       "      <td>...</td>\n",
       "      <td>0.003787</td>\n",
       "      <td>1</td>\n",
       "      <td>1</td>\n",
       "      <td>0</td>\n",
       "      <td>0</td>\n",
       "      <td>0</td>\n",
       "      <td>0</td>\n",
       "      <td>SATUNNAINEN</td>\n",
       "      <td>0.000000</td>\n",
       "      <td>0.000000</td>\n",
       "    </tr>\n",
       "    <tr>\n",
       "      <th>1</th>\n",
       "      <td>0.022871</td>\n",
       "      <td>0.006985</td>\n",
       "      <td>0.015633</td>\n",
       "      <td>0.007367</td>\n",
       "      <td>0.005062</td>\n",
       "      <td>0.003185</td>\n",
       "      <td>0.008658</td>\n",
       "      <td>0.012719</td>\n",
       "      <td>0.003149</td>\n",
       "      <td>0.005543</td>\n",
       "      <td>...</td>\n",
       "      <td>0.004338</td>\n",
       "      <td>1</td>\n",
       "      <td>1</td>\n",
       "      <td>0</td>\n",
       "      <td>0</td>\n",
       "      <td>0</td>\n",
       "      <td>0</td>\n",
       "      <td>siel QUESTION_SYMBOL onks oo palo</td>\n",
       "      <td>0.065574</td>\n",
       "      <td>0.010417</td>\n",
       "    </tr>\n",
       "    <tr>\n",
       "      <th>2</th>\n",
       "      <td>0.018513</td>\n",
       "      <td>0.005654</td>\n",
       "      <td>0.012654</td>\n",
       "      <td>0.005964</td>\n",
       "      <td>0.004097</td>\n",
       "      <td>0.002578</td>\n",
       "      <td>0.007008</td>\n",
       "      <td>0.010369</td>\n",
       "      <td>0.002549</td>\n",
       "      <td>0.004487</td>\n",
       "      <td>...</td>\n",
       "      <td>0.004043</td>\n",
       "      <td>1</td>\n",
       "      <td>1</td>\n",
       "      <td>0</td>\n",
       "      <td>0</td>\n",
       "      <td>0</td>\n",
       "      <td>0</td>\n",
       "      <td>no tää varm muutu</td>\n",
       "      <td>0.049180</td>\n",
       "      <td>0.017361</td>\n",
       "    </tr>\n",
       "    <tr>\n",
       "      <th>3</th>\n",
       "      <td>0.025611</td>\n",
       "      <td>0.006476</td>\n",
       "      <td>0.014495</td>\n",
       "      <td>0.006832</td>\n",
       "      <td>0.004693</td>\n",
       "      <td>0.002954</td>\n",
       "      <td>0.008028</td>\n",
       "      <td>0.011817</td>\n",
       "      <td>0.002920</td>\n",
       "      <td>0.005140</td>\n",
       "      <td>...</td>\n",
       "      <td>0.003020</td>\n",
       "      <td>1</td>\n",
       "      <td>1</td>\n",
       "      <td>0</td>\n",
       "      <td>0</td>\n",
       "      <td>0</td>\n",
       "      <td>0</td>\n",
       "      <td>aja T_ ATOMI ehtiny törm ton ver</td>\n",
       "      <td>0.098361</td>\n",
       "      <td>0.020833</td>\n",
       "    </tr>\n",
       "    <tr>\n",
       "      <th>4</th>\n",
       "      <td>0.020057</td>\n",
       "      <td>0.006037</td>\n",
       "      <td>0.013513</td>\n",
       "      <td>0.006368</td>\n",
       "      <td>0.004375</td>\n",
       "      <td>0.002753</td>\n",
       "      <td>0.007483</td>\n",
       "      <td>0.010995</td>\n",
       "      <td>0.002722</td>\n",
       "      <td>0.004792</td>\n",
       "      <td>...</td>\n",
       "      <td>0.005076</td>\n",
       "      <td>1</td>\n",
       "      <td>1</td>\n",
       "      <td>0</td>\n",
       "      <td>0</td>\n",
       "      <td>0</td>\n",
       "      <td>0</td>\n",
       "      <td>ton ver ai pitä muute kato sil taas oo lask to...</td>\n",
       "      <td>0.213115</td>\n",
       "      <td>0.027778</td>\n",
       "    </tr>\n",
       "  </tbody>\n",
       "</table>\n",
       "<p>5 rows × 189 columns</p>\n",
       "</div>"
      ],
      "text/plain": [
       "   Topic before 1  Topic before 2  Topic before 3  Topic before 4  \\\n",
       "0        0.022871        0.006985        0.015633        0.007367   \n",
       "1        0.022871        0.006985        0.015633        0.007367   \n",
       "2        0.018513        0.005654        0.012654        0.005964   \n",
       "3        0.025611        0.006476        0.014495        0.006832   \n",
       "4        0.020057        0.006037        0.013513        0.006368   \n",
       "\n",
       "   Topic before 5  Topic before 6  Topic before 7  Topic before 8  \\\n",
       "0        0.005062        0.003185        0.008658        0.012719   \n",
       "1        0.005062        0.003185        0.008658        0.012719   \n",
       "2        0.004097        0.002578        0.007008        0.010369   \n",
       "3        0.004693        0.002954        0.008028        0.011817   \n",
       "4        0.004375        0.002753        0.007483        0.010995   \n",
       "\n",
       "   Topic before 9  Topic before 10           ...             Topic after 60  \\\n",
       "0        0.003149         0.005543           ...                   0.003787   \n",
       "1        0.003149         0.005543           ...                   0.004338   \n",
       "2        0.002549         0.004487           ...                   0.004043   \n",
       "3        0.002920         0.005140           ...                   0.003020   \n",
       "4        0.002722         0.004792           ...                   0.005076   \n",
       "\n",
       "   phase  phase_1  phase_2  phase_3  phase_4  phase_5  \\\n",
       "0      1        1        0        0        0        0   \n",
       "1      1        1        0        0        0        0   \n",
       "2      1        1        0        0        0        0   \n",
       "3      1        1        0        0        0        0   \n",
       "4      1        1        0        0        0        0   \n",
       "\n",
       "                                           utterance  length utterance  \\\n",
       "0                                        SATUNNAINEN          0.000000   \n",
       "1                  siel QUESTION_SYMBOL onks oo palo          0.065574   \n",
       "2                                  no tää varm muutu          0.049180   \n",
       "3                   aja T_ ATOMI ehtiny törm ton ver          0.098361   \n",
       "4  ton ver ai pitä muute kato sil taas oo lask to...          0.213115   \n",
       "\n",
       "   utterance_relative_time  \n",
       "0                 0.000000  \n",
       "1                 0.010417  \n",
       "2                 0.017361  \n",
       "3                 0.020833  \n",
       "4                 0.027778  \n",
       "\n",
       "[5 rows x 189 columns]"
      ]
     },
     "execution_count": 4,
     "metadata": {},
     "output_type": "execute_result"
    }
   ],
   "source": [
    "df_data.head()"
   ]
  },
  {
   "cell_type": "code",
   "execution_count": 5,
   "metadata": {},
   "outputs": [
    {
     "name": "stdout",
     "output_type": "stream",
     "text": [
      "1600\n",
      "key 1, samples: 403, prop: 0.25\n",
      "key 2, samples: 175, prop: 0.11\n",
      "key 3, samples: 406, prop: 0.25\n",
      "key 4, samples: 62, prop: 0.04\n",
      "key 5, samples: 554, prop: 0.35\n"
     ]
    }
   ],
   "source": [
    "the_keys = list(set(df_data['phase']))\n",
    "total_samples = 0\n",
    "class_samples = {}\n",
    "for key in the_keys:\n",
    "    n = list(df_data.phase.values).count(key)\n",
    "    #print(\"key {}, total {}\".format(key,n))\n",
    "    total_samples += n\n",
    "    class_samples[key] = n\n",
    "print(total_samples)\n",
    "proportions = []\n",
    "for key in the_keys:\n",
    "    proportion = round(class_samples[key]*1.0/total_samples,2)    \n",
    "    print(\"key {}, samples: {}, prop: {}\".format(key,class_samples[key],proportion))"
   ]
  },
  {
   "cell_type": "markdown",
   "metadata": {},
   "source": [
    "### split data"
   ]
  },
  {
   "cell_type": "code",
   "execution_count": 6,
   "metadata": {},
   "outputs": [
    {
     "data": {
      "text/plain": [
       "1328"
      ]
     },
     "execution_count": 6,
     "metadata": {},
     "output_type": "execute_result"
    }
   ],
   "source": [
    "filter_rows = list(range(180))+[187,188]\n",
    "row_label = 180\n",
    "dfs_train,dfs_val = pc.split_df_discussions(df_data,.2,SEED)\n",
    "X_train,y_train = pc.get_joined_data_from_df(dfs_train,filter_rows,row_label)\n",
    "X_val,y_val = pc.get_joined_data_from_df(dfs_val,filter_rows,row_label)\n",
    "len(X_train)"
   ]
  },
  {
   "cell_type": "code",
   "execution_count": 7,
   "metadata": {},
   "outputs": [],
   "source": [
    "dfs_all,_ = pc.split_df_discussions(df_data,.0,SEED)\n",
    "X_all,y_all = pc.get_joined_data_from_df(dfs_all,filter_rows,row_label)"
   ]
  },
  {
   "cell_type": "markdown",
   "metadata": {},
   "source": [
    "### Classify first layer"
   ]
  },
  {
   "cell_type": "code",
   "execution_count": 8,
   "metadata": {},
   "outputs": [
    {
     "data": {
      "text/plain": [
       "182"
      ]
     },
     "execution_count": 8,
     "metadata": {},
     "output_type": "execute_result"
    }
   ],
   "source": [
    "len(X_train[0])"
   ]
  },
  {
   "cell_type": "code",
   "execution_count": 9,
   "metadata": {},
   "outputs": [],
   "source": [
    "class_weight = {}\n",
    "for key in the_keys:\n",
    "    class_weight[key] = 1000.0/class_samples[key]"
   ]
  },
  {
   "cell_type": "markdown",
   "metadata": {},
   "source": [
    "Note that if you remove class_weight then the accuracy is up to 0.5"
   ]
  },
  {
   "cell_type": "code",
   "execution_count": 10,
   "metadata": {},
   "outputs": [
    {
     "name": "stdout",
     "output_type": "stream",
     "text": [
      "Accuracy of SVM classifier on training set: 0.51\n",
      "Accuracy of SVM classifier on test set: 0.52\n"
     ]
    }
   ],
   "source": [
    "if CLASS_W:\n",
    "    svc = SVC(kernel='linear',random_state=SEED,probability=True,class_weight=class_weight)\n",
    "else:\n",
    "    svc = SVC(kernel='linear',random_state=SEED,probability=True)\n",
    "svc.fit(X_train, y_train)\n",
    "print('Accuracy of SVM classifier on training set: {:.2f}'\n",
    "     .format(svc.score(X_train, y_train)))\n",
    "print('Accuracy of SVM classifier on test set: {:.2f}'\n",
    "     .format(svc.score(X_val, y_val)))"
   ]
  },
  {
   "cell_type": "code",
   "execution_count": 11,
   "metadata": {
    "scrolled": false
   },
   "outputs": [
    {
     "name": "stdout",
     "output_type": "stream",
     "text": [
      "              precision    recall  f1-score   support\n",
      "\n",
      "           1       0.65      0.55      0.60       101\n",
      "           2       0.00      0.00      0.00         9\n",
      "           3       0.80      0.06      0.12        63\n",
      "           4       0.00      0.00      0.00         3\n",
      "           5       0.45      0.84      0.58        96\n",
      "\n",
      "   micro avg       0.52      0.52      0.52       272\n",
      "   macro avg       0.38      0.29      0.26       272\n",
      "weighted avg       0.59      0.52      0.46       272\n",
      "\n"
     ]
    },
    {
     "name": "stderr",
     "output_type": "stream",
     "text": [
      "C:\\Users\\CATALINA ESPINOZA\\AppData\\Local\\conda\\conda\\envs\\teacher_topic_model\\lib\\site-packages\\sklearn\\metrics\\classification.py:1143: UndefinedMetricWarning: Precision and F-score are ill-defined and being set to 0.0 in labels with no predicted samples.\n",
      "  'precision', 'predicted', average, warn_for)\n"
     ]
    },
    {
     "data": {
      "text/html": [
       "<div>\n",
       "<style scoped>\n",
       "    .dataframe tbody tr th:only-of-type {\n",
       "        vertical-align: middle;\n",
       "    }\n",
       "\n",
       "    .dataframe tbody tr th {\n",
       "        vertical-align: top;\n",
       "    }\n",
       "\n",
       "    .dataframe thead th {\n",
       "        text-align: right;\n",
       "    }\n",
       "</style>\n",
       "<table border=\"1\" class=\"dataframe\">\n",
       "  <thead>\n",
       "    <tr style=\"text-align: right;\">\n",
       "      <th></th>\n",
       "      <th>Predicted Phase 1</th>\n",
       "      <th>Predicted Phase 2</th>\n",
       "      <th>Predicted Phase 3</th>\n",
       "      <th>Predicted Phase 4</th>\n",
       "      <th>Predicted Phase 5</th>\n",
       "    </tr>\n",
       "  </thead>\n",
       "  <tbody>\n",
       "    <tr>\n",
       "      <th>Phase 1</th>\n",
       "      <td>56</td>\n",
       "      <td>0</td>\n",
       "      <td>1</td>\n",
       "      <td>0</td>\n",
       "      <td>44</td>\n",
       "    </tr>\n",
       "    <tr>\n",
       "      <th>Phase 2</th>\n",
       "      <td>0</td>\n",
       "      <td>0</td>\n",
       "      <td>0</td>\n",
       "      <td>0</td>\n",
       "      <td>9</td>\n",
       "    </tr>\n",
       "    <tr>\n",
       "      <th>Phase 3</th>\n",
       "      <td>15</td>\n",
       "      <td>0</td>\n",
       "      <td>4</td>\n",
       "      <td>0</td>\n",
       "      <td>44</td>\n",
       "    </tr>\n",
       "    <tr>\n",
       "      <th>Phase 4</th>\n",
       "      <td>0</td>\n",
       "      <td>0</td>\n",
       "      <td>0</td>\n",
       "      <td>0</td>\n",
       "      <td>3</td>\n",
       "    </tr>\n",
       "    <tr>\n",
       "      <th>Phase 5</th>\n",
       "      <td>15</td>\n",
       "      <td>0</td>\n",
       "      <td>0</td>\n",
       "      <td>0</td>\n",
       "      <td>81</td>\n",
       "    </tr>\n",
       "  </tbody>\n",
       "</table>\n",
       "</div>"
      ],
      "text/plain": [
       "         Predicted Phase 1  Predicted Phase 2  Predicted Phase 3  \\\n",
       "Phase 1                 56                  0                  1   \n",
       "Phase 2                  0                  0                  0   \n",
       "Phase 3                 15                  0                  4   \n",
       "Phase 4                  0                  0                  0   \n",
       "Phase 5                 15                  0                  0   \n",
       "\n",
       "         Predicted Phase 4  Predicted Phase 5  \n",
       "Phase 1                  0                 44  \n",
       "Phase 2                  0                  9  \n",
       "Phase 3                  0                 44  \n",
       "Phase 4                  0                  3  \n",
       "Phase 5                  0                 81  "
      ]
     },
     "execution_count": 11,
     "metadata": {},
     "output_type": "execute_result"
    }
   ],
   "source": [
    "pred = svc.predict(X_val)\n",
    "labels = [\"Phase {}\".format(i) for i in range(1,6)]\n",
    "df = pd.DataFrame(confusion_matrix(y_val, pred),columns=[\"Predicted {}\".format(i) for i in labels])\n",
    "df.index = labels\n",
    "#print(\" \")\n",
    "print(classification_report(y_val, pred))\n",
    "df"
   ]
  },
  {
   "cell_type": "code",
   "execution_count": 12,
   "metadata": {},
   "outputs": [
    {
     "name": "stdout",
     "output_type": "stream",
     "text": [
      "Accuracy of SVM classifier on training set: 0.51\n"
     ]
    }
   ],
   "source": [
    "print('Accuracy of SVM classifier on training set: {:.2f}'\n",
    "     .format(svc.score(X_all, y_all)))"
   ]
  },
  {
   "cell_type": "code",
   "execution_count": 13,
   "metadata": {},
   "outputs": [],
   "source": [
    "pred_val = svc.predict_proba(X_all)"
   ]
  },
  {
   "cell_type": "code",
   "execution_count": 14,
   "metadata": {},
   "outputs": [],
   "source": [
    "output_first_layer = [np.argmax(pred_val[i])+1 for i in range(len(pred_val))]"
   ]
  },
  {
   "cell_type": "code",
   "execution_count": 15,
   "metadata": {},
   "outputs": [],
   "source": [
    "df_data['first_layer'] = output_first_layer"
   ]
  },
  {
   "cell_type": "code",
   "execution_count": 16,
   "metadata": {
    "scrolled": true
   },
   "outputs": [
    {
     "data": {
      "text/html": [
       "<div>\n",
       "<style scoped>\n",
       "    .dataframe tbody tr th:only-of-type {\n",
       "        vertical-align: middle;\n",
       "    }\n",
       "\n",
       "    .dataframe tbody tr th {\n",
       "        vertical-align: top;\n",
       "    }\n",
       "\n",
       "    .dataframe thead th {\n",
       "        text-align: right;\n",
       "    }\n",
       "</style>\n",
       "<table border=\"1\" class=\"dataframe\">\n",
       "  <thead>\n",
       "    <tr style=\"text-align: right;\">\n",
       "      <th></th>\n",
       "      <th>Topic before 1</th>\n",
       "      <th>Topic before 2</th>\n",
       "      <th>Topic before 3</th>\n",
       "      <th>Topic before 4</th>\n",
       "      <th>Topic before 5</th>\n",
       "      <th>Topic before 6</th>\n",
       "      <th>Topic before 7</th>\n",
       "      <th>Topic before 8</th>\n",
       "      <th>Topic before 9</th>\n",
       "      <th>Topic before 10</th>\n",
       "      <th>...</th>\n",
       "      <th>phase</th>\n",
       "      <th>phase_1</th>\n",
       "      <th>phase_2</th>\n",
       "      <th>phase_3</th>\n",
       "      <th>phase_4</th>\n",
       "      <th>phase_5</th>\n",
       "      <th>utterance</th>\n",
       "      <th>length utterance</th>\n",
       "      <th>utterance_relative_time</th>\n",
       "      <th>first_layer</th>\n",
       "    </tr>\n",
       "  </thead>\n",
       "  <tbody>\n",
       "    <tr>\n",
       "      <th>0</th>\n",
       "      <td>0.022871</td>\n",
       "      <td>0.006985</td>\n",
       "      <td>0.015633</td>\n",
       "      <td>0.007367</td>\n",
       "      <td>0.005062</td>\n",
       "      <td>0.003185</td>\n",
       "      <td>0.008658</td>\n",
       "      <td>0.012719</td>\n",
       "      <td>0.003149</td>\n",
       "      <td>0.005543</td>\n",
       "      <td>...</td>\n",
       "      <td>1</td>\n",
       "      <td>1</td>\n",
       "      <td>0</td>\n",
       "      <td>0</td>\n",
       "      <td>0</td>\n",
       "      <td>0</td>\n",
       "      <td>SATUNNAINEN</td>\n",
       "      <td>0.000000</td>\n",
       "      <td>0.000000</td>\n",
       "      <td>1</td>\n",
       "    </tr>\n",
       "    <tr>\n",
       "      <th>1</th>\n",
       "      <td>0.022871</td>\n",
       "      <td>0.006985</td>\n",
       "      <td>0.015633</td>\n",
       "      <td>0.007367</td>\n",
       "      <td>0.005062</td>\n",
       "      <td>0.003185</td>\n",
       "      <td>0.008658</td>\n",
       "      <td>0.012719</td>\n",
       "      <td>0.003149</td>\n",
       "      <td>0.005543</td>\n",
       "      <td>...</td>\n",
       "      <td>1</td>\n",
       "      <td>1</td>\n",
       "      <td>0</td>\n",
       "      <td>0</td>\n",
       "      <td>0</td>\n",
       "      <td>0</td>\n",
       "      <td>siel QUESTION_SYMBOL onks oo palo</td>\n",
       "      <td>0.065574</td>\n",
       "      <td>0.010417</td>\n",
       "      <td>1</td>\n",
       "    </tr>\n",
       "    <tr>\n",
       "      <th>2</th>\n",
       "      <td>0.018513</td>\n",
       "      <td>0.005654</td>\n",
       "      <td>0.012654</td>\n",
       "      <td>0.005964</td>\n",
       "      <td>0.004097</td>\n",
       "      <td>0.002578</td>\n",
       "      <td>0.007008</td>\n",
       "      <td>0.010369</td>\n",
       "      <td>0.002549</td>\n",
       "      <td>0.004487</td>\n",
       "      <td>...</td>\n",
       "      <td>1</td>\n",
       "      <td>1</td>\n",
       "      <td>0</td>\n",
       "      <td>0</td>\n",
       "      <td>0</td>\n",
       "      <td>0</td>\n",
       "      <td>no tää varm muutu</td>\n",
       "      <td>0.049180</td>\n",
       "      <td>0.017361</td>\n",
       "      <td>1</td>\n",
       "    </tr>\n",
       "    <tr>\n",
       "      <th>3</th>\n",
       "      <td>0.025611</td>\n",
       "      <td>0.006476</td>\n",
       "      <td>0.014495</td>\n",
       "      <td>0.006832</td>\n",
       "      <td>0.004693</td>\n",
       "      <td>0.002954</td>\n",
       "      <td>0.008028</td>\n",
       "      <td>0.011817</td>\n",
       "      <td>0.002920</td>\n",
       "      <td>0.005140</td>\n",
       "      <td>...</td>\n",
       "      <td>1</td>\n",
       "      <td>1</td>\n",
       "      <td>0</td>\n",
       "      <td>0</td>\n",
       "      <td>0</td>\n",
       "      <td>0</td>\n",
       "      <td>aja T_ ATOMI ehtiny törm ton ver</td>\n",
       "      <td>0.098361</td>\n",
       "      <td>0.020833</td>\n",
       "      <td>1</td>\n",
       "    </tr>\n",
       "    <tr>\n",
       "      <th>4</th>\n",
       "      <td>0.020057</td>\n",
       "      <td>0.006037</td>\n",
       "      <td>0.013513</td>\n",
       "      <td>0.006368</td>\n",
       "      <td>0.004375</td>\n",
       "      <td>0.002753</td>\n",
       "      <td>0.007483</td>\n",
       "      <td>0.010995</td>\n",
       "      <td>0.002722</td>\n",
       "      <td>0.004792</td>\n",
       "      <td>...</td>\n",
       "      <td>1</td>\n",
       "      <td>1</td>\n",
       "      <td>0</td>\n",
       "      <td>0</td>\n",
       "      <td>0</td>\n",
       "      <td>0</td>\n",
       "      <td>ton ver ai pitä muute kato sil taas oo lask to...</td>\n",
       "      <td>0.213115</td>\n",
       "      <td>0.027778</td>\n",
       "      <td>1</td>\n",
       "    </tr>\n",
       "  </tbody>\n",
       "</table>\n",
       "<p>5 rows × 190 columns</p>\n",
       "</div>"
      ],
      "text/plain": [
       "   Topic before 1  Topic before 2  Topic before 3  Topic before 4  \\\n",
       "0        0.022871        0.006985        0.015633        0.007367   \n",
       "1        0.022871        0.006985        0.015633        0.007367   \n",
       "2        0.018513        0.005654        0.012654        0.005964   \n",
       "3        0.025611        0.006476        0.014495        0.006832   \n",
       "4        0.020057        0.006037        0.013513        0.006368   \n",
       "\n",
       "   Topic before 5  Topic before 6  Topic before 7  Topic before 8  \\\n",
       "0        0.005062        0.003185        0.008658        0.012719   \n",
       "1        0.005062        0.003185        0.008658        0.012719   \n",
       "2        0.004097        0.002578        0.007008        0.010369   \n",
       "3        0.004693        0.002954        0.008028        0.011817   \n",
       "4        0.004375        0.002753        0.007483        0.010995   \n",
       "\n",
       "   Topic before 9  Topic before 10     ...       phase  phase_1  phase_2  \\\n",
       "0        0.003149         0.005543     ...           1        1        0   \n",
       "1        0.003149         0.005543     ...           1        1        0   \n",
       "2        0.002549         0.004487     ...           1        1        0   \n",
       "3        0.002920         0.005140     ...           1        1        0   \n",
       "4        0.002722         0.004792     ...           1        1        0   \n",
       "\n",
       "   phase_3  phase_4  phase_5  \\\n",
       "0        0        0        0   \n",
       "1        0        0        0   \n",
       "2        0        0        0   \n",
       "3        0        0        0   \n",
       "4        0        0        0   \n",
       "\n",
       "                                           utterance  length utterance  \\\n",
       "0                                        SATUNNAINEN          0.000000   \n",
       "1                  siel QUESTION_SYMBOL onks oo palo          0.065574   \n",
       "2                                  no tää varm muutu          0.049180   \n",
       "3                   aja T_ ATOMI ehtiny törm ton ver          0.098361   \n",
       "4  ton ver ai pitä muute kato sil taas oo lask to...          0.213115   \n",
       "\n",
       "   utterance_relative_time  first_layer  \n",
       "0                 0.000000            1  \n",
       "1                 0.010417            1  \n",
       "2                 0.017361            1  \n",
       "3                 0.020833            1  \n",
       "4                 0.027778            1  \n",
       "\n",
       "[5 rows x 190 columns]"
      ]
     },
     "execution_count": 16,
     "metadata": {},
     "output_type": "execute_result"
    }
   ],
   "source": [
    "df_data.head()"
   ]
  },
  {
   "cell_type": "code",
   "execution_count": 20,
   "metadata": {},
   "outputs": [],
   "source": [
    "df_data.to_excel(os.path.join(tables_path,'[one_layer][cw_{}]'.format(CLASS_W)+file_name))"
   ]
  },
  {
   "cell_type": "code",
   "execution_count": 21,
   "metadata": {},
   "outputs": [],
   "source": [
    "with open(os.path.join(data_path,'classifier_svm_one_layer_cw_{}.pickle'.format(CLASS_W)),'wb') as f:\n",
    "    pickle.dump(svc,f)"
   ]
  },
  {
   "cell_type": "code",
   "execution_count": 22,
   "metadata": {},
   "outputs": [
    {
     "name": "stdout",
     "output_type": "stream",
     "text": [
      "              precision    recall  f1-score   support\n",
      "\n",
      "           1       0.54      0.65      0.59       403\n",
      "           2       0.58      0.30      0.39       175\n",
      "           3       0.70      0.42      0.53       406\n",
      "           4       0.88      0.11      0.20        62\n",
      "           5       0.53      0.74      0.61       554\n",
      "\n",
      "   micro avg       0.56      0.56      0.56      1600\n",
      "   macro avg       0.65      0.44      0.47      1600\n",
      "weighted avg       0.60      0.56      0.55      1600\n",
      "\n"
     ]
    },
    {
     "data": {
      "text/html": [
       "<div>\n",
       "<style scoped>\n",
       "    .dataframe tbody tr th:only-of-type {\n",
       "        vertical-align: middle;\n",
       "    }\n",
       "\n",
       "    .dataframe tbody tr th {\n",
       "        vertical-align: top;\n",
       "    }\n",
       "\n",
       "    .dataframe thead th {\n",
       "        text-align: right;\n",
       "    }\n",
       "</style>\n",
       "<table border=\"1\" class=\"dataframe\">\n",
       "  <thead>\n",
       "    <tr style=\"text-align: right;\">\n",
       "      <th></th>\n",
       "      <th>Predicted Phase 1</th>\n",
       "      <th>Predicted Phase 2</th>\n",
       "      <th>Predicted Phase 3</th>\n",
       "      <th>Predicted Phase 4</th>\n",
       "      <th>Predicted Phase 5</th>\n",
       "    </tr>\n",
       "  </thead>\n",
       "  <tbody>\n",
       "    <tr>\n",
       "      <th>Phase 1</th>\n",
       "      <td>261</td>\n",
       "      <td>17</td>\n",
       "      <td>20</td>\n",
       "      <td>0</td>\n",
       "      <td>105</td>\n",
       "    </tr>\n",
       "    <tr>\n",
       "      <th>Phase 2</th>\n",
       "      <td>45</td>\n",
       "      <td>52</td>\n",
       "      <td>10</td>\n",
       "      <td>0</td>\n",
       "      <td>68</td>\n",
       "    </tr>\n",
       "    <tr>\n",
       "      <th>Phase 3</th>\n",
       "      <td>80</td>\n",
       "      <td>3</td>\n",
       "      <td>172</td>\n",
       "      <td>0</td>\n",
       "      <td>151</td>\n",
       "    </tr>\n",
       "    <tr>\n",
       "      <th>Phase 4</th>\n",
       "      <td>1</td>\n",
       "      <td>5</td>\n",
       "      <td>3</td>\n",
       "      <td>7</td>\n",
       "      <td>46</td>\n",
       "    </tr>\n",
       "    <tr>\n",
       "      <th>Phase 5</th>\n",
       "      <td>93</td>\n",
       "      <td>12</td>\n",
       "      <td>39</td>\n",
       "      <td>1</td>\n",
       "      <td>409</td>\n",
       "    </tr>\n",
       "  </tbody>\n",
       "</table>\n",
       "</div>"
      ],
      "text/plain": [
       "         Predicted Phase 1  Predicted Phase 2  Predicted Phase 3  \\\n",
       "Phase 1                261                 17                 20   \n",
       "Phase 2                 45                 52                 10   \n",
       "Phase 3                 80                  3                172   \n",
       "Phase 4                  1                  5                  3   \n",
       "Phase 5                 93                 12                 39   \n",
       "\n",
       "         Predicted Phase 4  Predicted Phase 5  \n",
       "Phase 1                  0                105  \n",
       "Phase 2                  0                 68  \n",
       "Phase 3                  0                151  \n",
       "Phase 4                  7                 46  \n",
       "Phase 5                  1                409  "
      ]
     },
     "execution_count": 22,
     "metadata": {},
     "output_type": "execute_result"
    }
   ],
   "source": [
    "df = pd.DataFrame(confusion_matrix(y_all, output_first_layer),columns=[\"Predicted {}\".format(i) for i in labels])\n",
    "df.index = labels\n",
    "print(classification_report(y_all, output_first_layer))\n",
    "df"
   ]
  },
  {
   "cell_type": "code",
   "execution_count": 23,
   "metadata": {
    "scrolled": true
   },
   "outputs": [
    {
     "name": "stdout",
     "output_type": "stream",
     "text": [
      "Accuracy of SVM classifier on training set: 0.51\n"
     ]
    }
   ],
   "source": [
    "print('Accuracy of SVM classifier on training set: {:.2f}'\n",
    "     .format(svc.score(X_all, y_all)))"
   ]
  },
  {
   "cell_type": "code",
   "execution_count": null,
   "metadata": {},
   "outputs": [],
   "source": []
  }
 ],
 "metadata": {
  "kernelspec": {
   "display_name": "Python 3",
   "language": "python",
   "name": "python3"
  },
  "language_info": {
   "codemirror_mode": {
    "name": "ipython",
    "version": 3
   },
   "file_extension": ".py",
   "mimetype": "text/x-python",
   "name": "python",
   "nbconvert_exporter": "python",
   "pygments_lexer": "ipython3",
   "version": "3.6.6"
  }
 },
 "nbformat": 4,
 "nbformat_minor": 2
}
