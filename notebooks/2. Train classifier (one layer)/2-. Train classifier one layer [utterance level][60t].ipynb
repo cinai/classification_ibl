{
 "cells": [
  {
   "cell_type": "markdown",
   "metadata": {},
   "source": [
    "## Train classifier by layers\n",
    "\n",
    "This notebook trains a classifier that operates in two layers:\n",
    "- First we use a SVM classifier to label utterances with high degree of certainty.\n",
    "- Afterwards we use heuristics to complete the labeling"
   ]
  },
  {
   "cell_type": "markdown",
   "metadata": {},
   "source": [
    "### Import and path definition"
   ]
  },
  {
   "cell_type": "code",
   "execution_count": 2,
   "metadata": {},
   "outputs": [],
   "source": [
    "import os\n",
    "import pandas as pd\n",
    "import numpy as np\n",
    "import random\n",
    "import pickle\n",
    "import sys\n",
    "import matplotlib.pyplot as plt\n",
    "\n",
    "root_path = os.path.dirname(os.path.dirname(os.path.abspath(os.getcwd())))\n",
    "sys.path.append(root_path)\n",
    "\n",
    "from sklearn.svm import SVC\n",
    "from sklearn.svm import LinearSVC\n",
    "from sklearn.metrics import classification_report\n",
    "from sklearn.metrics import confusion_matrix\n",
    "from src import phase_classification as pc\n",
    "\n",
    "data_path = os.path.join(root_path,'data')\n",
    "tables_path = os.path.join(data_path,'tables')"
   ]
  },
  {
   "cell_type": "markdown",
   "metadata": {},
   "source": [
    "### Load data"
   ]
  },
  {
   "cell_type": "code",
   "execution_count": 3,
   "metadata": {},
   "outputs": [],
   "source": [
    "WITH_STEMMING = True\n",
    "#REMOVE_STOPWORDS = True\n",
    "SEED = 10\n",
    "NUM_TOPICS = 60\n",
    "random.seed(SEED)"
   ]
  },
  {
   "cell_type": "code",
   "execution_count": 4,
   "metadata": {},
   "outputs": [],
   "source": [
    "file_name = '[train]IBL_topic_distribution_by_utterance_minimum_5_words_with_stemming_{}_{}.xlsx'.format(WITH_STEMMING,NUM_TOPICS)\n",
    "df_data = pd.read_excel(os.path.join(tables_path,'train',file_name))"
   ]
  },
  {
   "cell_type": "markdown",
   "metadata": {},
   "source": [
    "### Data description"
   ]
  },
  {
   "cell_type": "code",
   "execution_count": 5,
   "metadata": {
    "scrolled": true
   },
   "outputs": [
    {
     "data": {
      "text/html": [
       "<div>\n",
       "<style scoped>\n",
       "    .dataframe tbody tr th:only-of-type {\n",
       "        vertical-align: middle;\n",
       "    }\n",
       "\n",
       "    .dataframe tbody tr th {\n",
       "        vertical-align: top;\n",
       "    }\n",
       "\n",
       "    .dataframe thead th {\n",
       "        text-align: right;\n",
       "    }\n",
       "</style>\n",
       "<table border=\"1\" class=\"dataframe\">\n",
       "  <thead>\n",
       "    <tr style=\"text-align: right;\">\n",
       "      <th></th>\n",
       "      <th>Topic 1</th>\n",
       "      <th>Topic 2</th>\n",
       "      <th>Topic 3</th>\n",
       "      <th>Topic 4</th>\n",
       "      <th>Topic 5</th>\n",
       "      <th>Topic 6</th>\n",
       "      <th>Topic 7</th>\n",
       "      <th>Topic 8</th>\n",
       "      <th>Topic 9</th>\n",
       "      <th>Topic 10</th>\n",
       "      <th>...</th>\n",
       "      <th>Topic 60</th>\n",
       "      <th>phase</th>\n",
       "      <th>phase_1</th>\n",
       "      <th>phase_2</th>\n",
       "      <th>phase_3</th>\n",
       "      <th>phase_4</th>\n",
       "      <th>phase_5</th>\n",
       "      <th>utterance</th>\n",
       "      <th>length utterance</th>\n",
       "      <th>utterance_relative_time</th>\n",
       "    </tr>\n",
       "  </thead>\n",
       "  <tbody>\n",
       "    <tr>\n",
       "      <th>0</th>\n",
       "      <td>0.009546</td>\n",
       "      <td>0.012683</td>\n",
       "      <td>0.006349</td>\n",
       "      <td>0.005774</td>\n",
       "      <td>0.003684</td>\n",
       "      <td>0.005008</td>\n",
       "      <td>0.004698</td>\n",
       "      <td>0.008680</td>\n",
       "      <td>0.012694</td>\n",
       "      <td>0.015815</td>\n",
       "      <td>...</td>\n",
       "      <td>0.011693</td>\n",
       "      <td>1</td>\n",
       "      <td>1</td>\n",
       "      <td>0</td>\n",
       "      <td>0</td>\n",
       "      <td>0</td>\n",
       "      <td>0</td>\n",
       "      <td>SATUNNAINEN</td>\n",
       "      <td>0.000000</td>\n",
       "      <td>0.000000</td>\n",
       "    </tr>\n",
       "    <tr>\n",
       "      <th>1</th>\n",
       "      <td>0.102344</td>\n",
       "      <td>0.009047</td>\n",
       "      <td>0.004529</td>\n",
       "      <td>0.004119</td>\n",
       "      <td>0.002628</td>\n",
       "      <td>0.003573</td>\n",
       "      <td>0.003351</td>\n",
       "      <td>0.006192</td>\n",
       "      <td>0.009057</td>\n",
       "      <td>0.011282</td>\n",
       "      <td>...</td>\n",
       "      <td>0.008342</td>\n",
       "      <td>1</td>\n",
       "      <td>1</td>\n",
       "      <td>0</td>\n",
       "      <td>0</td>\n",
       "      <td>0</td>\n",
       "      <td>0</td>\n",
       "      <td>siel QUESTION_SYMBOL onks oo palo</td>\n",
       "      <td>0.065574</td>\n",
       "      <td>0.010417</td>\n",
       "    </tr>\n",
       "    <tr>\n",
       "      <th>2</th>\n",
       "      <td>0.102352</td>\n",
       "      <td>0.009047</td>\n",
       "      <td>0.004529</td>\n",
       "      <td>0.004119</td>\n",
       "      <td>0.002628</td>\n",
       "      <td>0.003573</td>\n",
       "      <td>0.003351</td>\n",
       "      <td>0.006192</td>\n",
       "      <td>0.009055</td>\n",
       "      <td>0.011302</td>\n",
       "      <td>...</td>\n",
       "      <td>0.008342</td>\n",
       "      <td>1</td>\n",
       "      <td>1</td>\n",
       "      <td>0</td>\n",
       "      <td>0</td>\n",
       "      <td>0</td>\n",
       "      <td>0</td>\n",
       "      <td>no tää varm muutu</td>\n",
       "      <td>0.049180</td>\n",
       "      <td>0.017361</td>\n",
       "    </tr>\n",
       "    <tr>\n",
       "      <th>3</th>\n",
       "      <td>0.005717</td>\n",
       "      <td>0.007596</td>\n",
       "      <td>0.003803</td>\n",
       "      <td>0.077458</td>\n",
       "      <td>0.002207</td>\n",
       "      <td>0.003000</td>\n",
       "      <td>0.002814</td>\n",
       "      <td>0.005199</td>\n",
       "      <td>0.007603</td>\n",
       "      <td>0.009472</td>\n",
       "      <td>...</td>\n",
       "      <td>0.007004</td>\n",
       "      <td>1</td>\n",
       "      <td>1</td>\n",
       "      <td>0</td>\n",
       "      <td>0</td>\n",
       "      <td>0</td>\n",
       "      <td>0</td>\n",
       "      <td>aja T_ ATOMI ehtiny törm ton ver</td>\n",
       "      <td>0.098361</td>\n",
       "      <td>0.020833</td>\n",
       "    </tr>\n",
       "    <tr>\n",
       "      <th>4</th>\n",
       "      <td>0.111640</td>\n",
       "      <td>0.004865</td>\n",
       "      <td>0.002435</td>\n",
       "      <td>0.002215</td>\n",
       "      <td>0.001413</td>\n",
       "      <td>0.001921</td>\n",
       "      <td>0.001802</td>\n",
       "      <td>0.003329</td>\n",
       "      <td>0.004869</td>\n",
       "      <td>0.006066</td>\n",
       "      <td>...</td>\n",
       "      <td>0.004486</td>\n",
       "      <td>1</td>\n",
       "      <td>1</td>\n",
       "      <td>0</td>\n",
       "      <td>0</td>\n",
       "      <td>0</td>\n",
       "      <td>0</td>\n",
       "      <td>ton ver ai pitä muute kato sil taas oo lask to...</td>\n",
       "      <td>0.213115</td>\n",
       "      <td>0.027778</td>\n",
       "    </tr>\n",
       "  </tbody>\n",
       "</table>\n",
       "<p>5 rows × 69 columns</p>\n",
       "</div>"
      ],
      "text/plain": [
       "    Topic 1   Topic 2   Topic 3   Topic 4   Topic 5   Topic 6   Topic 7  \\\n",
       "0  0.009546  0.012683  0.006349  0.005774  0.003684  0.005008  0.004698   \n",
       "1  0.102344  0.009047  0.004529  0.004119  0.002628  0.003573  0.003351   \n",
       "2  0.102352  0.009047  0.004529  0.004119  0.002628  0.003573  0.003351   \n",
       "3  0.005717  0.007596  0.003803  0.077458  0.002207  0.003000  0.002814   \n",
       "4  0.111640  0.004865  0.002435  0.002215  0.001413  0.001921  0.001802   \n",
       "\n",
       "    Topic 8   Topic 9  Topic 10           ...             Topic 60  phase  \\\n",
       "0  0.008680  0.012694  0.015815           ...             0.011693      1   \n",
       "1  0.006192  0.009057  0.011282           ...             0.008342      1   \n",
       "2  0.006192  0.009055  0.011302           ...             0.008342      1   \n",
       "3  0.005199  0.007603  0.009472           ...             0.007004      1   \n",
       "4  0.003329  0.004869  0.006066           ...             0.004486      1   \n",
       "\n",
       "   phase_1  phase_2  phase_3  phase_4  phase_5  \\\n",
       "0        1        0        0        0        0   \n",
       "1        1        0        0        0        0   \n",
       "2        1        0        0        0        0   \n",
       "3        1        0        0        0        0   \n",
       "4        1        0        0        0        0   \n",
       "\n",
       "                                           utterance  length utterance  \\\n",
       "0                                        SATUNNAINEN          0.000000   \n",
       "1                  siel QUESTION_SYMBOL onks oo palo          0.065574   \n",
       "2                                  no tää varm muutu          0.049180   \n",
       "3                   aja T_ ATOMI ehtiny törm ton ver          0.098361   \n",
       "4  ton ver ai pitä muute kato sil taas oo lask to...          0.213115   \n",
       "\n",
       "   utterance_relative_time  \n",
       "0                 0.000000  \n",
       "1                 0.010417  \n",
       "2                 0.017361  \n",
       "3                 0.020833  \n",
       "4                 0.027778  \n",
       "\n",
       "[5 rows x 69 columns]"
      ]
     },
     "execution_count": 5,
     "metadata": {},
     "output_type": "execute_result"
    }
   ],
   "source": [
    "df_data.head()"
   ]
  },
  {
   "cell_type": "code",
   "execution_count": 6,
   "metadata": {},
   "outputs": [
    {
     "name": "stdout",
     "output_type": "stream",
     "text": [
      "1600\n",
      "key 1, samples: 403, prop: 0.25\n",
      "key 2, samples: 175, prop: 0.11\n",
      "key 3, samples: 406, prop: 0.25\n",
      "key 4, samples: 62, prop: 0.04\n",
      "key 5, samples: 554, prop: 0.35\n"
     ]
    }
   ],
   "source": [
    "the_keys = list(set(df_data['phase']))\n",
    "total_samples = 0\n",
    "class_samples = {}\n",
    "for key in the_keys:\n",
    "    n = list(df_data.phase.values).count(key)\n",
    "    #print(\"key {}, total {}\".format(key,n))\n",
    "    total_samples += n\n",
    "    class_samples[key] = n\n",
    "print(total_samples)\n",
    "proportions = []\n",
    "for key in the_keys:\n",
    "    proportion = round(class_samples[key]*1.0/total_samples,2)    \n",
    "    print(\"key {}, samples: {}, prop: {}\".format(key,class_samples[key],proportion))"
   ]
  },
  {
   "cell_type": "markdown",
   "metadata": {},
   "source": [
    "### Split data"
   ]
  },
  {
   "cell_type": "code",
   "execution_count": 7,
   "metadata": {},
   "outputs": [],
   "source": [
    "filter_rows = list(range(60))+[67,68]\n",
    "row_label = 60"
   ]
  },
  {
   "cell_type": "code",
   "execution_count": 8,
   "metadata": {},
   "outputs": [],
   "source": [
    "dfs_train,dfs_val = pc.split_df_discussions(df_data,.2,SEED)\n",
    "X_train,y_train = pc.get_joined_data_from_df(dfs_train,filter_rows,row_label)\n",
    "X_val,y_val = pc.get_joined_data_from_df(dfs_val,filter_rows,row_label)"
   ]
  },
  {
   "cell_type": "code",
   "execution_count": 9,
   "metadata": {},
   "outputs": [
    {
     "data": {
      "text/plain": [
       "1328"
      ]
     },
     "execution_count": 9,
     "metadata": {},
     "output_type": "execute_result"
    }
   ],
   "source": [
    "len(X_train)"
   ]
  },
  {
   "cell_type": "code",
   "execution_count": 10,
   "metadata": {},
   "outputs": [],
   "source": [
    "dfs_all,_ = pc.split_df_discussions(df_data,.0,SEED)\n",
    "X_all,y_all = pc.get_joined_data_from_df(dfs_all,filter_rows,row_label)"
   ]
  },
  {
   "cell_type": "markdown",
   "metadata": {},
   "source": [
    "### Classify first layer"
   ]
  },
  {
   "cell_type": "code",
   "execution_count": 11,
   "metadata": {},
   "outputs": [
    {
     "data": {
      "text/plain": [
       "<module 'src.phase_classification' from 'C:\\\\Users\\\\CATALINA ESPINOZA\\\\Documents\\\\ciae\\\\Classification_IBL\\\\src\\\\phase_classification.py'>"
      ]
     },
     "execution_count": 11,
     "metadata": {},
     "output_type": "execute_result"
    }
   ],
   "source": [
    "import importlib\n",
    "importlib.reload(pc)"
   ]
  },
  {
   "cell_type": "code",
   "execution_count": 12,
   "metadata": {},
   "outputs": [],
   "source": [
    "class_weight = {}\n",
    "for key in the_keys:\n",
    "    class_weight[key] = 1000.0/class_samples[key]"
   ]
  },
  {
   "cell_type": "code",
   "execution_count": 13,
   "metadata": {},
   "outputs": [
    {
     "name": "stdout",
     "output_type": "stream",
     "text": [
      "Accuracy of SVM classifier on training set: 0.40\n",
      "Accuracy of SVM classifier on test set: 0.33\n"
     ]
    }
   ],
   "source": [
    "svc = SVC(kernel='linear',random_state=SEED,max_iter=5000,probability=True,class_weight=class_weight)\n",
    "svc.fit(X_train, y_train)\n",
    "print('Accuracy of SVM classifier on training set: {:.2f}'\n",
    "     .format(svc.score(X_train, y_train)))\n",
    "print('Accuracy of SVM classifier on test set: {:.2f}'\n",
    "     .format(svc.score(X_val, y_val)))"
   ]
  },
  {
   "cell_type": "code",
   "execution_count": 14,
   "metadata": {
    "scrolled": false
   },
   "outputs": [
    {
     "name": "stdout",
     "output_type": "stream",
     "text": [
      "              precision    recall  f1-score   support\n",
      "\n",
      "           1       0.68      0.60      0.64       101\n",
      "           2       0.09      0.56      0.15         9\n",
      "           3       0.30      0.05      0.08        63\n",
      "           4       0.04      1.00      0.08         3\n",
      "           5       0.51      0.20      0.29        96\n",
      "\n",
      "   micro avg       0.33      0.33      0.33       272\n",
      "   macro avg       0.32      0.48      0.25       272\n",
      "weighted avg       0.51      0.33      0.36       272\n",
      "\n"
     ]
    },
    {
     "data": {
      "text/html": [
       "<div>\n",
       "<style scoped>\n",
       "    .dataframe tbody tr th:only-of-type {\n",
       "        vertical-align: middle;\n",
       "    }\n",
       "\n",
       "    .dataframe tbody tr th {\n",
       "        vertical-align: top;\n",
       "    }\n",
       "\n",
       "    .dataframe thead th {\n",
       "        text-align: right;\n",
       "    }\n",
       "</style>\n",
       "<table border=\"1\" class=\"dataframe\">\n",
       "  <thead>\n",
       "    <tr style=\"text-align: right;\">\n",
       "      <th></th>\n",
       "      <th>Predicted Phase 1</th>\n",
       "      <th>Predicted Phase 2</th>\n",
       "      <th>Predicted Phase 3</th>\n",
       "      <th>Predicted Phase 4</th>\n",
       "      <th>Predicted Phase 5</th>\n",
       "    </tr>\n",
       "  </thead>\n",
       "  <tbody>\n",
       "    <tr>\n",
       "      <th>Phase 1</th>\n",
       "      <td>61</td>\n",
       "      <td>20</td>\n",
       "      <td>3</td>\n",
       "      <td>10</td>\n",
       "      <td>7</td>\n",
       "    </tr>\n",
       "    <tr>\n",
       "      <th>Phase 2</th>\n",
       "      <td>0</td>\n",
       "      <td>5</td>\n",
       "      <td>0</td>\n",
       "      <td>3</td>\n",
       "      <td>1</td>\n",
       "    </tr>\n",
       "    <tr>\n",
       "      <th>Phase 3</th>\n",
       "      <td>16</td>\n",
       "      <td>15</td>\n",
       "      <td>3</td>\n",
       "      <td>19</td>\n",
       "      <td>10</td>\n",
       "    </tr>\n",
       "    <tr>\n",
       "      <th>Phase 4</th>\n",
       "      <td>0</td>\n",
       "      <td>0</td>\n",
       "      <td>0</td>\n",
       "      <td>3</td>\n",
       "      <td>0</td>\n",
       "    </tr>\n",
       "    <tr>\n",
       "      <th>Phase 5</th>\n",
       "      <td>13</td>\n",
       "      <td>18</td>\n",
       "      <td>4</td>\n",
       "      <td>42</td>\n",
       "      <td>19</td>\n",
       "    </tr>\n",
       "  </tbody>\n",
       "</table>\n",
       "</div>"
      ],
      "text/plain": [
       "         Predicted Phase 1  Predicted Phase 2  Predicted Phase 3  \\\n",
       "Phase 1                 61                 20                  3   \n",
       "Phase 2                  0                  5                  0   \n",
       "Phase 3                 16                 15                  3   \n",
       "Phase 4                  0                  0                  0   \n",
       "Phase 5                 13                 18                  4   \n",
       "\n",
       "         Predicted Phase 4  Predicted Phase 5  \n",
       "Phase 1                 10                  7  \n",
       "Phase 2                  3                  1  \n",
       "Phase 3                 19                 10  \n",
       "Phase 4                  3                  0  \n",
       "Phase 5                 42                 19  "
      ]
     },
     "execution_count": 14,
     "metadata": {},
     "output_type": "execute_result"
    }
   ],
   "source": [
    "pred = svc.predict(X_val)\n",
    "labels = [\"Phase {}\".format(i) for i in range(1,6)]\n",
    "df = pd.DataFrame(confusion_matrix(y_val, pred),columns=[\"Predicted {}\".format(i) for i in labels])\n",
    "df.index = labels\n",
    "#print(\" \")\n",
    "print(classification_report(y_val, pred))\n",
    "df"
   ]
  },
  {
   "cell_type": "code",
   "execution_count": 15,
   "metadata": {},
   "outputs": [],
   "source": [
    "pred_val = svc.predict_proba(X_all)"
   ]
  },
  {
   "cell_type": "code",
   "execution_count": 16,
   "metadata": {},
   "outputs": [],
   "source": [
    "output_first_layer = [np.argmax(pred_val[i])+1 for i in range(len(pred_val))]"
   ]
  },
  {
   "cell_type": "code",
   "execution_count": 17,
   "metadata": {},
   "outputs": [],
   "source": [
    "df_data['first_layer'] = output_first_layer"
   ]
  },
  {
   "cell_type": "code",
   "execution_count": 18,
   "metadata": {},
   "outputs": [
    {
     "data": {
      "text/html": [
       "<div>\n",
       "<style scoped>\n",
       "    .dataframe tbody tr th:only-of-type {\n",
       "        vertical-align: middle;\n",
       "    }\n",
       "\n",
       "    .dataframe tbody tr th {\n",
       "        vertical-align: top;\n",
       "    }\n",
       "\n",
       "    .dataframe thead th {\n",
       "        text-align: right;\n",
       "    }\n",
       "</style>\n",
       "<table border=\"1\" class=\"dataframe\">\n",
       "  <thead>\n",
       "    <tr style=\"text-align: right;\">\n",
       "      <th></th>\n",
       "      <th>Topic 1</th>\n",
       "      <th>Topic 2</th>\n",
       "      <th>Topic 3</th>\n",
       "      <th>Topic 4</th>\n",
       "      <th>Topic 5</th>\n",
       "      <th>Topic 6</th>\n",
       "      <th>Topic 7</th>\n",
       "      <th>Topic 8</th>\n",
       "      <th>Topic 9</th>\n",
       "      <th>Topic 10</th>\n",
       "      <th>...</th>\n",
       "      <th>phase</th>\n",
       "      <th>phase_1</th>\n",
       "      <th>phase_2</th>\n",
       "      <th>phase_3</th>\n",
       "      <th>phase_4</th>\n",
       "      <th>phase_5</th>\n",
       "      <th>utterance</th>\n",
       "      <th>length utterance</th>\n",
       "      <th>utterance_relative_time</th>\n",
       "      <th>first_layer</th>\n",
       "    </tr>\n",
       "  </thead>\n",
       "  <tbody>\n",
       "    <tr>\n",
       "      <th>0</th>\n",
       "      <td>0.009546</td>\n",
       "      <td>0.012683</td>\n",
       "      <td>0.006349</td>\n",
       "      <td>0.005774</td>\n",
       "      <td>0.003684</td>\n",
       "      <td>0.005008</td>\n",
       "      <td>0.004698</td>\n",
       "      <td>0.008680</td>\n",
       "      <td>0.012694</td>\n",
       "      <td>0.015815</td>\n",
       "      <td>...</td>\n",
       "      <td>1</td>\n",
       "      <td>1</td>\n",
       "      <td>0</td>\n",
       "      <td>0</td>\n",
       "      <td>0</td>\n",
       "      <td>0</td>\n",
       "      <td>SATUNNAINEN</td>\n",
       "      <td>0.000000</td>\n",
       "      <td>0.000000</td>\n",
       "      <td>1</td>\n",
       "    </tr>\n",
       "    <tr>\n",
       "      <th>1</th>\n",
       "      <td>0.102344</td>\n",
       "      <td>0.009047</td>\n",
       "      <td>0.004529</td>\n",
       "      <td>0.004119</td>\n",
       "      <td>0.002628</td>\n",
       "      <td>0.003573</td>\n",
       "      <td>0.003351</td>\n",
       "      <td>0.006192</td>\n",
       "      <td>0.009057</td>\n",
       "      <td>0.011282</td>\n",
       "      <td>...</td>\n",
       "      <td>1</td>\n",
       "      <td>1</td>\n",
       "      <td>0</td>\n",
       "      <td>0</td>\n",
       "      <td>0</td>\n",
       "      <td>0</td>\n",
       "      <td>siel QUESTION_SYMBOL onks oo palo</td>\n",
       "      <td>0.065574</td>\n",
       "      <td>0.010417</td>\n",
       "      <td>1</td>\n",
       "    </tr>\n",
       "    <tr>\n",
       "      <th>2</th>\n",
       "      <td>0.102352</td>\n",
       "      <td>0.009047</td>\n",
       "      <td>0.004529</td>\n",
       "      <td>0.004119</td>\n",
       "      <td>0.002628</td>\n",
       "      <td>0.003573</td>\n",
       "      <td>0.003351</td>\n",
       "      <td>0.006192</td>\n",
       "      <td>0.009055</td>\n",
       "      <td>0.011302</td>\n",
       "      <td>...</td>\n",
       "      <td>1</td>\n",
       "      <td>1</td>\n",
       "      <td>0</td>\n",
       "      <td>0</td>\n",
       "      <td>0</td>\n",
       "      <td>0</td>\n",
       "      <td>no tää varm muutu</td>\n",
       "      <td>0.049180</td>\n",
       "      <td>0.017361</td>\n",
       "      <td>1</td>\n",
       "    </tr>\n",
       "    <tr>\n",
       "      <th>3</th>\n",
       "      <td>0.005717</td>\n",
       "      <td>0.007596</td>\n",
       "      <td>0.003803</td>\n",
       "      <td>0.077458</td>\n",
       "      <td>0.002207</td>\n",
       "      <td>0.003000</td>\n",
       "      <td>0.002814</td>\n",
       "      <td>0.005199</td>\n",
       "      <td>0.007603</td>\n",
       "      <td>0.009472</td>\n",
       "      <td>...</td>\n",
       "      <td>1</td>\n",
       "      <td>1</td>\n",
       "      <td>0</td>\n",
       "      <td>0</td>\n",
       "      <td>0</td>\n",
       "      <td>0</td>\n",
       "      <td>aja T_ ATOMI ehtiny törm ton ver</td>\n",
       "      <td>0.098361</td>\n",
       "      <td>0.020833</td>\n",
       "      <td>1</td>\n",
       "    </tr>\n",
       "    <tr>\n",
       "      <th>4</th>\n",
       "      <td>0.111640</td>\n",
       "      <td>0.004865</td>\n",
       "      <td>0.002435</td>\n",
       "      <td>0.002215</td>\n",
       "      <td>0.001413</td>\n",
       "      <td>0.001921</td>\n",
       "      <td>0.001802</td>\n",
       "      <td>0.003329</td>\n",
       "      <td>0.004869</td>\n",
       "      <td>0.006066</td>\n",
       "      <td>...</td>\n",
       "      <td>1</td>\n",
       "      <td>1</td>\n",
       "      <td>0</td>\n",
       "      <td>0</td>\n",
       "      <td>0</td>\n",
       "      <td>0</td>\n",
       "      <td>ton ver ai pitä muute kato sil taas oo lask to...</td>\n",
       "      <td>0.213115</td>\n",
       "      <td>0.027778</td>\n",
       "      <td>1</td>\n",
       "    </tr>\n",
       "  </tbody>\n",
       "</table>\n",
       "<p>5 rows × 70 columns</p>\n",
       "</div>"
      ],
      "text/plain": [
       "    Topic 1   Topic 2   Topic 3   Topic 4   Topic 5   Topic 6   Topic 7  \\\n",
       "0  0.009546  0.012683  0.006349  0.005774  0.003684  0.005008  0.004698   \n",
       "1  0.102344  0.009047  0.004529  0.004119  0.002628  0.003573  0.003351   \n",
       "2  0.102352  0.009047  0.004529  0.004119  0.002628  0.003573  0.003351   \n",
       "3  0.005717  0.007596  0.003803  0.077458  0.002207  0.003000  0.002814   \n",
       "4  0.111640  0.004865  0.002435  0.002215  0.001413  0.001921  0.001802   \n",
       "\n",
       "    Topic 8   Topic 9  Topic 10     ...       phase  phase_1  phase_2  \\\n",
       "0  0.008680  0.012694  0.015815     ...           1        1        0   \n",
       "1  0.006192  0.009057  0.011282     ...           1        1        0   \n",
       "2  0.006192  0.009055  0.011302     ...           1        1        0   \n",
       "3  0.005199  0.007603  0.009472     ...           1        1        0   \n",
       "4  0.003329  0.004869  0.006066     ...           1        1        0   \n",
       "\n",
       "   phase_3  phase_4  phase_5  \\\n",
       "0        0        0        0   \n",
       "1        0        0        0   \n",
       "2        0        0        0   \n",
       "3        0        0        0   \n",
       "4        0        0        0   \n",
       "\n",
       "                                           utterance  length utterance  \\\n",
       "0                                        SATUNNAINEN          0.000000   \n",
       "1                  siel QUESTION_SYMBOL onks oo palo          0.065574   \n",
       "2                                  no tää varm muutu          0.049180   \n",
       "3                   aja T_ ATOMI ehtiny törm ton ver          0.098361   \n",
       "4  ton ver ai pitä muute kato sil taas oo lask to...          0.213115   \n",
       "\n",
       "   utterance_relative_time  first_layer  \n",
       "0                 0.000000            1  \n",
       "1                 0.010417            1  \n",
       "2                 0.017361            1  \n",
       "3                 0.020833            1  \n",
       "4                 0.027778            1  \n",
       "\n",
       "[5 rows x 70 columns]"
      ]
     },
     "execution_count": 18,
     "metadata": {},
     "output_type": "execute_result"
    }
   ],
   "source": [
    "df_data.head()"
   ]
  },
  {
   "cell_type": "code",
   "execution_count": 19,
   "metadata": {},
   "outputs": [],
   "source": [
    "df_data.to_excel(os.path.join(tables_path,'[one_layer]'+file_name))"
   ]
  },
  {
   "cell_type": "code",
   "execution_count": 20,
   "metadata": {},
   "outputs": [],
   "source": [
    "with open(os.path.join(data_path,'classifier_svm_one_layer_one_utterance.pickle'),'wb') as f:\n",
    "    pickle.dump(svc,f)"
   ]
  },
  {
   "cell_type": "code",
   "execution_count": 21,
   "metadata": {},
   "outputs": [
    {
     "name": "stdout",
     "output_type": "stream",
     "text": [
      "              precision    recall  f1-score   support\n",
      "\n",
      "           1       0.54      0.66      0.59       403\n",
      "           2       0.54      0.04      0.07       175\n",
      "           3       0.68      0.35      0.46       406\n",
      "           4       0.67      0.03      0.06        62\n",
      "           5       0.48      0.76      0.58       554\n",
      "\n",
      "   micro avg       0.52      0.52      0.52      1600\n",
      "   macro avg       0.58      0.37      0.36      1600\n",
      "weighted avg       0.56      0.52      0.48      1600\n",
      "\n"
     ]
    },
    {
     "data": {
      "text/html": [
       "<div>\n",
       "<style scoped>\n",
       "    .dataframe tbody tr th:only-of-type {\n",
       "        vertical-align: middle;\n",
       "    }\n",
       "\n",
       "    .dataframe tbody tr th {\n",
       "        vertical-align: top;\n",
       "    }\n",
       "\n",
       "    .dataframe thead th {\n",
       "        text-align: right;\n",
       "    }\n",
       "</style>\n",
       "<table border=\"1\" class=\"dataframe\">\n",
       "  <thead>\n",
       "    <tr style=\"text-align: right;\">\n",
       "      <th></th>\n",
       "      <th>Predicted Phase 1</th>\n",
       "      <th>Predicted Phase 2</th>\n",
       "      <th>Predicted Phase 3</th>\n",
       "      <th>Predicted Phase 4</th>\n",
       "      <th>Predicted Phase 5</th>\n",
       "    </tr>\n",
       "  </thead>\n",
       "  <tbody>\n",
       "    <tr>\n",
       "      <th>Phase 1</th>\n",
       "      <td>267</td>\n",
       "      <td>4</td>\n",
       "      <td>28</td>\n",
       "      <td>0</td>\n",
       "      <td>104</td>\n",
       "    </tr>\n",
       "    <tr>\n",
       "      <th>Phase 2</th>\n",
       "      <td>42</td>\n",
       "      <td>7</td>\n",
       "      <td>6</td>\n",
       "      <td>0</td>\n",
       "      <td>120</td>\n",
       "    </tr>\n",
       "    <tr>\n",
       "      <th>Phase 3</th>\n",
       "      <td>84</td>\n",
       "      <td>0</td>\n",
       "      <td>142</td>\n",
       "      <td>0</td>\n",
       "      <td>180</td>\n",
       "    </tr>\n",
       "    <tr>\n",
       "      <th>Phase 4</th>\n",
       "      <td>0</td>\n",
       "      <td>1</td>\n",
       "      <td>2</td>\n",
       "      <td>2</td>\n",
       "      <td>57</td>\n",
       "    </tr>\n",
       "    <tr>\n",
       "      <th>Phase 5</th>\n",
       "      <td>103</td>\n",
       "      <td>1</td>\n",
       "      <td>30</td>\n",
       "      <td>1</td>\n",
       "      <td>419</td>\n",
       "    </tr>\n",
       "  </tbody>\n",
       "</table>\n",
       "</div>"
      ],
      "text/plain": [
       "         Predicted Phase 1  Predicted Phase 2  Predicted Phase 3  \\\n",
       "Phase 1                267                  4                 28   \n",
       "Phase 2                 42                  7                  6   \n",
       "Phase 3                 84                  0                142   \n",
       "Phase 4                  0                  1                  2   \n",
       "Phase 5                103                  1                 30   \n",
       "\n",
       "         Predicted Phase 4  Predicted Phase 5  \n",
       "Phase 1                  0                104  \n",
       "Phase 2                  0                120  \n",
       "Phase 3                  0                180  \n",
       "Phase 4                  2                 57  \n",
       "Phase 5                  1                419  "
      ]
     },
     "execution_count": 21,
     "metadata": {},
     "output_type": "execute_result"
    }
   ],
   "source": [
    "df = pd.DataFrame(confusion_matrix(y_all, output_first_layer),columns=[\"Predicted {}\".format(i) for i in labels])\n",
    "df.index = labels\n",
    "print(classification_report(y_all, output_first_layer))\n",
    "df"
   ]
  },
  {
   "cell_type": "code",
   "execution_count": 26,
   "metadata": {},
   "outputs": [
    {
     "name": "stdout",
     "output_type": "stream",
     "text": [
      "Accuracy of SVM classifier on training set: 0.51\n"
     ]
    }
   ],
   "source": [
    "print('Accuracy of SVM classifier on training set: {:.2f}'\n",
    "     .format(svc.score(X_all, output_first_layer)))"
   ]
  },
  {
   "cell_type": "code",
   "execution_count": null,
   "metadata": {},
   "outputs": [],
   "source": []
  }
 ],
 "metadata": {
  "kernelspec": {
   "display_name": "Python 3",
   "language": "python",
   "name": "python3"
  }
 },
 "nbformat": 4,
 "nbformat_minor": 2
}
