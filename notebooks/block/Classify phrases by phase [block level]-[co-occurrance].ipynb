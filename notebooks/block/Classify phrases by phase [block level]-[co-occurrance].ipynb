{
 "cells": [
  {
   "cell_type": "markdown",
   "metadata": {},
   "source": [
    "### Description"
   ]
  },
  {
   "cell_type": "code",
   "execution_count": null,
   "metadata": {
    "collapsed": true
   },
   "outputs": [],
   "source": []
  },
  {
   "cell_type": "markdown",
   "metadata": {},
   "source": [
    "### load "
   ]
  },
  {
   "cell_type": "code",
   "execution_count": 1,
   "metadata": {},
   "outputs": [],
   "source": [
    "import os\n",
    "import random \n",
    "import pickle\n",
    "import sys\n",
    "import pandas as pd\n",
    "import numpy as np\n",
    "from sklearn.metrics import classification_report\n",
    "from sklearn.metrics import confusion_matrix\n",
    "\n",
    "root_path = os.path.dirname(os.path.dirname(os.path.abspath(os.getcwd())))\n",
    "# to import src is necessary to append the root_path to the path\n",
    "#sys.path.append(root_path)\n",
    "\n",
    "data_path = os.path.join(root_path,'data')\n",
    "results_path = os.path.join(root_path,'results')"
   ]
  },
  {
   "cell_type": "markdown",
   "metadata": {},
   "source": [
    "### Define global variables"
   ]
  },
  {
   "cell_type": "code",
   "execution_count": 2,
   "metadata": {},
   "outputs": [],
   "source": [
    "WITH_STEMMING = True\n",
    "REMOVE_STOPWORDS = True\n",
    "MINIMUM_WORDS_PER_PHRASE = 0\n",
    "GROUP = -1\n",
    "SEED = 10\n",
    "num_topics = 60\n",
    "random.seed(SEED)"
   ]
  },
  {
   "cell_type": "code",
   "execution_count": 3,
   "metadata": {},
   "outputs": [],
   "source": [
    "df = pd.read_excel('IBL_topic_distribution_by_block_cooccurrence_minimum_0_words_with_stemming.xlsx')"
   ]
  },
  {
   "cell_type": "code",
   "execution_count": 4,
   "metadata": {},
   "outputs": [
    {
     "data": {
      "text/plain": [
       "Index(['Topic 1', 'Topic 2', 'Topic 3', 'Topic 4', 'Topic 5', 'Topic 6',\n",
       "       'Topic 7', 'Topic 8', 'Topic 9', 'Topic 10',\n",
       "       ...\n",
       "       'Topic 60-Topic 59', 'phase', 'phase_1', 'phase_2', 'phase_3',\n",
       "       'phase_4', 'phase_5', 'utterance', 'length utterance',\n",
       "       'utterance_relative_time'],\n",
       "      dtype='object', length=1839)"
      ]
     },
     "execution_count": 4,
     "metadata": {},
     "output_type": "execute_result"
    }
   ],
   "source": [
    "df.columns"
   ]
  },
  {
   "cell_type": "markdown",
   "metadata": {},
   "source": [
    "### split dataset"
   ]
  },
  {
   "cell_type": "code",
   "execution_count": 5,
   "metadata": {
    "scrolled": true
   },
   "outputs": [
    {
     "name": "stdout",
     "output_type": "stream",
     "text": [
      "key 1, total 95\n",
      "key 2, total 41\n",
      "key 3, total 119\n",
      "key 4, total 40\n",
      "key 5, total 157\n"
     ]
    }
   ],
   "source": [
    "the_keys = list(set(df['phase']))\n",
    "for key in the_keys:\n",
    "    n = list(df.phase.values).count(key)\n",
    "    print(\"key {}, total {}\".format(key,n))"
   ]
  },
  {
   "cell_type": "code",
   "execution_count": 6,
   "metadata": {
    "scrolled": true
   },
   "outputs": [
    {
     "name": "stdout",
     "output_type": "stream",
     "text": [
      "test set phase 1: 19\n",
      "test set phase 2: 8\n",
      "test set phase 3: 23\n",
      "test set phase 4: 8\n",
      "test set phase 5: 31\n"
     ]
    }
   ],
   "source": [
    "trainset = {}\n",
    "testset = {}\n",
    "for name, group in df.groupby(['phase']):\n",
    "    trainset[name]=[]\n",
    "    testset[name]=[]\n",
    "    n = len(group)\n",
    "    ra = random.sample(range(n),int(n*0.2))\n",
    "    print(\"test set phase {}: {}\".format(name,int(n*0.2)))\n",
    "    count = 0\n",
    "    group = group.reset_index()\n",
    "    for i,row in group.iterrows():\n",
    "        if i in ra:\n",
    "            count+=1\n",
    "            testset[name].append(row.values)\n",
    "        else:\n",
    "            trainset[name].append(row.values)\n"
   ]
  },
  {
   "cell_type": "code",
   "execution_count": 7,
   "metadata": {},
   "outputs": [],
   "source": [
    "filter_rows = list(range(1,1831))+[1838,1839]\n",
    "#filter_labels = [3601]"
   ]
  },
  {
   "cell_type": "code",
   "execution_count": 8,
   "metadata": {},
   "outputs": [],
   "source": [
    "def get_data_from_dict(a_dict):\n",
    "    y = []\n",
    "    X = []\n",
    "    for key in a_dict:\n",
    "        rows = a_dict[key]\n",
    "        for row in rows:\n",
    "            X.append(row[filter_rows])\n",
    "            y.append(key)\n",
    "    return X,y"
   ]
  },
  {
   "cell_type": "code",
   "execution_count": 9,
   "metadata": {},
   "outputs": [],
   "source": [
    "X_train,y_train = get_data_from_dict(trainset)\n",
    "X_test,y_test = get_data_from_dict(testset)"
   ]
  },
  {
   "cell_type": "code",
   "execution_count": 10,
   "metadata": {
    "scrolled": true
   },
   "outputs": [
    {
     "name": "stdout",
     "output_type": "stream",
     "text": [
      "8\n",
      "1832\n"
     ]
    }
   ],
   "source": [
    "print(y_test.count(4))\n",
    "print(len(X_train[0]))"
   ]
  },
  {
   "cell_type": "markdown",
   "metadata": {},
   "source": [
    "### Train decision tree\n"
   ]
  },
  {
   "cell_type": "code",
   "execution_count": 11,
   "metadata": {},
   "outputs": [
    {
     "name": "stdout",
     "output_type": "stream",
     "text": [
      "Accuracy of Decision Tree classifier on training set: 1.00\n",
      "Accuracy of Decision Tree classifier on test set: 0.47\n"
     ]
    }
   ],
   "source": [
    "from sklearn.tree import DecisionTreeClassifier\n",
    "from sklearn import tree\n",
    "clf = DecisionTreeClassifier(random_state=SEED).fit(X_train, y_train)\n",
    "\n",
    "print('Accuracy of Decision Tree classifier on training set: {:.2f}'\n",
    "     .format(clf.score(X_train, y_train)))\n",
    "print('Accuracy of Decision Tree classifier on test set: {:.2f}'\n",
    "     .format(clf.score(X_test, y_test)))"
   ]
  },
  {
   "cell_type": "code",
   "execution_count": 12,
   "metadata": {},
   "outputs": [],
   "source": [
    "import graphviz\n",
    "import os\n",
    "os.environ[\"PATH\"] += os.pathsep + 'C:\\\\Program Files (x86)\\\\Graphviz2.38\\\\bin\\\\'"
   ]
  },
  {
   "cell_type": "code",
   "execution_count": 13,
   "metadata": {},
   "outputs": [
    {
     "data": {
      "text/plain": [
       "'test-output/tree_phases_5_classes_co_occurrance_block.gv.pdf'"
      ]
     },
     "execution_count": 13,
     "metadata": {},
     "output_type": "execute_result"
    }
   ],
   "source": [
    "dot_data = tree.export_graphviz(clf, class_names=['1', '2','3','4','5'], out_file=None,max_depth=3)\n",
    "graph = graphviz.Source(dot_data)\n",
    "graph.render('test-output/tree_phases_5_classes_co_occurrance_block.gv', view=True)"
   ]
  },
  {
   "cell_type": "code",
   "execution_count": 14,
   "metadata": {},
   "outputs": [
    {
     "name": "stdout",
     "output_type": "stream",
     "text": [
      "[[ 6  1  4  0  8]\n",
      " [ 1  1  0  3  3]\n",
      " [ 3  1 17  0  2]\n",
      " [ 1  1  2  1  3]\n",
      " [ 6  4  1  3 17]]\n",
      "              precision    recall  f1-score   support\n",
      "\n",
      "           1       0.35      0.32      0.33        19\n",
      "           2       0.12      0.12      0.12         8\n",
      "           3       0.71      0.74      0.72        23\n",
      "           4       0.14      0.12      0.13         8\n",
      "           5       0.52      0.55      0.53        31\n",
      "\n",
      "   micro avg       0.47      0.47      0.47        89\n",
      "   macro avg       0.37      0.37      0.37        89\n",
      "weighted avg       0.46      0.47      0.47        89\n",
      "\n"
     ]
    }
   ],
   "source": [
    "pred = clf.predict(X_test)\n",
    "print(confusion_matrix(y_test, pred))\n",
    "print(classification_report(y_test, pred))"
   ]
  },
  {
   "cell_type": "markdown",
   "metadata": {},
   "source": [
    "### Train without stem"
   ]
  },
  {
   "cell_type": "code",
   "execution_count": 15,
   "metadata": {},
   "outputs": [],
   "source": [
    "from sklearn.svm import SVC\n",
    "from sklearn.model_selection import StratifiedShuffleSplit\n",
    "from sklearn.model_selection import GridSearchCV"
   ]
  },
  {
   "cell_type": "code",
   "execution_count": 16,
   "metadata": {},
   "outputs": [
    {
     "name": "stdout",
     "output_type": "stream",
     "text": [
      "Accuracy of K-NN classifier on training set: 0.64\n",
      "Accuracy of K-NN classifier on test set: 0.49\n"
     ]
    }
   ],
   "source": [
    "from sklearn.neighbors import KNeighborsClassifier\n",
    "\n",
    "knn = KNeighborsClassifier()\n",
    "knn.fit(X_train, y_train)\n",
    "print('Accuracy of K-NN classifier on training set: {:.2f}'\n",
    "     .format(knn.score(X_train, y_train)))\n",
    "print('Accuracy of K-NN classifier on test set: {:.2f}'\n",
    "     .format(knn.score(X_test, y_test)))"
   ]
  },
  {
   "cell_type": "code",
   "execution_count": 17,
   "metadata": {},
   "outputs": [
    {
     "name": "stdout",
     "output_type": "stream",
     "text": [
      "[[10  2  2  0  5]\n",
      " [ 0  0  2  2  4]\n",
      " [ 5  0 18  0  0]\n",
      " [ 1  0  2  1  4]\n",
      " [ 9  0  5  2 15]]\n",
      "              precision    recall  f1-score   support\n",
      "\n",
      "           1       0.40      0.53      0.45        19\n",
      "           2       0.00      0.00      0.00         8\n",
      "           3       0.62      0.78      0.69        23\n",
      "           4       0.20      0.12      0.15         8\n",
      "           5       0.54      0.48      0.51        31\n",
      "\n",
      "   micro avg       0.49      0.49      0.49        89\n",
      "   macro avg       0.35      0.38      0.36        89\n",
      "weighted avg       0.45      0.49      0.47        89\n",
      "\n"
     ]
    }
   ],
   "source": [
    "pred = knn.predict(X_test)\n",
    "print(confusion_matrix(y_test, pred))\n",
    "print(classification_report(y_test, pred))"
   ]
  },
  {
   "cell_type": "code",
   "execution_count": 18,
   "metadata": {},
   "outputs": [
    {
     "name": "stdout",
     "output_type": "stream",
     "text": [
      "Accuracy of GNB classifier on training set: 0.79\n",
      "Accuracy of GNB classifier on test set: 0.27\n"
     ]
    }
   ],
   "source": [
    "from sklearn.naive_bayes import GaussianNB\n",
    "\n",
    "gnb = GaussianNB()\n",
    "gnb.fit(X_train, y_train)\n",
    "print('Accuracy of GNB classifier on training set: {:.2f}'\n",
    "     .format(gnb.score(X_train, y_train)))\n",
    "print('Accuracy of GNB classifier on test set: {:.2f}'\n",
    "     .format(gnb.score(X_test, y_test)))"
   ]
  },
  {
   "cell_type": "code",
   "execution_count": 19,
   "metadata": {},
   "outputs": [
    {
     "name": "stdout",
     "output_type": "stream",
     "text": [
      "[[3 4 2 2 8]\n",
      " [2 2 0 3 1]\n",
      " [6 3 8 3 3]\n",
      " [2 1 1 3 1]\n",
      " [8 2 9 4 8]]\n",
      "              precision    recall  f1-score   support\n",
      "\n",
      "           1       0.14      0.16      0.15        19\n",
      "           2       0.17      0.25      0.20         8\n",
      "           3       0.40      0.35      0.37        23\n",
      "           4       0.20      0.38      0.26         8\n",
      "           5       0.38      0.26      0.31        31\n",
      "\n",
      "   micro avg       0.27      0.27      0.27        89\n",
      "   macro avg       0.26      0.28      0.26        89\n",
      "weighted avg       0.30      0.27      0.28        89\n",
      "\n"
     ]
    }
   ],
   "source": [
    "pred = gnb.predict(X_test)\n",
    "print(confusion_matrix(y_test, pred))\n",
    "print(classification_report(y_test, pred))"
   ]
  },
  {
   "cell_type": "markdown",
   "metadata": {},
   "source": [
    "C_range = np.logspace(-2, 10, 13)\n",
    "gamma_range = np.logspace(-9, 3, 13)\n",
    "param_grid = dict(gamma=gamma_range, C=C_range)\n",
    "cv = StratifiedShuffleSplit(n_splits=5, test_size=0.2, random_state=42)\n",
    "grid = GridSearchCV(SVC(), param_grid=param_grid, cv=cv)\n",
    "grid.fit(X_train, y_train)\n",
    "\n",
    "print(\"The best parameters are %s with a score of %0.2f\"\n",
    "      % (grid.best_params_, grid.best_score_))\n"
   ]
  },
  {
   "cell_type": "code",
   "execution_count": 20,
   "metadata": {},
   "outputs": [
    {
     "name": "stdout",
     "output_type": "stream",
     "text": [
      "Accuracy of SVM classifier on training set: 0.92\n",
      "Accuracy of SVM classifier on test set: 0.54\n"
     ]
    }
   ],
   "source": [
    "svm = SVC(decision_function_shape='ovr',gamma=1,kernel='rbf',random_state=SEED,C= 100.0)#class_weight={1:0.8,2:0.4,3:0.7,5:1})\n",
    "svm.fit(X_train, y_train)\n",
    "print('Accuracy of SVM classifier on training set: {:.2f}'\n",
    "     .format(svm.score(X_train, y_train)))\n",
    "print('Accuracy of SVM classifier on test set: {:.2f}'\n",
    "     .format(svm.score(X_test, y_test)))"
   ]
  },
  {
   "cell_type": "code",
   "execution_count": 21,
   "metadata": {},
   "outputs": [
    {
     "name": "stdout",
     "output_type": "stream",
     "text": [
      "[[14  2  1  0  2]\n",
      " [ 2  0  0  4  2]\n",
      " [ 4  0 16  1  2]\n",
      " [ 1  1  1  1  4]\n",
      " [ 4  4  3  3 17]]\n",
      "              precision    recall  f1-score   support\n",
      "\n",
      "           1       0.56      0.74      0.64        19\n",
      "           2       0.00      0.00      0.00         8\n",
      "           3       0.76      0.70      0.73        23\n",
      "           4       0.11      0.12      0.12         8\n",
      "           5       0.63      0.55      0.59        31\n",
      "\n",
      "   micro avg       0.54      0.54      0.54        89\n",
      "   macro avg       0.41      0.42      0.41        89\n",
      "weighted avg       0.55      0.54      0.54        89\n",
      "\n"
     ]
    }
   ],
   "source": [
    "pred = svm.predict(X_test)\n",
    "print(confusion_matrix(y_test, pred))\n",
    "print(classification_report(y_test, pred))"
   ]
  },
  {
   "cell_type": "code",
   "execution_count": 22,
   "metadata": {},
   "outputs": [
    {
     "name": "stdout",
     "output_type": "stream",
     "text": [
      "Accuracy of SVM classifier on training set: 0.61\n",
      "Accuracy of SVM classifier on test set: 0.55\n"
     ]
    }
   ],
   "source": [
    "from sklearn.svm import LinearSVC\n",
    "svc = LinearSVC(random_state=SEED,max_iter=3000)#,class_weight={1:0.4,2:0.4,3:0.4,4:0.5,5:0.3})\n",
    "svc.fit(X_train, y_train)\n",
    "print('Accuracy of SVM classifier on training set: {:.2f}'\n",
    "     .format(svc.score(X_train, y_train)))\n",
    "print('Accuracy of SVM classifier on test set: {:.2f}'\n",
    "     .format(svc.score(X_test, y_test)))"
   ]
  },
  {
   "cell_type": "code",
   "execution_count": 23,
   "metadata": {
    "scrolled": false
   },
   "outputs": [
    {
     "name": "stdout",
     "output_type": "stream",
     "text": [
      "[[11  0  3  0  5]\n",
      " [ 1  0  1  2  4]\n",
      " [ 5  0 14  0  4]\n",
      " [ 0  0  1  1  6]\n",
      " [ 6  0  2  0 23]]\n",
      "              precision    recall  f1-score   support\n",
      "\n",
      "           1       0.48      0.58      0.52        19\n",
      "           2       0.00      0.00      0.00         8\n",
      "           3       0.67      0.61      0.64        23\n",
      "           4       0.33      0.12      0.18         8\n",
      "           5       0.55      0.74      0.63        31\n",
      "\n",
      "   micro avg       0.55      0.55      0.55        89\n",
      "   macro avg       0.41      0.41      0.39        89\n",
      "weighted avg       0.50      0.55      0.51        89\n",
      "\n"
     ]
    },
    {
     "name": "stderr",
     "output_type": "stream",
     "text": [
      "C:\\Users\\CATALINA ESPINOZA\\AppData\\Local\\conda\\conda\\envs\\teacher_topic_model\\lib\\site-packages\\sklearn\\metrics\\classification.py:1143: UndefinedMetricWarning: Precision and F-score are ill-defined and being set to 0.0 in labels with no predicted samples.\n",
      "  'precision', 'predicted', average, warn_for)\n"
     ]
    }
   ],
   "source": [
    "pred = svc.predict(X_test)\n",
    "print(confusion_matrix(y_test, pred))\n",
    "print(classification_report(y_test, pred))"
   ]
  },
  {
   "cell_type": "markdown",
   "metadata": {},
   "source": [
    "### Optimize params"
   ]
  },
  {
   "cell_type": "raw",
   "metadata": {},
   "source": [
    "C_range = np.logspace(-2, 10, 13)\n",
    "gamma_range = np.logspace(-9, 3, 13)\n",
    "param_grid = dict(gamma=gamma_range, C=C_range)\n",
    "cv = StratifiedShuffleSplit(n_splits=5, test_size=0.2, random_state=42)\n",
    "grid = GridSearchCV(SVC(random_state=SEED), param_grid=param_grid, cv=cv)\n",
    "grid.fit(X_train, y_train)\n",
    "\n",
    "print(\"The best parameters are %s with a score of %0.2f\"\n",
    "      % (grid.best_params_, grid.best_score_))\n"
   ]
  },
  {
   "cell_type": "raw",
   "metadata": {},
   "source": [
    "svm = SVC(decision_function_shape='ovr',gamma=1e-05,C= 1000000.0, random_state=42)#random_state=SEED,class_weight={1:0.8,2:0.4,3:0.7,5:1})\n",
    "svm.fit(X_train, y_train)\n",
    "\n",
    "print('Accuracy of SVM classifier on training set: {:.2f}'\n",
    "     .format(svm.score(X_train, y_train)))\n",
    "print('Accuracy of SVM classifier on test set: {:.2f}'\n",
    "     .format(svm.score(X_test, y_test)))"
   ]
  },
  {
   "cell_type": "raw",
   "metadata": {
    "scrolled": false
   },
   "source": [
    "pred = svm.predict(X_test)\n",
    "print(confusion_matrix(y_test, pred))\n",
    "print(classification_report(y_test, pred))"
   ]
  },
  {
   "cell_type": "markdown",
   "metadata": {},
   "source": [
    "### Build classifier per class"
   ]
  },
  {
   "cell_type": "code",
   "execution_count": 24,
   "metadata": {},
   "outputs": [],
   "source": [
    "def get_data_from_dict_filter(a_dict,filter_phase):\n",
    "    y = []\n",
    "    X = []\n",
    "    for key in a_dict:\n",
    "        rows = a_dict[key]\n",
    "        for row in rows:\n",
    "            X.append(row[filter_rows])\n",
    "            if filter_phase == key:\n",
    "                y.append(key)\n",
    "            else:\n",
    "                y.append(0)\n",
    "    return X,y"
   ]
  },
  {
   "cell_type": "markdown",
   "metadata": {},
   "source": [
    "### classify class 1"
   ]
  },
  {
   "cell_type": "code",
   "execution_count": 25,
   "metadata": {},
   "outputs": [],
   "source": [
    "#trainset,testset = split_sets_key(clean_phrases,1)\n",
    "X_train,y_train = get_data_from_dict_filter(trainset,1)\n",
    "X_test,y_test = get_data_from_dict_filter(testset,1)"
   ]
  },
  {
   "cell_type": "markdown",
   "metadata": {
    "collapsed": true
   },
   "source": [
    "C_range = np.logspace(-2, 10, 13)\n",
    "gamma_range = np.logspace(-9, 3, 13)\n",
    "param_grid = dict(gamma=gamma_range, C=C_range)\n",
    "cv = StratifiedShuffleSplit(n_splits=5, test_size=0.2, random_state=42)\n",
    "grid = GridSearchCV(SVC(), param_grid=param_grid, cv=cv)\n",
    "grid.fit(X_train, y_train)\n",
    "print(\"The best parameters are %s with a score of %0.2f\"\n",
    "      % (grid.best_params_, grid.best_score_))"
   ]
  },
  {
   "cell_type": "code",
   "execution_count": 26,
   "metadata": {},
   "outputs": [
    {
     "name": "stdout",
     "output_type": "stream",
     "text": [
      "Accuracy of SVM classifier on training set: 0.86\n",
      "Accuracy of SVM classifier on test set: 0.76\n",
      "[[61  9]\n",
      " [12  7]]\n",
      "              precision    recall  f1-score   support\n",
      "\n",
      "           0       0.84      0.87      0.85        70\n",
      "           1       0.44      0.37      0.40        19\n",
      "\n",
      "   micro avg       0.76      0.76      0.76        89\n",
      "   macro avg       0.64      0.62      0.63        89\n",
      "weighted avg       0.75      0.76      0.76        89\n",
      "\n"
     ]
    }
   ],
   "source": [
    "svm = SVC(decision_function_shape='ovr',gamma=1e-05,C= 10000000.0, random_state=SEED)#,class_weight={0:0.3,1:0.7})\n",
    "svm.fit(X_train, y_train)\n",
    "print('Accuracy of SVM classifier on training set: {:.2f}'\n",
    "     .format(svm.score(X_train, y_train)))\n",
    "print('Accuracy of SVM classifier on test set: {:.2f}'\n",
    "     .format(svm.score(X_test, y_test)))\n",
    "pred = svm.predict(X_test)\n",
    "print(confusion_matrix(y_test, pred))\n",
    "print(classification_report(y_test, pred))"
   ]
  },
  {
   "cell_type": "code",
   "execution_count": 27,
   "metadata": {},
   "outputs": [
    {
     "name": "stdout",
     "output_type": "stream",
     "text": [
      "Accuracy of SVM classifier on training set: 0.84\n",
      "Accuracy of SVM classifier on test set: 0.81\n",
      "[[68  2]\n",
      " [15  4]]\n",
      "              precision    recall  f1-score   support\n",
      "\n",
      "           0       0.82      0.97      0.89        70\n",
      "           1       0.67      0.21      0.32        19\n",
      "\n",
      "   micro avg       0.81      0.81      0.81        89\n",
      "   macro avg       0.74      0.59      0.60        89\n",
      "weighted avg       0.79      0.81      0.77        89\n",
      "\n"
     ]
    }
   ],
   "source": [
    "svm = LinearSVC(random_state=SEED)#,class_weight={0:0.3,1:0.7})\n",
    "svm.fit(X_train, y_train)\n",
    "print('Accuracy of SVM classifier on training set: {:.2f}'\n",
    "     .format(svm.score(X_train, y_train)))\n",
    "print('Accuracy of SVM classifier on test set: {:.2f}'\n",
    "     .format(svm.score(X_test, y_test)))\n",
    "pred = svm.predict(X_test)\n",
    "print(confusion_matrix(y_test, pred))\n",
    "print(classification_report(y_test, pred))"
   ]
  },
  {
   "cell_type": "markdown",
   "metadata": {},
   "source": [
    "### classify class 2"
   ]
  },
  {
   "cell_type": "code",
   "execution_count": 28,
   "metadata": {},
   "outputs": [],
   "source": [
    "X_train,y_train = get_data_from_dict_filter(trainset,2)\n",
    "X_test,y_test = get_data_from_dict_filter(testset,2)"
   ]
  },
  {
   "cell_type": "markdown",
   "metadata": {
    "collapsed": true
   },
   "source": [
    "\n",
    "C_range = np.logspace(-2, 10, 13)\n",
    "gamma_range = np.logspace(-9, 3, 13)\n",
    "param_grid = dict(gamma=gamma_range, C=C_range)\n",
    "cv = StratifiedShuffleSplit(n_splits=5, test_size=0.2, random_state=42)\n",
    "grid = GridSearchCV(SVC(), param_grid=param_grid, cv=cv)\n",
    "grid.fit(X_train, y_train)\n",
    "print(\"The best parameters are %s with a score of %0.2f\"\n",
    "      % (grid.best_params_, grid.best_score_))"
   ]
  },
  {
   "cell_type": "code",
   "execution_count": 29,
   "metadata": {},
   "outputs": [
    {
     "name": "stdout",
     "output_type": "stream",
     "text": [
      "Accuracy of SVM classifier on training set: 1.00\n",
      "Accuracy of SVM classifier on test set: 0.84\n",
      "[[75  6]\n",
      " [ 8  0]]\n",
      "              precision    recall  f1-score   support\n",
      "\n",
      "           0       0.90      0.93      0.91        81\n",
      "           2       0.00      0.00      0.00         8\n",
      "\n",
      "   micro avg       0.84      0.84      0.84        89\n",
      "   macro avg       0.45      0.46      0.46        89\n",
      "weighted avg       0.82      0.84      0.83        89\n",
      "\n"
     ]
    }
   ],
   "source": [
    "svm = SVC(decision_function_shape='ovr',gamma='scale',C= 10000000.0, random_state=SEED)#,class_weight={0:0.3,1:0.7})\n",
    "svm.fit(X_train, y_train)\n",
    "print('Accuracy of SVM classifier on training set: {:.2f}'\n",
    "     .format(svm.score(X_train, y_train)))\n",
    "print('Accuracy of SVM classifier on test set: {:.2f}'\n",
    "     .format(svm.score(X_test, y_test)))\n",
    "pred = svm.predict(X_test)\n",
    "print(confusion_matrix(y_test, pred))\n",
    "print(classification_report(y_test, pred))"
   ]
  },
  {
   "cell_type": "markdown",
   "metadata": {},
   "source": [
    "### Classify class 3"
   ]
  },
  {
   "cell_type": "code",
   "execution_count": 30,
   "metadata": {},
   "outputs": [],
   "source": [
    "X_train,y_train = get_data_from_dict_filter(trainset,3)\n",
    "X_test,y_test = get_data_from_dict_filter(testset,3)"
   ]
  },
  {
   "cell_type": "code",
   "execution_count": 31,
   "metadata": {},
   "outputs": [
    {
     "name": "stdout",
     "output_type": "stream",
     "text": [
      "Accuracy of SVM classifier on training set: 0.87\n",
      "Accuracy of SVM classifier on test set: 0.87\n",
      "[[62  4]\n",
      " [ 8 15]]\n",
      "              precision    recall  f1-score   support\n",
      "\n",
      "           0       0.89      0.94      0.91        66\n",
      "           3       0.79      0.65      0.71        23\n",
      "\n",
      "   micro avg       0.87      0.87      0.87        89\n",
      "   macro avg       0.84      0.80      0.81        89\n",
      "weighted avg       0.86      0.87      0.86        89\n",
      "\n"
     ]
    }
   ],
   "source": [
    "svm = SVC(decision_function_shape='ovr',gamma=1e-05,C= 10000000.0, random_state=SEED)#,class_weight={0:0.3,1:0.7})\n",
    "svm.fit(X_train, y_train)\n",
    "print('Accuracy of SVM classifier on training set: {:.2f}'\n",
    "     .format(svm.score(X_train, y_train)))\n",
    "print('Accuracy of SVM classifier on test set: {:.2f}'\n",
    "     .format(svm.score(X_test, y_test)))\n",
    "pred = svm.predict(X_test)\n",
    "print(confusion_matrix(y_test, pred))\n",
    "print(classification_report(y_test, pred))"
   ]
  },
  {
   "cell_type": "markdown",
   "metadata": {},
   "source": [
    "### Classify class 4"
   ]
  },
  {
   "cell_type": "code",
   "execution_count": 32,
   "metadata": {},
   "outputs": [
    {
     "name": "stdout",
     "output_type": "stream",
     "text": [
      "Accuracy of SVM classifier on training set: 0.95\n",
      "Accuracy of SVM classifier on test set: 0.85\n",
      "[[75  6]\n",
      " [ 7  1]]\n",
      "              precision    recall  f1-score   support\n",
      "\n",
      "           0       0.91      0.93      0.92        81\n",
      "           4       0.14      0.12      0.13         8\n",
      "\n",
      "   micro avg       0.85      0.85      0.85        89\n",
      "   macro avg       0.53      0.53      0.53        89\n",
      "weighted avg       0.85      0.85      0.85        89\n",
      "\n"
     ]
    }
   ],
   "source": [
    "X_train,y_train = get_data_from_dict_filter(trainset,4)\n",
    "X_test,y_test = get_data_from_dict_filter(testset,4)\n",
    "svm = SVC(decision_function_shape='ovr',gamma=1e-05,C= 10000000.0, random_state=SEED)#,class_weight={0:0.3,1:0.7})\n",
    "svm.fit(X_train, y_train)\n",
    "print('Accuracy of SVM classifier on training set: {:.2f}'\n",
    "     .format(svm.score(X_train, y_train)))\n",
    "print('Accuracy of SVM classifier on test set: {:.2f}'\n",
    "     .format(svm.score(X_test, y_test)))\n",
    "pred = svm.predict(X_test)\n",
    "print(confusion_matrix(y_test, pred))\n",
    "print(classification_report(y_test, pred))"
   ]
  },
  {
   "cell_type": "markdown",
   "metadata": {},
   "source": [
    "### classify class 5"
   ]
  },
  {
   "cell_type": "code",
   "execution_count": 33,
   "metadata": {
    "scrolled": true
   },
   "outputs": [
    {
     "name": "stdout",
     "output_type": "stream",
     "text": [
      "65.2892561983471\n"
     ]
    }
   ],
   "source": [
    "X_train,y_train = get_data_from_dict_filter(trainset,5)\n",
    "X_test,y_test = get_data_from_dict_filter(testset,5)\n",
    "print(y_train.count(0)*100.0/len(y_train))"
   ]
  },
  {
   "cell_type": "markdown",
   "metadata": {},
   "source": [
    "C_range = np.logspace(-2, 10, 13)\n",
    "gamma_range = np.logspace(-9, 3, 13)\n",
    "param_grid = dict(gamma=gamma_range, C=C_range)\n",
    "cv = StratifiedShuffleSplit(n_splits=5, test_size=0.2, random_state=42)\n",
    "grid = GridSearchCV(SVC(), param_grid=param_grid, cv=cv)\n",
    "grid.fit(X_train, y_train)\n",
    "print(\"The best parameters are %s with a score of %0.2f\"\n",
    "      % (grid.best_params_, grid.best_score_))\n"
   ]
  },
  {
   "cell_type": "code",
   "execution_count": 34,
   "metadata": {
    "scrolled": true
   },
   "outputs": [
    {
     "name": "stdout",
     "output_type": "stream",
     "text": [
      "Accuracy of SVM classifier on training set: 0.79\n",
      "Accuracy of SVM classifier on test set: 0.73\n",
      "[[51  7]\n",
      " [17 14]]\n",
      "              precision    recall  f1-score   support\n",
      "\n",
      "           0       0.75      0.88      0.81        58\n",
      "           5       0.67      0.45      0.54        31\n",
      "\n",
      "   micro avg       0.73      0.73      0.73        89\n",
      "   macro avg       0.71      0.67      0.67        89\n",
      "weighted avg       0.72      0.73      0.72        89\n",
      "\n"
     ]
    }
   ],
   "source": [
    "svm = SVC(decision_function_shape='ovr',gamma=1e-05,C= 10000000.0, random_state=SEED)#,class_weight={0:0.3,1:0.7})\n",
    "svm.fit(X_train, y_train)\n",
    "print('Accuracy of SVM classifier on training set: {:.2f}'\n",
    "     .format(svm.score(X_train, y_train)))\n",
    "print('Accuracy of SVM classifier on test set: {:.2f}'\n",
    "     .format(svm.score(X_test, y_test)))\n",
    "pred = svm.predict(X_test)\n",
    "print(confusion_matrix(y_test, pred))\n",
    "print(classification_report(y_test, pred))"
   ]
  },
  {
   "cell_type": "markdown",
   "metadata": {},
   "source": [
    "#### Regression\n"
   ]
  },
  {
   "cell_type": "code",
   "execution_count": 35,
   "metadata": {},
   "outputs": [],
   "source": [
    "%matplotlib inline  \n",
    "import numpy as np\n",
    "import matplotlib.pyplot as plt\n",
    "from sklearn.datasets import make_blobs\n",
    "from sklearn.linear_model import LogisticRegression\n",
    "from sklearn.decomposition import PCA"
   ]
  },
  {
   "cell_type": "code",
   "execution_count": 36,
   "metadata": {},
   "outputs": [],
   "source": [
    "#clf = LogisticRegression(solver='liblinear', max_iter=1000, random_state=42,class_weight={0:0.36,5:0.63}).fit(X_train, y_train)\n",
    "clf = LogisticRegression(solver='liblinear', max_iter=1000, random_state=42).fit(X_train, y_train)"
   ]
  },
  {
   "cell_type": "code",
   "execution_count": 37,
   "metadata": {
    "scrolled": true
   },
   "outputs": [
    {
     "name": "stdout",
     "output_type": "stream",
     "text": [
      "[[57  1]\n",
      " [25  6]]\n",
      "              precision    recall  f1-score   support\n",
      "\n",
      "           0       0.70      0.98      0.81        58\n",
      "           5       0.86      0.19      0.32        31\n",
      "\n",
      "   micro avg       0.71      0.71      0.71        89\n",
      "   macro avg       0.78      0.59      0.57        89\n",
      "weighted avg       0.75      0.71      0.64        89\n",
      "\n"
     ]
    }
   ],
   "source": [
    "pred = clf.predict(X_test)\n",
    "print(confusion_matrix(y_test, pred))\n",
    "print(classification_report(y_test, pred))"
   ]
  },
  {
   "cell_type": "code",
   "execution_count": 38,
   "metadata": {},
   "outputs": [
    {
     "data": {
      "image/png": "[encoded data removed]",
      "text/plain": [
       "<Figure size 864x288 with 1 Axes>"
      ]
     },
     "metadata": {
      "needs_background": "light"
     },
     "output_type": "display_data"
    }
   ],
   "source": [
    "f = plt.figure(figsize=(12,4))\n",
    "plt.scatter(range(len(clf.coef_[0])),clf.coef_[0],s=2.3)\n",
    "out_std = [x for x in clf.coef_[0] if np.abs(x) > 0.025]\n",
    "out_std_i = [i for i,x in enumerate(clf.coef_[0]) if np.abs(x) > 0.025]\n",
    "plt.scatter(out_std_i,out_std,s=2.8)\n",
    "#plt.xticks(range(0,len(clf.coef_[0])+1,2),rotation=90)\n",
    "#plt.ylim(-1,1)\n",
    "plt.xlabel('Topic')\n",
    "plt.ylabel('Coefficient')\n",
    "plt.title('Coefficient in logistic regression classifier \\nbetween phase 5 and not phase 5')\n",
    "plt.grid()"
   ]
  },
  {
   "cell_type": "code",
   "execution_count": 39,
   "metadata": {},
   "outputs": [
    {
     "data": {
      "text/plain": [
       "0.09084346287563434"
      ]
     },
     "execution_count": 39,
     "metadata": {},
     "output_type": "execute_result"
    }
   ],
   "source": [
    "np.round(np.mean(clf.coef_[0]),4)\n",
    "np.std(clf.coef_[0])"
   ]
  },
  {
   "cell_type": "markdown",
   "metadata": {},
   "source": [
    "### Important Topics"
   ]
  },
  {
   "cell_type": "code",
   "execution_count": 40,
   "metadata": {
    "scrolled": true
   },
   "outputs": [
    {
     "name": "stderr",
     "output_type": "stream",
     "text": [
      "C:\\Users\\CATALINA ESPINOZA\\AppData\\Local\\conda\\conda\\envs\\teacher_topic_model\\lib\\site-packages\\gensim\\utils.py:1209: UserWarning: detected Windows; aliasing chunkize to chunkize_serial\n",
      "  warnings.warn(\"detected Windows; aliasing chunkize to chunkize_serial\")\n"
     ]
    }
   ],
   "source": [
    "a_name = 'lda_textbooks_chunksize_alpha_auto_seed_{}_{}_{}_{}.pickle'.format(SEED,num_topics,REMOVE_STOPWORDS,WITH_STEMMING)\n",
    "model_file = os.path.join(results_path,'lda_models',a_name)\n",
    "with open(model_file,'rb') as f:\n",
    "    ldamodel = pickle.load(f)"
   ]
  },
  {
   "cell_type": "code",
   "execution_count": 41,
   "metadata": {},
   "outputs": [],
   "source": [
    "les_ids = np.argsort(np.abs(clf.coef_[0]))[-20:]"
   ]
  },
  {
   "cell_type": "code",
   "execution_count": 42,
   "metadata": {
    "scrolled": true
   },
   "outputs": [
    {
     "data": {
      "text/plain": [
       "[(10, -0.20299456503658025),\n",
       " (8, 0.2166735074072984),\n",
       " (1328, -0.22870422517519734),\n",
       " (20, -0.23399317109910173),\n",
       " (1595, 0.25967726901265403),\n",
       " (5, -0.3206392595944343),\n",
       " (13, 0.32335771354137455),\n",
       " (17, 0.33137043659240656),\n",
       " (39, -0.3618428268739139),\n",
       " (996, -0.37388782478029287),\n",
       " (29, -0.482812251976258),\n",
       " (3, -0.5930716920515201),\n",
       " (26, -0.6075927292975426),\n",
       " (48, 0.676294269846098),\n",
       " (55, 0.7354913533876611),\n",
       " (30, 1.0980529135154093),\n",
       " (50, 1.1040373195660929),\n",
       " (1831, 1.2630133140118296),\n",
       " (43, -1.9041577248483603),\n",
       " (33, -1.98297287756983)]"
      ]
     },
     "execution_count": 42,
     "metadata": {},
     "output_type": "execute_result"
    }
   ],
   "source": [
    "list(zip(np.argsort(np.abs(clf.coef_[0]))[-20:],clf.coef_[0][les_ids]))"
   ]
  },
  {
   "cell_type": "code",
   "execution_count": 43,
   "metadata": {},
   "outputs": [
    {
     "name": "stdout",
     "output_type": "stream",
     "text": [
      "Topic 44-Topic 34\n",
      "length utterance\n",
      "utterance_relative_time\n"
     ]
    }
   ],
   "source": [
    "print(df.columns[996])\n",
    "print(df.columns[1830+7])\n",
    "print(df.columns[1831+7])"
   ]
  },
  {
   "cell_type": "markdown",
   "metadata": {},
   "source": [
    "Topics"
   ]
  },
  {
   "cell_type": "code",
   "execution_count": 44,
   "metadata": {},
   "outputs": [
    {
     "data": {
      "text/plain": [
       "[('NUMBER', 0.6798587),\n",
       " ('a', 0.08793937),\n",
       " ('b', 0.07294916),\n",
       " ('c', 0.04292229),\n",
       " ('d', 0.022924542),\n",
       " ('lask', 0.007425218),\n",
       " ('+', 0.005417729),\n",
       " ('yhtälö', 0.003409941),\n",
       " ('kirj', 0.00226472),\n",
       " ('A_NAME', 0.002003389)]"
      ]
     },
     "execution_count": 44,
     "metadata": {},
     "output_type": "execute_result"
    }
   ],
   "source": [
    "ldamodel.show_topic(33)"
   ]
  },
  {
   "cell_type": "code",
   "execution_count": 45,
   "metadata": {
    "scrolled": true
   },
   "outputs": [
    {
     "data": {
      "text/plain": [
       "[('EQUAL_SYMBOL', 0.16383563),\n",
       " ('n', 0.10167014),\n",
       " ('e', 0.08339013),\n",
       " ('NUMBER', 0.07767182),\n",
       " ('v', 0.050334003),\n",
       " ('k', 0.05002136),\n",
       " ('s', 0.045941617),\n",
       " ('m', 0.044747524),\n",
       " ('T_', 0.04445801),\n",
       " ('o', 0.035047248)]"
      ]
     },
     "execution_count": 45,
     "metadata": {},
     "output_type": "execute_result"
    }
   ],
   "source": [
    "ldamodel.show_topic(43)"
   ]
  },
  {
   "cell_type": "code",
   "execution_count": 131,
   "metadata": {
    "scrolled": true
   },
   "outputs": [
    {
     "data": {
      "text/plain": [
       "[('a', 0.0762239),\n",
       " ('b', 0.031992134),\n",
       " ('c', 0.026608875),\n",
       " ('e', 0.023899583),\n",
       " ('oike', 0.01626492),\n",
       " ('kuva', 0.014383731),\n",
       " ('rin', 0.014164257),\n",
       " ('tulo', 0.012914545),\n",
       " ('kirj', 0.012067141),\n",
       " ('suuremp', 0.0119486265)]"
      ]
     },
     "execution_count": 131,
     "metadata": {},
     "output_type": "execute_result"
    }
   ],
   "source": [
    "ldamodel.show_topic(30)"
   ]
  },
  {
   "cell_type": "markdown",
   "metadata": {},
   "source": [
    "### Plot phrases"
   ]
  },
  {
   "cell_type": "code",
   "execution_count": 46,
   "metadata": {},
   "outputs": [
    {
     "name": "stdout",
     "output_type": "stream",
     "text": [
      "363\n",
      "1832\n"
     ]
    }
   ],
   "source": [
    "print(len(X_train))\n",
    "print(len(X_train[0]))"
   ]
  },
  {
   "cell_type": "code",
   "execution_count": 47,
   "metadata": {},
   "outputs": [],
   "source": [
    "amat2 = np.ones((len(X_train[0]),len(X_train)))\n",
    "for i in range(len(X_train[0])):\n",
    "    lali = []\n",
    "    for element in X_train:\n",
    "        lali.append(element[i])\n",
    "    amat2[i,:] =np.array(lali)\n",
    "    \n",
    "means = [np.mean(amat2[i]) for i in range(len(X_train[0]))]\n",
    "\n",
    "X_train_centered = []\n",
    "for i in range(len(X_train)):\n",
    "    row = []\n",
    "    for j in range(len(X_train[0])):\n",
    "        row.append(X_train[i][j]-means[j])\n",
    "    X_train_centered.append(row)"
   ]
  },
  {
   "cell_type": "code",
   "execution_count": 48,
   "metadata": {},
   "outputs": [
    {
     "data": {
      "text/plain": [
       "PCA(copy=True, iterated_power='auto', n_components=2, random_state=None,\n",
       "  svd_solver='auto', tol=0.0, whiten=False)"
      ]
     },
     "execution_count": 48,
     "metadata": {},
     "output_type": "execute_result"
    }
   ],
   "source": [
    "# make 3-class dataset for classification\n",
    "pca = PCA(n_components=2)\n",
    "pca.fit(X_train_centered)"
   ]
  },
  {
   "cell_type": "code",
   "execution_count": 49,
   "metadata": {},
   "outputs": [
    {
     "data": {
      "text/plain": [
       "0.6441700362327367"
      ]
     },
     "execution_count": 49,
     "metadata": {},
     "output_type": "execute_result"
    }
   ],
   "source": [
    "sum(pca.explained_variance_ratio_)"
   ]
  },
  {
   "cell_type": "code",
   "execution_count": 50,
   "metadata": {},
   "outputs": [],
   "source": [
    "v_1 = pca.components_[0]\n",
    "v_2 = pca.components_[1]"
   ]
  },
  {
   "cell_type": "code",
   "execution_count": 51,
   "metadata": {},
   "outputs": [
    {
     "data": {
      "text/plain": [
       "array([ 243, 1482,  988, ...,   10,   33, 1831], dtype=int64)"
      ]
     },
     "execution_count": 51,
     "metadata": {},
     "output_type": "execute_result"
    }
   ],
   "source": [
    "np.argsort(np.abs(v_1))"
   ]
  },
  {
   "cell_type": "code",
   "execution_count": 52,
   "metadata": {},
   "outputs": [
    {
     "data": {
      "text/plain": [
       "array([-4.15427890e-09, -2.10509570e-08,  2.93333695e-08, ...,\n",
       "       -2.14599095e-02, -2.79547344e-02, -9.98305848e-01])"
      ]
     },
     "execution_count": 52,
     "metadata": {},
     "output_type": "execute_result"
    }
   ],
   "source": [
    "v_1[np.argsort(np.abs(v_1))]"
   ]
  },
  {
   "cell_type": "code",
   "execution_count": 53,
   "metadata": {
    "scrolled": true
   },
   "outputs": [
    {
     "data": {
      "text/plain": [
       "array([-0.29837755, -0.07242681, -0.03486535, ...,  0.20446555,\n",
       "        0.31371717,  0.86295282])"
      ]
     },
     "execution_count": 53,
     "metadata": {},
     "output_type": "execute_result"
    }
   ],
   "source": [
    "v_2[np.argsort(v_2)]"
   ]
  },
  {
   "cell_type": "code",
   "execution_count": 54,
   "metadata": {
    "scrolled": true
   },
   "outputs": [
    {
     "data": {
      "text/plain": [
       "363"
      ]
     },
     "execution_count": 54,
     "metadata": {},
     "output_type": "execute_result"
    }
   ],
   "source": [
    "len(X_train)"
   ]
  },
  {
   "cell_type": "code",
   "execution_count": 55,
   "metadata": {},
   "outputs": [],
   "source": [
    "Xdot = np.dot(X_train_centered,pca.components_.T)"
   ]
  },
  {
   "cell_type": "code",
   "execution_count": 56,
   "metadata": {},
   "outputs": [
    {
     "data": {
      "text/plain": [
       "(363, 2)"
      ]
     },
     "execution_count": 56,
     "metadata": {},
     "output_type": "execute_result"
    }
   ],
   "source": [
    "pca.components_.shape\n",
    "Xdot.shape"
   ]
  },
  {
   "cell_type": "code",
   "execution_count": 57,
   "metadata": {},
   "outputs": [],
   "source": [
    "colors = {0:'purple',1:'r',2:'b',3:'g',4:'y',5:'black'}\n"
   ]
  },
  {
   "cell_type": "code",
   "execution_count": 58,
   "metadata": {},
   "outputs": [
    {
     "data": {
      "text/plain": [
       "array([[ 4.82320728e-01,  2.77341505e-02],\n",
       "       [ 3.82428237e-01, -3.33513338e-02],\n",
       "       [ 3.42477963e-01, -8.55288123e-02],\n",
       "       [ 4.87408263e-01, -1.74592872e-01],\n",
       "       [ 4.72495528e-01, -8.02559803e-02],\n",
       "       [ 4.51651151e-01,  5.19090280e-03],\n",
       "       [ 3.83977866e-01,  6.80936597e-02],\n",
       "       [ 3.64879991e-01, -5.65483897e-02],\n",
       "       [ 3.52282452e-01,  2.18579292e-01],\n",
       "       [ 2.91757715e-01,  3.78364326e-02],\n",
       "       [ 2.74303890e-01,  2.46808690e-01],\n",
       "       [ 2.19797600e-01,  1.79659987e-01],\n",
       "       [ 1.83415671e-01,  8.19146223e-02],\n",
       "       [ 1.09890824e-01, -1.57833448e-02],\n",
       "       [ 6.96807022e-02, -1.41582706e-02],\n",
       "       [-2.28554716e-01,  1.17767950e-03],\n",
       "       [-2.63756676e-01,  2.12328884e-02],\n",
       "       [ 4.94815414e-01,  1.21681837e-02],\n",
       "       [ 4.57391123e-01, -3.67615193e-02],\n",
       "       [ 4.04581813e-01,  2.26307851e-01],\n",
       "       [ 2.98472908e-01,  2.18385237e-01],\n",
       "       [ 2.77006222e-01, -4.21689499e-02],\n",
       "       [ 1.26112641e-02, -1.35503327e-01],\n",
       "       [-1.30415867e-02, -2.32950668e-02],\n",
       "       [ 4.90316682e-01, -2.11326845e-02],\n",
       "       [ 4.73114616e-01,  2.31712420e-04],\n",
       "       [ 4.06501554e-01,  5.56704016e-02],\n",
       "       [ 1.84900309e-01, -7.69100837e-02],\n",
       "       [ 4.56784414e-02, -7.09344463e-02],\n",
       "       [-1.53179738e-01, -1.05865254e-01],\n",
       "       [-2.85845018e-01, -5.68320858e-02],\n",
       "       [ 4.23349823e-01, -8.84232568e-02],\n",
       "       [ 2.93496379e-01,  1.42464707e-02],\n",
       "       [ 1.63710260e-01, -1.03836729e-01],\n",
       "       [-1.39151122e-01, -3.77501692e-02],\n",
       "       [ 4.82888208e-01,  7.99262528e-02],\n",
       "       [ 4.17078172e-01,  2.81723221e-01],\n",
       "       [ 3.83677135e-01, -6.35396249e-02],\n",
       "       [-1.15382942e-01,  9.35087871e-02],\n",
       "       [-2.37723402e-01,  8.15968232e-02],\n",
       "       [-2.66655717e-01,  9.01087282e-02],\n",
       "       [ 4.97698801e-01,  3.44710890e-02],\n",
       "       [ 4.37140126e-01,  2.20987443e-01],\n",
       "       [ 3.03473488e-01, -7.59662837e-02],\n",
       "       [ 2.58753968e-01, -8.47208009e-02],\n",
       "       [ 2.30071585e-01,  4.67502968e-02],\n",
       "       [ 1.68101063e-01,  6.48695760e-03],\n",
       "       [-4.16777795e-02, -1.40414276e-01],\n",
       "       [-9.49651898e-02, -2.60486232e-02],\n",
       "       [ 4.79953275e-01, -3.11508644e-02],\n",
       "       [ 4.14889645e-01, -1.01398904e-01],\n",
       "       [ 3.86768865e-01,  2.65963443e-02],\n",
       "       [ 3.54700129e-01,  4.74737893e-02],\n",
       "       [ 3.14493164e-01,  5.38005585e-02],\n",
       "       [ 1.94186554e-01,  4.52465990e-02],\n",
       "       [ 9.10769377e-02,  3.35664219e-02],\n",
       "       [ 4.87976300e-01,  1.22029757e-01],\n",
       "       [ 3.68152225e-01,  3.11771984e-03],\n",
       "       [ 3.37400267e-01, -1.65685448e-01],\n",
       "       [ 1.78998680e-01, -8.15750511e-02],\n",
       "       [ 3.95765355e-02, -6.44707020e-02],\n",
       "       [ 4.33074764e-01, -3.92165952e-02],\n",
       "       [ 4.14716569e-01, -1.03286341e-01],\n",
       "       [ 3.61442863e-01, -6.67121519e-02],\n",
       "       [ 2.57935165e-01, -9.21771558e-02],\n",
       "       [ 3.76809299e-02, -3.47514810e-02],\n",
       "       [ 1.06908425e-02,  6.65516570e-02],\n",
       "       [-1.10466200e-02,  6.31646488e-02],\n",
       "       [-3.54232610e-02, -9.76735993e-03],\n",
       "       [-8.32061994e-02,  1.52720705e-01],\n",
       "       [-1.87275305e-01,  1.28477326e-01],\n",
       "       [ 4.86670104e-01,  3.74496648e-02],\n",
       "       [ 4.50963661e-01, -7.20035568e-02],\n",
       "       [ 4.28135112e-01,  4.72801967e-02],\n",
       "       [ 3.40788789e-01, -9.00712444e-02],\n",
       "       [ 3.10972943e-01, -7.93323349e-02],\n",
       "       [ 2.12800640e-02, -1.47016454e-03],\n",
       "       [-1.07722169e-01,  4.18436485e-03],\n",
       "       [-1.29478571e-01,  1.35064412e-01],\n",
       "       [ 2.25119697e-01, -1.23312434e-01],\n",
       "       [ 4.81339388e-02,  1.62877096e-01],\n",
       "       [-2.37902203e-02,  2.55764970e-01],\n",
       "       [-6.07480733e-02,  6.92187446e-02],\n",
       "       [-1.35807665e-01,  1.04546862e-01],\n",
       "       [ 4.33410578e-01, -9.23754204e-03],\n",
       "       [ 3.07969472e-01,  9.62189505e-02],\n",
       "       [ 1.56807243e-01,  1.93576317e-01],\n",
       "       [-2.54581960e-01, -1.59441805e-03],\n",
       "       [ 1.99675161e-01, -6.91683204e-02],\n",
       "       [ 7.24593271e-02, -6.21953144e-02],\n",
       "       [-1.23716795e-02, -3.87359167e-03],\n",
       "       [ 3.53790907e-01, -4.90864669e-03],\n",
       "       [ 4.15967366e-01,  9.21440318e-03],\n",
       "       [-1.14136748e-01,  1.92934227e-01],\n",
       "       [-1.22751802e-01,  7.88301393e-01],\n",
       "       [ 2.85860048e-01,  3.04391134e-02],\n",
       "       [ 2.21214695e-01, -5.65891005e-02],\n",
       "       [ 2.47374875e-02, -3.31910435e-02],\n",
       "       [-7.41471239e-03, -8.22646346e-02],\n",
       "       [ 3.02653994e-01, -1.09486724e-01],\n",
       "       [ 1.83851724e-01,  7.21621160e-02],\n",
       "       [ 1.64982939e-01,  6.56804731e-02],\n",
       "       [-2.57897537e-01,  3.56271685e-01],\n",
       "       [ 2.28998907e-01,  1.12358096e-02],\n",
       "       [ 1.63393341e-01, -9.71471063e-02],\n",
       "       [ 1.36934836e-01, -4.69084593e-02],\n",
       "       [ 8.21413076e-02, -5.13158817e-02],\n",
       "       [-1.70306129e-01,  3.06038985e-01],\n",
       "       [-3.19925740e-01,  2.10599664e-02],\n",
       "       [ 2.87367768e-01, -8.18209717e-03],\n",
       "       [ 1.54752938e-01, -1.34236068e-01],\n",
       "       [ 1.15694371e-01, -1.01546615e-01],\n",
       "       [ 5.84872880e-02, -1.00711921e-01],\n",
       "       [-1.43891410e-01,  1.90744107e-03],\n",
       "       [-1.96591580e-01, -6.88449945e-02],\n",
       "       [-2.62995874e-01,  5.64568462e-02],\n",
       "       [ 4.08757027e-01, -6.94361994e-02],\n",
       "       [ 3.29813140e-01,  1.37682520e-01],\n",
       "       [ 2.02429506e-01,  4.05889928e-01],\n",
       "       [-8.59128832e-03,  1.19261038e-01],\n",
       "       [-3.14559167e-02, -8.89265246e-02],\n",
       "       [-5.92548843e-02,  1.74123471e-01],\n",
       "       [-1.01730277e-01, -1.02301853e-02],\n",
       "       [-1.15444803e-01,  1.42872486e-01],\n",
       "       [-2.50234780e-01,  5.46317636e-02],\n",
       "       [-3.39737906e-01,  7.36362221e-02],\n",
       "       [-3.85874090e-01, -2.04129484e-02],\n",
       "       [-4.38751890e-01, -1.47962298e-01],\n",
       "       [ 3.64245876e-01, -6.69557550e-03],\n",
       "       [ 3.45248515e-01, -9.80146513e-02],\n",
       "       [ 2.55059802e-01, -1.41279150e-01],\n",
       "       [ 1.88844638e-01,  2.03275594e-02],\n",
       "       [ 1.48541012e-01, -3.70467939e-02],\n",
       "       [ 1.15519221e-01, -1.55088359e-01],\n",
       "       [ 8.39922441e-02, -2.24152711e-02],\n",
       "       [-2.03513729e-01,  2.59472021e-03],\n",
       "       [-2.30949517e-01, -3.93518767e-02],\n",
       "       [-2.66727771e-01, -7.86417669e-02],\n",
       "       [-2.81221582e-01, -7.01714674e-02],\n",
       "       [-2.96215870e-01,  9.89931261e-03],\n",
       "       [-3.32492584e-01,  8.07861447e-02],\n",
       "       [-3.70030301e-01, -5.46554739e-02],\n",
       "       [ 4.51638386e-01,  6.71687014e-02],\n",
       "       [ 3.68201842e-01,  3.86029253e-02],\n",
       "       [ 3.39338079e-01, -1.40579459e-01],\n",
       "       [ 2.84730378e-01, -3.18984934e-02],\n",
       "       [ 2.47751761e-01,  5.66910491e-03],\n",
       "       [ 2.10208872e-01, -1.32251626e-01],\n",
       "       [ 1.02173399e-01, -1.46302617e-01],\n",
       "       [-1.36874469e-02, -8.18681342e-02],\n",
       "       [-6.98599685e-02, -8.20165509e-02],\n",
       "       [-1.16784097e-01, -1.57163192e-01],\n",
       "       [-1.90552839e-01, -1.40697467e-01],\n",
       "       [-2.28220508e-01,  3.80018582e-02],\n",
       "       [-2.67237113e-01, -1.57068299e-02],\n",
       "       [-3.08786535e-01,  1.66035917e-01],\n",
       "       [ 2.49423504e-01, -1.32863621e-01],\n",
       "       [ 3.73868604e-02,  5.95669534e-02],\n",
       "       [-6.13369832e-02, -1.63747132e-01],\n",
       "       [-9.98821501e-02, -2.48957025e-02],\n",
       "       [ 3.15353376e-01, -2.16332981e-02],\n",
       "       [ 1.91684691e-01, -8.96478907e-02],\n",
       "       [ 1.65710416e-01,  1.05174926e-01],\n",
       "       [ 1.22694345e-01, -1.67003825e-01],\n",
       "       [ 6.76429233e-02, -9.95191269e-03],\n",
       "       [ 3.88724197e-02,  7.88788906e-02],\n",
       "       [-3.30308774e-02, -1.81838654e-01],\n",
       "       [-6.24045911e-02, -1.29232270e-01],\n",
       "       [-1.45429926e-01,  1.50653560e-02],\n",
       "       [ 4.01289837e-01,  4.56610077e-02],\n",
       "       [ 3.67615474e-01,  3.25550675e-02],\n",
       "       [ 3.36884307e-01, -1.47382841e-01],\n",
       "       [ 2.84619761e-01, -8.42365939e-02],\n",
       "       [ 1.15028829e-01,  1.19659059e-01],\n",
       "       [-9.97965168e-03, -1.47567677e-01],\n",
       "       [-8.85772797e-02, -1.07403473e-01],\n",
       "       [-1.79219337e-01,  2.14923354e-01],\n",
       "       [-2.16457631e-01, -1.55509931e-01],\n",
       "       [-2.31688358e-01, -2.09302271e-01],\n",
       "       [-3.58734141e-01, -2.08530742e-01],\n",
       "       [-3.84559684e-01,  2.17345569e-02],\n",
       "       [ 1.20830149e-01, -9.59395416e-02],\n",
       "       [ 5.69067403e-02, -1.07471626e-01],\n",
       "       [-6.87158685e-02, -7.04489241e-02],\n",
       "       [-1.32055146e-01, -4.05901645e-02],\n",
       "       [-2.34783124e-01, -1.61903851e-01],\n",
       "       [-3.02438476e-01, -2.83233716e-02],\n",
       "       [ 2.58397134e-01, -1.29749222e-02],\n",
       "       [ 1.43009267e-01, -1.29814318e-01],\n",
       "       [ 1.19084963e-01, -1.32143837e-01],\n",
       "       [-7.57676735e-02, -1.09869861e-02],\n",
       "       [-1.63454721e-01, -1.52549676e-01],\n",
       "       [-3.21021694e-01, -3.27798604e-02],\n",
       "       [-3.52968477e-01, -8.14018758e-04],\n",
       "       [ 3.86193679e-01, -1.47872536e-01],\n",
       "       [ 2.84137450e-01, -3.89679518e-02],\n",
       "       [ 2.36767389e-01,  5.46886376e-02],\n",
       "       [ 8.63847582e-02,  1.59263527e-01],\n",
       "       [-1.11093382e-01,  1.13590914e-02],\n",
       "       [-2.12505520e-01,  1.17122937e-02],\n",
       "       [-2.91556614e-01,  9.76293474e-02],\n",
       "       [-4.12010590e-01,  7.01895124e-02],\n",
       "       [ 3.94346880e-01,  3.09151137e-02],\n",
       "       [-2.69504347e-01, -1.14377504e-01],\n",
       "       [-4.06485264e-01,  1.16562513e-02],\n",
       "       [-4.28101932e-01, -5.17760963e-02],\n",
       "       [-3.04706016e-01, -4.86070006e-02],\n",
       "       [-3.95947368e-01, -9.71336443e-02],\n",
       "       [-1.58045445e-01, -8.47220462e-02],\n",
       "       [-2.40612429e-01, -1.15606983e-01],\n",
       "       [-4.17848708e-01, -2.63529310e-02],\n",
       "       [-4.54859849e-01,  4.63179025e-03],\n",
       "       [-1.68194370e-01, -4.50565149e-02],\n",
       "       [-3.30633780e-01, -1.37339333e-01],\n",
       "       [-4.33633865e-01, -1.01654193e-01],\n",
       "       [-2.74613672e-01, -1.14923484e-01],\n",
       "       [-4.06191864e-01, -1.47603561e-01],\n",
       "       [-3.03043050e-01,  7.01028470e-02],\n",
       "       [-4.00161584e-01,  5.95120422e-02],\n",
       "       [-4.23501553e-01,  3.31363627e-02],\n",
       "       [-5.91947626e-02, -8.56567041e-02],\n",
       "       [-1.46545393e-01, -1.31108495e-01],\n",
       "       [-3.04773664e-01, -9.77797888e-02],\n",
       "       [-4.03392597e-01, -1.33970814e-01],\n",
       "       [-4.78226686e-01, -4.46057727e-02],\n",
       "       [-1.67571465e-01,  7.50700059e-02],\n",
       "       [-3.61384409e-01, -2.08764103e-02],\n",
       "       [ 6.36216665e-02, -6.80610017e-02],\n",
       "       [ 8.84786616e-03, -8.72063387e-02],\n",
       "       [-2.13616984e-01, -1.37870066e-01],\n",
       "       [-2.39124085e-01, -1.08022512e-01],\n",
       "       [-4.71281286e-01, -4.32535439e-02],\n",
       "       [ 2.33591483e-02, -8.67207563e-02],\n",
       "       [-9.63609197e-02, -2.01035758e-01],\n",
       "       [-2.88510372e-01, -5.99373058e-02],\n",
       "       [-3.73832540e-01, -9.85152820e-02],\n",
       "       [-4.31747821e-01, -9.23107131e-02],\n",
       "       [ 4.46340449e-01,  4.93414345e-02],\n",
       "       [ 2.51135580e-01, -1.33549876e-01],\n",
       "       [ 1.89649113e-01,  4.32059730e-03],\n",
       "       [ 8.66944741e-02, -1.27883079e-01],\n",
       "       [-1.16249252e-02, -6.61946538e-03],\n",
       "       [-3.44629789e-02, -1.95281715e-02],\n",
       "       [-1.74266716e-01, -1.32997232e-01],\n",
       "       [-2.28237657e-01, -3.89341677e-03],\n",
       "       [-3.55990337e-01,  2.30616706e-02],\n",
       "       [-4.57703481e-01, -7.15438703e-03],\n",
       "       [-4.82659779e-01,  2.10950476e-01],\n",
       "       [ 4.01613289e-01,  1.09075234e-01],\n",
       "       [ 3.03266864e-01, -1.01534728e-01],\n",
       "       [ 2.54681104e-01,  1.02745446e-01],\n",
       "       [ 2.35107673e-01,  1.95626877e-01],\n",
       "       [ 1.68270114e-01,  2.42782106e-01],\n",
       "       [ 8.58412430e-02,  1.03231307e-01],\n",
       "       [ 1.23904246e-02, -4.80396337e-02],\n",
       "       [-4.26106142e-02, -1.80832689e-03],\n",
       "       [-8.00140775e-02,  1.69845725e-01],\n",
       "       [-1.73762757e-01,  4.93560708e-02],\n",
       "       [-2.14747624e-01,  5.05157468e-03],\n",
       "       [-2.83423663e-01, -9.66373270e-03],\n",
       "       [-3.60870542e-01, -9.58522832e-02],\n",
       "       [-4.59130866e-01, -9.51184694e-04],\n",
       "       [-4.73393589e-01, -2.59994338e-02],\n",
       "       [-4.89541520e-01, -8.60047122e-02],\n",
       "       [ 4.77589804e-01, -4.19289211e-02],\n",
       "       [ 4.44132194e-01, -2.70125421e-02],\n",
       "       [ 3.36814634e-01, -1.61245656e-02],\n",
       "       [ 2.13898107e-01,  1.31953607e-01],\n",
       "       [ 1.66927230e-01, -5.07173722e-02],\n",
       "       [ 1.36078399e-01,  1.87523686e-02],\n",
       "       [ 6.22068045e-02, -9.08274113e-03],\n",
       "       [ 3.39798208e-02,  1.62402212e-02],\n",
       "       [-1.11946533e-01,  7.08932380e-02],\n",
       "       [-1.79169157e-01,  5.28810400e-01],\n",
       "       [-3.46329530e-01,  1.46412579e-01],\n",
       "       [-3.85840145e-01, -7.16719114e-03],\n",
       "       [-4.38642563e-01, -1.08703729e-01],\n",
       "       [-4.72778272e-01,  1.48283373e-02],\n",
       "       [-4.91259858e-01, -4.70186618e-02],\n",
       "       [ 2.68900890e-01, -2.26267311e-02],\n",
       "       [ 2.29573088e-01,  1.57233625e-01],\n",
       "       [ 1.33529980e-01, -1.21219212e-01],\n",
       "       [ 3.09961038e-02,  3.24583579e-01],\n",
       "       [ 8.21423486e-03,  7.08181945e-03],\n",
       "       [-3.36099605e-02, -4.04046420e-02],\n",
       "       [-1.30518089e-01, -1.37282222e-01],\n",
       "       [-3.51607701e-01, -2.48501876e-02],\n",
       "       [-4.11699522e-01, -1.44280363e-01],\n",
       "       [-4.46657351e-01,  1.25987681e-02],\n",
       "       [-4.71056089e-01, -5.34574375e-02],\n",
       "       [ 4.70911665e-01,  6.64388119e-02],\n",
       "       [-2.24571838e-01,  2.90081247e-02],\n",
       "       [-3.18440807e-01,  2.10692881e-02],\n",
       "       [-3.57724258e-01, -4.81304101e-03],\n",
       "       [-4.47111208e-01, -2.00759845e-02],\n",
       "       [-4.89951445e-01, -3.24682297e-02],\n",
       "       [ 2.87028652e-01, -6.36155676e-02],\n",
       "       [ 9.95038588e-02, -2.21475226e-02],\n",
       "       [-8.48873784e-02, -3.66741201e-02],\n",
       "       [-1.73294927e-01,  4.66322632e-01],\n",
       "       [-2.05642511e-01,  1.71102971e-01],\n",
       "       [-3.30211978e-01,  1.22148549e-02],\n",
       "       [-3.64789250e-01,  1.20663335e-01],\n",
       "       [-4.58473869e-01,  4.53528864e-02],\n",
       "       [-4.89060689e-01,  4.10803871e-03],\n",
       "       [ 4.63537374e-01,  4.21117380e-02],\n",
       "       [ 3.87075265e-01,  2.36184255e-03],\n",
       "       [ 3.23251710e-01,  5.97276776e-02],\n",
       "       [ 2.42124964e-01,  1.38809066e-01],\n",
       "       [ 2.13212650e-01, -3.56196027e-02],\n",
       "       [ 1.85101467e-01, -5.31663793e-02],\n",
       "       [ 1.47957696e-01, -2.63219478e-03],\n",
       "       [ 1.02009701e-01,  1.13250741e-01],\n",
       "       [ 7.87235352e-02,  2.70837771e-02],\n",
       "       [ 6.14440421e-02,  1.35824478e-01],\n",
       "       [-2.08607122e-02,  1.64120758e-02],\n",
       "       [-7.07435019e-02, -8.03255226e-02],\n",
       "       [-1.73384785e-01, -5.82848452e-03],\n",
       "       [-1.93053981e-01, -4.20060271e-02],\n",
       "       [-2.38279964e-01,  1.64940296e-02],\n",
       "       [-2.74891765e-01, -1.28513645e-01],\n",
       "       [-3.64790634e-01, -1.28312770e-01],\n",
       "       [-4.12894263e-01, -2.07059575e-02],\n",
       "       [-4.63806691e-01, -4.34777421e-02],\n",
       "       [-4.12766973e-02, -4.57132347e-02],\n",
       "       [-2.03302321e-01, -3.68605785e-02],\n",
       "       [-3.91745028e-01,  6.54284086e-02],\n",
       "       [-4.56729332e-01,  2.18037171e-02],\n",
       "       [-4.85671672e-01,  1.24235910e-02],\n",
       "       [ 4.52040068e-01, -1.55618612e-01],\n",
       "       [ 4.29293181e-01, -9.50484413e-02],\n",
       "       [ 3.97268025e-01, -3.53104844e-02],\n",
       "       [ 3.20062390e-01, -2.37134610e-02],\n",
       "       [ 2.86413765e-01, -7.12223204e-02],\n",
       "       [ 2.32842094e-01,  1.13792358e-01],\n",
       "       [ 2.04817790e-01,  6.15322066e-02],\n",
       "       [ 9.46163998e-02, -4.98967525e-02],\n",
       "       [-1.28312832e-01,  9.53879775e-02],\n",
       "       [-2.39696747e-01,  1.77856567e-01],\n",
       "       [-2.94301019e-01, -2.36231546e-02],\n",
       "       [-3.75864266e-01,  5.82161427e-02],\n",
       "       [-4.06846671e-01, -5.74407929e-02],\n",
       "       [-4.63766872e-01,  6.01224581e-04],\n",
       "       [-4.87958524e-01,  5.31713543e-01],\n",
       "       [ 4.88444431e-01,  4.47324926e-03],\n",
       "       [ 1.37280437e-01, -8.21195908e-02],\n",
       "       [ 1.10557734e-01, -8.80242737e-02],\n",
       "       [ 6.40654655e-02, -4.95018482e-03],\n",
       "       [-6.35903330e-02,  2.60651910e-02],\n",
       "       [-1.39050833e-01,  1.06059160e-01],\n",
       "       [-1.62797369e-01,  9.33002078e-02],\n",
       "       [-4.35099860e-01,  3.34940581e-02],\n",
       "       [-4.86361485e-01, -3.46607704e-02],\n",
       "       [ 2.80991793e-01, -1.23331991e-01],\n",
       "       [ 1.12439959e-01, -1.38345867e-02],\n",
       "       [ 5.81880479e-02, -1.30778862e-03],\n",
       "       [ 1.70708882e-03,  2.83168214e-01],\n",
       "       [-2.77184024e-02,  8.13024489e-02],\n",
       "       [-1.17238926e-01, -5.66515093e-02],\n",
       "       [-2.03128895e-01, -6.10255696e-02],\n",
       "       [-2.31346207e-01, -8.93835360e-04],\n",
       "       [-4.63244667e-01,  5.37856710e-02],\n",
       "       [-4.92413928e-01, -5.69141129e-02]])"
      ]
     },
     "execution_count": 58,
     "metadata": {},
     "output_type": "execute_result"
    }
   ],
   "source": [
    "Xdot"
   ]
  },
  {
   "cell_type": "code",
   "execution_count": 59,
   "metadata": {},
   "outputs": [
    {
     "data": {
      "text/plain": [
       "(array([ 48., 137., 120.,  36.,  14.,   3.,   2.,   2.,   0.,   1.]),\n",
       " array([-0.20930227, -0.1095419 , -0.00978154,  0.08997883,  0.18973919,\n",
       "         0.28949956,  0.38925993,  0.48902029,  0.58878066,  0.68854103,\n",
       "         0.78830139]),\n",
       " <a list of 10 Patch objects>)"
      ]
     },
     "execution_count": 59,
     "metadata": {},
     "output_type": "execute_result"
    },
    {
     "data": {
      "image/png": "[encoded data removed]",
      "text/plain": [
       "<Figure size 432x288 with 1 Axes>"
      ]
     },
     "metadata": {
      "needs_background": "light"
     },
     "output_type": "display_data"
    }
   ],
   "source": [
    "plt.hist([x[1] for x in Xdot])"
   ]
  },
  {
   "cell_type": "code",
   "execution_count": 60,
   "metadata": {},
   "outputs": [],
   "source": [
    "X_train,y_train1 = get_data_from_dict_filter(trainset,1)\n",
    "X_train,y_train2 = get_data_from_dict_filter(trainset,2)\n",
    "X_train,y_train3 = get_data_from_dict_filter(trainset,3)\n",
    "X_train,y_train4 = get_data_from_dict_filter(trainset,4)\n",
    "X_train,y_train5 = get_data_from_dict_filter(trainset,5)"
   ]
  },
  {
   "cell_type": "code",
   "execution_count": 61,
   "metadata": {},
   "outputs": [],
   "source": [
    "y_train2 = np.array(y_train1)+np.array(y_train2)+np.array(y_train3)+np.array(y_train4)+np.array(y_train5)"
   ]
  },
  {
   "cell_type": "code",
   "execution_count": 62,
   "metadata": {},
   "outputs": [
    {
     "data": {
      "text/plain": [
       "<matplotlib.collections.PathCollection at 0x1cadf7ad940>"
      ]
     },
     "execution_count": 62,
     "metadata": {},
     "output_type": "execute_result"
    },
    {
     "data": {
      "image/png": "[encoded data removed]",
      "text/plain": [
       "<Figure size 432x288 with 1 Axes>"
      ]
     },
     "metadata": {
      "needs_background": "light"
     },
     "output_type": "display_data"
    }
   ],
   "source": [
    "\n",
    "color_label = [colors[i] for i in y_train2]\n",
    "plt.scatter([x[0] for x in Xdot],[x[1] for x in Xdot],color=color_label)\n",
    "#plt.ylim(-0.2,0.5)"
   ]
  },
  {
   "cell_type": "code",
   "execution_count": null,
   "metadata": {},
   "outputs": [],
   "source": []
  }
 ],
 "metadata": {
  "kernelspec": {
   "display_name": "Python 3",
   "language": "python",
   "name": "python3"
  },
  "language_info": {
   "codemirror_mode": {
    "name": "ipython",
    "version": 3
   },
   "file_extension": ".py",
   "mimetype": "text/x-python",
   "name": "python",
   "nbconvert_exporter": "python",
   "pygments_lexer": "ipython3",
   "version": "3.6.6"
  }
 },
 "nbformat": 4,
 "nbformat_minor": 2
}
