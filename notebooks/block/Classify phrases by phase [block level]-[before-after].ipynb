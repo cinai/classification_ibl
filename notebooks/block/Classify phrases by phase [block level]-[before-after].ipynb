{
 "cells": [
  {
   "cell_type": "markdown",
   "metadata": {},
   "source": [
    "### Description"
   ]
  },
  {
   "cell_type": "code",
   "execution_count": null,
   "metadata": {
    "collapsed": true
   },
   "outputs": [],
   "source": []
  },
  {
   "cell_type": "markdown",
   "metadata": {},
   "source": [
    "### load "
   ]
  },
  {
   "cell_type": "code",
   "execution_count": 5,
   "metadata": {},
   "outputs": [],
   "source": [
    "import os\n",
    "import random \n",
    "import pickle\n",
    "import sys\n",
    "import pandas as pd\n",
    "import numpy as np\n",
    "from sklearn.metrics import classification_report\n",
    "from sklearn.metrics import confusion_matrix\n",
    "\n",
    "root_path = os.path.dirname(os.path.dirname(os.path.abspath(os.getcwd())))\n",
    "# to import src is necessary to append the root_path to the path\n",
    "#sys.path.append(root_path)\n",
    "\n",
    "data_path = os.path.join(root_path,'data')\n",
    "results_path = os.path.join(root_path,'results')"
   ]
  },
  {
   "cell_type": "markdown",
   "metadata": {},
   "source": [
    "### Define global variables"
   ]
  },
  {
   "cell_type": "code",
   "execution_count": 6,
   "metadata": {},
   "outputs": [],
   "source": [
    "WITH_STEMMING = True\n",
    "REMOVE_STOPWORDS = True\n",
    "MINIMUM_WORDS_PER_PHRASE = 0\n",
    "GROUP = -1\n",
    "SEED = 10\n",
    "num_topics = 60\n",
    "random.seed(SEED)"
   ]
  },
  {
   "cell_type": "code",
   "execution_count": 7,
   "metadata": {},
   "outputs": [],
   "source": [
    "df = pd.read_excel('IBL_topic_distribution_by_block_with_phrase_before_and_after_time_utterance_minimum_0_words_with_stemming.xlsx')"
   ]
  },
  {
   "cell_type": "code",
   "execution_count": 8,
   "metadata": {},
   "outputs": [
    {
     "data": {
      "text/plain": [
       "Index(['utterance_before_Topic_1', 'utterance_before_Topic_2',\n",
       "       'utterance_before_Topic_3', 'utterance_before_Topic_4',\n",
       "       'utterance_before_Topic_5', 'utterance_before_Topic_6',\n",
       "       'utterance_before_Topic_7', 'utterance_before_Topic_8',\n",
       "       'utterance_before_Topic_9', 'utterance_before_Topic_10',\n",
       "       ...\n",
       "       'utterance_after_Topic_60', 'phase', 'phase_1', 'phase_2', 'phase_3',\n",
       "       'phase_4', 'phase_5', 'utterance', 'length utterance',\n",
       "       'utterance_time'],\n",
       "      dtype='object', length=189)"
      ]
     },
     "execution_count": 8,
     "metadata": {},
     "output_type": "execute_result"
    }
   ],
   "source": [
    "df.columns"
   ]
  },
  {
   "cell_type": "markdown",
   "metadata": {},
   "source": [
    "### split dataset"
   ]
  },
  {
   "cell_type": "code",
   "execution_count": 9,
   "metadata": {
    "scrolled": true
   },
   "outputs": [
    {
     "name": "stdout",
     "output_type": "stream",
     "text": [
      "key 1, total 95\n",
      "key 2, total 41\n",
      "key 3, total 119\n",
      "key 4, total 40\n",
      "key 5, total 157\n"
     ]
    }
   ],
   "source": [
    "the_keys = list(set(df['phase']))\n",
    "for key in the_keys:\n",
    "    n = list(df.phase.values).count(key)\n",
    "    print(\"key {}, total {}\".format(key,n))"
   ]
  },
  {
   "cell_type": "code",
   "execution_count": 10,
   "metadata": {},
   "outputs": [
    {
     "data": {
      "text/plain": [
       "262"
      ]
     },
     "execution_count": 10,
     "metadata": {},
     "output_type": "execute_result"
    }
   ],
   "source": [
    "97+12+70+18+65"
   ]
  },
  {
   "cell_type": "code",
   "execution_count": 11,
   "metadata": {},
   "outputs": [
    {
     "data": {
      "text/plain": [
       "82.34285714285714"
      ]
     },
     "execution_count": 11,
     "metadata": {},
     "output_type": "execute_result"
    }
   ],
   "source": [
    "(97+12+70+18+65)*11/(5*7)"
   ]
  },
  {
   "cell_type": "code",
   "execution_count": null,
   "metadata": {},
   "outputs": [],
   "source": []
  },
  {
   "cell_type": "code",
   "execution_count": 12,
   "metadata": {
    "scrolled": true
   },
   "outputs": [
    {
     "name": "stdout",
     "output_type": "stream",
     "text": [
      "test set phase 1: 19\n",
      "test set phase 2: 8\n",
      "test set phase 3: 23\n",
      "test set phase 4: 8\n",
      "test set phase 5: 31\n"
     ]
    }
   ],
   "source": [
    "trainset = {}\n",
    "testset = {}\n",
    "for name, group in df.groupby(['phase']):\n",
    "    trainset[name]=[]\n",
    "    testset[name]=[]\n",
    "    n = len(group)\n",
    "    ra = random.sample(range(n),int(n*0.2))\n",
    "    print(\"test set phase {}: {}\".format(name,int(n*0.2)))\n",
    "    count = 0\n",
    "    group = group.reset_index()\n",
    "    for i,row in group.iterrows():\n",
    "        if i in ra:\n",
    "            count+=1\n",
    "            testset[name].append(row.values)\n",
    "        else:\n",
    "            trainset[name].append(row.values)\n"
   ]
  },
  {
   "cell_type": "code",
   "execution_count": 13,
   "metadata": {},
   "outputs": [],
   "source": [
    "filter_rows = list(range(1,181))+[188,189]\n",
    "#filter_labels = [3601]"
   ]
  },
  {
   "cell_type": "code",
   "execution_count": 14,
   "metadata": {},
   "outputs": [],
   "source": [
    "def get_data_from_dict(a_dict):\n",
    "    y = []\n",
    "    X = []\n",
    "    for key in a_dict:\n",
    "        rows = a_dict[key]\n",
    "        for row in rows:\n",
    "            X.append(row[filter_rows])\n",
    "            y.append(key)\n",
    "    return X,y"
   ]
  },
  {
   "cell_type": "code",
   "execution_count": 15,
   "metadata": {},
   "outputs": [],
   "source": [
    "X_train,y_train = get_data_from_dict(trainset)\n",
    "X_test,y_test = get_data_from_dict(testset)"
   ]
  },
  {
   "cell_type": "code",
   "execution_count": 16,
   "metadata": {
    "scrolled": true
   },
   "outputs": [
    {
     "name": "stdout",
     "output_type": "stream",
     "text": [
      "8\n",
      "182\n"
     ]
    }
   ],
   "source": [
    "print(y_test.count(4))\n",
    "print(len(X_train[0]))"
   ]
  },
  {
   "cell_type": "markdown",
   "metadata": {},
   "source": [
    "### Train decision tree\n"
   ]
  },
  {
   "cell_type": "code",
   "execution_count": 17,
   "metadata": {},
   "outputs": [
    {
     "name": "stdout",
     "output_type": "stream",
     "text": [
      "Accuracy of Decision Tree classifier on training set: 1.00\n",
      "Accuracy of Decision Tree classifier on test set: 0.45\n"
     ]
    }
   ],
   "source": [
    "from sklearn.tree import DecisionTreeClassifier\n",
    "from sklearn import tree\n",
    "clf = DecisionTreeClassifier(random_state=SEED).fit(X_train, y_train)\n",
    "\n",
    "print('Accuracy of Decision Tree classifier on training set: {:.2f}'\n",
    "     .format(clf.score(X_train, y_train)))\n",
    "print('Accuracy of Decision Tree classifier on test set: {:.2f}'\n",
    "     .format(clf.score(X_test, y_test)))"
   ]
  },
  {
   "cell_type": "code",
   "execution_count": 18,
   "metadata": {},
   "outputs": [],
   "source": [
    "import graphviz\n",
    "import os\n",
    "os.environ[\"PATH\"] += os.pathsep + 'C:\\\\Program Files (x86)\\\\Graphviz2.38\\\\bin\\\\'"
   ]
  },
  {
   "cell_type": "code",
   "execution_count": 19,
   "metadata": {},
   "outputs": [
    {
     "data": {
      "text/plain": [
       "'test-output/tree_phases_5_classes_before_after_blocks.gv.pdf'"
      ]
     },
     "execution_count": 19,
     "metadata": {},
     "output_type": "execute_result"
    }
   ],
   "source": [
    "dot_data = tree.export_graphviz(clf, class_names=['1', '2','3','4','5'], out_file=None,max_depth=4)\n",
    "graph = graphviz.Source(dot_data)\n",
    "graph.render('test-output/tree_phases_5_classes_before_after_blocks.gv', view=True)"
   ]
  },
  {
   "cell_type": "code",
   "execution_count": 20,
   "metadata": {},
   "outputs": [
    {
     "name": "stdout",
     "output_type": "stream",
     "text": [
      "[[ 7  1  2  1  8]\n",
      " [ 1  3  0  0  4]\n",
      " [ 2  2 13  0  6]\n",
      " [ 0  0  1  4  3]\n",
      " [ 9  2  6  1 13]]\n",
      "              precision    recall  f1-score   support\n",
      "\n",
      "           1       0.37      0.37      0.37        19\n",
      "           2       0.38      0.38      0.38         8\n",
      "           3       0.59      0.57      0.58        23\n",
      "           4       0.67      0.50      0.57         8\n",
      "           5       0.38      0.42      0.40        31\n",
      "\n",
      "   micro avg       0.45      0.45      0.45        89\n",
      "   macro avg       0.48      0.45      0.46        89\n",
      "weighted avg       0.46      0.45      0.45        89\n",
      "\n"
     ]
    }
   ],
   "source": [
    "pred = clf.predict(X_test)\n",
    "print(confusion_matrix(y_test, pred))\n",
    "print(classification_report(y_test, pred))"
   ]
  },
  {
   "cell_type": "markdown",
   "metadata": {},
   "source": [
    "### Train without stem"
   ]
  },
  {
   "cell_type": "code",
   "execution_count": 21,
   "metadata": {},
   "outputs": [],
   "source": [
    "from sklearn.svm import SVC\n",
    "from sklearn.model_selection import StratifiedShuffleSplit\n",
    "from sklearn.model_selection import GridSearchCV"
   ]
  },
  {
   "cell_type": "code",
   "execution_count": 22,
   "metadata": {},
   "outputs": [
    {
     "name": "stdout",
     "output_type": "stream",
     "text": [
      "Accuracy of K-NN classifier on training set: 0.64\n",
      "Accuracy of K-NN classifier on test set: 0.53\n"
     ]
    }
   ],
   "source": [
    "from sklearn.neighbors import KNeighborsClassifier\n",
    "\n",
    "knn = KNeighborsClassifier()\n",
    "knn.fit(X_train, y_train)\n",
    "print('Accuracy of K-NN classifier on training set: {:.2f}'\n",
    "     .format(knn.score(X_train, y_train)))\n",
    "print('Accuracy of K-NN classifier on test set: {:.2f}'\n",
    "     .format(knn.score(X_test, y_test)))"
   ]
  },
  {
   "cell_type": "code",
   "execution_count": 23,
   "metadata": {},
   "outputs": [
    {
     "name": "stdout",
     "output_type": "stream",
     "text": [
      "[[11  4  1  1  2]\n",
      " [ 1  0  2  3  2]\n",
      " [ 5  0 18  0  0]\n",
      " [ 1  0  3  2  2]\n",
      " [ 7  1  6  1 16]]\n",
      "              precision    recall  f1-score   support\n",
      "\n",
      "           1       0.44      0.58      0.50        19\n",
      "           2       0.00      0.00      0.00         8\n",
      "           3       0.60      0.78      0.68        23\n",
      "           4       0.29      0.25      0.27         8\n",
      "           5       0.73      0.52      0.60        31\n",
      "\n",
      "   micro avg       0.53      0.53      0.53        89\n",
      "   macro avg       0.41      0.43      0.41        89\n",
      "weighted avg       0.53      0.53      0.52        89\n",
      "\n"
     ]
    }
   ],
   "source": [
    "pred = knn.predict(X_test)\n",
    "print(confusion_matrix(y_test, pred))\n",
    "print(classification_report(y_test, pred))"
   ]
  },
  {
   "cell_type": "code",
   "execution_count": 24,
   "metadata": {},
   "outputs": [
    {
     "name": "stdout",
     "output_type": "stream",
     "text": [
      "Accuracy of GNB classifier on training set: 0.49\n",
      "Accuracy of GNB classifier on test set: 0.31\n"
     ]
    }
   ],
   "source": [
    "from sklearn.naive_bayes import GaussianNB\n",
    "\n",
    "gnb = GaussianNB()\n",
    "gnb.fit(X_train, y_train)\n",
    "print('Accuracy of GNB classifier on training set: {:.2f}'\n",
    "     .format(gnb.score(X_train, y_train)))\n",
    "print('Accuracy of GNB classifier on test set: {:.2f}'\n",
    "     .format(gnb.score(X_test, y_test)))"
   ]
  },
  {
   "cell_type": "code",
   "execution_count": 25,
   "metadata": {},
   "outputs": [
    {
     "name": "stdout",
     "output_type": "stream",
     "text": [
      "[[4 4 3 5 3]\n",
      " [1 3 1 3 0]\n",
      " [2 5 9 6 1]\n",
      " [0 3 1 4 0]\n",
      " [5 7 3 8 8]]\n",
      "              precision    recall  f1-score   support\n",
      "\n",
      "           1       0.33      0.21      0.26        19\n",
      "           2       0.14      0.38      0.20         8\n",
      "           3       0.53      0.39      0.45        23\n",
      "           4       0.15      0.50      0.24         8\n",
      "           5       0.67      0.26      0.37        31\n",
      "\n",
      "   micro avg       0.31      0.31      0.31        89\n",
      "   macro avg       0.36      0.35      0.30        89\n",
      "weighted avg       0.47      0.31      0.34        89\n",
      "\n"
     ]
    }
   ],
   "source": [
    "pred = gnb.predict(X_test)\n",
    "print(confusion_matrix(y_test, pred))\n",
    "print(classification_report(y_test, pred))"
   ]
  },
  {
   "cell_type": "markdown",
   "metadata": {},
   "source": [
    "C_range = np.logspace(-2, 10, 13)\n",
    "gamma_range = np.logspace(-9, 3, 13)\n",
    "param_grid = dict(gamma=gamma_range, C=C_range)\n",
    "cv = StratifiedShuffleSplit(n_splits=5, test_size=0.2, random_state=42)\n",
    "grid = GridSearchCV(SVC(), param_grid=param_grid, cv=cv)\n",
    "grid.fit(X_train, y_train)\n",
    "\n",
    "print(\"The best parameters are %s with a score of %0.2f\"\n",
    "      % (grid.best_params_, grid.best_score_))\n"
   ]
  },
  {
   "cell_type": "code",
   "execution_count": 26,
   "metadata": {},
   "outputs": [
    {
     "name": "stdout",
     "output_type": "stream",
     "text": [
      "Accuracy of SVM classifier on training set: 0.99\n",
      "Accuracy of SVM classifier on test set: 0.51\n"
     ]
    }
   ],
   "source": [
    "svm = SVC(decision_function_shape='ovr',gamma=1,kernel='rbf',random_state=SEED,C= 100.0)#class_weight={1:0.8,2:0.4,3:0.7,5:1})\n",
    "svm.fit(X_train, y_train)\n",
    "print('Accuracy of SVM classifier on training set: {:.2f}'\n",
    "     .format(svm.score(X_train, y_train)))\n",
    "print('Accuracy of SVM classifier on test set: {:.2f}'\n",
    "     .format(svm.score(X_test, y_test)))"
   ]
  },
  {
   "cell_type": "code",
   "execution_count": 27,
   "metadata": {
    "scrolled": false
   },
   "outputs": [
    {
     "name": "stdout",
     "output_type": "stream",
     "text": [
      "[[15  0  1  0  3]\n",
      " [ 2  1  0  4  1]\n",
      " [ 2  0 14  1  6]\n",
      " [ 1  1  2  1  3]\n",
      " [ 7  4  3  3 14]]\n",
      "              precision    recall  f1-score   support\n",
      "\n",
      "           1       0.56      0.79      0.65        19\n",
      "           2       0.17      0.12      0.14         8\n",
      "           3       0.70      0.61      0.65        23\n",
      "           4       0.11      0.12      0.12         8\n",
      "           5       0.52      0.45      0.48        31\n",
      "\n",
      "   micro avg       0.51      0.51      0.51        89\n",
      "   macro avg       0.41      0.42      0.41        89\n",
      "weighted avg       0.51      0.51      0.50        89\n",
      "\n"
     ]
    }
   ],
   "source": [
    "pred = svm.predict(X_test)\n",
    "print(confusion_matrix(y_test, pred))\n",
    "print(classification_report(y_test, pred))"
   ]
  },
  {
   "cell_type": "code",
   "execution_count": 28,
   "metadata": {},
   "outputs": [
    {
     "name": "stdout",
     "output_type": "stream",
     "text": [
      "Accuracy of SVM classifier on training set: 0.63\n",
      "Accuracy of SVM classifier on test set: 0.54\n"
     ]
    }
   ],
   "source": [
    "from sklearn.svm import LinearSVC\n",
    "svc = LinearSVC(random_state=SEED,max_iter=3000)#,class_weight={1:0.4,2:0.4,3:0.4,4:0.5,5:0.3})\n",
    "svc.fit(X_train, y_train)\n",
    "print('Accuracy of SVM classifier on training set: {:.2f}'\n",
    "     .format(svc.score(X_train, y_train)))\n",
    "print('Accuracy of SVM classifier on test set: {:.2f}'\n",
    "     .format(svc.score(X_test, y_test)))"
   ]
  },
  {
   "cell_type": "code",
   "execution_count": 29,
   "metadata": {
    "scrolled": false
   },
   "outputs": [
    {
     "name": "stdout",
     "output_type": "stream",
     "text": [
      "[[11  0  3  0  5]\n",
      " [ 1  0  0  4  3]\n",
      " [ 5  0 15  0  3]\n",
      " [ 0  0  1  2  5]\n",
      " [ 7  0  1  3 20]]\n",
      "              precision    recall  f1-score   support\n",
      "\n",
      "           1       0.46      0.58      0.51        19\n",
      "           2       0.00      0.00      0.00         8\n",
      "           3       0.75      0.65      0.70        23\n",
      "           4       0.22      0.25      0.24         8\n",
      "           5       0.56      0.65      0.60        31\n",
      "\n",
      "   micro avg       0.54      0.54      0.54        89\n",
      "   macro avg       0.40      0.43      0.41        89\n",
      "weighted avg       0.51      0.54      0.52        89\n",
      "\n"
     ]
    },
    {
     "name": "stderr",
     "output_type": "stream",
     "text": [
      "C:\\Users\\CATALINA ESPINOZA\\AppData\\Local\\conda\\conda\\envs\\teacher_topic_model\\lib\\site-packages\\sklearn\\metrics\\classification.py:1143: UndefinedMetricWarning: Precision and F-score are ill-defined and being set to 0.0 in labels with no predicted samples.\n",
      "  'precision', 'predicted', average, warn_for)\n"
     ]
    }
   ],
   "source": [
    "pred = svc.predict(X_test)\n",
    "print(confusion_matrix(y_test, pred))\n",
    "print(classification_report(y_test, pred))"
   ]
  },
  {
   "cell_type": "markdown",
   "metadata": {},
   "source": [
    "### Optimize params"
   ]
  },
  {
   "cell_type": "raw",
   "metadata": {},
   "source": [
    "C_range = np.logspace(-2, 10, 13)\n",
    "gamma_range = np.logspace(-9, 3, 13)\n",
    "param_grid = dict(gamma=gamma_range, C=C_range)\n",
    "cv = StratifiedShuffleSplit(n_splits=5, test_size=0.2, random_state=42)\n",
    "grid = GridSearchCV(SVC(random_state=SEED), param_grid=param_grid, cv=cv)\n",
    "grid.fit(X_train, y_train)\n",
    "\n",
    "print(\"The best parameters are %s with a score of %0.2f\"\n",
    "      % (grid.best_params_, grid.best_score_))\n"
   ]
  },
  {
   "cell_type": "raw",
   "metadata": {},
   "source": [
    "svm = SVC(decision_function_shape='ovr',gamma=1e-05,C= 1000000.0, random_state=42)#random_state=SEED,class_weight={1:0.8,2:0.4,3:0.7,5:1})\n",
    "svm.fit(X_train, y_train)\n",
    "\n",
    "print('Accuracy of SVM classifier on training set: {:.2f}'\n",
    "     .format(svm.score(X_train, y_train)))\n",
    "print('Accuracy of SVM classifier on test set: {:.2f}'\n",
    "     .format(svm.score(X_test, y_test)))"
   ]
  },
  {
   "cell_type": "raw",
   "metadata": {
    "scrolled": false
   },
   "source": [
    "pred = svm.predict(X_test)\n",
    "print(confusion_matrix(y_test, pred))\n",
    "print(classification_report(y_test, pred))"
   ]
  },
  {
   "cell_type": "markdown",
   "metadata": {},
   "source": [
    "### Build classifier per class"
   ]
  },
  {
   "cell_type": "code",
   "execution_count": 36,
   "metadata": {},
   "outputs": [],
   "source": [
    "def get_data_from_dict_filter(a_dict,filter_phase):\n",
    "    y = []\n",
    "    X = []\n",
    "    for key in a_dict:\n",
    "        rows = a_dict[key]\n",
    "        for row in rows:\n",
    "            X.append(row[filter_rows])\n",
    "            if filter_phase == key:\n",
    "                y.append(key)\n",
    "            else:\n",
    "                y.append(0)\n",
    "    return X,y"
   ]
  },
  {
   "cell_type": "markdown",
   "metadata": {},
   "source": [
    "### classify class 1"
   ]
  },
  {
   "cell_type": "code",
   "execution_count": 71,
   "metadata": {},
   "outputs": [],
   "source": [
    "#trainset,testset = split_sets_key(clean_phrases,1)\n",
    "X_train,y_train = get_data_from_dict_filter(trainset,1)\n",
    "X_test,y_test = get_data_from_dict_filter(testset,1)"
   ]
  },
  {
   "cell_type": "markdown",
   "metadata": {
    "collapsed": true
   },
   "source": [
    "C_range = np.logspace(-2, 10, 13)\n",
    "gamma_range = np.logspace(-9, 3, 13)\n",
    "param_grid = dict(gamma=gamma_range, C=C_range)\n",
    "cv = StratifiedShuffleSplit(n_splits=5, test_size=0.2, random_state=42)\n",
    "grid = GridSearchCV(SVC(), param_grid=param_grid, cv=cv)\n",
    "grid.fit(X_train, y_train)\n",
    "print(\"The best parameters are %s with a score of %0.2f\"\n",
    "      % (grid.best_params_, grid.best_score_))"
   ]
  },
  {
   "cell_type": "code",
   "execution_count": 72,
   "metadata": {},
   "outputs": [
    {
     "name": "stdout",
     "output_type": "stream",
     "text": [
      "Accuracy of SVM classifier on training set: 0.86\n",
      "Accuracy of SVM classifier on test set: 0.75\n",
      "[[29  9]\n",
      " [ 4  9]]\n",
      "              precision    recall  f1-score   support\n",
      "\n",
      "           0       0.88      0.76      0.82        38\n",
      "           1       0.50      0.69      0.58        13\n",
      "\n",
      "   micro avg       0.75      0.75      0.75        51\n",
      "   macro avg       0.69      0.73      0.70        51\n",
      "weighted avg       0.78      0.75      0.76        51\n",
      "\n"
     ]
    }
   ],
   "source": [
    "svm = SVC(decision_function_shape='ovr',gamma=1e-05,C= 10000000.0, random_state=SEED,class_weight={0:0.3,1:0.7})\n",
    "svm.fit(X_train, y_train)\n",
    "print('Accuracy of SVM classifier on training set: {:.2f}'\n",
    "     .format(svm.score(X_train, y_train)))\n",
    "print('Accuracy of SVM classifier on test set: {:.2f}'\n",
    "     .format(svm.score(X_test, y_test)))\n",
    "pred = svm.predict(X_test)\n",
    "print(confusion_matrix(y_test, pred))\n",
    "print(classification_report(y_test, pred))"
   ]
  },
  {
   "cell_type": "code",
   "execution_count": 73,
   "metadata": {},
   "outputs": [
    {
     "name": "stdout",
     "output_type": "stream",
     "text": [
      "Accuracy of SVM classifier on training set: 0.83\n",
      "Accuracy of SVM classifier on test set: 0.73\n",
      "[[34  4]\n",
      " [10  3]]\n",
      "              precision    recall  f1-score   support\n",
      "\n",
      "           0       0.77      0.89      0.83        38\n",
      "           1       0.43      0.23      0.30        13\n",
      "\n",
      "   micro avg       0.73      0.73      0.73        51\n",
      "   macro avg       0.60      0.56      0.56        51\n",
      "weighted avg       0.69      0.73      0.69        51\n",
      "\n"
     ]
    }
   ],
   "source": [
    "svm = LinearSVC(random_state=SEED)#,class_weight={0:0.3,1:0.7})\n",
    "svm.fit(X_train, y_train)\n",
    "print('Accuracy of SVM classifier on training set: {:.2f}'\n",
    "     .format(svm.score(X_train, y_train)))\n",
    "print('Accuracy of SVM classifier on test set: {:.2f}'\n",
    "     .format(svm.score(X_test, y_test)))\n",
    "pred = svm.predict(X_test)\n",
    "print(confusion_matrix(y_test, pred))\n",
    "print(classification_report(y_test, pred))"
   ]
  },
  {
   "cell_type": "markdown",
   "metadata": {},
   "source": [
    "### classify class 2"
   ]
  },
  {
   "cell_type": "code",
   "execution_count": 64,
   "metadata": {},
   "outputs": [],
   "source": [
    "X_train,y_train = get_data_from_dict_filter(trainset,2)\n",
    "X_test,y_test = get_data_from_dict_filter(testset,2)"
   ]
  },
  {
   "cell_type": "markdown",
   "metadata": {
    "collapsed": true
   },
   "source": [
    "\n",
    "C_range = np.logspace(-2, 10, 13)\n",
    "gamma_range = np.logspace(-9, 3, 13)\n",
    "param_grid = dict(gamma=gamma_range, C=C_range)\n",
    "cv = StratifiedShuffleSplit(n_splits=5, test_size=0.2, random_state=42)\n",
    "grid = GridSearchCV(SVC(), param_grid=param_grid, cv=cv)\n",
    "grid.fit(X_train, y_train)\n",
    "print(\"The best parameters are %s with a score of %0.2f\"\n",
    "      % (grid.best_params_, grid.best_score_))"
   ]
  },
  {
   "cell_type": "code",
   "execution_count": 70,
   "metadata": {},
   "outputs": [
    {
     "name": "stdout",
     "output_type": "stream",
     "text": [
      "Accuracy of SVM classifier on training set: 1.00\n",
      "Accuracy of SVM classifier on test set: 0.90\n",
      "[[45  3]\n",
      " [ 2  1]]\n",
      "              precision    recall  f1-score   support\n",
      "\n",
      "           0       0.96      0.94      0.95        48\n",
      "           2       0.25      0.33      0.29         3\n",
      "\n",
      "   micro avg       0.90      0.90      0.90        51\n",
      "   macro avg       0.60      0.64      0.62        51\n",
      "weighted avg       0.92      0.90      0.91        51\n",
      "\n"
     ]
    }
   ],
   "source": [
    "svm = SVC(decision_function_shape='ovr',gamma='scale',C= 10000000.0, random_state=SEED,class_weight={0:0.06,2:3.93})#,class_weight={0:0.3,1:0.7})\n",
    "svm.fit(X_train, y_train)\n",
    "print('Accuracy of SVM classifier on training set: {:.2f}'\n",
    "     .format(svm.score(X_train, y_train)))\n",
    "print('Accuracy of SVM classifier on test set: {:.2f}'\n",
    "     .format(svm.score(X_test, y_test)))\n",
    "pred = svm.predict(X_test)\n",
    "print(confusion_matrix(y_test, pred))\n",
    "print(classification_report(y_test, pred))"
   ]
  },
  {
   "cell_type": "markdown",
   "metadata": {},
   "source": [
    "### Classify class 3"
   ]
  },
  {
   "cell_type": "code",
   "execution_count": 60,
   "metadata": {},
   "outputs": [],
   "source": [
    "X_train,y_train = get_data_from_dict_filter(trainset,3)\n",
    "X_test,y_test = get_data_from_dict_filter(testset,3)"
   ]
  },
  {
   "cell_type": "code",
   "execution_count": 61,
   "metadata": {},
   "outputs": [
    {
     "name": "stdout",
     "output_type": "stream",
     "text": [
      "Accuracy of SVM classifier on training set: 0.90\n",
      "Accuracy of SVM classifier on test set: 0.75\n",
      "[[27 10]\n",
      " [ 3 11]]\n",
      "              precision    recall  f1-score   support\n",
      "\n",
      "           0       0.90      0.73      0.81        37\n",
      "           3       0.52      0.79      0.63        14\n",
      "\n",
      "   micro avg       0.75      0.75      0.75        51\n",
      "   macro avg       0.71      0.76      0.72        51\n",
      "weighted avg       0.80      0.75      0.76        51\n",
      "\n"
     ]
    }
   ],
   "source": [
    "svm = SVC(decision_function_shape='ovr',gamma=1e-05,C= 10000000.0, random_state=SEED,class_weight={0:0.36,3:0.63})#,class_weight={0:0.3,1:0.7})\n",
    "svm.fit(X_train, y_train)\n",
    "print('Accuracy of SVM classifier on training set: {:.2f}'\n",
    "     .format(svm.score(X_train, y_train)))\n",
    "print('Accuracy of SVM classifier on test set: {:.2f}'\n",
    "     .format(svm.score(X_test, y_test)))\n",
    "pred = svm.predict(X_test)\n",
    "print(confusion_matrix(y_test, pred))\n",
    "print(classification_report(y_test, pred))"
   ]
  },
  {
   "cell_type": "markdown",
   "metadata": {},
   "source": [
    "### Classify class 4"
   ]
  },
  {
   "cell_type": "code",
   "execution_count": 59,
   "metadata": {},
   "outputs": [
    {
     "name": "stdout",
     "output_type": "stream",
     "text": [
      "Accuracy of SVM classifier on training set: 1.00\n",
      "Accuracy of SVM classifier on test set: 0.98\n",
      "[[49  0]\n",
      " [ 1  1]]\n",
      "              precision    recall  f1-score   support\n",
      "\n",
      "           0       0.98      1.00      0.99        49\n",
      "           4       1.00      0.50      0.67         2\n",
      "\n",
      "   micro avg       0.98      0.98      0.98        51\n",
      "   macro avg       0.99      0.75      0.83        51\n",
      "weighted avg       0.98      0.98      0.98        51\n",
      "\n"
     ]
    }
   ],
   "source": [
    "X_train,y_train = get_data_from_dict_filter(trainset,4)\n",
    "X_test,y_test = get_data_from_dict_filter(testset,4)\n",
    "svm = SVC(decision_function_shape='ovr',gamma=1e-05,C= 10000000.0, random_state=SEED,class_weight={0:0.36,4:0.63})#,class_weight={0:0.3,1:0.7})\n",
    "svm.fit(X_train, y_train)\n",
    "print('Accuracy of SVM classifier on training set: {:.2f}'\n",
    "     .format(svm.score(X_train, y_train)))\n",
    "print('Accuracy of SVM classifier on test set: {:.2f}'\n",
    "     .format(svm.score(X_test, y_test)))\n",
    "pred = svm.predict(X_test)\n",
    "print(confusion_matrix(y_test, pred))\n",
    "print(classification_report(y_test, pred))"
   ]
  },
  {
   "cell_type": "markdown",
   "metadata": {},
   "source": [
    "### classify class 5"
   ]
  },
  {
   "cell_type": "code",
   "execution_count": 110,
   "metadata": {
    "scrolled": true
   },
   "outputs": [
    {
     "name": "stdout",
     "output_type": "stream",
     "text": [
      "63.03317535545024\n"
     ]
    }
   ],
   "source": [
    "X_train,y_train = get_data_from_dict_filter(trainset,5)\n",
    "X_test,y_test = get_data_from_dict_filter(testset,5)\n",
    "print(y_train.count(0)*100.0/len(y_train))"
   ]
  },
  {
   "cell_type": "markdown",
   "metadata": {},
   "source": [
    "C_range = np.logspace(-2, 10, 13)\n",
    "gamma_range = np.logspace(-9, 3, 13)\n",
    "param_grid = dict(gamma=gamma_range, C=C_range)\n",
    "cv = StratifiedShuffleSplit(n_splits=5, test_size=0.2, random_state=42)\n",
    "grid = GridSearchCV(SVC(), param_grid=param_grid, cv=cv)\n",
    "grid.fit(X_train, y_train)\n",
    "print(\"The best parameters are %s with a score of %0.2f\"\n",
    "      % (grid.best_params_, grid.best_score_))\n"
   ]
  },
  {
   "cell_type": "code",
   "execution_count": 111,
   "metadata": {
    "scrolled": true
   },
   "outputs": [
    {
     "name": "stdout",
     "output_type": "stream",
     "text": [
      "Accuracy of SVM classifier on training set: 0.81\n",
      "Accuracy of SVM classifier on test set: 0.63\n",
      "[[25  7]\n",
      " [12  7]]\n",
      "              precision    recall  f1-score   support\n",
      "\n",
      "           0       0.68      0.78      0.72        32\n",
      "           5       0.50      0.37      0.42        19\n",
      "\n",
      "   micro avg       0.63      0.63      0.63        51\n",
      "   macro avg       0.59      0.57      0.57        51\n",
      "weighted avg       0.61      0.63      0.61        51\n",
      "\n"
     ]
    }
   ],
   "source": [
    "svm = SVC(decision_function_shape='ovr',gamma=1e-05,C= 10000000.0, random_state=SEED,probability=True)#,class_weight={0:0.3,1:0.7})\n",
    "svm.fit(X_train, y_train)\n",
    "print('Accuracy of SVM classifier on training set: {:.2f}'\n",
    "     .format(svm.score(X_train, y_train)))\n",
    "print('Accuracy of SVM classifier on test set: {:.2f}'\n",
    "     .format(svm.score(X_test, y_test)))\n",
    "pred5 = svm.predict(X_test)\n",
    "print(confusion_matrix(y_test, pred5))\n",
    "print(classification_report(y_test, pred5))"
   ]
  },
  {
   "cell_type": "code",
   "execution_count": 113,
   "metadata": {},
   "outputs": [
    {
     "name": "stdout",
     "output_type": "stream",
     "text": [
      "Accuracy of Decision Tree classifier on training set: 1.00\n",
      "Accuracy of Decision Tree classifier on test set: 0.47\n"
     ]
    },
    {
     "data": {
      "text/plain": [
       "'test-output/tree_5_classes_before_after_blocks.gv.pdf'"
      ]
     },
     "execution_count": 113,
     "metadata": {},
     "output_type": "execute_result"
    }
   ],
   "source": [
    "clf = DecisionTreeClassifier(random_state=SEED).fit(X_train, y_train)\n",
    "\n",
    "print('Accuracy of Decision Tree classifier on training set: {:.2f}'\n",
    "     .format(clf.score(X_train, y_train)))\n",
    "print('Accuracy of Decision Tree classifier on test set: {:.2f}'\n",
    "     .format(clf.score(X_test, y_test)))\n",
    "dot_data = tree.export_graphviz(clf, class_names=['0','5'], out_file=None,max_depth=4)\n",
    "graph = graphviz.Source(dot_data)\n",
    "graph.render('test-output/tree_5_classes_before_after_blocks.gv', view=True)"
   ]
  },
  {
   "cell_type": "code",
   "execution_count": 58,
   "metadata": {},
   "outputs": [
    {
     "name": "stdout",
     "output_type": "stream",
     "text": [
      "Accuracy of SVM classifier on training set: 0.81\n",
      "Accuracy of SVM classifier on test set: 0.65\n",
      "[[27  5]\n",
      " [13  6]]\n",
      "              precision    recall  f1-score   support\n",
      "\n",
      "           0       0.68      0.84      0.75        32\n",
      "           5       0.55      0.32      0.40        19\n",
      "\n",
      "   micro avg       0.65      0.65      0.65        51\n",
      "   macro avg       0.61      0.58      0.57        51\n",
      "weighted avg       0.63      0.65      0.62        51\n",
      "\n"
     ]
    }
   ],
   "source": [
    "svm = SVC(decision_function_shape='ovr',gamma='scale',C=100,random_state=SEED,probability=True)#,class_weight={0:0.3,1:0.7})\n",
    "svm.fit(X_train, y_train)\n",
    "print('Accuracy of SVM classifier on training set: {:.2f}'\n",
    "     .format(svm.score(X_train, y_train)))\n",
    "print('Accuracy of SVM classifier on test set: {:.2f}'\n",
    "     .format(svm.score(X_test, y_test)))\n",
    "pred5 = svm.predict(X_test)\n",
    "print(confusion_matrix(y_test, pred5))\n",
    "print(classification_report(y_test, pred5))"
   ]
  },
  {
   "cell_type": "code",
   "execution_count": 48,
   "metadata": {},
   "outputs": [
    {
     "data": {
      "text/plain": [
       "[(array([0.79348814, 0.20651186]), 0, 0),\n",
       " (array([0.48619073, 0.51380927]), 5, 0),\n",
       " (array([0.7292252, 0.2707748]), 0, 0),\n",
       " (array([0.71984232, 0.28015768]), 0, 0),\n",
       " (array([0.74780275, 0.25219725]), 0, 0),\n",
       " (array([0.8469042, 0.1530958]), 0, 0),\n",
       " (array([0.66276976, 0.33723024]), 0, 0),\n",
       " (array([0.86171509, 0.13828491]), 0, 0),\n",
       " (array([0.88877352, 0.11122648]), 0, 0),\n",
       " (array([0.56234844, 0.43765156]), 0, 0),\n",
       " (array([0.78996471, 0.21003529]), 0, 0),\n",
       " (array([0.88209992, 0.11790008]), 0, 0),\n",
       " (array([0.30077176, 0.69922824]), 5, 0),\n",
       " (array([0.61787374, 0.38212626]), 0, 0),\n",
       " (array([0.85438009, 0.14561991]), 0, 0),\n",
       " (array([0.74379469, 0.25620531]), 0, 0),\n",
       " (array([0.47778764, 0.52221236]), 5, 0),\n",
       " (array([0.71098029, 0.28901971]), 0, 0),\n",
       " (array([0.59815393, 0.40184607]), 0, 0),\n",
       " (array([0.93932739, 0.06067261]), 0, 0),\n",
       " (array([0.74173037, 0.25826963]), 0, 0),\n",
       " (array([0.89115358, 0.10884642]), 0, 0),\n",
       " (array([0.93299114, 0.06700886]), 0, 0),\n",
       " (array([0.89724232, 0.10275768]), 0, 0),\n",
       " (array([0.9253895, 0.0746105]), 0, 0),\n",
       " (array([0.94742238, 0.05257762]), 0, 0),\n",
       " (array([0.91155492, 0.08844508]), 0, 0),\n",
       " (array([0.60847257, 0.39152743]), 0, 0),\n",
       " (array([0.46911277, 0.53088723]), 5, 0),\n",
       " (array([0.83539792, 0.16460208]), 0, 0),\n",
       " (array([0.44038038, 0.55961962]), 5, 0),\n",
       " (array([0.9173228, 0.0826772]), 0, 0),\n",
       " (array([0.6381774, 0.3618226]), 0, 5),\n",
       " (array([0.60405244, 0.39594756]), 0, 5),\n",
       " (array([0.45067899, 0.54932101]), 5, 5),\n",
       " (array([0.56228073, 0.43771927]), 0, 5),\n",
       " (array([0.69475022, 0.30524978]), 0, 5),\n",
       " (array([0.86048327, 0.13951673]), 0, 5),\n",
       " (array([0.43355006, 0.56644994]), 5, 5),\n",
       " (array([0.64691319, 0.35308681]), 0, 5),\n",
       " (array([0.5, 0.5]), 5, 5),\n",
       " (array([0.63230415, 0.36769585]), 0, 5),\n",
       " (array([0.48033465, 0.51966535]), 5, 5),\n",
       " (array([0.61874357, 0.38125643]), 0, 5),\n",
       " (array([0.78278352, 0.21721648]), 0, 5),\n",
       " (array([0.64406189, 0.35593811]), 0, 5),\n",
       " (array([0.6824593, 0.3175407]), 0, 5),\n",
       " (array([0.52431831, 0.47568169]), 5, 5),\n",
       " (array([0.76246216, 0.23753784]), 0, 5),\n",
       " (array([0.73012403, 0.26987597]), 0, 5),\n",
       " (array([0.53146723, 0.46853277]), 5, 5)]"
      ]
     },
     "execution_count": 48,
     "metadata": {},
     "output_type": "execute_result"
    }
   ],
   "source": [
    "list(zip(svm.predict_proba(X_test),pred5,y_test))"
   ]
  },
  {
   "cell_type": "markdown",
   "metadata": {},
   "source": [
    "#### Regression\n"
   ]
  },
  {
   "cell_type": "code",
   "execution_count": 50,
   "metadata": {},
   "outputs": [],
   "source": [
    "%matplotlib inline  \n",
    "import numpy as np\n",
    "import matplotlib.pyplot as plt\n",
    "from sklearn.datasets import make_blobs\n",
    "from sklearn.linear_model import LogisticRegression\n",
    "from sklearn.decomposition import PCA"
   ]
  },
  {
   "cell_type": "code",
   "execution_count": 55,
   "metadata": {},
   "outputs": [
    {
     "name": "stdout",
     "output_type": "stream",
     "text": [
      "63.03317535545024\n"
     ]
    }
   ],
   "source": [
    "#clf = LogisticRegression(solver='liblinear', max_iter=1000, random_state=42,class_weight={0:0.36,5:0.63}).fit(X_train, y_train)\n",
    "X_train,y_train = get_data_from_dict_filter(trainset,5)\n",
    "X_test,y_test = get_data_from_dict_filter(testset,5)\n",
    "print(y_train.count(0)*100.0/len(y_train))\n",
    "clf = LogisticRegression(solver='liblinear', max_iter=1000, random_state=42,class_weight={0:0.36,5:0.63}).fit(X_train, y_train)"
   ]
  },
  {
   "cell_type": "code",
   "execution_count": 56,
   "metadata": {
    "scrolled": true
   },
   "outputs": [
    {
     "name": "stdout",
     "output_type": "stream",
     "text": [
      "[[25  7]\n",
      " [ 4 15]]\n",
      "              precision    recall  f1-score   support\n",
      "\n",
      "           0       0.86      0.78      0.82        32\n",
      "           5       0.68      0.79      0.73        19\n",
      "\n",
      "   micro avg       0.78      0.78      0.78        51\n",
      "   macro avg       0.77      0.79      0.78        51\n",
      "weighted avg       0.79      0.78      0.79        51\n",
      "\n"
     ]
    }
   ],
   "source": [
    "pred = clf.predict(X_test)\n",
    "print(confusion_matrix(y_test, pred))\n",
    "print(classification_report(y_test, pred))"
   ]
  },
  {
   "cell_type": "code",
   "execution_count": 130,
   "metadata": {},
   "outputs": [
    {
     "data": {
      "image/png": "[encoded data removed]",
      "text/plain": [
       "<Figure size 864x288 with 1 Axes>"
      ]
     },
     "metadata": {
      "needs_background": "light"
     },
     "output_type": "display_data"
    }
   ],
   "source": [
    "f = plt.figure(figsize=(12,4))\n",
    "plt.scatter(range(len(clf.coef_[0])),clf.coef_[0],s=2.3)\n",
    "out_std = [x for x in clf.coef_[0] if np.abs(x) > 0.45]\n",
    "out_std_i = [i for i,x in enumerate(clf.coef_[0]) if np.abs(x) > 0.45]\n",
    "plt.scatter(out_std_i,out_std,s=2.8)\n",
    "#plt.xticks(range(0,len(clf.coef_[0])+1,2),rotation=90)\n",
    "#plt.ylim(-1,1)\n",
    "plt.xlabel('Topic')\n",
    "plt.ylabel('Coefficient')\n",
    "plt.title('Coefficient in logistic regression classifier \\nbetween phase 5 and not phase 5')\n",
    "plt.grid()"
   ]
  },
  {
   "cell_type": "code",
   "execution_count": 49,
   "metadata": {},
   "outputs": [
    {
     "data": {
      "text/plain": [
       "0.45425204108939343"
      ]
     },
     "execution_count": 49,
     "metadata": {},
     "output_type": "execute_result"
    }
   ],
   "source": [
    "np.round(np.mean(clf.coef_[0]),4)\n",
    "np.std(clf.coef_[0])"
   ]
  },
  {
   "cell_type": "markdown",
   "metadata": {},
   "source": [
    "### Important Topics"
   ]
  },
  {
   "cell_type": "code",
   "execution_count": 131,
   "metadata": {
    "scrolled": true
   },
   "outputs": [
    {
     "name": "stderr",
     "output_type": "stream",
     "text": [
      "C:\\Users\\CATALINA ESPINOZA\\AppData\\Local\\conda\\conda\\envs\\teacher_topic_model\\lib\\site-packages\\gensim\\utils.py:1209: UserWarning: detected Windows; aliasing chunkize to chunkize_serial\n",
      "  warnings.warn(\"detected Windows; aliasing chunkize to chunkize_serial\")\n"
     ]
    }
   ],
   "source": [
    "a_name = 'lda_textbooks_chunksize_alpha_auto_seed_{}_{}_{}_{}.pickle'.format(SEED,num_topics,REMOVE_STOPWORDS,WITH_STEMMING)\n",
    "model_file = os.path.join(results_path,'lda_models',a_name)\n",
    "with open(model_file,'rb') as f:\n",
    "    ldamodel = pickle.load(f)"
   ]
  },
  {
   "cell_type": "code",
   "execution_count": 132,
   "metadata": {},
   "outputs": [],
   "source": [
    "les_ids = np.argsort(np.abs(clf.coef_[0]))[-20:]"
   ]
  },
  {
   "cell_type": "code",
   "execution_count": 133,
   "metadata": {
    "scrolled": true
   },
   "outputs": [
    {
     "data": {
      "text/plain": [
       "[(99, -0.6815322803154235),\n",
       " (146, -0.7171967159647431),\n",
       " (86, -0.7337224145596986),\n",
       " (149, -0.7475518935972536),\n",
       " (29, -0.7478563624813036),\n",
       " (3, -0.7632775678656876),\n",
       " (123, -0.764096928595131),\n",
       " (63, -0.7645231879861699),\n",
       " (89, -0.7674327716717719),\n",
       " (90, 0.8550722660477563),\n",
       " (150, 0.8720556724783496),\n",
       " (26, -0.8736327238736886),\n",
       " (30, 0.9188805895423755),\n",
       " (43, -1.09630313428274),\n",
       " (163, -1.1047489733133293),\n",
       " (103, -1.1379291483525755),\n",
       " (153, -1.2802503956679847),\n",
       " (93, -1.2862417020779864),\n",
       " (33, -1.3056465843393474),\n",
       " (181, 1.5762875761075135)]"
      ]
     },
     "execution_count": 133,
     "metadata": {},
     "output_type": "execute_result"
    }
   ],
   "source": [
    "list(zip(np.argsort(np.abs(clf.coef_[0]))[-20:],clf.coef_[0][les_ids]))"
   ]
  },
  {
   "cell_type": "code",
   "execution_count": 57,
   "metadata": {},
   "outputs": [
    {
     "name": "stdout",
     "output_type": "stream",
     "text": [
      "utterance_Topic_44\n",
      "utterance_after_Topic_34\n",
      "utterance_Topic_34\n",
      "utterance_before_Topic_34\n",
      "phase_1\n"
     ]
    }
   ],
   "source": [
    "print(df.columns[103])\n",
    "print(df.columns[153])\n",
    "print(df.columns[93])\n",
    "print(df.columns[33])\n",
    "print(df.columns[181])"
   ]
  },
  {
   "cell_type": "markdown",
   "metadata": {},
   "source": [
    "Topics"
   ]
  },
  {
   "cell_type": "code",
   "execution_count": 55,
   "metadata": {},
   "outputs": [
    {
     "data": {
      "text/plain": [
       "[('NUMBER', 0.6798587),\n",
       " ('a', 0.08793937),\n",
       " ('b', 0.07294916),\n",
       " ('c', 0.04292229),\n",
       " ('d', 0.022924542),\n",
       " ('lask', 0.007425218),\n",
       " ('+', 0.005417729),\n",
       " ('yhtälö', 0.003409941),\n",
       " ('kirj', 0.00226472),\n",
       " ('A_NAME', 0.002003389)]"
      ]
     },
     "execution_count": 55,
     "metadata": {},
     "output_type": "execute_result"
    }
   ],
   "source": [
    "ldamodel.show_topic(33)"
   ]
  },
  {
   "cell_type": "code",
   "execution_count": 118,
   "metadata": {
    "scrolled": true
   },
   "outputs": [
    {
     "data": {
      "text/plain": [
       "[('EQUAL_SYMBOL', 0.16383563),\n",
       " ('n', 0.10167014),\n",
       " ('e', 0.08339013),\n",
       " ('NUMBER', 0.07767182),\n",
       " ('v', 0.050334003),\n",
       " ('k', 0.05002136),\n",
       " ('s', 0.045941617),\n",
       " ('m', 0.044747524),\n",
       " ('T_', 0.04445801),\n",
       " ('o', 0.035047248)]"
      ]
     },
     "execution_count": 118,
     "metadata": {},
     "output_type": "execute_result"
    }
   ],
   "source": [
    "ldamodel.show_topic(43)"
   ]
  },
  {
   "cell_type": "code",
   "execution_count": 131,
   "metadata": {
    "scrolled": true
   },
   "outputs": [
    {
     "data": {
      "text/plain": [
       "[('a', 0.0762239),\n",
       " ('b', 0.031992134),\n",
       " ('c', 0.026608875),\n",
       " ('e', 0.023899583),\n",
       " ('oike', 0.01626492),\n",
       " ('kuva', 0.014383731),\n",
       " ('rin', 0.014164257),\n",
       " ('tulo', 0.012914545),\n",
       " ('kirj', 0.012067141),\n",
       " ('suuremp', 0.0119486265)]"
      ]
     },
     "execution_count": 131,
     "metadata": {},
     "output_type": "execute_result"
    }
   ],
   "source": [
    "ldamodel.show_topic(30)"
   ]
  },
  {
   "cell_type": "markdown",
   "metadata": {},
   "source": [
    "### Plot phrases"
   ]
  },
  {
   "cell_type": "code",
   "execution_count": 74,
   "metadata": {},
   "outputs": [
    {
     "name": "stdout",
     "output_type": "stream",
     "text": [
      "211\n",
      "182\n"
     ]
    }
   ],
   "source": [
    "print(len(X_train))\n",
    "print(len(X_train[0]))"
   ]
  },
  {
   "cell_type": "code",
   "execution_count": 75,
   "metadata": {},
   "outputs": [],
   "source": [
    "amat2 = np.ones((len(X_train[0]),len(X_train)))\n",
    "for i in range(len(X_train[0])):\n",
    "    lali = []\n",
    "    for element in X_train:\n",
    "        lali.append(element[i])\n",
    "    amat2[i,:] =np.array(lali)\n",
    "    \n",
    "means = [np.mean(amat2[i]) for i in range(len(X_train[0]))]\n",
    "\n",
    "X_train_centered = []\n",
    "for i in range(len(X_train)):\n",
    "    row = []\n",
    "    for j in range(len(X_train[0])):\n",
    "        row.append(X_train[i][j]-means[j])\n",
    "    X_train_centered.append(row)"
   ]
  },
  {
   "cell_type": "code",
   "execution_count": 98,
   "metadata": {},
   "outputs": [
    {
     "data": {
      "text/plain": [
       "PCA(copy=True, iterated_power='auto', n_components=4, random_state=None,\n",
       "  svd_solver='auto', tol=0.0, whiten=False)"
      ]
     },
     "execution_count": 98,
     "metadata": {},
     "output_type": "execute_result"
    }
   ],
   "source": [
    "# make 3-class dataset for classification\n",
    "pca = PCA(n_components=4)\n",
    "pca.fit(X_train_centered)"
   ]
  },
  {
   "cell_type": "code",
   "execution_count": 99,
   "metadata": {},
   "outputs": [
    {
     "data": {
      "text/plain": [
       "0.6105356691649104"
      ]
     },
     "execution_count": 99,
     "metadata": {},
     "output_type": "execute_result"
    }
   ],
   "source": [
    "sum(pca.explained_variance_ratio_)"
   ]
  },
  {
   "cell_type": "code",
   "execution_count": 100,
   "metadata": {},
   "outputs": [],
   "source": [
    "v_1 = pca.components_[0]\n",
    "v_2 = pca.components_[1]"
   ]
  },
  {
   "cell_type": "code",
   "execution_count": 101,
   "metadata": {},
   "outputs": [
    {
     "data": {
      "text/plain": [
       "array([145,  25,  85,   6,  66, 126, 132,  12,  72,  44, 104, 164,  59,\n",
       "       174,  54, 114, 139, 176,  79,  56, 116,  19, 166, 112,  52, 172,\n",
       "        97,  37, 157, 161, 101,  41, 179,  57, 119,  53, 113, 173, 106,\n",
       "        16, 136,  76, 124,   4,  64,  28,  88, 148, 177, 117,  24, 144,\n",
       "        84, 150, 131,  67,  30,  46, 134,  14,  11,  71,  22,  74,  82,\n",
       "        45, 165, 105,   7, 127, 142,  49, 169,  31, 151,  91, 109, 100,\n",
       "        40, 160, 154,  62,   2, 122,  90, 125,   5,  65,  47,  94, 167,\n",
       "       107,  34, 146,  73, 143, 133,  13,  23,  83,  80,  77, 137,  17,\n",
       "       171,  51, 111,  58, 178, 118, 140, 121,   1,  61,  20, 128,   8,\n",
       "        68,  29,  60,   0, 120,  95,  35,  32, 152,  92,  86,  26, 135,\n",
       "       155,  89,  75,  96, 156, 149,  36,  15, 102,  42, 162,  78, 138,\n",
       "        18,  39,  99, 159,  81,  21, 141,  69, 129,   9, 180,  27, 147,\n",
       "       130,  10,  70,  87,  93,  98, 158,  38, 153,  33, 123,   3,  63,\n",
       "       115,  55, 175, 170, 110,  50, 103, 163,  43, 108,  48, 168, 181],\n",
       "      dtype=int64)"
      ]
     },
     "execution_count": 101,
     "metadata": {},
     "output_type": "execute_result"
    }
   ],
   "source": [
    "np.argsort(np.abs(v_1))"
   ]
  },
  {
   "cell_type": "code",
   "execution_count": 102,
   "metadata": {},
   "outputs": [
    {
     "data": {
      "text/plain": [
       "array([-2.50114054e-04, -2.50114148e-04, -2.50114224e-04,  2.65450413e-04,\n",
       "        2.66077695e-04,  2.66404350e-04, -5.00904379e-04, -5.02973884e-04,\n",
       "       -5.04730625e-04,  5.18396415e-04,  5.19229863e-04,  5.20669813e-04,\n",
       "        5.55261911e-04, -5.77095478e-04, -5.77095503e-04, -5.77095512e-04,\n",
       "        6.45534273e-04, -6.48420307e-04,  6.48764217e-04, -6.48783483e-04,\n",
       "       -6.48792128e-04,  6.51185247e-04,  6.71193825e-04,  8.35158829e-04,\n",
       "        8.36083070e-04,  8.42384909e-04, -8.42839366e-04, -8.44388070e-04,\n",
       "       -8.45708812e-04,  9.40724673e-04,  9.40729867e-04,  9.40839895e-04,\n",
       "        1.01360113e-03, -1.03281297e-03,  1.11022119e-03, -1.18303447e-03,\n",
       "       -1.18446945e-03, -1.18484265e-03, -1.21008403e-03,  1.26256948e-03,\n",
       "        1.26456812e-03,  1.26464216e-03,  1.36174735e-03,  1.37069420e-03,\n",
       "        1.37185554e-03, -1.43269113e-03, -1.43270326e-03, -1.43272405e-03,\n",
       "       -1.47618550e-03, -1.48675409e-03,  1.55962289e-03,  1.56265777e-03,\n",
       "        1.57222595e-03,  1.57646434e-03, -1.62181030e-03, -1.70753822e-03,\n",
       "        1.72506714e-03, -1.77008341e-03, -1.92818673e-03, -2.00011179e-03,\n",
       "       -2.00039855e-03, -2.00432631e-03,  2.00984377e-03, -2.01347164e-03,\n",
       "        2.02760666e-03,  2.08505210e-03,  2.08558130e-03,  2.08563338e-03,\n",
       "       -2.13279584e-03, -2.14108269e-03,  2.17589523e-03, -2.34785828e-03,\n",
       "       -2.36753961e-03,  2.40530395e-03,  2.40604237e-03,  2.40610908e-03,\n",
       "       -2.41396645e-03,  2.52205090e-03,  2.52206219e-03,  2.52208168e-03,\n",
       "        2.69924835e-03, -2.80486779e-03, -2.80522630e-03, -2.80526031e-03,\n",
       "        3.00995617e-03,  3.02739925e-03,  3.04301935e-03,  3.08473813e-03,\n",
       "       -3.14755665e-03,  3.24056369e-03, -3.25333280e-03, -3.25400097e-03,\n",
       "        3.27346685e-03, -3.77862440e-03,  3.81461345e-03,  3.81499681e-03,\n",
       "        3.81570139e-03,  3.81632454e-03,  3.82195651e-03,  3.82199456e-03,\n",
       "        3.94035035e-03,  4.13757044e-03,  4.13872475e-03,  4.14286357e-03,\n",
       "       -4.32359577e-03, -4.32360579e-03, -4.32370920e-03, -4.61604574e-03,\n",
       "       -4.61614018e-03, -4.61910739e-03,  4.70407772e-03,  5.07208450e-03,\n",
       "        5.07438280e-03,  5.08835435e-03,  5.25799216e-03,  5.75432037e-03,\n",
       "        6.32030619e-03,  6.32713152e-03, -6.55638317e-03, -6.98146906e-03,\n",
       "       -6.98566854e-03, -6.99072562e-03,  7.17552893e-03,  7.17838453e-03,\n",
       "       -7.19291331e-03, -7.19301057e-03, -7.19492224e-03, -7.23849510e-03,\n",
       "       -7.26203600e-03, -7.35137913e-03,  7.35383090e-03, -7.84689752e-03,\n",
       "       -7.91903158e-03, -7.96408017e-03, -8.03906859e-03, -8.04429109e-03,\n",
       "       -8.09523106e-03, -8.33416063e-03, -8.50235576e-03, -8.50348120e-03,\n",
       "       -8.50376570e-03,  9.86930768e-03,  9.92472376e-03,  9.95022418e-03,\n",
       "       -9.98531607e-03, -9.99037252e-03, -9.99110388e-03, -1.01156380e-02,\n",
       "       -1.01157198e-02, -1.01157696e-02, -1.04313601e-02, -1.10554209e-02,\n",
       "       -1.10624099e-02,  1.14762660e-02, -1.19879644e-02, -1.19937654e-02,\n",
       "        1.21887361e-02,  1.21888337e-02,  1.21889285e-02, -1.24281335e-02,\n",
       "        1.79282902e-02,  1.79929897e-02,  1.79930311e-02,  1.79930349e-02,\n",
       "        1.80568827e-02,  1.82049292e-02,  2.41989210e-02,  2.42125492e-02,\n",
       "        2.42271780e-02, -2.43631220e-02, -2.45967617e-02, -2.48073198e-02,\n",
       "        2.71444066e-02,  3.04609920e-02,  3.05425925e-02,  3.15944248e-02,\n",
       "        3.16887875e-02,  3.17872951e-02, -5.32187821e-02, -5.32219639e-02,\n",
       "       -5.35942349e-02,  9.87878381e-01])"
      ]
     },
     "execution_count": 102,
     "metadata": {},
     "output_type": "execute_result"
    }
   ],
   "source": [
    "v_1[np.argsort(np.abs(v_1))]"
   ]
  },
  {
   "cell_type": "code",
   "execution_count": 103,
   "metadata": {
    "scrolled": true
   },
   "outputs": [
    {
     "data": {
      "text/plain": [
       "array([-3.43956308e-01, -3.43912720e-01, -3.43225393e-01, -2.42157977e-01,\n",
       "       -2.42049401e-01, -2.41253507e-01, -1.22858687e-01, -1.00280850e-01,\n",
       "       -2.70414546e-02, -2.65748816e-02, -2.57087332e-02, -2.38083547e-02,\n",
       "       -2.34774015e-02, -2.22867788e-02, -2.22312684e-02, -2.22244353e-02,\n",
       "       -2.21774979e-02, -2.07078207e-02, -1.87731277e-02, -1.86866539e-02,\n",
       "       -1.79630940e-02, -1.70169887e-02, -1.62803518e-02, -1.62288076e-02,\n",
       "       -1.62114164e-02, -1.61022360e-02, -8.86230642e-03, -8.86160104e-03,\n",
       "       -8.86125118e-03, -7.59313192e-03, -6.89413763e-03, -5.91320487e-03,\n",
       "       -5.34163524e-03, -4.51882857e-03, -4.44109808e-03, -4.44093010e-03,\n",
       "       -4.44087402e-03, -3.88585145e-03, -3.85214520e-03, -3.84876235e-03,\n",
       "       -3.84083092e-03, -3.83276874e-03, -3.82584792e-03, -3.75372189e-03,\n",
       "       -3.74706020e-03, -3.73786256e-03, -3.72609291e-03, -3.59040277e-03,\n",
       "       -3.59019091e-03, -3.59017819e-03, -3.57522340e-03, -3.57184861e-03,\n",
       "       -3.16256870e-03, -3.16188658e-03, -3.16161396e-03, -2.66389432e-03,\n",
       "       -2.66387743e-03, -2.66386096e-03, -2.65635795e-03, -2.54189553e-03,\n",
       "       -2.50502220e-03, -2.31896597e-03, -2.31896332e-03, -2.31896188e-03,\n",
       "       -2.06062809e-03, -2.05879109e-03, -1.88496974e-03, -1.69366217e-03,\n",
       "       -1.69313330e-03, -1.69180315e-03, -1.42473628e-03, -1.42456913e-03,\n",
       "       -1.42351084e-03, -1.34475768e-03, -9.96984126e-04, -9.62960253e-04,\n",
       "       -5.97268659e-04, -5.96453943e-04, -5.95494194e-04, -3.90891989e-04,\n",
       "       -3.90868262e-04, -3.89867047e-04, -1.60765345e-04, -1.60740805e-04,\n",
       "       -1.60739765e-04, -1.16093179e-04, -9.27952111e-05,  6.19783112e-06,\n",
       "        1.03259131e-04,  1.03936080e-04,  1.04288559e-04,  1.69507872e-04,\n",
       "        1.72794015e-04,  2.16403002e-04,  2.32856898e-04,  2.73318400e-04,\n",
       "        2.74341413e-04,  2.75441241e-04,  3.44425352e-04,  3.54011920e-04,\n",
       "        3.58658241e-04,  7.15758029e-04,  7.23630223e-04,  8.48367858e-04,\n",
       "        1.26200808e-03,  1.35812394e-03,  1.36585118e-03,  1.42401508e-03,\n",
       "        1.48366873e-03,  1.48847583e-03,  1.48847827e-03,  1.48847942e-03,\n",
       "        1.50218501e-03,  1.50218513e-03,  1.50218538e-03,  1.74287820e-03,\n",
       "        2.15047569e-03,  2.15047974e-03,  2.15053472e-03,  2.23643918e-03,\n",
       "        2.23833378e-03,  2.26265146e-03,  2.76829496e-03,  2.76878569e-03,\n",
       "        2.76936114e-03,  2.97983907e-03,  2.97986147e-03,  2.97987489e-03,\n",
       "        3.76838897e-03,  3.77046575e-03,  3.77160111e-03,  3.89898982e-03,\n",
       "        4.06791092e-03,  4.22633059e-03,  4.43430190e-03,  4.43438743e-03,\n",
       "        4.43480697e-03,  4.62802612e-03,  5.07827926e-03,  5.10512057e-03,\n",
       "        6.18549734e-03,  6.18728382e-03,  6.19646037e-03,  6.36585305e-03,\n",
       "        6.37976874e-03,  6.60036058e-03,  6.61417966e-03,  6.66575548e-03,\n",
       "        6.66781241e-03,  6.68762658e-03,  6.68782107e-03,  6.68785569e-03,\n",
       "        7.10046422e-03,  7.15200008e-03,  7.15686714e-03,  7.17314613e-03,\n",
       "        7.19660989e-03,  7.43067362e-03,  7.43510125e-03,  7.45808243e-03,\n",
       "        7.52153752e-03,  7.52602151e-03,  7.52868370e-03,  7.70487091e-03,\n",
       "        7.71379702e-03,  7.71520270e-03,  8.04688921e-03,  1.97774833e-02,\n",
       "        1.97780360e-02,  1.97805987e-02,  3.93871914e-02,  3.95154011e-02,\n",
       "        3.95503126e-02,  1.46913046e-01,  1.47725118e-01,  1.47737219e-01,\n",
       "        1.52074952e-01,  1.52130212e-01,  1.52473181e-01,  3.11788646e-01,\n",
       "        3.12749816e-01,  3.14538059e-01])"
      ]
     },
     "execution_count": 103,
     "metadata": {},
     "output_type": "execute_result"
    }
   ],
   "source": [
    "v_2[np.argsort(v_2)]"
   ]
  },
  {
   "cell_type": "code",
   "execution_count": 104,
   "metadata": {
    "scrolled": true
   },
   "outputs": [
    {
     "data": {
      "text/plain": [
       "211"
      ]
     },
     "execution_count": 104,
     "metadata": {},
     "output_type": "execute_result"
    }
   ],
   "source": [
    "len(X_train)"
   ]
  },
  {
   "cell_type": "code",
   "execution_count": 105,
   "metadata": {},
   "outputs": [],
   "source": [
    "Xdot = np.dot(X_train_centered,pca.components_.T)"
   ]
  },
  {
   "cell_type": "code",
   "execution_count": 106,
   "metadata": {},
   "outputs": [
    {
     "data": {
      "text/plain": [
       "(211, 4)"
      ]
     },
     "execution_count": 106,
     "metadata": {},
     "output_type": "execute_result"
    }
   ],
   "source": [
    "pca.components_.shape\n",
    "Xdot.shape"
   ]
  },
  {
   "cell_type": "code",
   "execution_count": 107,
   "metadata": {},
   "outputs": [],
   "source": [
    "colors = {0:'purple',1:'r',2:'b',3:'g',4:'y',5:'black'}\n"
   ]
  },
  {
   "cell_type": "code",
   "execution_count": 108,
   "metadata": {},
   "outputs": [
    {
     "data": {
      "text/plain": [
       "array([[-4.14665155e-01,  1.63837302e-01,  2.00554518e-01,\n",
       "         5.62218626e-02],\n",
       "       [-4.17715662e-01,  3.64757091e-02,  4.48881207e-02,\n",
       "        -7.58802073e-02],\n",
       "       [-3.81988064e-01,  2.17136552e-01, -2.19924881e-01,\n",
       "         1.22766220e-01],\n",
       "       [-3.61694033e-01,  2.19906743e-01, -5.81149351e-02,\n",
       "         6.93025630e-02],\n",
       "       [-3.32215874e-01, -6.17219542e-02, -2.16801037e-02,\n",
       "        -1.56046561e-01],\n",
       "       [-3.15961919e-01, -7.70736468e-02,  1.16237770e-01,\n",
       "        -1.52255996e-01],\n",
       "       [-2.26136759e-01, -9.73766196e-02, -2.03692533e-01,\n",
       "        -5.36862705e-02],\n",
       "       [-1.82968738e-01, -2.02075204e-01, -6.98760127e-02,\n",
       "         7.58852642e-03],\n",
       "       [-9.67582315e-02, -5.79300600e-02, -1.09104554e-01,\n",
       "        -6.12892754e-02],\n",
       "       [-1.64248021e-02, -9.76280888e-02,  1.86546990e-01,\n",
       "        -7.90475081e-02],\n",
       "       [ 3.17068969e-02, -4.63321835e-02,  8.83475171e-02,\n",
       "        -1.10321038e-01],\n",
       "       [ 2.52132899e-01, -1.54836857e-01,  8.85808488e-02,\n",
       "        -7.53447668e-02],\n",
       "       [ 2.79875813e-01, -3.26688459e-01,  5.60109049e-02,\n",
       "        -1.24546173e-01],\n",
       "       [-4.58335863e-01, -1.19000370e-01,  3.14683421e-03,\n",
       "         8.13114195e-02],\n",
       "       [-4.01363560e-01,  2.16716632e-02, -2.59927996e-02,\n",
       "         1.86043614e-01],\n",
       "       [-2.89432112e-01,  3.26842678e-01,  1.30919650e-02,\n",
       "        -3.86906528e-02],\n",
       "       [-2.26150783e-01,  6.66299329e-02, -1.68220618e-01,\n",
       "        -1.13799211e-03],\n",
       "       [-3.70226561e-04,  9.14979335e-02,  1.69031306e-01,\n",
       "         3.18794013e-02],\n",
       "       [ 3.44527960e-02,  2.16224508e-01, -1.21767105e-01,\n",
       "         8.97980161e-02],\n",
       "       [ 5.88003967e-02, -2.17330694e-01,  9.06410525e-02,\n",
       "        -1.00180014e-01],\n",
       "       [-3.66005165e-01,  1.02966556e-02,  1.22937827e-01,\n",
       "         3.55366127e-02],\n",
       "       [-1.05656285e-01,  3.71097093e-02,  1.33548437e-01,\n",
       "        -7.06786900e-02],\n",
       "       [ 1.83155162e-01, -1.94044135e-01,  1.21726700e-01,\n",
       "        -2.13067765e-01],\n",
       "       [-4.35690286e-01, -1.18462182e-01, -3.19454154e-02,\n",
       "        -1.03024390e-01],\n",
       "       [-4.45991964e-01, -3.94885058e-01, -8.37152282e-02,\n",
       "         1.26510342e-01],\n",
       "       [-3.45236028e-01,  1.07771052e-02, -1.21902808e-01,\n",
       "        -1.21159222e-01],\n",
       "       [-3.17130736e-01,  1.55744479e-01, -2.33063310e-02,\n",
       "        -1.89666570e-01],\n",
       "       [ 1.79539389e-01,  1.12998588e-01, -3.56735619e-01,\n",
       "        -4.33919294e-02],\n",
       "       [ 2.90460756e-01,  1.69358138e-01, -1.33365345e-01,\n",
       "        -9.97837208e-02],\n",
       "       [ 2.83873938e-01, -1.18564658e-01, -1.51382060e-01,\n",
       "         1.23711513e-01],\n",
       "       [-4.53852848e-01, -1.15831400e-01, -1.93097912e-02,\n",
       "         4.02893392e-02],\n",
       "       [-4.50337325e-01, -2.44553792e-01,  1.00739405e-01,\n",
       "        -1.40009442e-01],\n",
       "       [-4.12906844e-01, -1.36922869e-01, -8.41426563e-02,\n",
       "         5.19006853e-02],\n",
       "       [-3.64933296e-01,  8.20495775e-02, -1.11266877e-01,\n",
       "         5.08545897e-02],\n",
       "       [-2.58235485e-01,  1.94119628e-01,  3.12067431e-02,\n",
       "        -1.56358603e-01],\n",
       "       [-2.38208085e-01, -4.43172759e-02,  3.93058820e-02,\n",
       "        -1.58383463e-01],\n",
       "       [-2.33156985e-01, -2.37913725e-01,  1.26585104e-01,\n",
       "        -3.19156775e-01],\n",
       "       [-1.73972640e-01,  1.07564602e-02, -1.28642899e-01,\n",
       "         2.19848777e-01],\n",
       "       [-1.94054543e-01, -2.91926016e-01, -1.19572979e-01,\n",
       "         5.68586923e-02],\n",
       "       [-3.02928808e-02, -2.74682875e-01,  5.60540632e-02,\n",
       "        -4.57177112e-02],\n",
       "       [-2.75752483e-01,  3.21301106e-01, -3.12582674e-02,\n",
       "        -2.45171073e-02],\n",
       "       [-1.47587886e-01,  4.18650902e-04,  1.28098280e-01,\n",
       "        -1.22968716e-01],\n",
       "       [-8.30374052e-02, -1.78087542e-01,  4.71013550e-02,\n",
       "         4.77541266e-02],\n",
       "       [-3.67429401e-01,  8.91234643e-02, -3.24385741e-02,\n",
       "        -3.15883459e-01],\n",
       "       [-3.57336527e-01, -1.61174213e-02,  1.52690366e-01,\n",
       "        -2.02835373e-01],\n",
       "       [-3.43780965e-01, -1.12226240e-01,  7.55409483e-02,\n",
       "        -1.91389715e-02],\n",
       "       [-2.16573168e-01,  2.35255843e-02,  7.96509236e-02,\n",
       "        -8.70212567e-02],\n",
       "       [-1.66096708e-01,  5.71244943e-02,  8.64652199e-02,\n",
       "        -2.01060151e-01],\n",
       "       [-1.02497055e-02, -1.17738783e-01,  2.02740140e-01,\n",
       "        -8.26377849e-02],\n",
       "       [ 4.88176326e-02, -2.21686079e-01,  1.47131050e-01,\n",
       "        -1.43464628e-01],\n",
       "       [ 7.76286356e-02, -4.13026931e-01,  8.59532533e-02,\n",
       "        -1.49217229e-01],\n",
       "       [ 2.27067300e-01, -3.49090155e-02, -1.85815733e-02,\n",
       "        -1.48638739e-01],\n",
       "       [ 1.50424248e-01, -3.02595032e-01, -8.80443020e-02,\n",
       "         1.48681864e-01],\n",
       "       [-3.67660040e-02,  9.21906948e-02, -3.36790463e-01,\n",
       "         5.49053055e-02],\n",
       "       [ 4.90161363e-02,  1.08476278e-01, -2.70338028e-01,\n",
       "         5.60256500e-02],\n",
       "       [ 9.27795702e-02,  1.44086338e-01, -9.09962033e-02,\n",
       "        -5.46334442e-02],\n",
       "       [ 1.75720065e-01,  2.03015570e-01, -1.18839570e-01,\n",
       "        -1.18765642e-01],\n",
       "       [-9.35960807e-02,  3.10554491e-01,  1.68911889e-01,\n",
       "         8.80260062e-03],\n",
       "       [ 1.50889791e-02,  1.90818186e-01,  1.30169429e-01,\n",
       "        -1.27958618e-01],\n",
       "       [ 2.49700870e-01, -1.12082351e-01,  3.53498553e-02,\n",
       "         1.18186122e-01],\n",
       "       [-2.77809893e-01,  2.27024524e-01, -1.90748779e-01,\n",
       "         3.16670276e-03],\n",
       "       [-1.62147982e-01,  1.10961750e-01, -3.94681145e-01,\n",
       "         3.25944870e-02],\n",
       "       [-3.43201641e-01,  1.77044180e-01, -1.31375254e-02,\n",
       "        -7.85005177e-02],\n",
       "       [ 2.27504498e-02,  9.78665541e-02, -2.66274507e-01,\n",
       "         7.19805581e-02],\n",
       "       [-1.39673405e-01,  1.57543005e-01, -2.83652331e-01,\n",
       "         2.92770439e-02],\n",
       "       [-1.40479442e-01, -1.51621901e-01, -5.55778251e-02,\n",
       "         1.87863134e-01],\n",
       "       [ 2.79051264e-01, -2.37342623e-01, -1.57020338e-01,\n",
       "         1.10399976e-01],\n",
       "       [-3.21742287e-01,  2.58919414e-01,  2.42030206e-01,\n",
       "         7.84830093e-02],\n",
       "       [-2.77025549e-01, -9.73538414e-02, -2.41996004e-02,\n",
       "        -1.52414572e-02],\n",
       "       [-1.29134089e-01, -5.23829645e-02, -2.16689910e-01,\n",
       "        -2.20208800e-02],\n",
       "       [ 6.57827423e-02, -5.07309637e-02,  3.34799588e-02,\n",
       "         1.16783831e-01],\n",
       "       [ 8.96172337e-02,  1.74459644e-02,  2.48184247e-01,\n",
       "         3.83020683e-01],\n",
       "       [ 9.10017030e-02, -2.15615401e-01, -2.42574166e-01,\n",
       "        -8.23000562e-02],\n",
       "       [ 1.75083821e-01,  1.55681891e-01, -7.79030891e-02,\n",
       "        -1.69148549e-01],\n",
       "       [ 1.60469436e-01, -1.51859854e-01, -8.97990270e-02,\n",
       "         9.31809164e-02],\n",
       "       [ 2.32865103e-01, -1.20174708e-01, -1.33772895e-02,\n",
       "         1.41746137e-01],\n",
       "       [ 2.93094292e-01,  6.45283313e-02, -1.87656165e-01,\n",
       "         6.35406260e-02],\n",
       "       [ 4.85990455e-01,  1.63790980e-01,  3.14985764e-01,\n",
       "         1.58673524e-01],\n",
       "       [-2.94560068e-01,  1.73384138e-01,  1.12870352e-01,\n",
       "        -8.42730900e-02],\n",
       "       [-2.89294596e-01,  7.17059383e-02,  1.72095421e-01,\n",
       "         2.83491316e-01],\n",
       "       [-1.91104461e-01,  7.86561176e-02,  2.32779087e-01,\n",
       "        -1.61827347e-01],\n",
       "       [-1.55040746e-01, -1.69540393e-02,  4.79498285e-02,\n",
       "         2.11602404e-02],\n",
       "       [ 4.04463522e-02, -1.14951669e-01,  2.75098708e-01,\n",
       "        -3.08779858e-01],\n",
       "       [ 1.63729471e-01, -1.22045803e-01,  2.16160047e-01,\n",
       "         2.06290453e-01],\n",
       "       [ 2.60076851e-01,  3.65163222e-01,  1.69103636e-01,\n",
       "         1.71483102e-01],\n",
       "       [ 2.55724679e-01,  1.46964423e-01,  1.89438815e-01,\n",
       "        -6.95208051e-02],\n",
       "       [ 2.49040941e-01,  8.10226823e-03,  1.58392162e-01,\n",
       "         1.24628274e-01],\n",
       "       [ 2.91362967e-01,  5.74531429e-02,  4.78114240e-02,\n",
       "         1.37141593e-02],\n",
       "       [ 3.39723142e-01,  1.33287314e-01,  2.44801161e-01,\n",
       "         1.91249228e-01],\n",
       "       [ 3.69905573e-01,  1.29664150e-01,  1.92287422e-01,\n",
       "         1.11985673e-01],\n",
       "       [-1.82949948e-01,  9.20656142e-02,  1.24921005e-01,\n",
       "         1.22954217e-03],\n",
       "       [-7.09955903e-02, -1.37960750e-01,  2.01677729e-01,\n",
       "        -1.95919813e-01],\n",
       "       [-5.94904479e-03, -2.45204717e-01, -3.92727095e-02,\n",
       "         1.56915070e-01],\n",
       "       [ 1.39957298e-01,  1.64071808e-01,  3.69757568e-01,\n",
       "         8.38102614e-02],\n",
       "       [ 1.87164965e-01,  8.09211002e-02,  3.02888880e-01,\n",
       "        -1.20523461e-01],\n",
       "       [-1.02595112e-01,  6.76467225e-02, -2.44363551e-02,\n",
       "         1.17195588e-01],\n",
       "       [-1.80979755e-02,  4.00412896e-01,  4.05026756e-01,\n",
       "         2.55112924e-01],\n",
       "       [ 2.09855828e-02,  2.65991128e-01,  2.89959261e-02,\n",
       "        -1.13663968e-01],\n",
       "       [ 4.71499318e-02,  9.05198916e-02,  2.60816929e-01,\n",
       "         2.07185025e-02],\n",
       "       [ 5.67572372e-02,  6.23717716e-02, -1.55264231e-01,\n",
       "         2.68894600e-01],\n",
       "       [-3.41274785e-01,  4.82643940e-02, -1.09945562e-01,\n",
       "        -5.26736131e-02],\n",
       "       [-3.16289665e-01,  2.12363684e-02, -6.33099773e-02,\n",
       "         1.63617568e-01],\n",
       "       [-3.49938878e-01, -3.20838660e-01, -9.50053964e-02,\n",
       "         4.81037494e-01],\n",
       "       [-2.60592236e-01,  1.01212305e-01,  1.71674156e-01,\n",
       "         2.70431640e-01],\n",
       "       [-1.09963919e-01,  2.06487498e-01,  2.03350184e-02,\n",
       "        -1.22880816e-01],\n",
       "       [-6.15712043e-03,  1.00472500e-01,  3.67496260e-01,\n",
       "         1.06925875e-03],\n",
       "       [ 1.16175273e-01,  1.67087609e-01,  3.43864224e-01,\n",
       "         1.58169939e-01],\n",
       "       [ 1.54137854e-01,  1.02240001e-01,  6.37896484e-02,\n",
       "         2.76981301e-01],\n",
       "       [-1.98365222e-01,  3.26112277e-01, -1.32298689e-01,\n",
       "        -3.64453606e-02],\n",
       "       [-9.27582672e-02,  1.65891623e-01,  3.97121933e-01,\n",
       "         6.32464974e-02],\n",
       "       [-7.11859489e-02,  1.63597332e-01,  6.30125118e-02,\n",
       "         4.20403325e-03],\n",
       "       [-2.32829492e-02, -9.93926237e-02,  2.52880292e-02,\n",
       "         1.29447870e-01],\n",
       "       [-2.78859898e-03, -1.26135454e-01, -4.64602121e-02,\n",
       "         2.73365041e-01],\n",
       "       [ 1.86771759e-01, -1.64396365e-02,  2.19716594e-02,\n",
       "         1.88146747e-01],\n",
       "       [-2.38303236e-01,  4.01685868e-01,  4.48730002e-01,\n",
       "         2.13195166e-01],\n",
       "       [-2.54334664e-01, -2.84615367e-02,  1.53034775e-01,\n",
       "         3.85885479e-01],\n",
       "       [-1.99165324e-01,  2.24237998e-02, -1.49582566e-01,\n",
       "        -2.27079333e-02],\n",
       "       [-4.96464516e-02,  5.63020418e-03, -1.76895342e-01,\n",
       "        -7.15876149e-02],\n",
       "       [ 1.11632775e-01, -2.91192982e-01,  9.86398240e-02,\n",
       "        -3.80448461e-02],\n",
       "       [ 2.18276411e-01, -2.51287059e-01,  8.28522792e-02,\n",
       "         1.38059794e-01],\n",
       "       [ 3.64335503e-01,  5.98002519e-02,  3.89927204e-01,\n",
       "         2.36560347e-01],\n",
       "       [ 3.86835593e-01,  1.11030528e-02,  3.25399020e-01,\n",
       "         1.85074482e-01],\n",
       "       [ 4.22825610e-01, -1.99203576e-01, -1.50678672e-01,\n",
       "         4.06141364e-02],\n",
       "       [ 3.46761707e-01,  3.90820067e-02, -7.19516997e-02,\n",
       "        -2.30055150e-02],\n",
       "       [ 4.30374857e-01,  8.64890862e-02, -1.46558609e-03,\n",
       "        -7.74104099e-02],\n",
       "       [ 4.02046758e-01, -1.91150967e-01,  6.75929995e-02,\n",
       "        -3.26329427e-02],\n",
       "       [ 3.31644056e-01,  3.92088322e-02, -1.56500484e-01,\n",
       "        -9.98726975e-02],\n",
       "       [ 4.68283633e-01,  1.82899976e-01, -1.70600633e-01,\n",
       "         2.55950332e-02],\n",
       "       [ 4.17224377e-01, -2.99205272e-01, -9.31125377e-02,\n",
       "         1.27914587e-01],\n",
       "       [ 2.82704591e-01, -3.91902644e-02,  1.09186513e-01,\n",
       "        -1.80908162e-01],\n",
       "       [ 2.68080532e-01, -7.30613668e-02,  2.04131557e-01,\n",
       "        -1.55712679e-01],\n",
       "       [ 4.26612924e-01,  5.62336713e-03, -1.91323632e-01,\n",
       "         1.83853804e-01],\n",
       "       [ 5.32759833e-01,  1.26804591e-01, -8.06260004e-02,\n",
       "        -1.46476643e-02],\n",
       "       [-2.30590660e-01,  2.23612453e-01,  3.44146220e-02,\n",
       "         1.31986153e-02],\n",
       "       [-2.03338166e-01, -9.81494278e-02, -7.11697759e-02,\n",
       "        -2.65875786e-01],\n",
       "       [-1.94677771e-01, -1.86115738e-01, -4.84229290e-02,\n",
       "        -6.73727924e-02],\n",
       "       [-1.59700397e-01, -4.48469570e-01, -1.96458217e-01,\n",
       "         1.92100350e-01],\n",
       "       [-3.16315028e-02, -9.44597991e-02, -2.71902691e-02,\n",
       "        -2.47278038e-01],\n",
       "       [ 1.18036491e-02,  4.19280341e-02,  4.64168533e-03,\n",
       "        -1.07182238e-02],\n",
       "       [ 4.81979723e-02,  6.71923017e-02, -5.64647315e-02,\n",
       "         1.92988124e-02],\n",
       "       [ 7.49096834e-02, -2.37897152e-01,  3.21652496e-02,\n",
       "        -3.35231274e-03],\n",
       "       [ 1.56877199e-01, -4.10249669e-01, -9.10484842e-02,\n",
       "         1.92536294e-01],\n",
       "       [ 2.25331950e-01, -8.70110565e-03, -2.24879916e-01,\n",
       "         3.01727928e-02],\n",
       "       [ 3.22706609e-01, -6.56559993e-02,  9.28106054e-02,\n",
       "         3.39355271e-03],\n",
       "       [ 3.52263698e-01, -1.21716614e-01,  8.48539451e-02,\n",
       "        -5.70774739e-02],\n",
       "       [ 4.37265543e-01, -5.84308017e-02,  2.27632888e-01,\n",
       "        -1.40453192e-01],\n",
       "       [ 5.18387077e-01,  4.28638254e-01, -4.04526030e-01,\n",
       "        -6.14408179e-02],\n",
       "       [ 4.99150972e-01, -1.12021218e-02,  1.67129686e-02,\n",
       "        -2.29777435e-01],\n",
       "       [ 5.07627003e-01, -2.69971742e-02,  8.03627505e-02,\n",
       "        -1.99180888e-01],\n",
       "       [-4.24563809e-01, -1.03529715e-01,  8.65192377e-02,\n",
       "        -1.47345139e-01],\n",
       "       [-3.45726632e-01,  1.13937996e-01, -7.42620281e-02,\n",
       "        -2.34045287e-01],\n",
       "       [-2.91101849e-01, -1.05465257e-01,  5.80406472e-03,\n",
       "         7.71023415e-02],\n",
       "       [-1.87470880e-01,  4.03424465e-02, -1.62637175e-01,\n",
       "        -1.44413608e-01],\n",
       "       [-2.09393577e-01, -3.88495803e-01, -1.01570549e-02,\n",
       "         7.28045447e-02],\n",
       "       [-1.11449907e-01,  1.36946053e-01,  1.28232000e-01,\n",
       "        -1.12256391e-01],\n",
       "       [-7.58051561e-02,  1.81456446e-01, -1.33940482e-01,\n",
       "        -1.35125437e-01],\n",
       "       [-5.94174777e-02,  5.20982872e-02, -1.69750134e-01,\n",
       "         6.81274838e-02],\n",
       "       [ 1.12187479e-01,  6.15045493e-02, -1.97319790e-01,\n",
       "        -5.74586521e-02],\n",
       "       [ 1.11328244e-01, -5.74607817e-02, -1.34086268e-01,\n",
       "         2.69243815e-02],\n",
       "       [ 2.61661158e-01, -4.96285393e-02, -8.67300336e-02,\n",
       "        -2.00337033e-01],\n",
       "       [ 3.47630372e-01,  1.12514045e-01, -9.80409468e-02,\n",
       "         5.61230059e-02],\n",
       "       [ 4.03547080e-01,  2.82679396e-02,  1.65267079e-01,\n",
       "         5.18366373e-02],\n",
       "       [ 4.27938589e-01,  4.46746045e-02, -1.36698249e-01,\n",
       "        -9.06068496e-02],\n",
       "       [ 4.53624376e-01,  7.14650285e-02, -4.52770196e-02,\n",
       "        -8.79614812e-02],\n",
       "       [-4.50182998e-01, -2.43590508e-01, -1.89372749e-01,\n",
       "         1.57670155e-01],\n",
       "       [-3.38730481e-01, -1.53347229e-01, -7.86843685e-02,\n",
       "        -6.15942830e-02],\n",
       "       [ 4.23039179e-01,  1.22344715e-02,  9.27496261e-03,\n",
       "         2.30547198e-01],\n",
       "       [-2.22105437e-01,  1.74097461e-01, -7.32877424e-02,\n",
       "         1.65859629e-01],\n",
       "       [-1.93050229e-01,  1.38466484e-01, -1.02415366e-01,\n",
       "        -3.79280812e-02],\n",
       "       [-4.23813582e-02,  5.98050733e-02, -9.34672808e-02,\n",
       "        -8.11570857e-02],\n",
       "       [ 1.55399894e-01,  1.42319166e-01, -1.71710735e-01,\n",
       "        -5.07085190e-03],\n",
       "       [ 2.32284601e-01, -1.23657738e-02, -2.26840109e-01,\n",
       "         4.57345596e-02],\n",
       "       [ 4.02799965e-01,  1.02534273e-01, -2.36015699e-01,\n",
       "        -2.05031676e-01],\n",
       "       [ 4.87753123e-01, -4.95862111e-02, -1.05162881e-01,\n",
       "        -7.38888428e-02],\n",
       "       [ 5.10864119e-01, -1.08203643e-01,  4.08778491e-02,\n",
       "        -3.10275240e-01],\n",
       "       [-3.20458148e-01,  2.11313678e-02,  1.09902056e-01,\n",
       "         1.35772413e-01],\n",
       "       [-2.10665983e-01,  1.12048896e-01, -1.33189970e-01,\n",
       "         3.09283591e-02],\n",
       "       [-2.18544783e-01, -2.26942871e-01,  7.10795019e-02,\n",
       "         6.56355899e-02],\n",
       "       [-1.08985650e-01,  1.65430153e-01, -2.76053333e-01,\n",
       "         1.03491560e-01],\n",
       "       [-1.09995731e-01,  5.08137928e-02,  3.34575326e-02,\n",
       "         1.69898377e-01],\n",
       "       [-1.29198832e-01, -3.04079356e-01,  6.44772240e-02,\n",
       "        -1.16507998e-01],\n",
       "       [-5.58007123e-02,  1.90944680e-02, -1.04671191e-01,\n",
       "         1.23416622e-01],\n",
       "       [-2.41116198e-02, -9.87313297e-02,  1.40183810e-01,\n",
       "        -1.12552765e-01],\n",
       "       [ 1.05365429e-01,  5.48309086e-01, -2.45362238e-01,\n",
       "         5.32347482e-02],\n",
       "       [ 8.51746593e-02,  1.16710728e-01, -1.26938765e-02,\n",
       "        -1.70670574e-01],\n",
       "       [ 1.07785020e-01,  3.92697492e-02, -6.05130568e-02,\n",
       "        -6.08124927e-02],\n",
       "       [ 1.95177824e-01,  1.02756094e-01, -1.10466034e-01,\n",
       "         2.42129467e-02],\n",
       "       [ 1.80860171e-01, -1.10114291e-01,  1.24804397e-02,\n",
       "        -1.32612202e-01],\n",
       "       [-3.78584188e-01,  1.40720243e-01,  1.57321129e-01,\n",
       "         2.77799869e-02],\n",
       "       [-3.77775043e-01, -5.62161477e-02,  1.77094486e-01,\n",
       "        -2.62489073e-01],\n",
       "       [-2.40356751e-01,  1.11219426e-01, -4.91744315e-03,\n",
       "        -1.86845537e-01],\n",
       "       [-1.88147084e-01,  1.06473921e-01, -1.78324618e-01,\n",
       "        -3.49407391e-02],\n",
       "       [-1.72950617e-01,  8.36212476e-02, -2.52401219e-01,\n",
       "         1.74717669e-01],\n",
       "       [-5.48334361e-02, -1.23234328e-01, -1.46519769e-02,\n",
       "         8.93895404e-02],\n",
       "       [ 5.03258144e-02,  8.13680324e-02, -2.25723358e-01,\n",
       "        -9.28071912e-02],\n",
       "       [ 1.12743298e-01,  7.48829134e-02, -2.74497634e-01,\n",
       "         2.90496676e-02],\n",
       "       [ 1.12734898e-01, -1.95607489e-01,  2.23907364e-01,\n",
       "        -2.95923210e-02],\n",
       "       [ 1.93126105e-01, -1.73106880e-01, -4.26743440e-02,\n",
       "         9.88010773e-02],\n",
       "       [ 2.53771709e-01,  9.94173617e-02, -5.49740301e-02,\n",
       "        -1.49013624e-01],\n",
       "       [ 3.09562717e-01,  1.00155387e-01, -1.30390940e-01,\n",
       "         6.03062318e-02],\n",
       "       [ 3.50086478e-01, -3.15716011e-02, -4.77350092e-02,\n",
       "        -1.39253851e-02],\n",
       "       [-4.42655457e-01, -1.17023211e-01,  6.04493291e-02,\n",
       "         5.89751439e-02],\n",
       "       [-4.42092976e-01, -2.52549795e-01, -1.08372175e-01,\n",
       "         1.26923016e-01],\n",
       "       [-1.12490947e-01, -9.04711041e-02,  1.59293712e-01,\n",
       "        -2.18054171e-01],\n",
       "       [-6.65873900e-02,  7.60775939e-02,  9.58955482e-02,\n",
       "         1.32154918e-02],\n",
       "       [-5.03829899e-02, -1.49858574e-01,  6.99550798e-02,\n",
       "        -3.17650415e-02],\n",
       "       [ 1.86309068e-01,  9.53671800e-02, -1.07918441e-01,\n",
       "        -5.77571936e-02],\n",
       "       [ 1.78971842e-01, -1.64271760e-01, -4.70261866e-04,\n",
       "        -4.71801677e-02],\n",
       "       [ 4.20103103e-01,  1.15647676e-01,  4.54783226e-02,\n",
       "         3.67584439e-02],\n",
       "       [ 4.36752966e-01, -2.69802512e-01, -6.72014481e-02,\n",
       "         1.90235231e-01],\n",
       "       [ 5.08947569e-01, -1.89534056e-01,  6.70587835e-02,\n",
       "        -2.36448022e-02]])"
      ]
     },
     "execution_count": 108,
     "metadata": {},
     "output_type": "execute_result"
    }
   ],
   "source": [
    "Xdot"
   ]
  },
  {
   "cell_type": "code",
   "execution_count": 109,
   "metadata": {},
   "outputs": [
    {
     "data": {
      "text/plain": [
       "(array([ 5., 11., 25., 38., 41., 55., 25.,  6.,  4.,  1.]),\n",
       " array([-0.44846957, -0.3487917 , -0.24911384, -0.14943597, -0.04975811,\n",
       "         0.04991976,  0.14959762,  0.24927549,  0.34895335,  0.44863122,\n",
       "         0.54830909]),\n",
       " <a list of 10 Patch objects>)"
      ]
     },
     "execution_count": 109,
     "metadata": {},
     "output_type": "execute_result"
    },
    {
     "data": {
      "image/png": "[encoded data removed]",
      "text/plain": [
       "<Figure size 432x288 with 1 Axes>"
      ]
     },
     "metadata": {
      "needs_background": "light"
     },
     "output_type": "display_data"
    }
   ],
   "source": [
    "plt.hist([x[1] for x in Xdot])"
   ]
  },
  {
   "cell_type": "code",
   "execution_count": 88,
   "metadata": {},
   "outputs": [],
   "source": [
    "X_train,y_train1 = get_data_from_dict_filter(trainset,1)\n",
    "X_train,y_train2 = get_data_from_dict_filter(trainset,2)\n",
    "X_train,y_train3 = get_data_from_dict_filter(trainset,3)\n",
    "X_train,y_train4 = get_data_from_dict_filter(trainset,4)\n",
    "X_train,y_train5 = get_data_from_dict_filter(trainset,5)"
   ]
  },
  {
   "cell_type": "code",
   "execution_count": 89,
   "metadata": {},
   "outputs": [
    {
     "data": {
      "text/plain": [
       "array([0, 1, 1, 0, 0, 0, 0, 1, 0, 0, 0, 0, 0, 0, 0, 0, 0, 0, 0, 0, 0, 0,\n",
       "       0, 0, 0, 0, 0, 0, 0, 0, 0, 0, 1, 0, 0, 1, 0, 0, 0, 0, 0, 0, 0, 0,\n",
       "       0, 1, 0, 0, 0, 1, 0])"
      ]
     },
     "execution_count": 89,
     "metadata": {},
     "output_type": "execute_result"
    }
   ],
   "source": [
    "pred"
   ]
  },
  {
   "cell_type": "code",
   "execution_count": 90,
   "metadata": {},
   "outputs": [],
   "source": [
    "y_train2 = np.array(y_train1)+np.array(y_train2)+np.array(y_train3)+np.array(y_train4)+np.array(y_train5)"
   ]
  },
  {
   "cell_type": "code",
   "execution_count": 91,
   "metadata": {},
   "outputs": [
    {
     "data": {
      "text/plain": [
       "<matplotlib.collections.PathCollection at 0x2781ce05b38>"
      ]
     },
     "execution_count": 91,
     "metadata": {},
     "output_type": "execute_result"
    },
    {
     "data": {
      "image/png": "[encoded data removed]",
      "text/plain": [
       "<Figure size 432x288 with 1 Axes>"
      ]
     },
     "metadata": {
      "needs_background": "light"
     },
     "output_type": "display_data"
    }
   ],
   "source": [
    "color_label = [colors[i] for i in y_train2]\n",
    "plt.scatter([x[0] for x in Xdot],[x[1] for x in Xdot],color=color_label)\n",
    "#plt.ylim(-0.2,0.5)"
   ]
  },
  {
   "cell_type": "code",
   "execution_count": null,
   "metadata": {},
   "outputs": [],
   "source": []
  }
 ],
 "metadata": {
  "kernelspec": {
   "display_name": "Python 3",
   "language": "python",
   "name": "python3"
  },
  "language_info": {
   "codemirror_mode": {
    "name": "ipython",
    "version": 3
   },
   "file_extension": ".py",
   "mimetype": "text/x-python",
   "name": "python",
   "nbconvert_exporter": "python",
   "pygments_lexer": "ipython3",
   "version": "3.6.6"
  }
 },
 "nbformat": 4,
 "nbformat_minor": 2
}
