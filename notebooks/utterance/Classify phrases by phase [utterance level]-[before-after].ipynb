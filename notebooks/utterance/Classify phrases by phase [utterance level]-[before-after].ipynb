{
 "cells": [
  {
   "cell_type": "markdown",
   "metadata": {},
   "source": [
    "### Description"
   ]
  },
  {
   "cell_type": "code",
   "execution_count": null,
   "metadata": {
    "collapsed": true
   },
   "outputs": [],
   "source": []
  },
  {
   "cell_type": "markdown",
   "metadata": {},
   "source": [
    "### load "
   ]
  },
  {
   "cell_type": "code",
   "execution_count": 156,
   "metadata": {},
   "outputs": [],
   "source": [
    "import os\n",
    "import random \n",
    "import pickle\n",
    "import sys\n",
    "import pandas as pd\n",
    "import numpy as np\n",
    "from sklearn.metrics import classification_report\n",
    "from sklearn.metrics import confusion_matrix\n",
    "\n",
    "root_path = os.path.dirname(os.path.dirname(os.path.abspath(os.getcwd())))\n",
    "# to import src is necessary to append the root_path to the path\n",
    "#sys.path.append(root_path)\n",
    "\n",
    "data_path = os.path.join(root_path,'data')\n",
    "results_path = os.path.join(root_path,'results')"
   ]
  },
  {
   "cell_type": "markdown",
   "metadata": {},
   "source": [
    "### Define global variables"
   ]
  },
  {
   "cell_type": "code",
   "execution_count": 157,
   "metadata": {},
   "outputs": [],
   "source": [
    "WITH_STEMMING = True\n",
    "REMOVE_STOPWORDS = True\n",
    "MINIMUM_WORDS_PER_PHRASE = 0\n",
    "GROUP = -1\n",
    "SEED = 10\n",
    "num_topics = 60\n",
    "random.seed(SEED)"
   ]
  },
  {
   "cell_type": "code",
   "execution_count": 195,
   "metadata": {},
   "outputs": [],
   "source": [
    "df = pd.read_excel('IBL_topic_distribution_by_utterance_with_phrase_before_and_after_time_utterance_minimum_0_words_with_stemming.xlsx')"
   ]
  },
  {
   "cell_type": "code",
   "execution_count": 196,
   "metadata": {},
   "outputs": [],
   "source": [
    "#df = df[df['length utterance']>0.02]"
   ]
  },
  {
   "cell_type": "code",
   "execution_count": 197,
   "metadata": {},
   "outputs": [
    {
     "data": {
      "text/plain": [
       "Index(['utterance_before_Topic_1', 'utterance_before_Topic_2',\n",
       "       'utterance_before_Topic_3', 'utterance_before_Topic_4',\n",
       "       'utterance_before_Topic_5', 'utterance_before_Topic_6',\n",
       "       'utterance_before_Topic_7', 'utterance_before_Topic_8',\n",
       "       'utterance_before_Topic_9', 'utterance_before_Topic_10',\n",
       "       ...\n",
       "       'utterance_after_Topic_60', 'phase', 'phase_1', 'phase_2', 'phase_3',\n",
       "       'phase_4', 'phase_5', 'utterance', 'length utterance',\n",
       "       'utterance_time'],\n",
       "      dtype='object', length=189)"
      ]
     },
     "execution_count": 197,
     "metadata": {},
     "output_type": "execute_result"
    }
   ],
   "source": [
    "df.columns"
   ]
  },
  {
   "cell_type": "markdown",
   "metadata": {},
   "source": [
    "### split dataset"
   ]
  },
  {
   "cell_type": "code",
   "execution_count": 198,
   "metadata": {
    "scrolled": true
   },
   "outputs": [
    {
     "name": "stdout",
     "output_type": "stream",
     "text": [
      "key 1, total 474\n",
      "key 2, total 209\n",
      "key 3, total 477\n",
      "key 4, total 70\n",
      "key 5, total 653\n"
     ]
    }
   ],
   "source": [
    "the_keys = list(set(df['phase']))\n",
    "for key in the_keys:\n",
    "    n = list(df.phase.values).count(key)\n",
    "    print(\"key {}, total {}\".format(key,n))"
   ]
  },
  {
   "cell_type": "code",
   "execution_count": 199,
   "metadata": {
    "scrolled": true
   },
   "outputs": [
    {
     "name": "stdout",
     "output_type": "stream",
     "text": [
      "test set phase 1: 94\n",
      "test set phase 2: 41\n",
      "test set phase 3: 95\n",
      "test set phase 4: 14\n",
      "test set phase 5: 130\n"
     ]
    }
   ],
   "source": [
    "trainset = {}\n",
    "testset = {}\n",
    "for name, group in df.groupby(['phase']):\n",
    "    trainset[name]=[]\n",
    "    testset[name]=[]\n",
    "    n = len(group)\n",
    "    ra = random.sample(range(n),int(n*0.2))\n",
    "    print(\"test set phase {}: {}\".format(name,int(n*0.2)))\n",
    "    count = 0\n",
    "    group = group.reset_index()\n",
    "    for i,row in group.iterrows():\n",
    "        if i in ra:\n",
    "            count+=1\n",
    "            testset[name].append(row.values)\n",
    "        else:\n",
    "            trainset[name].append(row.values)\n"
   ]
  },
  {
   "cell_type": "code",
   "execution_count": 200,
   "metadata": {},
   "outputs": [],
   "source": [
    "filter_rows = list(range(1,181))+[188,189]\n",
    "#filter_labels = [3601]"
   ]
  },
  {
   "cell_type": "code",
   "execution_count": 201,
   "metadata": {},
   "outputs": [],
   "source": [
    "def get_data_from_dict(a_dict):\n",
    "    y = []\n",
    "    X = []\n",
    "    for key in a_dict:\n",
    "        rows = a_dict[key]\n",
    "        for row in rows:\n",
    "            X.append(row[filter_rows])\n",
    "            y.append(key)\n",
    "    return X,y"
   ]
  },
  {
   "cell_type": "code",
   "execution_count": 202,
   "metadata": {},
   "outputs": [],
   "source": [
    "X_train,y_train = get_data_from_dict(trainset)\n",
    "X_test,y_test = get_data_from_dict(testset)"
   ]
  },
  {
   "cell_type": "code",
   "execution_count": 203,
   "metadata": {
    "scrolled": true
   },
   "outputs": [
    {
     "name": "stdout",
     "output_type": "stream",
     "text": [
      "14\n",
      "182\n"
     ]
    }
   ],
   "source": [
    "print(y_test.count(4))\n",
    "print(len(X_train[0]))"
   ]
  },
  {
   "cell_type": "markdown",
   "metadata": {},
   "source": [
    "### Train decision tree\n"
   ]
  },
  {
   "cell_type": "code",
   "execution_count": 227,
   "metadata": {},
   "outputs": [
    {
     "name": "stdout",
     "output_type": "stream",
     "text": [
      "Accuracy of Decision Tree classifier on training set: 1.00\n",
      "Accuracy of Decision Tree classifier on test set: 0.43\n"
     ]
    }
   ],
   "source": [
    "from sklearn.tree import DecisionTreeClassifier\n",
    "from sklearn import tree\n",
    "clf = DecisionTreeClassifier(random_state=SEED).fit(X_train, y_train)\n",
    "\n",
    "print('Accuracy of Decision Tree classifier on training set: {:.2f}'\n",
    "     .format(clf.score(X_train, y_train)))\n",
    "print('Accuracy of Decision Tree classifier on test set: {:.2f}'\n",
    "     .format(clf.score(X_test, y_test)))"
   ]
  },
  {
   "cell_type": "code",
   "execution_count": 222,
   "metadata": {},
   "outputs": [],
   "source": [
    "import graphviz\n",
    "import os\n",
    "os.environ[\"PATH\"] += os.pathsep + 'C:\\\\Program Files (x86)\\\\Graphviz2.38\\\\bin\\\\'"
   ]
  },
  {
   "cell_type": "code",
   "execution_count": 223,
   "metadata": {},
   "outputs": [],
   "source": [
    "clf2 = clf.tree_?"
   ]
  },
  {
   "cell_type": "code",
   "execution_count": null,
   "metadata": {},
   "outputs": [],
   "source": [
    "clf2 = clf.tree_"
   ]
  },
  {
   "cell_type": "code",
   "execution_count": 224,
   "metadata": {},
   "outputs": [],
   "source": [
    "clf2 = clf.tree_"
   ]
  },
  {
   "cell_type": "code",
   "execution_count": 225,
   "metadata": {},
   "outputs": [
    {
     "data": {
      "text/plain": [
       "'test-output/tree_phases_5_classes_before_after_filtered.gv.pdf'"
      ]
     },
     "execution_count": 225,
     "metadata": {},
     "output_type": "execute_result"
    }
   ],
   "source": [
    "dot_data = tree.export_graphviz(clf, class_names=['1', '2','3','4','5'], out_file=None,max_depth=3)\n",
    "graph = graphviz.Source(dot_data)\n",
    "graph.render('test-output/tree_phases_5_classes_before_after_filtered.gv', view=True)"
   ]
  },
  {
   "cell_type": "code",
   "execution_count": 207,
   "metadata": {},
   "outputs": [
    {
     "name": "stdout",
     "output_type": "stream",
     "text": [
      "[[51  6 18  1 18]\n",
      " [18  9  8  1  5]\n",
      " [15 10 45  4 21]\n",
      " [ 1  1  6  1  5]\n",
      " [25 13 31  8 53]]\n",
      "              precision    recall  f1-score   support\n",
      "\n",
      "           1       0.46      0.54      0.50        94\n",
      "           2       0.23      0.22      0.23        41\n",
      "           3       0.42      0.47      0.44        95\n",
      "           4       0.07      0.07      0.07        14\n",
      "           5       0.52      0.41      0.46       130\n",
      "\n",
      "   micro avg       0.43      0.43      0.43       374\n",
      "   macro avg       0.34      0.34      0.34       374\n",
      "weighted avg       0.43      0.43      0.42       374\n",
      "\n"
     ]
    }
   ],
   "source": [
    "pred = clf.predict(X_test)\n",
    "print(confusion_matrix(y_test, pred))\n",
    "print(classification_report(y_test, pred))"
   ]
  },
  {
   "cell_type": "markdown",
   "metadata": {},
   "source": [
    "### Train without stem"
   ]
  },
  {
   "cell_type": "code",
   "execution_count": 208,
   "metadata": {},
   "outputs": [],
   "source": [
    "from sklearn.svm import SVC\n",
    "from sklearn.model_selection import StratifiedShuffleSplit\n",
    "from sklearn.model_selection import GridSearchCV"
   ]
  },
  {
   "cell_type": "code",
   "execution_count": 209,
   "metadata": {},
   "outputs": [
    {
     "name": "stdout",
     "output_type": "stream",
     "text": [
      "Accuracy of K-NN classifier on training set: 0.61\n",
      "Accuracy of K-NN classifier on test set: 0.41\n"
     ]
    }
   ],
   "source": [
    "from sklearn.neighbors import KNeighborsClassifier\n",
    "\n",
    "knn = KNeighborsClassifier()\n",
    "knn.fit(X_train, y_train)\n",
    "print('Accuracy of K-NN classifier on training set: {:.2f}'\n",
    "     .format(knn.score(X_train, y_train)))\n",
    "print('Accuracy of K-NN classifier on test set: {:.2f}'\n",
    "     .format(knn.score(X_test, y_test)))"
   ]
  },
  {
   "cell_type": "code",
   "execution_count": 210,
   "metadata": {},
   "outputs": [
    {
     "name": "stdout",
     "output_type": "stream",
     "text": [
      "[[55  9 12  1 17]\n",
      " [16  9  5  0 11]\n",
      " [27  9 32  2 25]\n",
      " [ 2  0  5  1  6]\n",
      " [30 14 25  4 57]]\n",
      "              precision    recall  f1-score   support\n",
      "\n",
      "           1       0.42      0.59      0.49        94\n",
      "           2       0.22      0.22      0.22        41\n",
      "           3       0.41      0.34      0.37        95\n",
      "           4       0.12      0.07      0.09        14\n",
      "           5       0.49      0.44      0.46       130\n",
      "\n",
      "   micro avg       0.41      0.41      0.41       374\n",
      "   macro avg       0.33      0.33      0.33       374\n",
      "weighted avg       0.41      0.41      0.41       374\n",
      "\n"
     ]
    }
   ],
   "source": [
    "pred = knn.predict(X_test)\n",
    "print(confusion_matrix(y_test, pred))\n",
    "print(classification_report(y_test, pred))"
   ]
  },
  {
   "cell_type": "code",
   "execution_count": 211,
   "metadata": {},
   "outputs": [
    {
     "name": "stdout",
     "output_type": "stream",
     "text": [
      "Accuracy of GNB classifier on training set: 0.25\n",
      "Accuracy of GNB classifier on test set: 0.21\n"
     ]
    }
   ],
   "source": [
    "from sklearn.naive_bayes import GaussianNB\n",
    "\n",
    "gnb = GaussianNB()\n",
    "gnb.fit(X_train, y_train)\n",
    "print('Accuracy of GNB classifier on training set: {:.2f}'\n",
    "     .format(gnb.score(X_train, y_train)))\n",
    "print('Accuracy of GNB classifier on test set: {:.2f}'\n",
    "     .format(gnb.score(X_test, y_test)))"
   ]
  },
  {
   "cell_type": "code",
   "execution_count": 212,
   "metadata": {},
   "outputs": [
    {
     "name": "stdout",
     "output_type": "stream",
     "text": [
      "[[15 17 16 37  9]\n",
      " [ 4 12  9 14  2]\n",
      " [ 6  9 28 43  9]\n",
      " [ 1  1  2 10  0]\n",
      " [12 23 31 50 14]]\n",
      "              precision    recall  f1-score   support\n",
      "\n",
      "           1       0.39      0.16      0.23        94\n",
      "           2       0.19      0.29      0.23        41\n",
      "           3       0.33      0.29      0.31        95\n",
      "           4       0.06      0.71      0.12        14\n",
      "           5       0.41      0.11      0.17       130\n",
      "\n",
      "   micro avg       0.21      0.21      0.21       374\n",
      "   macro avg       0.28      0.31      0.21       374\n",
      "weighted avg       0.35      0.21      0.23       374\n",
      "\n"
     ]
    }
   ],
   "source": [
    "pred = gnb.predict(X_test)\n",
    "print(confusion_matrix(y_test, pred))\n",
    "print(classification_report(y_test, pred))"
   ]
  },
  {
   "cell_type": "markdown",
   "metadata": {},
   "source": [
    "C_range = np.logspace(-2, 10, 13)\n",
    "gamma_range = np.logspace(-9, 3, 13)\n",
    "param_grid = dict(gamma=gamma_range, C=C_range)\n",
    "cv = StratifiedShuffleSplit(n_splits=5, test_size=0.2, random_state=42)\n",
    "grid = GridSearchCV(SVC(), param_grid=param_grid, cv=cv)\n",
    "grid.fit(X_train, y_train)\n",
    "\n",
    "print(\"The best parameters are %s with a score of %0.2f\"\n",
    "      % (grid.best_params_, grid.best_score_))\n"
   ]
  },
  {
   "cell_type": "code",
   "execution_count": 213,
   "metadata": {},
   "outputs": [
    {
     "name": "stdout",
     "output_type": "stream",
     "text": [
      "Accuracy of SVM classifier on training set: 0.80\n",
      "Accuracy of SVM classifier on test set: 0.47\n"
     ]
    }
   ],
   "source": [
    "svm = SVC(decision_function_shape='ovr',gamma=1,kernel='rbf',random_state=SEED,C= 100.0)#class_weight={1:0.8,2:0.4,3:0.7,5:1})\n",
    "svm.fit(X_train, y_train)\n",
    "print('Accuracy of SVM classifier on training set: {:.2f}'\n",
    "     .format(svm.score(X_train, y_train)))\n",
    "print('Accuracy of SVM classifier on test set: {:.2f}'\n",
    "     .format(svm.score(X_test, y_test)))"
   ]
  },
  {
   "cell_type": "code",
   "execution_count": 214,
   "metadata": {
    "scrolled": false
   },
   "outputs": [
    {
     "name": "stdout",
     "output_type": "stream",
     "text": [
      "[[50  7 12  0 25]\n",
      " [19  7  1  1 13]\n",
      " [21  2 40  0 32]\n",
      " [ 0  1  3  4  6]\n",
      " [26 10 18  2 74]]\n",
      "              precision    recall  f1-score   support\n",
      "\n",
      "           1       0.43      0.53      0.48        94\n",
      "           2       0.26      0.17      0.21        41\n",
      "           3       0.54      0.42      0.47        95\n",
      "           4       0.57      0.29      0.38        14\n",
      "           5       0.49      0.57      0.53       130\n",
      "\n",
      "   micro avg       0.47      0.47      0.47       374\n",
      "   macro avg       0.46      0.40      0.41       374\n",
      "weighted avg       0.47      0.47      0.46       374\n",
      "\n"
     ]
    }
   ],
   "source": [
    "pred = svm.predict(X_test)\n",
    "print(confusion_matrix(y_test, pred))\n",
    "print(classification_report(y_test, pred))"
   ]
  },
  {
   "cell_type": "markdown",
   "metadata": {},
   "source": [
    "### Effect length utterance"
   ]
  },
  {
   "cell_type": "code",
   "execution_count": 215,
   "metadata": {},
   "outputs": [],
   "source": [
    "pred = svm.predict(X_train)\n",
    "error_i = [i for i in range(len(y_train)) if y_train[i] != pred[i]]\n",
    "good_i = [i for i in range(len(y_train)) if y_train[i] == pred[i]]"
   ]
  },
  {
   "cell_type": "code",
   "execution_count": 216,
   "metadata": {},
   "outputs": [],
   "source": [
    "error_x = [X_train[i] for i in error_i]\n",
    "good_x = [X_train[i] for i in good_i]"
   ]
  },
  {
   "cell_type": "code",
   "execution_count": 217,
   "metadata": {},
   "outputs": [
    {
     "data": {
      "text/plain": [
       "0.10844787813434162"
      ]
     },
     "execution_count": 217,
     "metadata": {},
     "output_type": "execute_result"
    }
   ],
   "source": [
    "np.mean([x[180] for x in good_x])"
   ]
  },
  {
   "cell_type": "code",
   "execution_count": 218,
   "metadata": {},
   "outputs": [
    {
     "data": {
      "image/png": "[encoded data removed]",
      "text/plain": [
       "<Figure size 432x288 with 1 Axes>"
      ]
     },
     "metadata": {
      "needs_background": "light"
     },
     "output_type": "display_data"
    }
   ],
   "source": [
    "import matplotlib.pyplot as plt\n",
    "plt.hist([[x[180] for x in error_x],[x[180] for x in good_x]],np.arange(0,0.4,0.01))\n",
    "plt.show()"
   ]
  },
  {
   "cell_type": "code",
   "execution_count": 228,
   "metadata": {},
   "outputs": [
    {
     "name": "stdout",
     "output_type": "stream",
     "text": [
      "Accuracy of SVM classifier on training set: 0.53\n",
      "Accuracy of SVM classifier on test set: 0.51\n"
     ]
    }
   ],
   "source": [
    "from sklearn.svm import LinearSVC\n",
    "svc = LinearSVC(random_state=SEED,max_iter=3000)#,class_weight={1:0.4,2:0.4,3:0.4,4:0.5,5:0.3})\n",
    "svc.fit(X_train, y_train)\n",
    "print('Accuracy of SVM classifier on training set: {:.2f}'\n",
    "     .format(svc.score(X_train, y_train)))\n",
    "print('Accuracy of SVM classifier on test set: {:.2f}'\n",
    "     .format(svc.score(X_test, y_test)))"
   ]
  },
  {
   "cell_type": "code",
   "execution_count": 230,
   "metadata": {
    "scrolled": false
   },
   "outputs": [
    {
     "name": "stdout",
     "output_type": "stream",
     "text": [
      "[[56  2 10  0 26]\n",
      " [16  3  4  0 18]\n",
      " [21  0 40  0 34]\n",
      " [ 1  0  1  0 12]\n",
      " [26  3  8  0 93]]\n",
      "              precision    recall  f1-score   support\n",
      "\n",
      "           1       0.47      0.60      0.52        94\n",
      "           2       0.38      0.07      0.12        41\n",
      "           3       0.63      0.42      0.51        95\n",
      "           4       0.00      0.00      0.00        14\n",
      "           5       0.51      0.72      0.59       130\n",
      "\n",
      "   micro avg       0.51      0.51      0.51       374\n",
      "   macro avg       0.40      0.36      0.35       374\n",
      "weighted avg       0.50      0.51      0.48       374\n",
      "\n"
     ]
    },
    {
     "name": "stderr",
     "output_type": "stream",
     "text": [
      "C:\\Users\\CATALINA ESPINOZA\\AppData\\Local\\conda\\conda\\envs\\teacher_topic_model\\lib\\site-packages\\sklearn\\metrics\\classification.py:1143: UndefinedMetricWarning: Precision and F-score are ill-defined and being set to 0.0 in labels with no predicted samples.\n",
      "  'precision', 'predicted', average, warn_for)\n"
     ]
    }
   ],
   "source": [
    "pred = svc.predict(X_test)\n",
    "print(confusion_matrix(y_test, pred))\n",
    "print(classification_report(y_test, pred))"
   ]
  },
  {
   "cell_type": "markdown",
   "metadata": {},
   "source": [
    "### Optimize params"
   ]
  },
  {
   "cell_type": "raw",
   "metadata": {},
   "source": [
    "C_range = np.logspace(-2, 10, 13)\n",
    "gamma_range = np.logspace(-9, 3, 13)\n",
    "param_grid = dict(gamma=gamma_range, C=C_range)\n",
    "cv = StratifiedShuffleSplit(n_splits=5, test_size=0.2, random_state=42)\n",
    "grid = GridSearchCV(SVC(random_state=SEED), param_grid=param_grid, cv=cv)\n",
    "grid.fit(X_train, y_train)\n",
    "\n",
    "print(\"The best parameters are %s with a score of %0.2f\"\n",
    "      % (grid.best_params_, grid.best_score_))\n"
   ]
  },
  {
   "cell_type": "raw",
   "metadata": {},
   "source": [
    "svm = SVC(decision_function_shape='ovr',gamma=1e-05,C= 1000000.0, random_state=42)#random_state=SEED,class_weight={1:0.8,2:0.4,3:0.7,5:1})\n",
    "svm.fit(X_train, y_train)\n",
    "\n",
    "print('Accuracy of SVM classifier on training set: {:.2f}'\n",
    "     .format(svm.score(X_train, y_train)))\n",
    "print('Accuracy of SVM classifier on test set: {:.2f}'\n",
    "     .format(svm.score(X_test, y_test)))"
   ]
  },
  {
   "cell_type": "raw",
   "metadata": {
    "scrolled": false
   },
   "source": [
    "pred = svm.predict(X_test)\n",
    "print(confusion_matrix(y_test, pred))\n",
    "print(classification_report(y_test, pred))"
   ]
  },
  {
   "cell_type": "markdown",
   "metadata": {},
   "source": [
    "### Build classifier per class"
   ]
  },
  {
   "cell_type": "code",
   "execution_count": 116,
   "metadata": {},
   "outputs": [],
   "source": [
    "def get_data_from_dict_filter(a_dict,filter_phase):\n",
    "    y = []\n",
    "    X = []\n",
    "    for key in a_dict:\n",
    "        rows = a_dict[key]\n",
    "        for row in rows:\n",
    "            X.append(row[filter_rows])\n",
    "            if filter_phase == key:\n",
    "                y.append(key)\n",
    "            else:\n",
    "                y.append(0)\n",
    "    return X,y"
   ]
  },
  {
   "cell_type": "markdown",
   "metadata": {},
   "source": [
    "### classify class 1"
   ]
  },
  {
   "cell_type": "code",
   "execution_count": 117,
   "metadata": {},
   "outputs": [],
   "source": [
    "#trainset,testset = split_sets_key(clean_phrases,1)\n",
    "X_train,y_train = get_data_from_dict_filter(trainset,1)\n",
    "X_test,y_test = get_data_from_dict_filter(testset,1)"
   ]
  },
  {
   "cell_type": "markdown",
   "metadata": {
    "collapsed": true
   },
   "source": [
    "C_range = np.logspace(-2, 10, 13)\n",
    "gamma_range = np.logspace(-9, 3, 13)\n",
    "param_grid = dict(gamma=gamma_range, C=C_range)\n",
    "cv = StratifiedShuffleSplit(n_splits=5, test_size=0.2, random_state=42)\n",
    "grid = GridSearchCV(SVC(), param_grid=param_grid, cv=cv)\n",
    "grid.fit(X_train, y_train)\n",
    "print(\"The best parameters are %s with a score of %0.2f\"\n",
    "      % (grid.best_params_, grid.best_score_))"
   ]
  },
  {
   "cell_type": "code",
   "execution_count": 118,
   "metadata": {},
   "outputs": [
    {
     "name": "stdout",
     "output_type": "stream",
     "text": [
      "Accuracy of SVM classifier on training set: 0.80\n",
      "Accuracy of SVM classifier on test set: 0.79\n",
      "[[197  12]\n",
      " [ 46  21]]\n",
      "              precision    recall  f1-score   support\n",
      "\n",
      "           0       0.81      0.94      0.87       209\n",
      "           1       0.64      0.31      0.42        67\n",
      "\n",
      "   micro avg       0.79      0.79      0.79       276\n",
      "   macro avg       0.72      0.63      0.65       276\n",
      "weighted avg       0.77      0.79      0.76       276\n",
      "\n"
     ]
    }
   ],
   "source": [
    "svm = SVC(decision_function_shape='ovr',gamma=1e-05,C= 10000000.0, random_state=SEED)#,class_weight={0:0.3,1:0.7})\n",
    "svm.fit(X_train, y_train)\n",
    "print('Accuracy of SVM classifier on training set: {:.2f}'\n",
    "     .format(svm.score(X_train, y_train)))\n",
    "print('Accuracy of SVM classifier on test set: {:.2f}'\n",
    "     .format(svm.score(X_test, y_test)))\n",
    "pred = svm.predict(X_test)\n",
    "print(confusion_matrix(y_test, pred))\n",
    "print(classification_report(y_test, pred))"
   ]
  },
  {
   "cell_type": "code",
   "execution_count": 119,
   "metadata": {},
   "outputs": [
    {
     "name": "stdout",
     "output_type": "stream",
     "text": [
      "Accuracy of SVM classifier on training set: 0.80\n",
      "Accuracy of SVM classifier on test set: 0.77\n",
      "[[198  11]\n",
      " [ 52  15]]\n",
      "              precision    recall  f1-score   support\n",
      "\n",
      "           0       0.79      0.95      0.86       209\n",
      "           1       0.58      0.22      0.32        67\n",
      "\n",
      "   micro avg       0.77      0.77      0.77       276\n",
      "   macro avg       0.68      0.59      0.59       276\n",
      "weighted avg       0.74      0.77      0.73       276\n",
      "\n"
     ]
    }
   ],
   "source": [
    "svm = LinearSVC(random_state=SEED)#,class_weight={0:0.3,1:0.7})\n",
    "svm.fit(X_train, y_train)\n",
    "print('Accuracy of SVM classifier on training set: {:.2f}'\n",
    "     .format(svm.score(X_train, y_train)))\n",
    "print('Accuracy of SVM classifier on test set: {:.2f}'\n",
    "     .format(svm.score(X_test, y_test)))\n",
    "pred = svm.predict(X_test)\n",
    "print(confusion_matrix(y_test, pred))\n",
    "print(classification_report(y_test, pred))"
   ]
  },
  {
   "cell_type": "markdown",
   "metadata": {},
   "source": [
    "### classify class 2"
   ]
  },
  {
   "cell_type": "code",
   "execution_count": 120,
   "metadata": {},
   "outputs": [],
   "source": [
    "X_train,y_train = get_data_from_dict_filter(trainset,2)\n",
    "X_test,y_test = get_data_from_dict_filter(testset,2)"
   ]
  },
  {
   "cell_type": "markdown",
   "metadata": {
    "collapsed": true
   },
   "source": [
    "\n",
    "C_range = np.logspace(-2, 10, 13)\n",
    "gamma_range = np.logspace(-9, 3, 13)\n",
    "param_grid = dict(gamma=gamma_range, C=C_range)\n",
    "cv = StratifiedShuffleSplit(n_splits=5, test_size=0.2, random_state=42)\n",
    "grid = GridSearchCV(SVC(), param_grid=param_grid, cv=cv)\n",
    "grid.fit(X_train, y_train)\n",
    "print(\"The best parameters are %s with a score of %0.2f\"\n",
    "      % (grid.best_params_, grid.best_score_))"
   ]
  },
  {
   "cell_type": "code",
   "execution_count": 121,
   "metadata": {},
   "outputs": [
    {
     "name": "stdout",
     "output_type": "stream",
     "text": [
      "Accuracy of SVM classifier on training set: 1.00\n",
      "Accuracy of SVM classifier on test set: 0.80\n",
      "[[211  35]\n",
      " [ 21   9]]\n",
      "              precision    recall  f1-score   support\n",
      "\n",
      "           0       0.91      0.86      0.88       246\n",
      "           2       0.20      0.30      0.24        30\n",
      "\n",
      "   micro avg       0.80      0.80      0.80       276\n",
      "   macro avg       0.56      0.58      0.56       276\n",
      "weighted avg       0.83      0.80      0.81       276\n",
      "\n"
     ]
    }
   ],
   "source": [
    "svm = SVC(decision_function_shape='ovr',gamma='scale',C= 10000000.0, random_state=SEED)#,class_weight={0:0.3,1:0.7})\n",
    "svm.fit(X_train, y_train)\n",
    "print('Accuracy of SVM classifier on training set: {:.2f}'\n",
    "     .format(svm.score(X_train, y_train)))\n",
    "print('Accuracy of SVM classifier on test set: {:.2f}'\n",
    "     .format(svm.score(X_test, y_test)))\n",
    "pred = svm.predict(X_test)\n",
    "print(confusion_matrix(y_test, pred))\n",
    "print(classification_report(y_test, pred))"
   ]
  },
  {
   "cell_type": "markdown",
   "metadata": {},
   "source": [
    "### Classify class 3"
   ]
  },
  {
   "cell_type": "code",
   "execution_count": 122,
   "metadata": {},
   "outputs": [],
   "source": [
    "X_train,y_train = get_data_from_dict_filter(trainset,3)\n",
    "X_test,y_test = get_data_from_dict_filter(testset,3)"
   ]
  },
  {
   "cell_type": "code",
   "execution_count": 123,
   "metadata": {},
   "outputs": [
    {
     "name": "stdout",
     "output_type": "stream",
     "text": [
      "Accuracy of SVM classifier on training set: 0.80\n",
      "Accuracy of SVM classifier on test set: 0.79\n",
      "[[185  18]\n",
      " [ 41  32]]\n",
      "              precision    recall  f1-score   support\n",
      "\n",
      "           0       0.82      0.91      0.86       203\n",
      "           3       0.64      0.44      0.52        73\n",
      "\n",
      "   micro avg       0.79      0.79      0.79       276\n",
      "   macro avg       0.73      0.67      0.69       276\n",
      "weighted avg       0.77      0.79      0.77       276\n",
      "\n"
     ]
    }
   ],
   "source": [
    "svm = SVC(decision_function_shape='ovr',gamma=1e-05,C= 10000000.0, random_state=SEED)#,class_weight={0:0.3,1:0.7})\n",
    "svm.fit(X_train, y_train)\n",
    "print('Accuracy of SVM classifier on training set: {:.2f}'\n",
    "     .format(svm.score(X_train, y_train)))\n",
    "print('Accuracy of SVM classifier on test set: {:.2f}'\n",
    "     .format(svm.score(X_test, y_test)))\n",
    "pred = svm.predict(X_test)\n",
    "print(confusion_matrix(y_test, pred))\n",
    "print(classification_report(y_test, pred))"
   ]
  },
  {
   "cell_type": "markdown",
   "metadata": {},
   "source": [
    "### Classify class 4"
   ]
  },
  {
   "cell_type": "code",
   "execution_count": 124,
   "metadata": {},
   "outputs": [
    {
     "name": "stdout",
     "output_type": "stream",
     "text": [
      "Accuracy of SVM classifier on training set: 0.97\n",
      "Accuracy of SVM classifier on test set: 0.96\n",
      "[[264   2]\n",
      " [ 10   0]]\n",
      "              precision    recall  f1-score   support\n",
      "\n",
      "           0       0.96      0.99      0.98       266\n",
      "           4       0.00      0.00      0.00        10\n",
      "\n",
      "   micro avg       0.96      0.96      0.96       276\n",
      "   macro avg       0.48      0.50      0.49       276\n",
      "weighted avg       0.93      0.96      0.94       276\n",
      "\n"
     ]
    }
   ],
   "source": [
    "X_train,y_train = get_data_from_dict_filter(trainset,4)\n",
    "X_test,y_test = get_data_from_dict_filter(testset,4)\n",
    "svm = SVC(decision_function_shape='ovr',gamma=1e-05,C= 10000000.0, random_state=SEED)#,class_weight={0:0.3,1:0.7})\n",
    "svm.fit(X_train, y_train)\n",
    "print('Accuracy of SVM classifier on training set: {:.2f}'\n",
    "     .format(svm.score(X_train, y_train)))\n",
    "print('Accuracy of SVM classifier on test set: {:.2f}'\n",
    "     .format(svm.score(X_test, y_test)))\n",
    "pred = svm.predict(X_test)\n",
    "print(confusion_matrix(y_test, pred))\n",
    "print(classification_report(y_test, pred))"
   ]
  },
  {
   "cell_type": "markdown",
   "metadata": {},
   "source": [
    "### classify class 5"
   ]
  },
  {
   "cell_type": "code",
   "execution_count": 125,
   "metadata": {
    "scrolled": true
   },
   "outputs": [
    {
     "name": "stdout",
     "output_type": "stream",
     "text": [
      "65.1705565529623\n"
     ]
    }
   ],
   "source": [
    "X_train,y_train = get_data_from_dict_filter(trainset,5)\n",
    "X_test,y_test = get_data_from_dict_filter(testset,5)\n",
    "print(y_train.count(0)*100.0/len(y_train))"
   ]
  },
  {
   "cell_type": "markdown",
   "metadata": {},
   "source": [
    "C_range = np.logspace(-2, 10, 13)\n",
    "gamma_range = np.logspace(-9, 3, 13)\n",
    "param_grid = dict(gamma=gamma_range, C=C_range)\n",
    "cv = StratifiedShuffleSplit(n_splits=5, test_size=0.2, random_state=42)\n",
    "grid = GridSearchCV(SVC(), param_grid=param_grid, cv=cv)\n",
    "grid.fit(X_train, y_train)\n",
    "print(\"The best parameters are %s with a score of %0.2f\"\n",
    "      % (grid.best_params_, grid.best_score_))\n"
   ]
  },
  {
   "cell_type": "code",
   "execution_count": 146,
   "metadata": {
    "scrolled": false
   },
   "outputs": [
    {
     "name": "stdout",
     "output_type": "stream",
     "text": [
      "Accuracy of SVM classifier on training set: 0.69\n",
      "Accuracy of SVM classifier on test set: 0.71\n",
      "[[168  12]\n",
      " [ 74  22]]\n",
      "              precision    recall  f1-score   support\n",
      "\n",
      "           0       0.74      0.84      0.79       180\n",
      "           5       0.61      0.45      0.51        96\n",
      "\n",
      "   micro avg       0.71      0.71      0.71       276\n",
      "   macro avg       0.67      0.65      0.65       276\n",
      "weighted avg       0.69      0.71      0.69       276\n",
      "\n"
     ]
    }
   ],
   "source": [
    "svm = SVC(decision_function_shape='ovr',gamma=1e-05,C= 10000000.0, random_state=SEED,probability=True)#,class_weight={0:0.3,1:0.7})\n",
    "svm.fit(X_train, y_train)\n",
    "print('Accuracy of SVM classifier on training set: {:.2f}'\n",
    "     .format(svm.score(X_train, y_train)))\n",
    "print('Accuracy of SVM classifier on test set: {:.2f}'\n",
    "     .format(svm.score(X_test, y_test)))\n",
    "pred5 = svm.predict(X_test)\n",
    "print(confusion_matrix(y_test, pred))\n",
    "print(classification_report(y_test, pred5))"
   ]
  },
  {
   "cell_type": "code",
   "execution_count": 155,
   "metadata": {},
   "outputs": [
    {
     "name": "stdout",
     "output_type": "stream",
     "text": [
      "Accuracy of SVM classifier on training set: 0.71\n",
      "Accuracy of SVM classifier on test set: 0.71\n",
      "[[169  11]\n",
      " [ 69  27]]\n",
      "              precision    recall  f1-score   support\n",
      "\n",
      "           0       0.71      0.94      0.81       180\n",
      "           5       0.71      0.28      0.40        96\n",
      "\n",
      "   micro avg       0.71      0.71      0.71       276\n",
      "   macro avg       0.71      0.61      0.61       276\n",
      "weighted avg       0.71      0.71      0.67       276\n",
      "\n"
     ]
    }
   ],
   "source": [
    "svm = SVC(decision_function_shape='ovr',gamma='scale',C=100,random_state=SEED,probability=True)#,class_weight={0:0.3,1:0.7})\n",
    "svm.fit(X_train, y_train)\n",
    "print('Accuracy of SVM classifier on training set: {:.2f}'\n",
    "     .format(svm.score(X_train, y_train)))\n",
    "print('Accuracy of SVM classifier on test set: {:.2f}'\n",
    "     .format(svm.score(X_test, y_test)))\n",
    "pred5 = svm.predict(X_test)\n",
    "print(confusion_matrix(y_test, pred5))\n",
    "print(classification_report(y_test, pred5))"
   ]
  },
  {
   "cell_type": "code",
   "execution_count": 150,
   "metadata": {},
   "outputs": [
    {
     "data": {
      "text/plain": [
       "[(array([0.80782643, 0.19217357]), 0, 0),\n",
       " (array([0.75571126, 0.24428874]), 0, 0),\n",
       " (array([0.62837001, 0.37162999]), 0, 0),\n",
       " (array([0.71087354, 0.28912646]), 0, 0),\n",
       " (array([0.72562566, 0.27437434]), 0, 0),\n",
       " (array([0.69739819, 0.30260181]), 0, 0),\n",
       " (array([0.64664917, 0.35335083]), 0, 0),\n",
       " (array([0.68949428, 0.31050572]), 0, 0),\n",
       " (array([0.5, 0.5]), 5, 0),\n",
       " (array([0.54483354, 0.45516646]), 5, 0),\n",
       " (array([0.84984959, 0.15015041]), 0, 0),\n",
       " (array([0.73501397, 0.26498603]), 0, 0),\n",
       " (array([0.74011365, 0.25988635]), 0, 0),\n",
       " (array([0.67047406, 0.32952594]), 0, 0),\n",
       " (array([0.74598106, 0.25401894]), 0, 0),\n",
       " (array([0.63880666, 0.36119334]), 0, 0),\n",
       " (array([0.71058951, 0.28941049]), 0, 0),\n",
       " (array([0.72018991, 0.27981009]), 0, 0),\n",
       " (array([0.5763504, 0.4236496]), 5, 0),\n",
       " (array([0.63692404, 0.36307596]), 0, 0),\n",
       " (array([0.70698932, 0.29301068]), 0, 0),\n",
       " (array([0.73067155, 0.26932845]), 0, 0),\n",
       " (array([0.80389052, 0.19610948]), 0, 0),\n",
       " (array([0.75064591, 0.24935409]), 0, 0),\n",
       " (array([0.79884505, 0.20115495]), 0, 0),\n",
       " (array([0.69827744, 0.30172256]), 0, 0),\n",
       " (array([0.70639539, 0.29360461]), 0, 0),\n",
       " (array([0.74557042, 0.25442958]), 0, 0),\n",
       " (array([0.72918715, 0.27081285]), 0, 0),\n",
       " (array([0.6529704, 0.3470296]), 0, 0),\n",
       " (array([0.76126155, 0.23873845]), 0, 0),\n",
       " (array([0.72142095, 0.27857905]), 0, 0),\n",
       " (array([0.87408478, 0.12591522]), 0, 0),\n",
       " (array([0.64045717, 0.35954283]), 0, 0),\n",
       " (array([0.82335291, 0.17664709]), 0, 0),\n",
       " (array([0.68248896, 0.31751104]), 0, 0),\n",
       " (array([0.72529738, 0.27470262]), 0, 0),\n",
       " (array([0.72703889, 0.27296111]), 0, 0),\n",
       " (array([0.64008563, 0.35991437]), 0, 0),\n",
       " (array([0.60234851, 0.39765149]), 0, 0),\n",
       " (array([0.73601162, 0.26398838]), 0, 0),\n",
       " (array([0.72279647, 0.27720353]), 0, 0),\n",
       " (array([0.73959924, 0.26040076]), 0, 0),\n",
       " (array([0.87717949, 0.12282051]), 0, 0),\n",
       " (array([0.63016322, 0.36983678]), 0, 0),\n",
       " (array([0.7682422, 0.2317578]), 0, 0),\n",
       " (array([0.66384719, 0.33615281]), 0, 0),\n",
       " (array([0.71683482, 0.28316518]), 0, 0),\n",
       " (array([0.62117995, 0.37882005]), 0, 0),\n",
       " (array([0.75969636, 0.24030364]), 0, 0),\n",
       " (array([0.67047546, 0.32952454]), 0, 0),\n",
       " (array([0.53416296, 0.46583704]), 5, 0),\n",
       " (array([0.66534118, 0.33465882]), 0, 0),\n",
       " (array([0.65365816, 0.34634184]), 0, 0),\n",
       " (array([0.71052866, 0.28947134]), 0, 0),\n",
       " (array([0.73788228, 0.26211772]), 0, 0),\n",
       " (array([0.90030221, 0.09969779]), 0, 0),\n",
       " (array([0.73519559, 0.26480441]), 0, 0),\n",
       " (array([0.5, 0.5]), 5, 0),\n",
       " (array([0.65899591, 0.34100409]), 0, 0),\n",
       " (array([0.52737154, 0.47262846]), 5, 0),\n",
       " (array([0.61426642, 0.38573358]), 0, 0),\n",
       " (array([0.70542096, 0.29457904]), 0, 0),\n",
       " (array([0.70316439, 0.29683561]), 0, 0),\n",
       " (array([0.73334238, 0.26665762]), 0, 0),\n",
       " (array([0.8652341, 0.1347659]), 0, 0),\n",
       " (array([0.79136429, 0.20863571]), 0, 0),\n",
       " (array([0.57195903, 0.42804097]), 5, 0),\n",
       " (array([0.57240693, 0.42759307]), 5, 0),\n",
       " (array([0.77424362, 0.22575638]), 0, 0),\n",
       " (array([0.81781723, 0.18218277]), 0, 0),\n",
       " (array([0.78188747, 0.21811253]), 0, 0),\n",
       " (array([0.73006131, 0.26993869]), 0, 0),\n",
       " (array([0.57542781, 0.42457219]), 5, 0),\n",
       " (array([0.51713819, 0.48286181]), 5, 0),\n",
       " (array([0.62967399, 0.37032601]), 0, 0),\n",
       " (array([0.5, 0.5]), 5, 0),\n",
       " (array([0.71279639, 0.28720361]), 0, 0),\n",
       " (array([0.59884757, 0.40115243]), 0, 0),\n",
       " (array([0.7370935, 0.2629065]), 0, 0),\n",
       " (array([0.7261818, 0.2738182]), 0, 0),\n",
       " (array([0.78990259, 0.21009741]), 0, 0),\n",
       " (array([0.87450785, 0.12549215]), 0, 0),\n",
       " (array([0.75890964, 0.24109036]), 0, 0),\n",
       " (array([0.61707409, 0.38292591]), 0, 0),\n",
       " (array([0.69715727, 0.30284273]), 0, 0),\n",
       " (array([0.7740659, 0.2259341]), 0, 0),\n",
       " (array([0.58337774, 0.41662226]), 0, 0),\n",
       " (array([0.61620178, 0.38379822]), 0, 0),\n",
       " (array([0.67860658, 0.32139342]), 0, 0),\n",
       " (array([0.59279438, 0.40720562]), 0, 0),\n",
       " (array([0.74584399, 0.25415601]), 0, 0),\n",
       " (array([0.58768009, 0.41231991]), 0, 0),\n",
       " (array([0.56542162, 0.43457838]), 5, 0),\n",
       " (array([0.58927528, 0.41072472]), 0, 0),\n",
       " (array([0.71902665, 0.28097335]), 0, 0),\n",
       " (array([0.63904352, 0.36095648]), 0, 0),\n",
       " (array([0.84151172, 0.15848828]), 0, 0),\n",
       " (array([0.81276693, 0.18723307]), 0, 0),\n",
       " (array([0.51700762, 0.48299238]), 5, 0),\n",
       " (array([0.67091808, 0.32908192]), 0, 0),\n",
       " (array([0.6108124, 0.3891876]), 0, 0),\n",
       " (array([0.57304349, 0.42695651]), 5, 0),\n",
       " (array([0.81390447, 0.18609553]), 0, 0),\n",
       " (array([0.63296085, 0.36703915]), 0, 0),\n",
       " (array([0.58306668, 0.41693332]), 0, 0),\n",
       " (array([0.71776821, 0.28223179]), 0, 0),\n",
       " (array([0.58060925, 0.41939075]), 0, 0),\n",
       " (array([0.57226469, 0.42773531]), 5, 0),\n",
       " (array([0.83872784, 0.16127216]), 0, 0),\n",
       " (array([0.76640181, 0.23359819]), 0, 0),\n",
       " (array([0.78075839, 0.21924161]), 0, 0),\n",
       " (array([0.68535938, 0.31464062]), 0, 0),\n",
       " (array([0.78996587, 0.21003413]), 0, 0),\n",
       " (array([0.58233655, 0.41766345]), 0, 0),\n",
       " (array([0.85295354, 0.14704646]), 0, 0),\n",
       " (array([0.75460704, 0.24539296]), 0, 0),\n",
       " (array([0.59819237, 0.40180763]), 0, 0),\n",
       " (array([0.77405654, 0.22594346]), 0, 0),\n",
       " (array([0.58083793, 0.41916207]), 0, 0),\n",
       " (array([0.56429567, 0.43570433]), 5, 0),\n",
       " (array([0.6267071, 0.3732929]), 0, 0),\n",
       " (array([0.64137579, 0.35862421]), 0, 0),\n",
       " (array([0.80232893, 0.19767107]), 0, 0),\n",
       " (array([0.65996357, 0.34003643]), 0, 0),\n",
       " (array([0.7600668, 0.2399332]), 0, 0),\n",
       " (array([0.86336631, 0.13663369]), 0, 0),\n",
       " (array([0.61713906, 0.38286094]), 0, 0),\n",
       " (array([0.84660614, 0.15339386]), 0, 0),\n",
       " (array([0.63473541, 0.36526459]), 0, 0),\n",
       " (array([0.63615103, 0.36384897]), 0, 0),\n",
       " (array([0.8156243, 0.1843757]), 0, 0),\n",
       " (array([0.55873563, 0.44126437]), 5, 0),\n",
       " (array([0.77130905, 0.22869095]), 0, 0),\n",
       " (array([0.83022181, 0.16977819]), 0, 0),\n",
       " (array([0.75525972, 0.24474028]), 0, 0),\n",
       " (array([0.6096439, 0.3903561]), 0, 0),\n",
       " (array([0.73169211, 0.26830789]), 0, 0),\n",
       " (array([0.76713726, 0.23286274]), 0, 0),\n",
       " (array([0.79353617, 0.20646383]), 0, 0),\n",
       " (array([0.60820522, 0.39179478]), 0, 0),\n",
       " (array([0.56763073, 0.43236927]), 5, 0),\n",
       " (array([0.52847677, 0.47152323]), 5, 0),\n",
       " (array([0.88572969, 0.11427031]), 0, 0),\n",
       " (array([0.8708271, 0.1291729]), 0, 0),\n",
       " (array([0.71579122, 0.28420878]), 0, 0),\n",
       " (array([0.65667788, 0.34332212]), 0, 0),\n",
       " (array([0.72023782, 0.27976218]), 0, 0),\n",
       " (array([0.66952295, 0.33047705]), 0, 0),\n",
       " (array([0.41011832, 0.58988168]), 5, 0),\n",
       " (array([0.74590914, 0.25409086]), 0, 0),\n",
       " (array([0.55558822, 0.44441178]), 5, 0),\n",
       " (array([0.65314053, 0.34685947]), 0, 0),\n",
       " (array([0.55223701, 0.44776299]), 5, 0),\n",
       " (array([0.56580951, 0.43419049]), 5, 0),\n",
       " (array([0.76318515, 0.23681485]), 0, 0),\n",
       " (array([0.81654243, 0.18345757]), 0, 0),\n",
       " (array([0.60610274, 0.39389726]), 0, 0),\n",
       " (array([0.63708745, 0.36291255]), 0, 0),\n",
       " (array([0.85678117, 0.14321883]), 0, 0),\n",
       " (array([0.62364732, 0.37635268]), 0, 0),\n",
       " (array([0.71988613, 0.28011387]), 0, 0),\n",
       " (array([0.46945594, 0.53054406]), 5, 0),\n",
       " (array([0.63483556, 0.36516444]), 0, 0),\n",
       " (array([0.63156477, 0.36843523]), 0, 0),\n",
       " (array([0.71978971, 0.28021029]), 0, 0),\n",
       " (array([0.65015501, 0.34984499]), 0, 0),\n",
       " (array([0.63762586, 0.36237414]), 0, 0),\n",
       " (array([0.6486826, 0.3513174]), 0, 0),\n",
       " (array([0.69086893, 0.30913107]), 0, 0),\n",
       " (array([0.64931014, 0.35068986]), 0, 0),\n",
       " (array([0.69101798, 0.30898202]), 0, 0),\n",
       " (array([0.60674014, 0.39325986]), 0, 0),\n",
       " (array([0.58815917, 0.41184083]), 0, 0),\n",
       " (array([0.48918664, 0.51081336]), 5, 0),\n",
       " (array([0.57823991, 0.42176009]), 0, 0),\n",
       " (array([0.54673086, 0.45326914]), 5, 0),\n",
       " (array([0.63317865, 0.36682135]), 0, 0),\n",
       " (array([0.57215642, 0.42784358]), 5, 0),\n",
       " (array([0.55842703, 0.44157297]), 5, 0),\n",
       " (array([0.77962324, 0.22037676]), 0, 5),\n",
       " (array([0.55121736, 0.44878264]), 5, 5),\n",
       " (array([0.49441577, 0.50558423]), 5, 5),\n",
       " (array([0.55634601, 0.44365399]), 5, 5),\n",
       " (array([0.57498547, 0.42501453]), 5, 5),\n",
       " (array([0.82376253, 0.17623747]), 0, 5),\n",
       " (array([0.42243246, 0.57756754]), 5, 5),\n",
       " (array([0.65103591, 0.34896409]), 0, 5),\n",
       " (array([0.53752958, 0.46247042]), 5, 5),\n",
       " (array([0.53123148, 0.46876852]), 5, 5),\n",
       " (array([0.54625543, 0.45374457]), 5, 5),\n",
       " (array([0.63132339, 0.36867661]), 0, 5),\n",
       " (array([0.63622315, 0.36377685]), 0, 5),\n",
       " (array([0.51987315, 0.48012685]), 5, 5),\n",
       " (array([0.661343, 0.338657]), 0, 5),\n",
       " (array([0.65138244, 0.34861756]), 0, 5),\n",
       " (array([0.59405531, 0.40594469]), 0, 5),\n",
       " (array([0.48440729, 0.51559271]), 5, 5),\n",
       " (array([0.61327229, 0.38672771]), 0, 5),\n",
       " (array([0.4645965, 0.5354035]), 5, 5),\n",
       " (array([0.51671747, 0.48328253]), 5, 5),\n",
       " (array([0.59109426, 0.40890574]), 0, 5),\n",
       " (array([0.5163836, 0.4836164]), 5, 5),\n",
       " (array([0.62447363, 0.37552637]), 0, 5),\n",
       " (array([0.69107826, 0.30892174]), 0, 5),\n",
       " (array([0.71744774, 0.28255226]), 0, 5),\n",
       " (array([0.72074192, 0.27925808]), 0, 5),\n",
       " (array([0.77697366, 0.22302634]), 0, 5),\n",
       " (array([0.51175455, 0.48824545]), 5, 5),\n",
       " (array([0.56429925, 0.43570075]), 5, 5),\n",
       " (array([0.58742354, 0.41257646]), 0, 5),\n",
       " (array([0.47522071, 0.52477929]), 5, 5),\n",
       " (array([0.63166362, 0.36833638]), 0, 5),\n",
       " (array([0.73660917, 0.26339083]), 0, 5),\n",
       " (array([0.59824341, 0.40175659]), 0, 5),\n",
       " (array([0.66952536, 0.33047464]), 0, 5),\n",
       " (array([0.5987022, 0.4012978]), 0, 5),\n",
       " (array([0.51340621, 0.48659379]), 5, 5),\n",
       " (array([0.56719707, 0.43280293]), 5, 5),\n",
       " (array([0.68269726, 0.31730274]), 0, 5),\n",
       " (array([0.45454385, 0.54545615]), 5, 5),\n",
       " (array([0.52229073, 0.47770927]), 5, 5),\n",
       " (array([0.51890532, 0.48109468]), 5, 5),\n",
       " (array([0.58308717, 0.41691283]), 0, 5),\n",
       " (array([0.77546339, 0.22453661]), 0, 5),\n",
       " (array([0.74658635, 0.25341365]), 0, 5),\n",
       " (array([0.64141776, 0.35858224]), 0, 5),\n",
       " (array([0.52650934, 0.47349066]), 5, 5),\n",
       " (array([0.63712954, 0.36287046]), 0, 5),\n",
       " (array([0.57546057, 0.42453943]), 5, 5),\n",
       " (array([0.67161001, 0.32838999]), 0, 5),\n",
       " (array([0.40976565, 0.59023435]), 5, 5),\n",
       " (array([0.4155082, 0.5844918]), 5, 5),\n",
       " (array([0.51029946, 0.48970054]), 5, 5),\n",
       " (array([0.47802974, 0.52197026]), 5, 5),\n",
       " (array([0.75814112, 0.24185888]), 0, 5),\n",
       " (array([0.51557964, 0.48442036]), 5, 5),\n",
       " (array([0.65850795, 0.34149205]), 0, 5),\n",
       " (array([0.55424394, 0.44575606]), 5, 5),\n",
       " (array([0.62735429, 0.37264571]), 0, 5),\n",
       " (array([0.75022131, 0.24977869]), 0, 5),\n",
       " (array([0.6118592, 0.3881408]), 0, 5),\n",
       " (array([0.55024884, 0.44975116]), 5, 5),\n",
       " (array([0.76338256, 0.23661744]), 0, 5),\n",
       " (array([0.42487621, 0.57512379]), 5, 5),\n",
       " (array([0.52760924, 0.47239076]), 5, 5),\n",
       " (array([0.55613015, 0.44386985]), 5, 5),\n",
       " (array([0.55516252, 0.44483748]), 5, 5),\n",
       " (array([0.5173986, 0.4826014]), 5, 5),\n",
       " (array([0.49280281, 0.50719719]), 5, 5),\n",
       " (array([0.69849138, 0.30150862]), 0, 5),\n",
       " (array([0.65828235, 0.34171765]), 0, 5),\n",
       " (array([0.82370243, 0.17629757]), 0, 5),\n",
       " (array([0.57347994, 0.42652006]), 5, 5),\n",
       " (array([0.70684571, 0.29315429]), 0, 5),\n",
       " (array([0.58923149, 0.41076851]), 0, 5),\n",
       " (array([0.71820229, 0.28179771]), 0, 5),\n",
       " (array([0.59439212, 0.40560788]), 0, 5),\n",
       " (array([0.60715769, 0.39284231]), 0, 5),\n",
       " (array([0.61921968, 0.38078032]), 0, 5),\n",
       " (array([0.5, 0.5]), 5, 5),\n",
       " (array([0.78467807, 0.21532193]), 0, 5),\n",
       " (array([0.5741882, 0.4258118]), 5, 5),\n",
       " (array([0.63805018, 0.36194982]), 0, 5),\n",
       " (array([0.62750581, 0.37249419]), 0, 5),\n",
       " (array([0.59906587, 0.40093413]), 0, 5),\n",
       " (array([0.54842513, 0.45157487]), 5, 5),\n",
       " (array([0.78980589, 0.21019411]), 0, 5),\n",
       " (array([0.71171006, 0.28828994]), 0, 5),\n",
       " (array([0.71675764, 0.28324236]), 0, 5),\n",
       " (array([0.60435998, 0.39564002]), 0, 5),\n",
       " (array([0.51087113, 0.48912887]), 5, 5),\n",
       " (array([0.65270453, 0.34729547]), 0, 5),\n",
       " (array([0.58252836, 0.41747164]), 0, 5),\n",
       " (array([0.43171295, 0.56828705]), 5, 5),\n",
       " (array([0.4930514, 0.5069486]), 5, 5)]"
      ]
     },
     "execution_count": 150,
     "metadata": {},
     "output_type": "execute_result"
    }
   ],
   "source": [
    "list(zip(svm.predict_proba(X_test),pred5,y_test))"
   ]
  },
  {
   "cell_type": "markdown",
   "metadata": {},
   "source": [
    "#### Regression\n"
   ]
  },
  {
   "cell_type": "code",
   "execution_count": 127,
   "metadata": {},
   "outputs": [],
   "source": [
    "%matplotlib inline  \n",
    "import numpy as np\n",
    "import matplotlib.pyplot as plt\n",
    "from sklearn.datasets import make_blobs\n",
    "from sklearn.linear_model import LogisticRegression\n",
    "from sklearn.decomposition import PCA"
   ]
  },
  {
   "cell_type": "code",
   "execution_count": 128,
   "metadata": {},
   "outputs": [],
   "source": [
    "#clf = LogisticRegression(solver='liblinear', max_iter=1000, random_state=42,class_weight={0:0.36,5:0.63}).fit(X_train, y_train)\n",
    "clf = LogisticRegression(solver='liblinear', max_iter=1000, random_state=42).fit(X_train, y_train)"
   ]
  },
  {
   "cell_type": "code",
   "execution_count": 129,
   "metadata": {
    "scrolled": true
   },
   "outputs": [
    {
     "name": "stdout",
     "output_type": "stream",
     "text": [
      "[[168  12]\n",
      " [ 74  22]]\n",
      "              precision    recall  f1-score   support\n",
      "\n",
      "           0       0.69      0.93      0.80       180\n",
      "           5       0.65      0.23      0.34        96\n",
      "\n",
      "   micro avg       0.69      0.69      0.69       276\n",
      "   macro avg       0.67      0.58      0.57       276\n",
      "weighted avg       0.68      0.69      0.64       276\n",
      "\n"
     ]
    }
   ],
   "source": [
    "pred = clf.predict(X_test)\n",
    "print(confusion_matrix(y_test, pred))\n",
    "print(classification_report(y_test, pred))"
   ]
  },
  {
   "cell_type": "code",
   "execution_count": 130,
   "metadata": {},
   "outputs": [
    {
     "data": {
      "image/png": "[encoded data removed]",
      "text/plain": [
       "<Figure size 864x288 with 1 Axes>"
      ]
     },
     "metadata": {
      "needs_background": "light"
     },
     "output_type": "display_data"
    }
   ],
   "source": [
    "f = plt.figure(figsize=(12,4))\n",
    "plt.scatter(range(len(clf.coef_[0])),clf.coef_[0],s=2.3)\n",
    "out_std = [x for x in clf.coef_[0] if np.abs(x) > 0.45]\n",
    "out_std_i = [i for i,x in enumerate(clf.coef_[0]) if np.abs(x) > 0.45]\n",
    "plt.scatter(out_std_i,out_std,s=2.8)\n",
    "#plt.xticks(range(0,len(clf.coef_[0])+1,2),rotation=90)\n",
    "#plt.ylim(-1,1)\n",
    "plt.xlabel('Topic')\n",
    "plt.ylabel('Coefficient')\n",
    "plt.title('Coefficient in logistic regression classifier \\nbetween phase 5 and not phase 5')\n",
    "plt.grid()"
   ]
  },
  {
   "cell_type": "code",
   "execution_count": 49,
   "metadata": {},
   "outputs": [
    {
     "data": {
      "text/plain": [
       "0.45425204108939343"
      ]
     },
     "execution_count": 49,
     "metadata": {},
     "output_type": "execute_result"
    }
   ],
   "source": [
    "np.round(np.mean(clf.coef_[0]),4)\n",
    "np.std(clf.coef_[0])"
   ]
  },
  {
   "cell_type": "markdown",
   "metadata": {},
   "source": [
    "### Important Topics"
   ]
  },
  {
   "cell_type": "code",
   "execution_count": 131,
   "metadata": {
    "scrolled": true
   },
   "outputs": [
    {
     "name": "stderr",
     "output_type": "stream",
     "text": [
      "C:\\Users\\CATALINA ESPINOZA\\AppData\\Local\\conda\\conda\\envs\\teacher_topic_model\\lib\\site-packages\\gensim\\utils.py:1209: UserWarning: detected Windows; aliasing chunkize to chunkize_serial\n",
      "  warnings.warn(\"detected Windows; aliasing chunkize to chunkize_serial\")\n"
     ]
    }
   ],
   "source": [
    "a_name = 'lda_textbooks_chunksize_alpha_auto_seed_{}_{}_{}_{}.pickle'.format(SEED,num_topics,REMOVE_STOPWORDS,WITH_STEMMING)\n",
    "model_file = os.path.join(results_path,'lda_models',a_name)\n",
    "with open(model_file,'rb') as f:\n",
    "    ldamodel = pickle.load(f)"
   ]
  },
  {
   "cell_type": "code",
   "execution_count": 132,
   "metadata": {},
   "outputs": [],
   "source": [
    "les_ids = np.argsort(np.abs(clf.coef_[0]))[-20:]"
   ]
  },
  {
   "cell_type": "code",
   "execution_count": 133,
   "metadata": {
    "scrolled": true
   },
   "outputs": [
    {
     "data": {
      "text/plain": [
       "[(99, -0.6815322803154235),\n",
       " (146, -0.7171967159647431),\n",
       " (86, -0.7337224145596986),\n",
       " (149, -0.7475518935972536),\n",
       " (29, -0.7478563624813036),\n",
       " (3, -0.7632775678656876),\n",
       " (123, -0.764096928595131),\n",
       " (63, -0.7645231879861699),\n",
       " (89, -0.7674327716717719),\n",
       " (90, 0.8550722660477563),\n",
       " (150, 0.8720556724783496),\n",
       " (26, -0.8736327238736886),\n",
       " (30, 0.9188805895423755),\n",
       " (43, -1.09630313428274),\n",
       " (163, -1.1047489733133293),\n",
       " (103, -1.1379291483525755),\n",
       " (153, -1.2802503956679847),\n",
       " (93, -1.2862417020779864),\n",
       " (33, -1.3056465843393474),\n",
       " (181, 1.5762875761075135)]"
      ]
     },
     "execution_count": 133,
     "metadata": {},
     "output_type": "execute_result"
    }
   ],
   "source": [
    "list(zip(np.argsort(np.abs(clf.coef_[0]))[-20:],clf.coef_[0][les_ids]))"
   ]
  },
  {
   "cell_type": "code",
   "execution_count": 57,
   "metadata": {},
   "outputs": [
    {
     "name": "stdout",
     "output_type": "stream",
     "text": [
      "utterance_Topic_44\n",
      "utterance_after_Topic_34\n",
      "utterance_Topic_34\n",
      "utterance_before_Topic_34\n",
      "phase_1\n"
     ]
    }
   ],
   "source": [
    "print(df.columns[103])\n",
    "print(df.columns[153])\n",
    "print(df.columns[93])\n",
    "print(df.columns[33])\n",
    "print(df.columns[181])"
   ]
  },
  {
   "cell_type": "markdown",
   "metadata": {},
   "source": [
    "Topics"
   ]
  },
  {
   "cell_type": "code",
   "execution_count": 55,
   "metadata": {},
   "outputs": [
    {
     "data": {
      "text/plain": [
       "[('NUMBER', 0.6798587),\n",
       " ('a', 0.08793937),\n",
       " ('b', 0.07294916),\n",
       " ('c', 0.04292229),\n",
       " ('d', 0.022924542),\n",
       " ('lask', 0.007425218),\n",
       " ('+', 0.005417729),\n",
       " ('yhtälö', 0.003409941),\n",
       " ('kirj', 0.00226472),\n",
       " ('A_NAME', 0.002003389)]"
      ]
     },
     "execution_count": 55,
     "metadata": {},
     "output_type": "execute_result"
    }
   ],
   "source": [
    "ldamodel.show_topic(33)"
   ]
  },
  {
   "cell_type": "code",
   "execution_count": 118,
   "metadata": {
    "scrolled": true
   },
   "outputs": [
    {
     "data": {
      "text/plain": [
       "[('EQUAL_SYMBOL', 0.16383563),\n",
       " ('n', 0.10167014),\n",
       " ('e', 0.08339013),\n",
       " ('NUMBER', 0.07767182),\n",
       " ('v', 0.050334003),\n",
       " ('k', 0.05002136),\n",
       " ('s', 0.045941617),\n",
       " ('m', 0.044747524),\n",
       " ('T_', 0.04445801),\n",
       " ('o', 0.035047248)]"
      ]
     },
     "execution_count": 118,
     "metadata": {},
     "output_type": "execute_result"
    }
   ],
   "source": [
    "ldamodel.show_topic(43)"
   ]
  },
  {
   "cell_type": "code",
   "execution_count": 131,
   "metadata": {
    "scrolled": true
   },
   "outputs": [
    {
     "data": {
      "text/plain": [
       "[('a', 0.0762239),\n",
       " ('b', 0.031992134),\n",
       " ('c', 0.026608875),\n",
       " ('e', 0.023899583),\n",
       " ('oike', 0.01626492),\n",
       " ('kuva', 0.014383731),\n",
       " ('rin', 0.014164257),\n",
       " ('tulo', 0.012914545),\n",
       " ('kirj', 0.012067141),\n",
       " ('suuremp', 0.0119486265)]"
      ]
     },
     "execution_count": 131,
     "metadata": {},
     "output_type": "execute_result"
    }
   ],
   "source": [
    "ldamodel.show_topic(30)"
   ]
  },
  {
   "cell_type": "markdown",
   "metadata": {},
   "source": [
    "### Plot phrases"
   ]
  },
  {
   "cell_type": "code",
   "execution_count": 58,
   "metadata": {},
   "outputs": [
    {
     "name": "stdout",
     "output_type": "stream",
     "text": [
      "1509\n",
      "182\n"
     ]
    }
   ],
   "source": [
    "print(len(X_train))\n",
    "print(len(X_train[0]))"
   ]
  },
  {
   "cell_type": "code",
   "execution_count": 59,
   "metadata": {},
   "outputs": [],
   "source": [
    "amat2 = np.ones((len(X_train[0]),len(X_train)))\n",
    "for i in range(len(X_train[0])):\n",
    "    lali = []\n",
    "    for element in X_train:\n",
    "        lali.append(element[i])\n",
    "    amat2[i,:] =np.array(lali)\n",
    "    \n",
    "means = [np.mean(amat2[i]) for i in range(len(X_train[0]))]\n",
    "\n",
    "X_train_centered = []\n",
    "for i in range(len(X_train)):\n",
    "    row = []\n",
    "    for j in range(len(X_train[0])):\n",
    "        row.append(X_train[i][j]-means[j])\n",
    "    X_train_centered.append(row)"
   ]
  },
  {
   "cell_type": "code",
   "execution_count": 60,
   "metadata": {},
   "outputs": [
    {
     "data": {
      "text/plain": [
       "PCA(copy=True, iterated_power='auto', n_components=2, random_state=None,\n",
       "  svd_solver='auto', tol=0.0, whiten=False)"
      ]
     },
     "execution_count": 60,
     "metadata": {},
     "output_type": "execute_result"
    }
   ],
   "source": [
    "# make 3-class dataset for classification\n",
    "pca = PCA(n_components=2)\n",
    "pca.fit(X_train_centered)"
   ]
  },
  {
   "cell_type": "code",
   "execution_count": 61,
   "metadata": {},
   "outputs": [
    {
     "data": {
      "text/plain": [
       "0.4818725475718876"
      ]
     },
     "execution_count": 61,
     "metadata": {},
     "output_type": "execute_result"
    }
   ],
   "source": [
    "sum(pca.explained_variance_ratio_)"
   ]
  },
  {
   "cell_type": "code",
   "execution_count": 62,
   "metadata": {},
   "outputs": [],
   "source": [
    "v_1 = pca.components_[0]\n",
    "v_2 = pca.components_[1]"
   ]
  },
  {
   "cell_type": "code",
   "execution_count": 63,
   "metadata": {},
   "outputs": [
    {
     "data": {
      "text/plain": [
       "array([133, 145,  12,  72, 132,  49, 116, 176,  56,  44,  25,  85, 114,\n",
       "        54,  97, 157, 174,  75,  24,  94, 144, 154,  73, 169,  34, 124,\n",
       "        64,   4,  13,  41, 161, 101, 109,  84, 164,  20, 113, 173,  53,\n",
       "       146, 152, 172, 155,  37, 112,  83,  23,  35, 143,  86, 104,  52,\n",
       "       165,  45, 105, 135, 122,   2,  62,  98,  38, 126,  66,   6,  47,\n",
       "        92,  88, 148,  28, 158,  95, 167, 107, 127,  67,  26,  15,  32,\n",
       "        80,   7,  30,  31,  91, 140,  16,  79, 150, 139,  90,  19,  76,\n",
       "        40, 100, 160, 136,  14,  74, 134, 151,  46, 106,  58, 178, 142,\n",
       "       166,  60, 168,  57, 121,  82,  22, 111,  51, 171, 120, 177,  61,\n",
       "       118, 117,   1,   0, 141,  21,  81,  11,  71,  43, 103, 163, 179,\n",
       "       131, 119,  48,  59,  42, 162, 102,  96,  36,  78, 156,  17,  77,\n",
       "       137, 149,  29, 108,  89,  18, 138, 125,  27,   8, 128,  68, 147,\n",
       "       175,   5, 115,  55,  87,  65,  99,  39, 159, 123,  63,  50,   3,\n",
       "       170, 110, 130,  10,  70,  69,   9, 129,  33,  93, 153, 180, 181],\n",
       "      dtype=int64)"
      ]
     },
     "execution_count": 63,
     "metadata": {},
     "output_type": "execute_result"
    }
   ],
   "source": [
    "np.argsort(np.abs(v_1))"
   ]
  },
  {
   "cell_type": "code",
   "execution_count": 64,
   "metadata": {},
   "outputs": [
    {
     "data": {
      "text/plain": [
       "array([ 6.57696184e-06,  8.87658594e-06,  2.05682992e-05,  2.05901034e-05,\n",
       "        2.07268739e-05,  2.64775499e-05,  3.47799696e-05,  3.50906189e-05,\n",
       "        3.61146567e-05,  5.12762815e-05, -5.56916623e-05, -5.67713756e-05,\n",
       "       -7.04676779e-05, -7.28285197e-05, -7.32309816e-05, -7.37930354e-05,\n",
       "       -7.52538655e-05,  9.24184942e-05, -9.44317721e-05, -1.15068804e-04,\n",
       "       -1.16617097e-04, -1.29976641e-04, -1.30688112e-04, -1.33991690e-04,\n",
       "       -1.75931529e-04,  1.80581215e-04,  1.81160356e-04,  1.82271723e-04,\n",
       "       -1.82664875e-04,  1.85053421e-04,  1.85178225e-04,  1.85238065e-04,\n",
       "        2.08639015e-04, -2.27812886e-04,  2.64900742e-04,  2.66256694e-04,\n",
       "        2.79844199e-04,  2.80028782e-04,  2.80069871e-04,  3.06897104e-04,\n",
       "       -3.21655136e-04, -3.62854615e-04, -3.66187667e-04, -3.73359266e-04,\n",
       "       -3.80131444e-04, -3.80849872e-04, -3.82857124e-04, -4.06222879e-04,\n",
       "       -4.10250249e-04,  4.11182005e-04,  4.13319991e-04, -4.14271074e-04,\n",
       "        4.54708162e-04,  4.54717511e-04,  4.54727546e-04, -4.62692390e-04,\n",
       "        4.95434482e-04,  4.96338684e-04,  4.96346127e-04,  5.09336804e-04,\n",
       "        5.09582430e-04,  5.12727477e-04,  5.12765358e-04,  5.14995866e-04,\n",
       "       -5.22233179e-04, -5.31873846e-04, -5.40352790e-04, -5.40352901e-04,\n",
       "       -5.40352981e-04,  5.55081870e-04, -5.68257866e-04, -5.77370004e-04,\n",
       "       -5.78029573e-04,  6.02336234e-04,  6.06377066e-04,  6.22250441e-04,\n",
       "       -6.24977200e-04, -7.05620535e-04,  7.16355901e-04,  7.28308000e-04,\n",
       "       -7.37282636e-04, -7.55773199e-04, -7.56416308e-04,  7.58717533e-04,\n",
       "        7.75551607e-04, -8.38121261e-04, -8.49887152e-04, -9.04325675e-04,\n",
       "       -9.34996242e-04, -9.59022418e-04,  9.98334515e-04,  1.02280516e-03,\n",
       "        1.02280520e-03,  1.02280523e-03,  1.03019482e-03, -1.14946222e-03,\n",
       "       -1.19461222e-03, -1.19787719e-03, -1.20706888e-03, -1.25423500e-03,\n",
       "       -1.27322603e-03, -1.32343127e-03, -1.32354149e-03, -1.43610359e-03,\n",
       "       -1.46509956e-03,  1.57243678e-03, -1.61804966e-03, -1.65866497e-03,\n",
       "        1.66792731e-03, -1.69259983e-03, -1.76823849e-03, -1.79752800e-03,\n",
       "       -1.79756830e-03, -1.79758257e-03,  1.79768170e-03, -1.80087275e-03,\n",
       "        1.81564314e-03, -1.82934205e-03, -1.87006901e-03,  1.87682766e-03,\n",
       "        1.91375497e-03, -1.91795282e-03, -1.91796471e-03, -1.91797023e-03,\n",
       "       -1.92561595e-03, -1.92704678e-03,  1.93639006e-03,  1.97418135e-03,\n",
       "        1.98420211e-03,  1.99815617e-03, -2.02126897e-03,  2.09888876e-03,\n",
       "       -2.11423733e-03,  2.12193399e-03, -2.33292092e-03, -2.39330621e-03,\n",
       "       -2.39406343e-03, -2.41156766e-03, -2.41169152e-03,  2.46063777e-03,\n",
       "       -2.50883335e-03,  2.54829604e-03,  2.55104994e-03,  2.63756497e-03,\n",
       "       -2.66760689e-03, -2.66761737e-03, -2.86920690e-03, -3.01060219e-03,\n",
       "        3.10792024e-03,  3.36202090e-03,  3.46896638e-03, -3.61777617e-03,\n",
       "       -3.62007710e-03, -3.62206161e-03, -3.63174625e-03, -4.02844785e-03,\n",
       "       -4.05557874e-03,  4.05799828e-03, -4.14344158e-03, -4.17589517e-03,\n",
       "       -4.35806702e-03,  4.55846135e-03, -6.36058650e-03, -6.41160630e-03,\n",
       "       -6.46353849e-03,  6.72336590e-03,  6.72523229e-03,  6.73217144e-03,\n",
       "        6.73314838e-03,  7.16784558e-03,  7.51711249e-03,  7.57235916e-03,\n",
       "        7.60424816e-03,  7.80472471e-03, -8.53700158e-03, -8.72524451e-03,\n",
       "       -9.45571173e-03,  1.10704441e-02,  1.11791578e-02,  1.12047611e-02,\n",
       "        1.87999604e-02,  9.99001305e-01])"
      ]
     },
     "execution_count": 64,
     "metadata": {},
     "output_type": "execute_result"
    }
   ],
   "source": [
    "v_1[np.argsort(np.abs(v_1))]"
   ]
  },
  {
   "cell_type": "code",
   "execution_count": 65,
   "metadata": {
    "scrolled": true
   },
   "outputs": [
    {
     "data": {
      "text/plain": [
       "array([-2.34347569e-01, -2.34099653e-01, -2.34066601e-01, -8.05913533e-02,\n",
       "       -8.04982516e-02, -8.03745166e-02, -2.83551251e-02, -2.80726440e-02,\n",
       "       -2.76065379e-02, -2.39126201e-02, -2.37479587e-02, -2.27440794e-02,\n",
       "       -2.00537134e-02, -2.00361723e-02, -1.96839544e-02, -1.69134698e-02,\n",
       "       -1.66403025e-02, -1.64742108e-02, -1.10160957e-02, -1.09928062e-02,\n",
       "       -1.09375262e-02, -1.08248374e-02, -1.08034461e-02, -1.08034280e-02,\n",
       "       -1.08034119e-02, -1.07985910e-02, -1.06495868e-02, -1.05965778e-02,\n",
       "       -9.81879116e-03, -9.76487958e-03, -9.75606031e-03, -9.64056495e-03,\n",
       "       -9.58674070e-03, -9.33449661e-03, -9.33314055e-03, -9.24556250e-03,\n",
       "       -9.17227899e-03, -9.09298218e-03, -9.08829673e-03, -8.96536897e-03,\n",
       "       -8.84201156e-03, -8.68416490e-03, -8.62712906e-03, -8.62709836e-03,\n",
       "       -8.62707740e-03, -8.37494893e-03, -8.37458370e-03, -8.12247849e-03,\n",
       "       -8.07676632e-03, -7.96756493e-03, -7.92366305e-03, -7.72798783e-03,\n",
       "       -7.72677905e-03, -7.72211730e-03, -7.64938498e-03, -7.48363252e-03,\n",
       "       -7.39393350e-03, -7.25516625e-03, -7.25516584e-03, -7.25506961e-03,\n",
       "       -7.19283215e-03, -6.93761763e-03, -6.93760067e-03, -6.93753089e-03,\n",
       "       -6.91641903e-03, -6.82651654e-03, -6.77565561e-03, -6.75116310e-03,\n",
       "       -6.69532353e-03, -6.69312328e-03, -6.69057009e-03, -6.69011690e-03,\n",
       "       -6.68960502e-03, -6.63154615e-03, -6.62801093e-03, -6.62673377e-03,\n",
       "       -6.60244462e-03, -6.59493208e-03, -6.59482153e-03, -6.59225051e-03,\n",
       "       -6.55139673e-03, -6.38669996e-03, -6.35293499e-03, -6.34990822e-03,\n",
       "       -6.32137317e-03, -6.20159019e-03, -6.14678534e-03, -6.12266888e-03,\n",
       "       -6.08712799e-03, -6.08298397e-03, -6.08126185e-03, -6.08110928e-03,\n",
       "       -5.73242729e-03, -5.63997635e-03, -5.39163126e-03, -5.38622190e-03,\n",
       "       -5.33161697e-03, -5.32637836e-03, -5.32590102e-03, -5.30253177e-03,\n",
       "       -4.91000346e-03, -4.89222867e-03, -4.78836694e-03, -4.71417433e-03,\n",
       "       -4.71114863e-03, -4.70868922e-03, -4.59190516e-03, -4.58518568e-03,\n",
       "       -4.57864502e-03, -4.45476911e-03, -4.42613768e-03, -4.32789522e-03,\n",
       "       -4.30642698e-03, -4.02961982e-03, -3.91375467e-03, -3.91375462e-03,\n",
       "       -3.91375462e-03, -3.79306421e-03, -2.88894152e-03, -2.88891322e-03,\n",
       "       -2.88888674e-03, -2.27520093e-03, -2.27520074e-03, -2.27520069e-03,\n",
       "       -2.22450546e-03, -2.22447323e-03, -2.22156336e-03, -2.17814001e-03,\n",
       "       -1.77054913e-03, -1.61443518e-03, -1.44281222e-03, -1.39888692e-03,\n",
       "       -1.04833647e-03, -9.95414737e-04, -8.89812738e-04, -8.78022594e-04,\n",
       "       -7.82062471e-04, -6.89553163e-04, -6.77683211e-04, -6.59285304e-04,\n",
       "       -6.51130140e-04, -6.43515101e-04, -6.39939049e-04, -5.49132321e-04,\n",
       "       -5.44216689e-04, -5.28976999e-04, -5.22621191e-04, -4.23397368e-04,\n",
       "       -1.23317099e-06,  8.68142989e-05,  9.02637970e-05,  1.90999289e-03,\n",
       "        2.29673051e-03,  2.35013746e-03,  2.38169813e-03,  2.62595328e-03,\n",
       "        2.92263825e-03,  3.88646080e-03,  3.92077824e-03,  3.95687324e-03,\n",
       "        4.52902739e-03,  4.58416435e-03,  4.59229723e-03,  5.32755416e-03,\n",
       "        5.69770495e-03,  5.85638133e-03,  7.92415395e-03,  7.93905410e-03,\n",
       "        7.95948595e-03,  1.08400650e-02,  1.08925082e-02,  1.08927054e-02,\n",
       "        1.09283138e-02,  1.09426954e-02,  1.11396363e-02,  2.91806511e-01,\n",
       "        2.92091596e-01,  2.92431366e-01,  3.11155501e-01,  3.11205887e-01,\n",
       "        3.11428329e-01,  5.06634351e-01])"
      ]
     },
     "execution_count": 65,
     "metadata": {},
     "output_type": "execute_result"
    }
   ],
   "source": [
    "v_2[np.argsort(v_2)]"
   ]
  },
  {
   "cell_type": "code",
   "execution_count": 66,
   "metadata": {
    "scrolled": true
   },
   "outputs": [
    {
     "data": {
      "text/plain": [
       "1509"
      ]
     },
     "execution_count": 66,
     "metadata": {},
     "output_type": "execute_result"
    }
   ],
   "source": [
    "len(X_train)"
   ]
  },
  {
   "cell_type": "code",
   "execution_count": 67,
   "metadata": {},
   "outputs": [],
   "source": [
    "Xdot = np.dot(X_train_centered,pca.components_.T)"
   ]
  },
  {
   "cell_type": "code",
   "execution_count": 68,
   "metadata": {},
   "outputs": [
    {
     "data": {
      "text/plain": [
       "(1509, 2)"
      ]
     },
     "execution_count": 68,
     "metadata": {},
     "output_type": "execute_result"
    }
   ],
   "source": [
    "pca.components_.shape\n",
    "Xdot.shape"
   ]
  },
  {
   "cell_type": "code",
   "execution_count": 69,
   "metadata": {},
   "outputs": [],
   "source": [
    "colors = {0:'purple',1:'r',2:'b',3:'g',4:'y',5:'black'}\n"
   ]
  },
  {
   "cell_type": "code",
   "execution_count": 70,
   "metadata": {},
   "outputs": [
    {
     "data": {
      "text/plain": [
       "array([[-0.49742297, -0.12771985],\n",
       "       [-0.48969479,  0.01327318],\n",
       "       [-0.47234613,  0.16050155],\n",
       "       ...,\n",
       "       [ 0.48324804, -0.13442111],\n",
       "       [ 0.490286  ,  0.02364166],\n",
       "       [ 0.4970721 , -0.12065166]])"
      ]
     },
     "execution_count": 70,
     "metadata": {},
     "output_type": "execute_result"
    }
   ],
   "source": [
    "Xdot"
   ]
  },
  {
   "cell_type": "code",
   "execution_count": 71,
   "metadata": {},
   "outputs": [
    {
     "data": {
      "text/plain": [
       "(array([ 34., 533., 475., 281., 123.,  43.,  13.,   5.,   1.,   1.]),\n",
       " array([-0.34067529, -0.21310829, -0.08554129,  0.04202572,  0.16959272,\n",
       "         0.29715972,  0.42472672,  0.55229372,  0.67986073,  0.80742773,\n",
       "         0.93499473]),\n",
       " <a list of 10 Patch objects>)"
      ]
     },
     "execution_count": 71,
     "metadata": {},
     "output_type": "execute_result"
    },
    {
     "data": {
      "image/png": "[encoded data removed]",
      "text/plain": [
       "<Figure size 432x288 with 1 Axes>"
      ]
     },
     "metadata": {
      "needs_background": "light"
     },
     "output_type": "display_data"
    }
   ],
   "source": [
    "plt.hist([x[1] for x in Xdot])"
   ]
  },
  {
   "cell_type": "code",
   "execution_count": 72,
   "metadata": {},
   "outputs": [],
   "source": [
    "X_train,y_train1 = get_data_from_dict_filter(trainset,1)\n",
    "X_train,y_train2 = get_data_from_dict_filter(trainset,2)\n",
    "X_train,y_train3 = get_data_from_dict_filter(trainset,3)\n",
    "X_train,y_train4 = get_data_from_dict_filter(trainset,4)\n",
    "X_train,y_train5 = get_data_from_dict_filter(trainset,5)"
   ]
  },
  {
   "cell_type": "code",
   "execution_count": null,
   "metadata": {},
   "outputs": [],
   "source": [
    "pred"
   ]
  },
  {
   "cell_type": "code",
   "execution_count": 73,
   "metadata": {},
   "outputs": [],
   "source": [
    "y_train2 = np.array(y_train1)+np.array(y_train2)+np.array(y_train3)+np.array(y_train4)+np.array(y_train5)"
   ]
  },
  {
   "cell_type": "code",
   "execution_count": 74,
   "metadata": {},
   "outputs": [
    {
     "data": {
      "text/plain": [
       "<matplotlib.collections.PathCollection at 0x22981b65ef0>"
      ]
     },
     "execution_count": 74,
     "metadata": {},
     "output_type": "execute_result"
    },
    {
     "data": {
      "image/png": "[encoded data removed]",
      "text/plain": [
       "<Figure size 432x288 with 1 Axes>"
      ]
     },
     "metadata": {
      "needs_background": "light"
     },
     "output_type": "display_data"
    }
   ],
   "source": [
    "color_label = [colors[i] for i in y_train2]\n",
    "plt.scatter([x[0] for x in Xdot],[x[1] for x in Xdot],color=color_label)\n",
    "#plt.ylim(-0.2,0.5)"
   ]
  },
  {
   "cell_type": "markdown",
   "metadata": {},
   "source": [
    "## Plot tree"
   ]
  },
  {
   "cell_type": "code",
   "execution_count": null,
   "metadata": {},
   "outputs": [],
   "source": []
  }
 ],
 "metadata": {
  "kernelspec": {
   "display_name": "Python 3",
   "language": "python",
   "name": "python3"
  },
  "language_info": {
   "codemirror_mode": {
    "name": "ipython",
    "version": 3
   },
   "file_extension": ".py",
   "mimetype": "text/x-python",
   "name": "python",
   "nbconvert_exporter": "python",
   "pygments_lexer": "ipython3",
   "version": "3.6.6"
  }
 },
 "nbformat": 4,
 "nbformat_minor": 2
}
