{
 "cells": [
  {
   "cell_type": "markdown",
   "metadata": {},
   "source": [
    "## Train classifier by layers\n",
    "\n",
    "This notebook trains a classifier that operates in two layers:\n",
    "- First we use a SVM classifier to label utterances with high degree of certainty.\n",
    "- Afterwards we use heuristics to complete the labeling"
   ]
  },
  {
   "cell_type": "markdown",
   "metadata": {},
   "source": [
    "### Import and path definition"
   ]
  },
  {
   "cell_type": "code",
   "execution_count": 1,
   "metadata": {},
   "outputs": [],
   "source": [
    "import os\n",
    "import pandas as pd\n",
    "import numpy as np\n",
    "import random\n",
    "import pickle\n",
    "import sys\n",
    "import matplotlib.pyplot as plt\n",
    "\n",
    "root_path = os.path.dirname(os.path.dirname(os.path.abspath(os.getcwd())))\n",
    "sys.path.append(root_path)\n",
    "\n",
    "from sklearn.svm import SVC\n",
    "from sklearn.svm import LinearSVC\n",
    "from sklearn.metrics import classification_report\n",
    "from sklearn.metrics import confusion_matrix\n",
    "from src import phase_classification as pc\n",
    "\n",
    "data_path = os.path.join(root_path,'data')\n",
    "tables_path = os.path.join(data_path,'tables')"
   ]
  },
  {
   "cell_type": "markdown",
   "metadata": {},
   "source": [
    "### Load data"
   ]
  },
  {
   "cell_type": "code",
   "execution_count": 2,
   "metadata": {},
   "outputs": [],
   "source": [
    "WITH_STEMMING = True\n",
    "#REMOVE_STOPWORDS = True\n",
    "SEED = 10\n",
    "NUM_TOPICS = 60\n",
    "random.seed(SEED)\n",
    "CLASS_W = False"
   ]
  },
  {
   "cell_type": "code",
   "execution_count": 3,
   "metadata": {},
   "outputs": [],
   "source": [
    "file_name = '[train]IBL_topic_distribution_by_utterance_with_phrase_before_and_after_time_utterance_minimum_0_words_with_stemming_{}_{}.xlsx'.format(WITH_STEMMING,NUM_TOPICS)\n",
    "df_data = pd.read_excel(os.path.join(tables_path,'train',file_name))"
   ]
  },
  {
   "cell_type": "code",
   "execution_count": 4,
   "metadata": {},
   "outputs": [
    {
     "data": {
      "text/html": [
       "<div>\n",
       "<style scoped>\n",
       "    .dataframe tbody tr th:only-of-type {\n",
       "        vertical-align: middle;\n",
       "    }\n",
       "\n",
       "    .dataframe tbody tr th {\n",
       "        vertical-align: top;\n",
       "    }\n",
       "\n",
       "    .dataframe thead th {\n",
       "        text-align: right;\n",
       "    }\n",
       "</style>\n",
       "<table border=\"1\" class=\"dataframe\">\n",
       "  <thead>\n",
       "    <tr style=\"text-align: right;\">\n",
       "      <th></th>\n",
       "      <th>Topic before 1</th>\n",
       "      <th>Topic before 2</th>\n",
       "      <th>Topic before 3</th>\n",
       "      <th>Topic before 4</th>\n",
       "      <th>Topic before 5</th>\n",
       "      <th>Topic before 6</th>\n",
       "      <th>Topic before 7</th>\n",
       "      <th>Topic before 8</th>\n",
       "      <th>Topic before 9</th>\n",
       "      <th>Topic before 10</th>\n",
       "      <th>...</th>\n",
       "      <th>Topic after 60</th>\n",
       "      <th>phase</th>\n",
       "      <th>phase_1</th>\n",
       "      <th>phase_2</th>\n",
       "      <th>phase_3</th>\n",
       "      <th>phase_4</th>\n",
       "      <th>phase_5</th>\n",
       "      <th>utterance</th>\n",
       "      <th>length utterance</th>\n",
       "      <th>utterance_relative_time</th>\n",
       "    </tr>\n",
       "  </thead>\n",
       "  <tbody>\n",
       "    <tr>\n",
       "      <th>0</th>\n",
       "      <td>0.028715</td>\n",
       "      <td>0.012903</td>\n",
       "      <td>0.006044</td>\n",
       "      <td>0.005848</td>\n",
       "      <td>0.005266</td>\n",
       "      <td>0.057161</td>\n",
       "      <td>0.007285</td>\n",
       "      <td>0.004799</td>\n",
       "      <td>0.006815</td>\n",
       "      <td>0.008096</td>\n",
       "      <td>...</td>\n",
       "      <td>0.005848</td>\n",
       "      <td>1</td>\n",
       "      <td>1</td>\n",
       "      <td>0</td>\n",
       "      <td>0</td>\n",
       "      <td>0</td>\n",
       "      <td>0</td>\n",
       "      <td>SATUNNAINEN</td>\n",
       "      <td>0.000000</td>\n",
       "      <td>0.000000</td>\n",
       "    </tr>\n",
       "    <tr>\n",
       "      <th>1</th>\n",
       "      <td>0.028715</td>\n",
       "      <td>0.012903</td>\n",
       "      <td>0.006044</td>\n",
       "      <td>0.005848</td>\n",
       "      <td>0.005266</td>\n",
       "      <td>0.057161</td>\n",
       "      <td>0.007285</td>\n",
       "      <td>0.004799</td>\n",
       "      <td>0.006815</td>\n",
       "      <td>0.008096</td>\n",
       "      <td>...</td>\n",
       "      <td>0.005848</td>\n",
       "      <td>1</td>\n",
       "      <td>1</td>\n",
       "      <td>0</td>\n",
       "      <td>0</td>\n",
       "      <td>0</td>\n",
       "      <td>0</td>\n",
       "      <td>siel QUESTION_SYMBOL onks oo palo</td>\n",
       "      <td>0.065574</td>\n",
       "      <td>0.010417</td>\n",
       "    </tr>\n",
       "    <tr>\n",
       "      <th>2</th>\n",
       "      <td>0.025757</td>\n",
       "      <td>0.010554</td>\n",
       "      <td>0.004944</td>\n",
       "      <td>0.004783</td>\n",
       "      <td>0.004307</td>\n",
       "      <td>0.107424</td>\n",
       "      <td>0.005959</td>\n",
       "      <td>0.003926</td>\n",
       "      <td>0.005574</td>\n",
       "      <td>0.006622</td>\n",
       "      <td>...</td>\n",
       "      <td>0.005215</td>\n",
       "      <td>1</td>\n",
       "      <td>1</td>\n",
       "      <td>0</td>\n",
       "      <td>0</td>\n",
       "      <td>0</td>\n",
       "      <td>0</td>\n",
       "      <td>no tää varm muutu</td>\n",
       "      <td>0.049180</td>\n",
       "      <td>0.017361</td>\n",
       "    </tr>\n",
       "    <tr>\n",
       "      <th>3</th>\n",
       "      <td>0.023489</td>\n",
       "      <td>0.010554</td>\n",
       "      <td>0.004944</td>\n",
       "      <td>0.004783</td>\n",
       "      <td>0.004307</td>\n",
       "      <td>0.054591</td>\n",
       "      <td>0.005959</td>\n",
       "      <td>0.003926</td>\n",
       "      <td>0.005574</td>\n",
       "      <td>0.006622</td>\n",
       "      <td>...</td>\n",
       "      <td>0.003782</td>\n",
       "      <td>1</td>\n",
       "      <td>1</td>\n",
       "      <td>0</td>\n",
       "      <td>0</td>\n",
       "      <td>0</td>\n",
       "      <td>0</td>\n",
       "      <td>aja T_ ATOMI ehtiny törm ton ver</td>\n",
       "      <td>0.098361</td>\n",
       "      <td>0.020833</td>\n",
       "    </tr>\n",
       "    <tr>\n",
       "      <th>4</th>\n",
       "      <td>0.021241</td>\n",
       "      <td>0.009412</td>\n",
       "      <td>0.004409</td>\n",
       "      <td>0.004266</td>\n",
       "      <td>0.003841</td>\n",
       "      <td>0.045906</td>\n",
       "      <td>0.059203</td>\n",
       "      <td>0.003501</td>\n",
       "      <td>0.004971</td>\n",
       "      <td>0.005906</td>\n",
       "      <td>...</td>\n",
       "      <td>0.007721</td>\n",
       "      <td>1</td>\n",
       "      <td>1</td>\n",
       "      <td>0</td>\n",
       "      <td>0</td>\n",
       "      <td>0</td>\n",
       "      <td>0</td>\n",
       "      <td>ton ver ai pitä muute kato sil taas oo lask to...</td>\n",
       "      <td>0.213115</td>\n",
       "      <td>0.027778</td>\n",
       "    </tr>\n",
       "  </tbody>\n",
       "</table>\n",
       "<p>5 rows × 189 columns</p>\n",
       "</div>"
      ],
      "text/plain": [
       "   Topic before 1  Topic before 2  Topic before 3  Topic before 4  \\\n",
       "0        0.028715        0.012903        0.006044        0.005848   \n",
       "1        0.028715        0.012903        0.006044        0.005848   \n",
       "2        0.025757        0.010554        0.004944        0.004783   \n",
       "3        0.023489        0.010554        0.004944        0.004783   \n",
       "4        0.021241        0.009412        0.004409        0.004266   \n",
       "\n",
       "   Topic before 5  Topic before 6  Topic before 7  Topic before 8  \\\n",
       "0        0.005266        0.057161        0.007285        0.004799   \n",
       "1        0.005266        0.057161        0.007285        0.004799   \n",
       "2        0.004307        0.107424        0.005959        0.003926   \n",
       "3        0.004307        0.054591        0.005959        0.003926   \n",
       "4        0.003841        0.045906        0.059203        0.003501   \n",
       "\n",
       "   Topic before 9  Topic before 10           ...             Topic after 60  \\\n",
       "0        0.006815         0.008096           ...                   0.005848   \n",
       "1        0.006815         0.008096           ...                   0.005848   \n",
       "2        0.005574         0.006622           ...                   0.005215   \n",
       "3        0.005574         0.006622           ...                   0.003782   \n",
       "4        0.004971         0.005906           ...                   0.007721   \n",
       "\n",
       "   phase  phase_1  phase_2  phase_3  phase_4  phase_5  \\\n",
       "0      1        1        0        0        0        0   \n",
       "1      1        1        0        0        0        0   \n",
       "2      1        1        0        0        0        0   \n",
       "3      1        1        0        0        0        0   \n",
       "4      1        1        0        0        0        0   \n",
       "\n",
       "                                           utterance  length utterance  \\\n",
       "0                                        SATUNNAINEN          0.000000   \n",
       "1                  siel QUESTION_SYMBOL onks oo palo          0.065574   \n",
       "2                                  no tää varm muutu          0.049180   \n",
       "3                   aja T_ ATOMI ehtiny törm ton ver          0.098361   \n",
       "4  ton ver ai pitä muute kato sil taas oo lask to...          0.213115   \n",
       "\n",
       "   utterance_relative_time  \n",
       "0                 0.000000  \n",
       "1                 0.010417  \n",
       "2                 0.017361  \n",
       "3                 0.020833  \n",
       "4                 0.027778  \n",
       "\n",
       "[5 rows x 189 columns]"
      ]
     },
     "execution_count": 4,
     "metadata": {},
     "output_type": "execute_result"
    }
   ],
   "source": [
    "df_data.head()"
   ]
  },
  {
   "cell_type": "code",
   "execution_count": 5,
   "metadata": {},
   "outputs": [
    {
     "name": "stdout",
     "output_type": "stream",
     "text": [
      "1600\n",
      "key 1, samples: 403, prop: 0.25\n",
      "key 2, samples: 175, prop: 0.11\n",
      "key 3, samples: 406, prop: 0.25\n",
      "key 4, samples: 62, prop: 0.04\n",
      "key 5, samples: 554, prop: 0.35\n"
     ]
    }
   ],
   "source": [
    "the_keys = list(set(df_data['phase']))\n",
    "total_samples = 0\n",
    "class_samples = {}\n",
    "for key in the_keys:\n",
    "    n = list(df_data.phase.values).count(key)\n",
    "    #print(\"key {}, total {}\".format(key,n))\n",
    "    total_samples += n\n",
    "    class_samples[key] = n\n",
    "print(total_samples)\n",
    "for key in the_keys:\n",
    "    print(\"key {}, samples: {}, prop: {}\".format(key,class_samples[key],round(class_samples[key]*1.0/total_samples,2)))"
   ]
  },
  {
   "cell_type": "markdown",
   "metadata": {},
   "source": [
    "### split data"
   ]
  },
  {
   "cell_type": "code",
   "execution_count": 6,
   "metadata": {},
   "outputs": [],
   "source": [
    "filter_rows = list(range(180))+[187,188]\n",
    "row_label = 180"
   ]
  },
  {
   "cell_type": "code",
   "execution_count": 7,
   "metadata": {},
   "outputs": [
    {
     "data": {
      "text/plain": [
       "1328"
      ]
     },
     "execution_count": 7,
     "metadata": {},
     "output_type": "execute_result"
    }
   ],
   "source": [
    "dfs_train,dfs_val = pc.split_df_discussions(df_data,.2,SEED)\n",
    "X_train,y_train = pc.get_joined_data_from_df(dfs_train,filter_rows,row_label)\n",
    "X_val,y_val = pc.get_joined_data_from_df(dfs_val,filter_rows,row_label)\n",
    "len(X_train)"
   ]
  },
  {
   "cell_type": "code",
   "execution_count": 8,
   "metadata": {},
   "outputs": [],
   "source": [
    "dfs_all,_ = pc.split_df_discussions(df_data,.0,SEED)\n",
    "X_all,y_all = pc.get_joined_data_from_df(dfs_all,filter_rows,row_label)"
   ]
  },
  {
   "cell_type": "code",
   "execution_count": 9,
   "metadata": {},
   "outputs": [
    {
     "data": {
      "text/plain": [
       "182"
      ]
     },
     "execution_count": 9,
     "metadata": {},
     "output_type": "execute_result"
    }
   ],
   "source": [
    "len(X_train[0])"
   ]
  },
  {
   "cell_type": "markdown",
   "metadata": {},
   "source": [
    "### Classify first layer"
   ]
  },
  {
   "cell_type": "code",
   "execution_count": 10,
   "metadata": {},
   "outputs": [],
   "source": [
    "class_weight = {}\n",
    "for key in the_keys:\n",
    "    class_weight[key] = 1000.0/class_samples[key]"
   ]
  },
  {
   "cell_type": "code",
   "execution_count": 11,
   "metadata": {},
   "outputs": [
    {
     "name": "stdout",
     "output_type": "stream",
     "text": [
      "Accuracy of SVM classifier on training set: 0.51\n",
      "Accuracy of SVM classifier on test set: 0.57\n"
     ]
    }
   ],
   "source": [
    "if CLASS_W:\n",
    "    svc = SVC(kernel='linear',random_state=SEED,max_iter=3000,probability=True,class_weight=class_weight)\n",
    "else:\n",
    "    svc = SVC(kernel='linear',random_state=SEED,max_iter=3000,probability=True)#,class_weight=class_weight)\n",
    "svc.fit(X_train, y_train)\n",
    "print('Accuracy of SVM classifier on training set: {:.2f}'\n",
    "     .format(svc.score(X_train, y_train)))\n",
    "print('Accuracy of SVM classifier on test set: {:.2f}'\n",
    "     .format(svc.score(X_val, y_val)))"
   ]
  },
  {
   "cell_type": "code",
   "execution_count": 12,
   "metadata": {},
   "outputs": [
    {
     "name": "stdout",
     "output_type": "stream",
     "text": [
      "              precision    recall  f1-score   support\n",
      "\n",
      "           1       0.72      0.61      0.66       101\n",
      "           2       0.00      0.00      0.00         9\n",
      "           3       0.86      0.10      0.17        63\n",
      "           4       0.00      0.00      0.00         3\n",
      "           5       0.49      0.91      0.63        96\n",
      "\n",
      "   micro avg       0.57      0.57      0.57       272\n",
      "   macro avg       0.41      0.32      0.29       272\n",
      "weighted avg       0.64      0.57      0.51       272\n",
      "\n"
     ]
    },
    {
     "name": "stderr",
     "output_type": "stream",
     "text": [
      "C:\\Users\\CATALINA ESPINOZA\\AppData\\Local\\conda\\conda\\envs\\teacher_topic_model\\lib\\site-packages\\sklearn\\metrics\\classification.py:1143: UndefinedMetricWarning: Precision and F-score are ill-defined and being set to 0.0 in labels with no predicted samples.\n",
      "  'precision', 'predicted', average, warn_for)\n"
     ]
    },
    {
     "data": {
      "text/html": [
       "<div>\n",
       "<style scoped>\n",
       "    .dataframe tbody tr th:only-of-type {\n",
       "        vertical-align: middle;\n",
       "    }\n",
       "\n",
       "    .dataframe tbody tr th {\n",
       "        vertical-align: top;\n",
       "    }\n",
       "\n",
       "    .dataframe thead th {\n",
       "        text-align: right;\n",
       "    }\n",
       "</style>\n",
       "<table border=\"1\" class=\"dataframe\">\n",
       "  <thead>\n",
       "    <tr style=\"text-align: right;\">\n",
       "      <th></th>\n",
       "      <th>Predicted Phase 1</th>\n",
       "      <th>Predicted Phase 2</th>\n",
       "      <th>Predicted Phase 3</th>\n",
       "      <th>Predicted Phase 4</th>\n",
       "      <th>Predicted Phase 5</th>\n",
       "    </tr>\n",
       "  </thead>\n",
       "  <tbody>\n",
       "    <tr>\n",
       "      <th>Phase 1</th>\n",
       "      <td>62</td>\n",
       "      <td>0</td>\n",
       "      <td>1</td>\n",
       "      <td>0</td>\n",
       "      <td>38</td>\n",
       "    </tr>\n",
       "    <tr>\n",
       "      <th>Phase 2</th>\n",
       "      <td>0</td>\n",
       "      <td>0</td>\n",
       "      <td>0</td>\n",
       "      <td>0</td>\n",
       "      <td>9</td>\n",
       "    </tr>\n",
       "    <tr>\n",
       "      <th>Phase 3</th>\n",
       "      <td>15</td>\n",
       "      <td>0</td>\n",
       "      <td>6</td>\n",
       "      <td>0</td>\n",
       "      <td>42</td>\n",
       "    </tr>\n",
       "    <tr>\n",
       "      <th>Phase 4</th>\n",
       "      <td>0</td>\n",
       "      <td>0</td>\n",
       "      <td>0</td>\n",
       "      <td>0</td>\n",
       "      <td>3</td>\n",
       "    </tr>\n",
       "    <tr>\n",
       "      <th>Phase 5</th>\n",
       "      <td>9</td>\n",
       "      <td>0</td>\n",
       "      <td>0</td>\n",
       "      <td>0</td>\n",
       "      <td>87</td>\n",
       "    </tr>\n",
       "  </tbody>\n",
       "</table>\n",
       "</div>"
      ],
      "text/plain": [
       "         Predicted Phase 1  Predicted Phase 2  Predicted Phase 3  \\\n",
       "Phase 1                 62                  0                  1   \n",
       "Phase 2                  0                  0                  0   \n",
       "Phase 3                 15                  0                  6   \n",
       "Phase 4                  0                  0                  0   \n",
       "Phase 5                  9                  0                  0   \n",
       "\n",
       "         Predicted Phase 4  Predicted Phase 5  \n",
       "Phase 1                  0                 38  \n",
       "Phase 2                  0                  9  \n",
       "Phase 3                  0                 42  \n",
       "Phase 4                  0                  3  \n",
       "Phase 5                  0                 87  "
      ]
     },
     "execution_count": 12,
     "metadata": {},
     "output_type": "execute_result"
    }
   ],
   "source": [
    "pred = svc.predict(X_val)\n",
    "labels = [\"Phase {}\".format(i) for i in range(1,6)]\n",
    "df = pd.DataFrame(confusion_matrix(y_val, pred),columns=[\"Predicted {}\".format(i) for i in labels])\n",
    "df.index = labels\n",
    "#print(\" \")\n",
    "print(classification_report(y_val, pred))\n",
    "df"
   ]
  },
  {
   "cell_type": "markdown",
   "metadata": {},
   "source": [
    "### Find threshold"
   ]
  },
  {
   "cell_type": "markdown",
   "metadata": {},
   "source": [
    "Look for the distance to the second max"
   ]
  },
  {
   "cell_type": "code",
   "execution_count": 13,
   "metadata": {},
   "outputs": [],
   "source": [
    "pred_val = svc.predict_proba(X_val)\n",
    "prob_pred = [v[int(y_val[i]-1)] for i,v in enumerate(pred_val)]"
   ]
  },
  {
   "cell_type": "code",
   "execution_count": 14,
   "metadata": {},
   "outputs": [
    {
     "data": {
      "text/plain": [
       "(array([26., 30., 33., 36., 26., 40., 36., 30.,  8.,  7.]),\n",
       " array([0.0313363 , 0.11093981, 0.19054333, 0.27014684, 0.34975035,\n",
       "        0.42935386, 0.50895737, 0.58856089, 0.6681644 , 0.74776791,\n",
       "        0.82737142]),\n",
       " <a list of 10 Patch objects>)"
      ]
     },
     "execution_count": 14,
     "metadata": {},
     "output_type": "execute_result"
    },
    {
     "data": {
      "image/png": "[encoded data removed]",
      "text/plain": [
       "<Figure size 432x288 with 1 Axes>"
      ]
     },
     "metadata": {
      "needs_background": "light"
     },
     "output_type": "display_data"
    }
   ],
   "source": [
    "plt.hist(prob_pred)"
   ]
  },
  {
   "cell_type": "code",
   "execution_count": 15,
   "metadata": {},
   "outputs": [],
   "source": [
    "tuple_winner_pred = [(np.max(v),prob_pred[i],np.max(v)==prob_pred[i]) for i,v in enumerate(pred_val)]\n",
    "values_ok = [v[0] for i,v in enumerate(tuple_winner_pred) if v[2]==True]\n",
    "values_not_ok = [v[0] for i,v in enumerate(tuple_winner_pred) if v[2]==False]\n",
    "values_dist_not_ok = [v[0]-v[1] for i,v in enumerate(tuple_winner_pred) if v[2]==False]"
   ]
  },
  {
   "cell_type": "code",
   "execution_count": 16,
   "metadata": {},
   "outputs": [
    {
     "data": {
      "text/plain": [
       "(array([ 0.,  0.,  0.,  0.,  0.,  0.,  0.,  0.,  0.,  0.,  1.,  1.,  2.,\n",
       "         2.,  5.,  1.,  4.,  5.,  7.,  4.,  0., 10.,  3.,  7.,  4.,  5.,\n",
       "         2.,  1.,  4.,  2.,  3.,  1.,  8.,  3.,  2.,  2.,  4.,  3.,  6.,\n",
       "         1.,  2.,  1.,  2.,  1.,  0.,  0.,  4.,  0.,  3.,  1.,  1.,  0.,\n",
       "         0.,  0.,  0.,  1.,  1.,  0.,  0.,  0.,  0.,  0.,  0.,  0.,  0.,\n",
       "         0.,  0.,  0.,  0.,  0.,  0.,  0.,  0.,  0.]),\n",
       " array([0.2 , 0.21, 0.22, 0.23, 0.24, 0.25, 0.26, 0.27, 0.28, 0.29, 0.3 ,\n",
       "        0.31, 0.32, 0.33, 0.34, 0.35, 0.36, 0.37, 0.38, 0.39, 0.4 , 0.41,\n",
       "        0.42, 0.43, 0.44, 0.45, 0.46, 0.47, 0.48, 0.49, 0.5 , 0.51, 0.52,\n",
       "        0.53, 0.54, 0.55, 0.56, 0.57, 0.58, 0.59, 0.6 , 0.61, 0.62, 0.63,\n",
       "        0.64, 0.65, 0.66, 0.67, 0.68, 0.69, 0.7 , 0.71, 0.72, 0.73, 0.74,\n",
       "        0.75, 0.76, 0.77, 0.78, 0.79, 0.8 , 0.81, 0.82, 0.83, 0.84, 0.85,\n",
       "        0.86, 0.87, 0.88, 0.89, 0.9 , 0.91, 0.92, 0.93, 0.94]),\n",
       " <a list of 74 Patch objects>)"
      ]
     },
     "execution_count": 16,
     "metadata": {},
     "output_type": "execute_result"
    },
    {
     "data": {
      "image/png": "[encoded data removed]",
      "text/plain": [
       "<Figure size 432x288 with 1 Axes>"
      ]
     },
     "metadata": {
      "needs_background": "light"
     },
     "output_type": "display_data"
    }
   ],
   "source": [
    "plt.hist(values_ok,np.arange(0.2,.95,.01))\n",
    "plt.hist(values_not_ok,np.arange(0.2,.95,.01))"
   ]
  },
  {
   "cell_type": "code",
   "execution_count": 17,
   "metadata": {},
   "outputs": [
    {
     "data": {
      "text/plain": [
       "<matplotlib.collections.PathCollection at 0x1e7a3097e48>"
      ]
     },
     "execution_count": 17,
     "metadata": {},
     "output_type": "execute_result"
    },
    {
     "data": {
      "image/png": "[encoded data removed]",
      "text/plain": [
       "<Figure size 432x288 with 1 Axes>"
      ]
     },
     "metadata": {
      "needs_background": "light"
     },
     "output_type": "display_data"
    }
   ],
   "source": [
    "plt.scatter(values_dist_not_ok,values_not_ok)"
   ]
  },
  {
   "cell_type": "markdown",
   "metadata": {},
   "source": [
    "Define Threshold "
   ]
  },
  {
   "cell_type": "code",
   "execution_count": 18,
   "metadata": {},
   "outputs": [],
   "source": [
    "t = 0.45"
   ]
  },
  {
   "cell_type": "code",
   "execution_count": 19,
   "metadata": {},
   "outputs": [
    {
     "data": {
      "text/plain": [
       "Index(['Topic before 1', 'Topic before 2', 'Topic before 3', 'Topic before 4',\n",
       "       'Topic before 5', 'Topic before 6', 'Topic before 7', 'Topic before 8',\n",
       "       'Topic before 9', 'Topic before 10',\n",
       "       ...\n",
       "       'Topic after 60', 'phase', 'phase_1', 'phase_2', 'phase_3', 'phase_4',\n",
       "       'phase_5', 'utterance', 'length utterance', 'utterance_relative_time'],\n",
       "      dtype='object', length=189)"
      ]
     },
     "execution_count": 19,
     "metadata": {},
     "output_type": "execute_result"
    }
   ],
   "source": [
    "df_data.columns"
   ]
  },
  {
   "cell_type": "code",
   "execution_count": 20,
   "metadata": {},
   "outputs": [],
   "source": [
    "output_first_layer = pc.first_layer_classifier(X_all,t,svc)\n",
    "comparison = list(zip(output_first_layer,y_all))"
   ]
  },
  {
   "cell_type": "code",
   "execution_count": 21,
   "metadata": {
    "scrolled": true
   },
   "outputs": [
    {
     "data": {
      "text/plain": [
       "(array([540.,   0.,   0., 311.,   0.,  27., 158.,   0.,   0., 564.]),\n",
       " array([-1. , -0.4,  0.2,  0.8,  1.4,  2. ,  2.6,  3.2,  3.8,  4.4,  5. ]),\n",
       " <a list of 10 Patch objects>)"
      ]
     },
     "execution_count": 21,
     "metadata": {},
     "output_type": "execute_result"
    },
    {
     "data": {
      "image/png": "[encoded data removed]",
      "text/plain": [
       "<Figure size 432x288 with 1 Axes>"
      ]
     },
     "metadata": {
      "needs_background": "light"
     },
     "output_type": "display_data"
    }
   ],
   "source": [
    "plt.hist(output_first_layer)"
   ]
  },
  {
   "cell_type": "code",
   "execution_count": 22,
   "metadata": {},
   "outputs": [],
   "source": [
    "df_data['first_layer'] = output_first_layer"
   ]
  },
  {
   "cell_type": "markdown",
   "metadata": {},
   "source": [
    "### Second layer"
   ]
  },
  {
   "cell_type": "code",
   "execution_count": 23,
   "metadata": {},
   "outputs": [],
   "source": [
    "second_layer,coeff = pc.second_layer_combination_before_after(X_all,df_data,svc)"
   ]
  },
  {
   "cell_type": "code",
   "execution_count": 24,
   "metadata": {},
   "outputs": [],
   "source": [
    "from scipy.optimize import minimize\n"
   ]
  },
  {
   "cell_type": "code",
   "execution_count": 25,
   "metadata": {},
   "outputs": [],
   "source": [
    "phases = df_data.phase.values\n",
    "s,v1,v2,v3 = pc.get_linear_system(X_all,svc,phases)"
   ]
  },
  {
   "cell_type": "code",
   "execution_count": 26,
   "metadata": {},
   "outputs": [],
   "source": [
    "sol,As = pc.get_solution_linear_system(s,v1,v2,v3)"
   ]
  },
  {
   "cell_type": "code",
   "execution_count": 27,
   "metadata": {},
   "outputs": [
    {
     "data": {
      "text/plain": [
       "array([0.10324222, 0.83714876, 0.05960902])"
      ]
     },
     "execution_count": 27,
     "metadata": {},
     "output_type": "execute_result"
    }
   ],
   "source": [
    "As,bs = pc.get_elements_linear_system(s,v1,v2,v3)\n",
    "fun = lambda x: np.sqrt(np.sum([np.square(np.linalg.norm(np.dot(As[i],x)-bs[i])) for i in range(len(s))])/(len(s)*2))\n",
    "cons = ({'type': 'eq', 'fun': lambda x:  x[0]+x[1]+x[2]-1})\n",
    "sol = minimize(fun, np.zeros(3), method='SLSQP', bounds=[(0.,1) for x in range(3)],constraints=cons)\n",
    "sol.x"
   ]
  },
  {
   "cell_type": "code",
   "execution_count": 28,
   "metadata": {},
   "outputs": [
    {
     "data": {
      "text/plain": [
       "<matplotlib.collections.PathCollection at 0x1e7a2d9e7f0>"
      ]
     },
     "execution_count": 28,
     "metadata": {},
     "output_type": "execute_result"
    },
    {
     "data": {
      "image/png": "[encoded data removed]",
      "text/plain": [
       "<Figure size 432x288 with 1 Axes>"
      ]
     },
     "metadata": {
      "needs_background": "light"
     },
     "output_type": "display_data"
    }
   ],
   "source": [
    "x = range(1,14)\n",
    "y = []\n",
    "for i in range(1,14):\n",
    "    sol = minimize(fun, np.zeros(3), method='SLSQP', bounds=[(0.,1) for x in range(3)],constraints=cons,options={'maxiter':i})\n",
    "    y.append(fun(sol.x))\n",
    "plt.scatter(x,y)"
   ]
  },
  {
   "cell_type": "code",
   "execution_count": 29,
   "metadata": {
    "scrolled": true
   },
   "outputs": [
    {
     "data": {
      "text/plain": [
       "0.5401267339678203"
      ]
     },
     "execution_count": 29,
     "metadata": {},
     "output_type": "execute_result"
    }
   ],
   "source": [
    "fun([0,1,0])"
   ]
  },
  {
   "cell_type": "code",
   "execution_count": 30,
   "metadata": {},
   "outputs": [
    {
     "data": {
      "text/plain": [
       "0.5399675639728748"
      ]
     },
     "execution_count": 30,
     "metadata": {},
     "output_type": "execute_result"
    }
   ],
   "source": [
    "fun(sol.x)"
   ]
  },
  {
   "cell_type": "code",
   "execution_count": 31,
   "metadata": {},
   "outputs": [],
   "source": [
    "df_data['second_layer'] = second_layer"
   ]
  },
  {
   "cell_type": "code",
   "execution_count": 32,
   "metadata": {
    "scrolled": false
   },
   "outputs": [
    {
     "name": "stdout",
     "output_type": "stream",
     "text": [
      "              precision    recall  f1-score   support\n",
      "\n",
      "           1       0.54      0.66      0.59       403\n",
      "           2       0.57      0.19      0.28       175\n",
      "           3       0.72      0.43      0.54       406\n",
      "           4       0.00      0.00      0.00        62\n",
      "           5       0.52      0.76      0.62       554\n",
      "\n",
      "   micro avg       0.56      0.56      0.56      1600\n",
      "   macro avg       0.47      0.41      0.41      1600\n",
      "weighted avg       0.56      0.56      0.53      1600\n",
      "\n"
     ]
    },
    {
     "name": "stderr",
     "output_type": "stream",
     "text": [
      "C:\\Users\\CATALINA ESPINOZA\\AppData\\Local\\conda\\conda\\envs\\teacher_topic_model\\lib\\site-packages\\sklearn\\metrics\\classification.py:1143: UndefinedMetricWarning: Precision and F-score are ill-defined and being set to 0.0 in labels with no predicted samples.\n",
      "  'precision', 'predicted', average, warn_for)\n"
     ]
    },
    {
     "data": {
      "text/html": [
       "<div>\n",
       "<style scoped>\n",
       "    .dataframe tbody tr th:only-of-type {\n",
       "        vertical-align: middle;\n",
       "    }\n",
       "\n",
       "    .dataframe tbody tr th {\n",
       "        vertical-align: top;\n",
       "    }\n",
       "\n",
       "    .dataframe thead th {\n",
       "        text-align: right;\n",
       "    }\n",
       "</style>\n",
       "<table border=\"1\" class=\"dataframe\">\n",
       "  <thead>\n",
       "    <tr style=\"text-align: right;\">\n",
       "      <th></th>\n",
       "      <th>Predicted Phase 1</th>\n",
       "      <th>Predicted Phase 2</th>\n",
       "      <th>Predicted Phase 3</th>\n",
       "      <th>Predicted Phase 4</th>\n",
       "      <th>Predicted Phase 5</th>\n",
       "    </tr>\n",
       "  </thead>\n",
       "  <tbody>\n",
       "    <tr>\n",
       "      <th>Phase 1</th>\n",
       "      <td>266</td>\n",
       "      <td>11</td>\n",
       "      <td>21</td>\n",
       "      <td>0</td>\n",
       "      <td>105</td>\n",
       "    </tr>\n",
       "    <tr>\n",
       "      <th>Phase 2</th>\n",
       "      <td>44</td>\n",
       "      <td>33</td>\n",
       "      <td>13</td>\n",
       "      <td>0</td>\n",
       "      <td>85</td>\n",
       "    </tr>\n",
       "    <tr>\n",
       "      <th>Phase 3</th>\n",
       "      <td>87</td>\n",
       "      <td>4</td>\n",
       "      <td>175</td>\n",
       "      <td>0</td>\n",
       "      <td>140</td>\n",
       "    </tr>\n",
       "    <tr>\n",
       "      <th>Phase 4</th>\n",
       "      <td>0</td>\n",
       "      <td>1</td>\n",
       "      <td>4</td>\n",
       "      <td>0</td>\n",
       "      <td>57</td>\n",
       "    </tr>\n",
       "    <tr>\n",
       "      <th>Phase 5</th>\n",
       "      <td>95</td>\n",
       "      <td>9</td>\n",
       "      <td>30</td>\n",
       "      <td>0</td>\n",
       "      <td>420</td>\n",
       "    </tr>\n",
       "  </tbody>\n",
       "</table>\n",
       "</div>"
      ],
      "text/plain": [
       "         Predicted Phase 1  Predicted Phase 2  Predicted Phase 3  \\\n",
       "Phase 1                266                 11                 21   \n",
       "Phase 2                 44                 33                 13   \n",
       "Phase 3                 87                  4                175   \n",
       "Phase 4                  0                  1                  4   \n",
       "Phase 5                 95                  9                 30   \n",
       "\n",
       "         Predicted Phase 4  Predicted Phase 5  \n",
       "Phase 1                  0                105  \n",
       "Phase 2                  0                 85  \n",
       "Phase 3                  0                140  \n",
       "Phase 4                  0                 57  \n",
       "Phase 5                  0                420  "
      ]
     },
     "execution_count": 32,
     "metadata": {},
     "output_type": "execute_result"
    }
   ],
   "source": [
    "df = pd.DataFrame(confusion_matrix(y_all, second_layer),columns=[\"Predicted {}\".format(i) for i in labels])\n",
    "df.index = labels\n",
    "print(classification_report(y_all, second_layer))\n",
    "df"
   ]
  },
  {
   "cell_type": "code",
   "execution_count": 33,
   "metadata": {},
   "outputs": [],
   "source": [
    "with open(os.path.join(data_path,'classifier_svm_linear_combination_svc_ba_cw_{}.pickle'.format(CLASS_W)),'wb') as f:\n",
    "    pickle.dump(svc,f)\n",
    "    pickle.dump(coeff,f)\n",
    "    pickle.dump(t,f)"
   ]
  },
  {
   "cell_type": "code",
   "execution_count": 34,
   "metadata": {},
   "outputs": [
    {
     "data": {
      "text/plain": [
       "0.45"
      ]
     },
     "execution_count": 34,
     "metadata": {},
     "output_type": "execute_result"
    }
   ],
   "source": [
    "t"
   ]
  },
  {
   "cell_type": "code",
   "execution_count": 35,
   "metadata": {},
   "outputs": [],
   "source": [
    "df_data.to_excel(os.path.join(tables_path,'[second_layer]'+file_name))"
   ]
  },
  {
   "cell_type": "code",
   "execution_count": 36,
   "metadata": {},
   "outputs": [
    {
     "name": "stdout",
     "output_type": "stream",
     "text": [
      "Accuracy of SVM classifier on training set: 0.51\n"
     ]
    }
   ],
   "source": [
    "print('Accuracy of SVM classifier on training set: {:.2f}'\n",
    "     .format(svc.score(X_all, y_all)))"
   ]
  },
  {
   "cell_type": "code",
   "execution_count": null,
   "metadata": {},
   "outputs": [],
   "source": []
  }
 ],
 "metadata": {
  "kernelspec": {
   "display_name": "Python 3",
   "language": "python",
   "name": "python3"
  },
  "language_info": {
   "codemirror_mode": {
    "name": "ipython",
    "version": 3
   },
   "file_extension": ".py",
   "mimetype": "text/x-python",
   "name": "python",
   "nbconvert_exporter": "python",
   "pygments_lexer": "ipython3",
   "version": "3.6.6"
  }
 },
 "nbformat": 4,
 "nbformat_minor": 2
}
