{
 "cells": [
  {
   "cell_type": "markdown",
   "metadata": {},
   "source": [
    "## Train classifier by layers\n",
    "\n",
    "This notebook trains a classifier that operates in two layers:\n",
    "- First we use a SVM classifier to label utterances with high degree of certainty.\n",
    "- Afterwards we use heuristics to complete the labeling"
   ]
  },
  {
   "cell_type": "markdown",
   "metadata": {},
   "source": [
    "### Import and path definition"
   ]
  },
  {
   "cell_type": "code",
   "execution_count": 1,
   "metadata": {},
   "outputs": [],
   "source": [
    "import os\n",
    "import pandas as pd\n",
    "import numpy as np\n",
    "import random\n",
    "import pickle\n",
    "import sys\n",
    "import matplotlib.pyplot as plt\n",
    "\n",
    "root_path = os.path.dirname(os.path.dirname(os.path.abspath(os.getcwd())))\n",
    "sys.path.append(root_path)\n",
    "\n",
    "from sklearn.svm import SVC\n",
    "from sklearn.svm import LinearSVC\n",
    "from sklearn.metrics import classification_report\n",
    "from sklearn.metrics import confusion_matrix\n",
    "from src import phase_classification as pc\n",
    "\n",
    "data_path = os.path.join(root_path,'data')\n",
    "tables_path = os.path.join(data_path,'tables')"
   ]
  },
  {
   "cell_type": "markdown",
   "metadata": {},
   "source": [
    "### Load data"
   ]
  },
  {
   "cell_type": "code",
   "execution_count": 2,
   "metadata": {},
   "outputs": [],
   "source": [
    "WITH_STEMMING = True\n",
    "#REMOVE_STOPWORDS = True\n",
    "SEED = 10\n",
    "NUM_TOPICS = 60\n",
    "random.seed(SEED)"
   ]
  },
  {
   "cell_type": "code",
   "execution_count": 3,
   "metadata": {},
   "outputs": [],
   "source": [
    "file_name = '[train]IBL_topic_distribution_by_utterance_with_phrase_before_and_after_time_utterance_minimum_0_words_with_stemming_{}_{}.xlsx'.format(WITH_STEMMING,NUM_TOPICS)\n",
    "df_data = pd.read_excel(os.path.join(tables_path,'train',file_name))"
   ]
  },
  {
   "cell_type": "code",
   "execution_count": 4,
   "metadata": {},
   "outputs": [
    {
     "data": {
      "text/html": [
       "<div>\n",
       "<style scoped>\n",
       "    .dataframe tbody tr th:only-of-type {\n",
       "        vertical-align: middle;\n",
       "    }\n",
       "\n",
       "    .dataframe tbody tr th {\n",
       "        vertical-align: top;\n",
       "    }\n",
       "\n",
       "    .dataframe thead th {\n",
       "        text-align: right;\n",
       "    }\n",
       "</style>\n",
       "<table border=\"1\" class=\"dataframe\">\n",
       "  <thead>\n",
       "    <tr style=\"text-align: right;\">\n",
       "      <th></th>\n",
       "      <th>Topic before 1</th>\n",
       "      <th>Topic before 2</th>\n",
       "      <th>Topic before 3</th>\n",
       "      <th>Topic before 4</th>\n",
       "      <th>Topic before 5</th>\n",
       "      <th>Topic before 6</th>\n",
       "      <th>Topic before 7</th>\n",
       "      <th>Topic before 8</th>\n",
       "      <th>Topic before 9</th>\n",
       "      <th>Topic before 10</th>\n",
       "      <th>...</th>\n",
       "      <th>Topic after 60</th>\n",
       "      <th>phase</th>\n",
       "      <th>phase_1</th>\n",
       "      <th>phase_2</th>\n",
       "      <th>phase_3</th>\n",
       "      <th>phase_4</th>\n",
       "      <th>phase_5</th>\n",
       "      <th>utterance</th>\n",
       "      <th>length utterance</th>\n",
       "      <th>utterance_relative_time</th>\n",
       "    </tr>\n",
       "  </thead>\n",
       "  <tbody>\n",
       "    <tr>\n",
       "      <th>0</th>\n",
       "      <td>0.009546</td>\n",
       "      <td>0.012683</td>\n",
       "      <td>0.006349</td>\n",
       "      <td>0.005774</td>\n",
       "      <td>0.003684</td>\n",
       "      <td>0.005008</td>\n",
       "      <td>0.004698</td>\n",
       "      <td>0.008680</td>\n",
       "      <td>0.012694</td>\n",
       "      <td>0.015815</td>\n",
       "      <td>...</td>\n",
       "      <td>0.008342</td>\n",
       "      <td>1</td>\n",
       "      <td>1</td>\n",
       "      <td>0</td>\n",
       "      <td>0</td>\n",
       "      <td>0</td>\n",
       "      <td>0</td>\n",
       "      <td>SATUNNAINEN</td>\n",
       "      <td>0.000000</td>\n",
       "      <td>0.000000</td>\n",
       "    </tr>\n",
       "    <tr>\n",
       "      <th>1</th>\n",
       "      <td>0.009546</td>\n",
       "      <td>0.012683</td>\n",
       "      <td>0.006349</td>\n",
       "      <td>0.005774</td>\n",
       "      <td>0.003684</td>\n",
       "      <td>0.005008</td>\n",
       "      <td>0.004698</td>\n",
       "      <td>0.008680</td>\n",
       "      <td>0.012694</td>\n",
       "      <td>0.015815</td>\n",
       "      <td>...</td>\n",
       "      <td>0.008342</td>\n",
       "      <td>1</td>\n",
       "      <td>1</td>\n",
       "      <td>0</td>\n",
       "      <td>0</td>\n",
       "      <td>0</td>\n",
       "      <td>0</td>\n",
       "      <td>siel QUESTION_SYMBOL onks oo palo</td>\n",
       "      <td>0.065574</td>\n",
       "      <td>0.010417</td>\n",
       "    </tr>\n",
       "    <tr>\n",
       "      <th>2</th>\n",
       "      <td>0.102342</td>\n",
       "      <td>0.009047</td>\n",
       "      <td>0.004529</td>\n",
       "      <td>0.004119</td>\n",
       "      <td>0.002628</td>\n",
       "      <td>0.003573</td>\n",
       "      <td>0.003351</td>\n",
       "      <td>0.006192</td>\n",
       "      <td>0.009057</td>\n",
       "      <td>0.011282</td>\n",
       "      <td>...</td>\n",
       "      <td>0.007004</td>\n",
       "      <td>1</td>\n",
       "      <td>1</td>\n",
       "      <td>0</td>\n",
       "      <td>0</td>\n",
       "      <td>0</td>\n",
       "      <td>0</td>\n",
       "      <td>no tää varm muutu</td>\n",
       "      <td>0.049180</td>\n",
       "      <td>0.017361</td>\n",
       "    </tr>\n",
       "    <tr>\n",
       "      <th>3</th>\n",
       "      <td>0.102352</td>\n",
       "      <td>0.009047</td>\n",
       "      <td>0.004529</td>\n",
       "      <td>0.004119</td>\n",
       "      <td>0.002628</td>\n",
       "      <td>0.003573</td>\n",
       "      <td>0.003351</td>\n",
       "      <td>0.006192</td>\n",
       "      <td>0.009055</td>\n",
       "      <td>0.011303</td>\n",
       "      <td>...</td>\n",
       "      <td>0.004486</td>\n",
       "      <td>1</td>\n",
       "      <td>1</td>\n",
       "      <td>0</td>\n",
       "      <td>0</td>\n",
       "      <td>0</td>\n",
       "      <td>0</td>\n",
       "      <td>aja T_ ATOMI ehtiny törm ton ver</td>\n",
       "      <td>0.098361</td>\n",
       "      <td>0.020833</td>\n",
       "    </tr>\n",
       "    <tr>\n",
       "      <th>4</th>\n",
       "      <td>0.005717</td>\n",
       "      <td>0.007596</td>\n",
       "      <td>0.003803</td>\n",
       "      <td>0.077523</td>\n",
       "      <td>0.002207</td>\n",
       "      <td>0.003000</td>\n",
       "      <td>0.002814</td>\n",
       "      <td>0.005199</td>\n",
       "      <td>0.007603</td>\n",
       "      <td>0.009472</td>\n",
       "      <td>...</td>\n",
       "      <td>0.013502</td>\n",
       "      <td>1</td>\n",
       "      <td>1</td>\n",
       "      <td>0</td>\n",
       "      <td>0</td>\n",
       "      <td>0</td>\n",
       "      <td>0</td>\n",
       "      <td>ton ver ai pitä muute kato sil taas oo lask to...</td>\n",
       "      <td>0.213115</td>\n",
       "      <td>0.027778</td>\n",
       "    </tr>\n",
       "  </tbody>\n",
       "</table>\n",
       "<p>5 rows × 189 columns</p>\n",
       "</div>"
      ],
      "text/plain": [
       "   Topic before 1  Topic before 2  Topic before 3  Topic before 4  \\\n",
       "0        0.009546        0.012683        0.006349        0.005774   \n",
       "1        0.009546        0.012683        0.006349        0.005774   \n",
       "2        0.102342        0.009047        0.004529        0.004119   \n",
       "3        0.102352        0.009047        0.004529        0.004119   \n",
       "4        0.005717        0.007596        0.003803        0.077523   \n",
       "\n",
       "   Topic before 5  Topic before 6  Topic before 7  Topic before 8  \\\n",
       "0        0.003684        0.005008        0.004698        0.008680   \n",
       "1        0.003684        0.005008        0.004698        0.008680   \n",
       "2        0.002628        0.003573        0.003351        0.006192   \n",
       "3        0.002628        0.003573        0.003351        0.006192   \n",
       "4        0.002207        0.003000        0.002814        0.005199   \n",
       "\n",
       "   Topic before 9  Topic before 10           ...             Topic after 60  \\\n",
       "0        0.012694         0.015815           ...                   0.008342   \n",
       "1        0.012694         0.015815           ...                   0.008342   \n",
       "2        0.009057         0.011282           ...                   0.007004   \n",
       "3        0.009055         0.011303           ...                   0.004486   \n",
       "4        0.007603         0.009472           ...                   0.013502   \n",
       "\n",
       "   phase  phase_1  phase_2  phase_3  phase_4  phase_5  \\\n",
       "0      1        1        0        0        0        0   \n",
       "1      1        1        0        0        0        0   \n",
       "2      1        1        0        0        0        0   \n",
       "3      1        1        0        0        0        0   \n",
       "4      1        1        0        0        0        0   \n",
       "\n",
       "                                           utterance  length utterance  \\\n",
       "0                                        SATUNNAINEN          0.000000   \n",
       "1                  siel QUESTION_SYMBOL onks oo palo          0.065574   \n",
       "2                                  no tää varm muutu          0.049180   \n",
       "3                   aja T_ ATOMI ehtiny törm ton ver          0.098361   \n",
       "4  ton ver ai pitä muute kato sil taas oo lask to...          0.213115   \n",
       "\n",
       "   utterance_relative_time  \n",
       "0                 0.000000  \n",
       "1                 0.010417  \n",
       "2                 0.017361  \n",
       "3                 0.020833  \n",
       "4                 0.027778  \n",
       "\n",
       "[5 rows x 189 columns]"
      ]
     },
     "execution_count": 4,
     "metadata": {},
     "output_type": "execute_result"
    }
   ],
   "source": [
    "df_data.head()"
   ]
  },
  {
   "cell_type": "code",
   "execution_count": 5,
   "metadata": {},
   "outputs": [
    {
     "name": "stdout",
     "output_type": "stream",
     "text": [
      "1600\n",
      "key 1, samples: 403, prop: 0.25\n",
      "key 2, samples: 175, prop: 0.11\n",
      "key 3, samples: 406, prop: 0.25\n",
      "key 4, samples: 62, prop: 0.04\n",
      "key 5, samples: 554, prop: 0.35\n"
     ]
    }
   ],
   "source": [
    "the_keys = list(set(df_data['phase']))\n",
    "total_samples = 0\n",
    "class_samples = {}\n",
    "for key in the_keys:\n",
    "    n = list(df_data.phase.values).count(key)\n",
    "    #print(\"key {}, total {}\".format(key,n))\n",
    "    total_samples += n\n",
    "    class_samples[key] = n\n",
    "print(total_samples)\n",
    "for key in the_keys:\n",
    "    print(\"key {}, samples: {}, prop: {}\".format(key,class_samples[key],round(class_samples[key]*1.0/total_samples,2)))"
   ]
  },
  {
   "cell_type": "markdown",
   "metadata": {},
   "source": [
    "### split data"
   ]
  },
  {
   "cell_type": "code",
   "execution_count": 9,
   "metadata": {},
   "outputs": [],
   "source": [
    "filter_rows = list(range(1,181))+[188,189]\n",
    "filter_labels = [181]"
   ]
  },
  {
   "cell_type": "code",
   "execution_count": 10,
   "metadata": {},
   "outputs": [
    {
     "name": "stdout",
     "output_type": "stream",
     "text": [
      "validation set phase 1: 80\n",
      "validation set phase 2: 35\n",
      "validation set phase 3: 81\n",
      "validation set phase 4: 12\n",
      "validation set phase 5: 110\n"
     ]
    }
   ],
   "source": [
    "train_set,validation_set = pc.split_df(df_data,0.2)\n",
    "X_train,y_train = pc.get_data_from_dict(train_set,filter_rows)\n",
    "X_val,y_val = pc.get_data_from_dict(validation_set,filter_rows)"
   ]
  },
  {
   "cell_type": "code",
   "execution_count": 12,
   "metadata": {},
   "outputs": [
    {
     "data": {
      "text/plain": [
       "182"
      ]
     },
     "execution_count": 12,
     "metadata": {},
     "output_type": "execute_result"
    }
   ],
   "source": [
    "len(X_train[0])"
   ]
  },
  {
   "cell_type": "code",
   "execution_count": 13,
   "metadata": {},
   "outputs": [
    {
     "name": "stdout",
     "output_type": "stream",
     "text": [
      "validation set phase 1: 0\n",
      "validation set phase 2: 0\n",
      "validation set phase 3: 0\n",
      "validation set phase 4: 0\n",
      "validation set phase 5: 0\n"
     ]
    }
   ],
   "source": [
    "all_set,_ = pc.split_df(df_data,0.0)\n",
    "X_all,y_all = pc.get_data_from_dict(all_set,filter_rows)"
   ]
  },
  {
   "cell_type": "markdown",
   "metadata": {},
   "source": [
    "### Classify first layer"
   ]
  },
  {
   "cell_type": "code",
   "execution_count": 14,
   "metadata": {},
   "outputs": [
    {
     "data": {
      "text/plain": [
       "182"
      ]
     },
     "execution_count": 14,
     "metadata": {},
     "output_type": "execute_result"
    }
   ],
   "source": [
    "len(X_train[0])"
   ]
  },
  {
   "cell_type": "code",
   "execution_count": 15,
   "metadata": {},
   "outputs": [],
   "source": [
    "class_weight = {}\n",
    "for key in the_keys:\n",
    "    class_weight[key] = 1000.0/class_samples[key]"
   ]
  },
  {
   "cell_type": "code",
   "execution_count": 16,
   "metadata": {},
   "outputs": [
    {
     "name": "stdout",
     "output_type": "stream",
     "text": [
      "Accuracy of SVM classifier on training set: 0.54\n",
      "Accuracy of SVM classifier on test set: 0.53\n"
     ]
    }
   ],
   "source": [
    "svc = SVC(kernel='linear',random_state=SEED,max_iter=3000,probability=True)#,class_weight=class_weight)\n",
    "svc.fit(X_train, y_train)\n",
    "print('Accuracy of SVM classifier on training set: {:.2f}'\n",
    "     .format(svc.score(X_train, y_train)))\n",
    "print('Accuracy of SVM classifier on test set: {:.2f}'\n",
    "     .format(svc.score(X_val, y_val)))"
   ]
  },
  {
   "cell_type": "code",
   "execution_count": 17,
   "metadata": {},
   "outputs": [
    {
     "name": "stdout",
     "output_type": "stream",
     "text": [
      "              precision    recall  f1-score   support\n",
      "\n",
      "           1       0.50      0.64      0.56        80\n",
      "           2       0.00      0.00      0.00        35\n",
      "           3       0.70      0.41      0.52        81\n",
      "           4       0.00      0.00      0.00        12\n",
      "           5       0.49      0.75      0.59       110\n",
      "\n",
      "   micro avg       0.53      0.53      0.53       318\n",
      "   macro avg       0.34      0.36      0.33       318\n",
      "weighted avg       0.47      0.53      0.48       318\n",
      "\n"
     ]
    },
    {
     "name": "stderr",
     "output_type": "stream",
     "text": [
      "C:\\Users\\CATALINA ESPINOZA\\AppData\\Local\\conda\\conda\\envs\\teacher_topic_model\\lib\\site-packages\\sklearn\\metrics\\classification.py:1143: UndefinedMetricWarning: Precision and F-score are ill-defined and being set to 0.0 in labels with no predicted samples.\n",
      "  'precision', 'predicted', average, warn_for)\n"
     ]
    },
    {
     "data": {
      "text/html": [
       "<div>\n",
       "<style scoped>\n",
       "    .dataframe tbody tr th:only-of-type {\n",
       "        vertical-align: middle;\n",
       "    }\n",
       "\n",
       "    .dataframe tbody tr th {\n",
       "        vertical-align: top;\n",
       "    }\n",
       "\n",
       "    .dataframe thead th {\n",
       "        text-align: right;\n",
       "    }\n",
       "</style>\n",
       "<table border=\"1\" class=\"dataframe\">\n",
       "  <thead>\n",
       "    <tr style=\"text-align: right;\">\n",
       "      <th></th>\n",
       "      <th>Predicted Phase 1</th>\n",
       "      <th>Predicted Phase 2</th>\n",
       "      <th>Predicted Phase 3</th>\n",
       "      <th>Predicted Phase 4</th>\n",
       "      <th>Predicted Phase 5</th>\n",
       "    </tr>\n",
       "  </thead>\n",
       "  <tbody>\n",
       "    <tr>\n",
       "      <th>Phase 1</th>\n",
       "      <td>51</td>\n",
       "      <td>0</td>\n",
       "      <td>4</td>\n",
       "      <td>0</td>\n",
       "      <td>25</td>\n",
       "    </tr>\n",
       "    <tr>\n",
       "      <th>Phase 2</th>\n",
       "      <td>8</td>\n",
       "      <td>0</td>\n",
       "      <td>1</td>\n",
       "      <td>0</td>\n",
       "      <td>26</td>\n",
       "    </tr>\n",
       "    <tr>\n",
       "      <th>Phase 3</th>\n",
       "      <td>23</td>\n",
       "      <td>0</td>\n",
       "      <td>33</td>\n",
       "      <td>0</td>\n",
       "      <td>25</td>\n",
       "    </tr>\n",
       "    <tr>\n",
       "      <th>Phase 4</th>\n",
       "      <td>0</td>\n",
       "      <td>0</td>\n",
       "      <td>1</td>\n",
       "      <td>0</td>\n",
       "      <td>11</td>\n",
       "    </tr>\n",
       "    <tr>\n",
       "      <th>Phase 5</th>\n",
       "      <td>19</td>\n",
       "      <td>0</td>\n",
       "      <td>8</td>\n",
       "      <td>0</td>\n",
       "      <td>83</td>\n",
       "    </tr>\n",
       "  </tbody>\n",
       "</table>\n",
       "</div>"
      ],
      "text/plain": [
       "         Predicted Phase 1  Predicted Phase 2  Predicted Phase 3  \\\n",
       "Phase 1                 51                  0                  4   \n",
       "Phase 2                  8                  0                  1   \n",
       "Phase 3                 23                  0                 33   \n",
       "Phase 4                  0                  0                  1   \n",
       "Phase 5                 19                  0                  8   \n",
       "\n",
       "         Predicted Phase 4  Predicted Phase 5  \n",
       "Phase 1                  0                 25  \n",
       "Phase 2                  0                 26  \n",
       "Phase 3                  0                 25  \n",
       "Phase 4                  0                 11  \n",
       "Phase 5                  0                 83  "
      ]
     },
     "execution_count": 17,
     "metadata": {},
     "output_type": "execute_result"
    }
   ],
   "source": [
    "pred = svc.predict(X_val)\n",
    "labels = [\"Phase {}\".format(i) for i in range(1,6)]\n",
    "df = pd.DataFrame(confusion_matrix(y_val, pred),columns=[\"Predicted {}\".format(i) for i in labels])\n",
    "df.index = labels\n",
    "#print(\" \")\n",
    "print(classification_report(y_val, pred))\n",
    "df"
   ]
  },
  {
   "cell_type": "markdown",
   "metadata": {},
   "source": [
    "### Find threshold"
   ]
  },
  {
   "cell_type": "markdown",
   "metadata": {},
   "source": [
    "Look for the distance to the second max"
   ]
  },
  {
   "cell_type": "code",
   "execution_count": 18,
   "metadata": {},
   "outputs": [],
   "source": [
    "pred_val = svc.predict_proba(X_val)\n",
    "prob_pred = [v[int(y_val[i]-1)] for i,v in enumerate(pred_val)]"
   ]
  },
  {
   "cell_type": "code",
   "execution_count": 19,
   "metadata": {},
   "outputs": [
    {
     "data": {
      "text/plain": [
       "(array([42., 51., 32., 34., 45., 40., 46., 21.,  3.,  4.]),\n",
       " array([0.03324997, 0.12805379, 0.22285761, 0.31766142, 0.41246524,\n",
       "        0.50726906, 0.60207288, 0.6968767 , 0.79168051, 0.88648433,\n",
       "        0.98128815]),\n",
       " <a list of 10 Patch objects>)"
      ]
     },
     "execution_count": 19,
     "metadata": {},
     "output_type": "execute_result"
    },
    {
     "data": {
      "image/png": "[encoded data removed]",
      "text/plain": [
       "<Figure size 432x288 with 1 Axes>"
      ]
     },
     "metadata": {
      "needs_background": "light"
     },
     "output_type": "display_data"
    }
   ],
   "source": [
    "plt.hist(prob_pred)"
   ]
  },
  {
   "cell_type": "code",
   "execution_count": 20,
   "metadata": {},
   "outputs": [],
   "source": [
    "tuple_winner_pred = [(np.max(v),prob_pred[i],np.max(v)==prob_pred[i]) for i,v in enumerate(pred_val)]\n",
    "values_ok = [v[0] for i,v in enumerate(tuple_winner_pred) if v[2]==True]\n",
    "values_not_ok = [v[0] for i,v in enumerate(tuple_winner_pred) if v[2]==False]\n",
    "values_dist_not_ok = [v[0]-v[1] for i,v in enumerate(tuple_winner_pred) if v[2]==False]"
   ]
  },
  {
   "cell_type": "code",
   "execution_count": 21,
   "metadata": {},
   "outputs": [
    {
     "data": {
      "text/plain": [
       "(array([ 0.,  1.,  6., 21., 21., 25., 22., 17., 12.,  7.,  2.,  3.,  0.,\n",
       "         0.]),\n",
       " array([0.2 , 0.25, 0.3 , 0.35, 0.4 , 0.45, 0.5 , 0.55, 0.6 , 0.65, 0.7 ,\n",
       "        0.75, 0.8 , 0.85, 0.9 ]),\n",
       " <a list of 14 Patch objects>)"
      ]
     },
     "execution_count": 21,
     "metadata": {},
     "output_type": "execute_result"
    },
    {
     "data": {
      "image/png": "[encoded data removed]",
      "text/plain": [
       "<Figure size 432x288 with 1 Axes>"
      ]
     },
     "metadata": {
      "needs_background": "light"
     },
     "output_type": "display_data"
    }
   ],
   "source": [
    "plt.hist(values_ok,np.arange(0.2,.95,.05))\n",
    "plt.hist(values_not_ok,np.arange(0.2,.95,.05))"
   ]
  },
  {
   "cell_type": "code",
   "execution_count": 22,
   "metadata": {},
   "outputs": [
    {
     "data": {
      "text/plain": [
       "<matplotlib.collections.PathCollection at 0x1104475cac8>"
      ]
     },
     "execution_count": 22,
     "metadata": {},
     "output_type": "execute_result"
    },
    {
     "data": {
      "image/png": "[encoded data removed]",
      "text/plain": [
       "<Figure size 432x288 with 1 Axes>"
      ]
     },
     "metadata": {
      "needs_background": "light"
     },
     "output_type": "display_data"
    }
   ],
   "source": [
    "plt.scatter(values_dist_not_ok,values_not_ok)"
   ]
  },
  {
   "cell_type": "markdown",
   "metadata": {},
   "source": [
    "Define Threshold "
   ]
  },
  {
   "cell_type": "code",
   "execution_count": 23,
   "metadata": {},
   "outputs": [],
   "source": [
    "t = 0.65"
   ]
  },
  {
   "cell_type": "code",
   "execution_count": 24,
   "metadata": {},
   "outputs": [
    {
     "data": {
      "text/plain": [
       "Index(['Topic before 1', 'Topic before 2', 'Topic before 3', 'Topic before 4',\n",
       "       'Topic before 5', 'Topic before 6', 'Topic before 7', 'Topic before 8',\n",
       "       'Topic before 9', 'Topic before 10',\n",
       "       ...\n",
       "       'Topic after 60', 'phase', 'phase_1', 'phase_2', 'phase_3', 'phase_4',\n",
       "       'phase_5', 'utterance', 'length utterance', 'utterance_relative_time'],\n",
       "      dtype='object', length=189)"
      ]
     },
     "execution_count": 24,
     "metadata": {},
     "output_type": "execute_result"
    }
   ],
   "source": [
    "df_data.columns"
   ]
  },
  {
   "cell_type": "code",
   "execution_count": 25,
   "metadata": {},
   "outputs": [],
   "source": [
    "output_first_layer = pc.first_layer_classifier(X_all,t,svc)\n",
    "comparison = list(zip(output_first_layer,y_all))"
   ]
  },
  {
   "cell_type": "code",
   "execution_count": 26,
   "metadata": {},
   "outputs": [],
   "source": [
    "df_data['first_layer'] = output_first_layer"
   ]
  },
  {
   "cell_type": "markdown",
   "metadata": {},
   "source": [
    "### Second layer"
   ]
  },
  {
   "cell_type": "code",
   "execution_count": 32,
   "metadata": {},
   "outputs": [
    {
     "data": {
      "text/plain": [
       "<module 'src.phase_classification' from 'C:\\\\Users\\\\CATALINA ESPINOZA\\\\Documents\\\\ciae\\\\Classification_IBL\\\\src\\\\phase_classification.py'>"
      ]
     },
     "execution_count": 32,
     "metadata": {},
     "output_type": "execute_result"
    }
   ],
   "source": [
    "import importlib\n",
    "importlib.reload(pc)"
   ]
  },
  {
   "cell_type": "code",
   "execution_count": 127,
   "metadata": {},
   "outputs": [
    {
     "data": {
      "text/plain": [
       "array([255, 140, 298,  50, 389])"
      ]
     },
     "execution_count": 127,
     "metadata": {},
     "output_type": "execute_result"
    }
   ],
   "source": [
    "len(svc.coef_)\n",
    "svc.classes_\n",
    "svc.n_support_"
   ]
  },
  {
   "cell_type": "code",
   "execution_count": 27,
   "metadata": {},
   "outputs": [],
   "source": [
    "second_layer,coeff = pc.second_layer_combination_before_after(X_all,df_data,svc)"
   ]
  },
  {
   "cell_type": "code",
   "execution_count": 37,
   "metadata": {
    "scrolled": true
   },
   "outputs": [
    {
     "data": {
      "text/plain": [
       "SVC(C=1.0, cache_size=200, class_weight=None, coef0=0.0,\n",
       "  decision_function_shape='ovr', degree=3, gamma='auto_deprecated',\n",
       "  kernel='linear', max_iter=3000, probability=True, random_state=10,\n",
       "  shrinking=True, tol=0.001, verbose=False)"
      ]
     },
     "execution_count": 37,
     "metadata": {},
     "output_type": "execute_result"
    }
   ],
   "source": [
    "svc"
   ]
  },
  {
   "cell_type": "code",
   "execution_count": 43,
   "metadata": {},
   "outputs": [],
   "source": [
    "from scipy.optimize import minimize\n"
   ]
  },
  {
   "cell_type": "code",
   "execution_count": 116,
   "metadata": {},
   "outputs": [],
   "source": [
    "phases = df_data.phase.values\n",
    "s,v1,v2,v3 = pc.get_linear_system(X_all,svc,phases)"
   ]
  },
  {
   "cell_type": "code",
   "execution_count": 117,
   "metadata": {},
   "outputs": [],
   "source": [
    "sol,As = pc.get_solution_linear_system(s,v1,v2,v3)"
   ]
  },
  {
   "cell_type": "code",
   "execution_count": 118,
   "metadata": {},
   "outputs": [
    {
     "data": {
      "text/plain": [
       "array([0.50014077, 0.1612038 , 0.33865542])"
      ]
     },
     "execution_count": 118,
     "metadata": {},
     "output_type": "execute_result"
    }
   ],
   "source": [
    "As,bs = pc.get_elements_linear_system(s,v1,v2,v3)\n",
    "fun = lambda x: np.sum([np.linalg.norm(np.dot(As[i],x)-bs[i]) for i in range(len(s))])\n",
    "cons = ({'type': 'eq', 'fun': lambda x:  x[0]+x[1]+x[2]-1})\n",
    "sol = minimize(fun, np.zeros(3), method='SLSQP', bounds=[(0.,1) for x in range(3)],constraints=cons)\n",
    "sol.x"
   ]
  },
  {
   "cell_type": "code",
   "execution_count": 120,
   "metadata": {},
   "outputs": [
    {
     "data": {
      "text/plain": [
       "<matplotlib.collections.PathCollection at 0x1104bc370b8>"
      ]
     },
     "execution_count": 120,
     "metadata": {},
     "output_type": "execute_result"
    },
    {
     "data": {
      "image/png": "[encoded data removed]",
      "text/plain": [
       "<Figure size 432x288 with 1 Axes>"
      ]
     },
     "metadata": {
      "needs_background": "light"
     },
     "output_type": "display_data"
    }
   ],
   "source": [
    "x = range(1,14)\n",
    "y = []\n",
    "for i in range(1,14):\n",
    "    sol = minimize(fun, np.zeros(3), method='SLSQP', bounds=[(0.,1) for x in range(3)],constraints=cons,options={'maxiter':i})\n",
    "    y.append(fun(sol.x))\n",
    "plt.scatter(x,y)"
   ]
  },
  {
   "cell_type": "code",
   "execution_count": 121,
   "metadata": {
    "scrolled": true
   },
   "outputs": [
    {
     "data": {
      "text/plain": [
       "1412.9734118155675"
      ]
     },
     "execution_count": 121,
     "metadata": {},
     "output_type": "execute_result"
    }
   ],
   "source": [
    "fun([0,1,0])"
   ]
  },
  {
   "cell_type": "code",
   "execution_count": 122,
   "metadata": {},
   "outputs": [
    {
     "data": {
      "text/plain": [
       "1402.509558583298"
      ]
     },
     "execution_count": 122,
     "metadata": {},
     "output_type": "execute_result"
    }
   ],
   "source": [
    "fun(sol.x)"
   ]
  },
  {
   "cell_type": "code",
   "execution_count": 28,
   "metadata": {},
   "outputs": [],
   "source": [
    "df_data['second_layer'] = second_layer"
   ]
  },
  {
   "cell_type": "code",
   "execution_count": 29,
   "metadata": {
    "scrolled": false
   },
   "outputs": [
    {
     "name": "stdout",
     "output_type": "stream",
     "text": [
      "              precision    recall  f1-score   support\n",
      "\n",
      "           1       0.58      0.72      0.65       403\n",
      "           2       0.87      0.31      0.46       175\n",
      "           3       0.76      0.56      0.65       406\n",
      "           4       1.00      0.05      0.09        62\n",
      "           5       0.57      0.76      0.65       554\n",
      "\n",
      "   micro avg       0.62      0.62      0.62      1600\n",
      "   macro avg       0.76      0.48      0.50      1600\n",
      "weighted avg       0.67      0.62      0.61      1600\n",
      "\n"
     ]
    },
    {
     "data": {
      "text/html": [
       "<div>\n",
       "<style scoped>\n",
       "    .dataframe tbody tr th:only-of-type {\n",
       "        vertical-align: middle;\n",
       "    }\n",
       "\n",
       "    .dataframe tbody tr th {\n",
       "        vertical-align: top;\n",
       "    }\n",
       "\n",
       "    .dataframe thead th {\n",
       "        text-align: right;\n",
       "    }\n",
       "</style>\n",
       "<table border=\"1\" class=\"dataframe\">\n",
       "  <thead>\n",
       "    <tr style=\"text-align: right;\">\n",
       "      <th></th>\n",
       "      <th>Predicted Phase 1</th>\n",
       "      <th>Predicted Phase 2</th>\n",
       "      <th>Predicted Phase 3</th>\n",
       "      <th>Predicted Phase 4</th>\n",
       "      <th>Predicted Phase 5</th>\n",
       "    </tr>\n",
       "  </thead>\n",
       "  <tbody>\n",
       "    <tr>\n",
       "      <th>Phase 1</th>\n",
       "      <td>290</td>\n",
       "      <td>6</td>\n",
       "      <td>21</td>\n",
       "      <td>0</td>\n",
       "      <td>86</td>\n",
       "    </tr>\n",
       "    <tr>\n",
       "      <th>Phase 2</th>\n",
       "      <td>45</td>\n",
       "      <td>54</td>\n",
       "      <td>4</td>\n",
       "      <td>0</td>\n",
       "      <td>72</td>\n",
       "    </tr>\n",
       "    <tr>\n",
       "      <th>Phase 3</th>\n",
       "      <td>73</td>\n",
       "      <td>1</td>\n",
       "      <td>228</td>\n",
       "      <td>0</td>\n",
       "      <td>104</td>\n",
       "    </tr>\n",
       "    <tr>\n",
       "      <th>Phase 4</th>\n",
       "      <td>0</td>\n",
       "      <td>0</td>\n",
       "      <td>4</td>\n",
       "      <td>3</td>\n",
       "      <td>55</td>\n",
       "    </tr>\n",
       "    <tr>\n",
       "      <th>Phase 5</th>\n",
       "      <td>88</td>\n",
       "      <td>1</td>\n",
       "      <td>43</td>\n",
       "      <td>0</td>\n",
       "      <td>422</td>\n",
       "    </tr>\n",
       "  </tbody>\n",
       "</table>\n",
       "</div>"
      ],
      "text/plain": [
       "         Predicted Phase 1  Predicted Phase 2  Predicted Phase 3  \\\n",
       "Phase 1                290                  6                 21   \n",
       "Phase 2                 45                 54                  4   \n",
       "Phase 3                 73                  1                228   \n",
       "Phase 4                  0                  0                  4   \n",
       "Phase 5                 88                  1                 43   \n",
       "\n",
       "         Predicted Phase 4  Predicted Phase 5  \n",
       "Phase 1                  0                 86  \n",
       "Phase 2                  0                 72  \n",
       "Phase 3                  0                104  \n",
       "Phase 4                  3                 55  \n",
       "Phase 5                  0                422  "
      ]
     },
     "execution_count": 29,
     "metadata": {},
     "output_type": "execute_result"
    }
   ],
   "source": [
    "df = pd.DataFrame(confusion_matrix(y_all, second_layer),columns=[\"Predicted {}\".format(i) for i in labels])\n",
    "df.index = labels\n",
    "print(classification_report(y_all, second_layer))\n",
    "df"
   ]
  },
  {
   "cell_type": "code",
   "execution_count": 30,
   "metadata": {},
   "outputs": [],
   "source": [
    "with open(os.path.join(data_path,'classifier_svm_linear_combination_svc_ba.pickle'),'wb') as f:\n",
    "    pickle.dump(svc,f)\n",
    "    pickle.dump(coeff,f)"
   ]
  },
  {
   "cell_type": "code",
   "execution_count": 31,
   "metadata": {},
   "outputs": [],
   "source": [
    "df_data.to_excel(os.path.join(tables_path,'[second_layer]'+file_name))"
   ]
  },
  {
   "cell_type": "code",
   "execution_count": null,
   "metadata": {},
   "outputs": [],
   "source": []
  }
 ],
 "metadata": {
  "kernelspec": {
   "display_name": "Python 3",
   "language": "python",
   "name": "python3"
  },
  "language_info": {
   "codemirror_mode": {
    "name": "ipython",
    "version": 3
   },
   "file_extension": ".py",
   "mimetype": "text/x-python",
   "name": "python",
   "nbconvert_exporter": "python",
   "pygments_lexer": "ipython3",
   "version": "3.6.6"
  }
 },
 "nbformat": 4,
 "nbformat_minor": 2
}
