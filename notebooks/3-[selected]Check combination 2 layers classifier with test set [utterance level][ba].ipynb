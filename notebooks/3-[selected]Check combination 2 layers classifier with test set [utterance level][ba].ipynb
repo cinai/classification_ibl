{
 "cells": [
  {
   "cell_type": "markdown",
   "metadata": {},
   "source": [
    "## Test \"best of two\" classifier \n",
    "\n",
    "This notebook test a classifier that operates in two layers:\n",
    "- First we use a SVM classifier to label utterances with high degree of certainty.\n",
    "- Afterwards we use heuristics to complete the labeling"
   ]
  },
  {
   "cell_type": "code",
   "execution_count": 1,
   "metadata": {},
   "outputs": [],
   "source": [
    "import os\n",
    "import sys\n",
    "import pandas as pd\n",
    "import numpy as np\n",
    "import random\n",
    "import pickle\n",
    "import matplotlib.pyplot as plt\n",
    "\n",
    "root_path = os.path.dirname(os.path.abspath(os.getcwd()))\n",
    "sys.path.append(root_path)\n",
    "\n",
    "from sklearn.svm import SVC\n",
    "from sklearn.svm import LinearSVC\n",
    "from sklearn.metrics import classification_report\n",
    "from sklearn.metrics import confusion_matrix\n",
    "from src import phase_classification as pc\n",
    "\n",
    "data_path = os.path.join(root_path,'data')\n",
    "tables_path = os.path.join(data_path,'tables')\n",
    "results_path = os.path.join(root_path,'results')\n",
    "output_path =os.path.join(results_path,'tables')"
   ]
  },
  {
   "cell_type": "code",
   "execution_count": 2,
   "metadata": {},
   "outputs": [
    {
     "data": {
      "text/plain": [
       "<module 'src.phase_classification' from 'C:\\\\Users\\\\CATALINA ESPINOZA\\\\Documents\\\\ciae\\\\Classification_IBL\\\\src\\\\phase_classification.py'>"
      ]
     },
     "execution_count": 2,
     "metadata": {},
     "output_type": "execute_result"
    }
   ],
   "source": [
    "import importlib\n",
    "importlib.reload(pc)"
   ]
  },
  {
   "cell_type": "code",
   "execution_count": 3,
   "metadata": {},
   "outputs": [],
   "source": [
    "WITH_STEMMING = True\n",
    "#REMOVE_STOPWORDS = True\n",
    "SEED = 10\n",
    "NUM_TOPICS = 60\n",
    "random.seed(SEED)\n",
    "t = 0"
   ]
  },
  {
   "cell_type": "code",
   "execution_count": 4,
   "metadata": {},
   "outputs": [],
   "source": [
    "test_i = '[test1]'\n",
    "file_name = test_i+'IBL_topic_distribution_by_utterance_with_phrase_before_and_after_time_utterance_minimum_0_words_with_stemming_{}_{}.xlsx'.format(WITH_STEMMING,NUM_TOPICS)\n",
    "df_data = pd.read_excel(os.path.join(tables_path,'test',file_name))"
   ]
  },
  {
   "cell_type": "code",
   "execution_count": 5,
   "metadata": {},
   "outputs": [
    {
     "name": "stdout",
     "output_type": "stream",
     "text": [
      "181\n",
      "key 1, samples: 55, prop: 0.3\n",
      "key 2, samples: 27, prop: 0.15\n",
      "key 3, samples: 46, prop: 0.25\n",
      "key 4, samples: 7, prop: 0.04\n",
      "key 5, samples: 46, prop: 0.25\n"
     ]
    }
   ],
   "source": [
    "the_keys = list(set(df_data['phase']))\n",
    "total_samples = 0\n",
    "class_samples = {}\n",
    "for key in the_keys:\n",
    "    n = list(df_data.phase.values).count(key)\n",
    "    #print(\"key {}, total {}\".format(key,n))\n",
    "    total_samples += n\n",
    "    class_samples[key] = n\n",
    "print(total_samples)\n",
    "for key in the_keys:\n",
    "    print(\"key {}, samples: {}, prop: {}\".format(key,class_samples[key],round(class_samples[key]*1.0/total_samples,2)))"
   ]
  },
  {
   "cell_type": "code",
   "execution_count": 6,
   "metadata": {},
   "outputs": [],
   "source": [
    "filter_rows = list(range(0,180))+[187,188]\n",
    "filter_labels = [180]"
   ]
  },
  {
   "cell_type": "code",
   "execution_count": 7,
   "metadata": {},
   "outputs": [
    {
     "data": {
      "text/html": [
       "<div>\n",
       "<style scoped>\n",
       "    .dataframe tbody tr th:only-of-type {\n",
       "        vertical-align: middle;\n",
       "    }\n",
       "\n",
       "    .dataframe tbody tr th {\n",
       "        vertical-align: top;\n",
       "    }\n",
       "\n",
       "    .dataframe thead th {\n",
       "        text-align: right;\n",
       "    }\n",
       "</style>\n",
       "<table border=\"1\" class=\"dataframe\">\n",
       "  <thead>\n",
       "    <tr style=\"text-align: right;\">\n",
       "      <th></th>\n",
       "      <th>Topic before 1</th>\n",
       "      <th>Topic before 2</th>\n",
       "      <th>Topic before 3</th>\n",
       "      <th>Topic before 4</th>\n",
       "      <th>Topic before 5</th>\n",
       "      <th>Topic before 6</th>\n",
       "      <th>Topic before 7</th>\n",
       "      <th>Topic before 8</th>\n",
       "      <th>Topic before 9</th>\n",
       "      <th>Topic before 10</th>\n",
       "      <th>...</th>\n",
       "      <th>Topic after 60</th>\n",
       "      <th>phase</th>\n",
       "      <th>phase_1</th>\n",
       "      <th>phase_2</th>\n",
       "      <th>phase_3</th>\n",
       "      <th>phase_4</th>\n",
       "      <th>phase_5</th>\n",
       "      <th>utterance</th>\n",
       "      <th>length utterance</th>\n",
       "      <th>utterance_relative_time</th>\n",
       "    </tr>\n",
       "  </thead>\n",
       "  <tbody>\n",
       "    <tr>\n",
       "      <th>0</th>\n",
       "      <td>0.008418</td>\n",
       "      <td>0.011185</td>\n",
       "      <td>0.005599</td>\n",
       "      <td>0.005092</td>\n",
       "      <td>0.003249</td>\n",
       "      <td>0.004417</td>\n",
       "      <td>0.004143</td>\n",
       "      <td>0.007655</td>\n",
       "      <td>0.011196</td>\n",
       "      <td>0.013947</td>\n",
       "      <td>...</td>\n",
       "      <td>0.011693</td>\n",
       "      <td>5</td>\n",
       "      <td>0</td>\n",
       "      <td>0</td>\n",
       "      <td>0</td>\n",
       "      <td>0</td>\n",
       "      <td>1</td>\n",
       "      <td>paina suora</td>\n",
       "      <td>0.043478</td>\n",
       "      <td>0.000000</td>\n",
       "    </tr>\n",
       "    <tr>\n",
       "      <th>1</th>\n",
       "      <td>0.008418</td>\n",
       "      <td>0.011185</td>\n",
       "      <td>0.005599</td>\n",
       "      <td>0.005092</td>\n",
       "      <td>0.003249</td>\n",
       "      <td>0.004417</td>\n",
       "      <td>0.004143</td>\n",
       "      <td>0.007655</td>\n",
       "      <td>0.011196</td>\n",
       "      <td>0.013947</td>\n",
       "      <td>...</td>\n",
       "      <td>0.007614</td>\n",
       "      <td>5</td>\n",
       "      <td>0</td>\n",
       "      <td>0</td>\n",
       "      <td>0</td>\n",
       "      <td>0</td>\n",
       "      <td>1</td>\n",
       "      <td>no emmä tiiä olis ihan</td>\n",
       "      <td>0.173913</td>\n",
       "      <td>0.005181</td>\n",
       "    </tr>\n",
       "  </tbody>\n",
       "</table>\n",
       "<p>2 rows × 189 columns</p>\n",
       "</div>"
      ],
      "text/plain": [
       "   Topic before 1  Topic before 2  Topic before 3  Topic before 4  \\\n",
       "0        0.008418        0.011185        0.005599        0.005092   \n",
       "1        0.008418        0.011185        0.005599        0.005092   \n",
       "\n",
       "   Topic before 5  Topic before 6  Topic before 7  Topic before 8  \\\n",
       "0        0.003249        0.004417        0.004143        0.007655   \n",
       "1        0.003249        0.004417        0.004143        0.007655   \n",
       "\n",
       "   Topic before 9  Topic before 10           ...             Topic after 60  \\\n",
       "0        0.011196         0.013947           ...                   0.011693   \n",
       "1        0.011196         0.013947           ...                   0.007614   \n",
       "\n",
       "   phase  phase_1  phase_2  phase_3  phase_4  phase_5               utterance  \\\n",
       "0      5        0        0        0        0        1             paina suora   \n",
       "1      5        0        0        0        0        1  no emmä tiiä olis ihan   \n",
       "\n",
       "   length utterance  utterance_relative_time  \n",
       "0          0.043478                 0.000000  \n",
       "1          0.173913                 0.005181  \n",
       "\n",
       "[2 rows x 189 columns]"
      ]
     },
     "execution_count": 7,
     "metadata": {},
     "output_type": "execute_result"
    }
   ],
   "source": [
    "df_data.head(2)"
   ]
  },
  {
   "cell_type": "code",
   "execution_count": 10,
   "metadata": {
    "scrolled": false
   },
   "outputs": [],
   "source": [
    "all_set = pc.split_df_test(df_data)\n",
    "X_all,y_all = pc.get_data_from_dict(all_set,filter_rows)\n",
    "len(y_all)\n",
    "selected_features = [3,\n",
    " 8,\n",
    " 140,\n",
    " 142,\n",
    " 20,\n",
    " 149,\n",
    " 22,\n",
    " 153,\n",
    " 26,\n",
    " 29,\n",
    " 159,\n",
    " 33,\n",
    " 163,\n",
    " 36,\n",
    " 39,\n",
    " 170,\n",
    " 43,\n",
    " 175,\n",
    " 181,\n",
    " 63,\n",
    " 80,\n",
    " 82,\n",
    " 86,\n",
    " 89,\n",
    " 93,\n",
    " 99,\n",
    " 103,\n",
    " 110,\n",
    " 115]"
   ]
  },
  {
   "cell_type": "code",
   "execution_count": 11,
   "metadata": {},
   "outputs": [],
   "source": [
    "X_all = [element[selected_features] for element in X_all] "
   ]
  },
  {
   "cell_type": "code",
   "execution_count": 12,
   "metadata": {},
   "outputs": [],
   "source": [
    "name_classifier = 'classifier_svm_linear_combination_svc_ba_selected.pickle'\n",
    "with open(os.path.join(data_path,name_classifier),'rb') as f:\n",
    "    svc = pickle.load(f)\n",
    "    coeff = pickle.load(f)\n",
    "output_first_layer = pc.first_layer_classifier(X_all,t,svc)\n",
    "comparison = list(zip(output_first_layer,y_all))"
   ]
  },
  {
   "cell_type": "code",
   "execution_count": 13,
   "metadata": {},
   "outputs": [],
   "source": [
    "df_data['first_layer'] = output_first_layer"
   ]
  },
  {
   "cell_type": "code",
   "execution_count": 14,
   "metadata": {},
   "outputs": [],
   "source": [
    "second_layer = pc.second_layer_combination_test(X_all,coeff,svc)"
   ]
  },
  {
   "cell_type": "code",
   "execution_count": 15,
   "metadata": {},
   "outputs": [
    {
     "data": {
      "text/plain": [
       "0"
      ]
     },
     "execution_count": 15,
     "metadata": {},
     "output_type": "execute_result"
    }
   ],
   "source": [
    "second_layer.count(-1)"
   ]
  },
  {
   "cell_type": "code",
   "execution_count": 16,
   "metadata": {},
   "outputs": [],
   "source": [
    "df_data['second_layer'] = second_layer\n",
    "#df_data.to_excel(os.path.join(output_path,'[second_layer]'+file_name))"
   ]
  },
  {
   "cell_type": "code",
   "execution_count": 17,
   "metadata": {},
   "outputs": [
    {
     "name": "stdout",
     "output_type": "stream",
     "text": [
      "              precision    recall  f1-score   support\n",
      "\n",
      "           1       0.35      0.33      0.34        55\n",
      "           2       1.00      0.26      0.41        27\n",
      "           3       0.50      0.37      0.42        46\n",
      "           4       0.00      0.00      0.00         7\n",
      "           5       0.28      0.54      0.37        46\n",
      "\n",
      "   micro avg       0.37      0.37      0.37       181\n",
      "   macro avg       0.43      0.30      0.31       181\n",
      "weighted avg       0.45      0.37      0.37       181\n",
      "\n"
     ]
    },
    {
     "name": "stderr",
     "output_type": "stream",
     "text": [
      "C:\\Users\\CATALINA ESPINOZA\\AppData\\Local\\conda\\conda\\envs\\teacher_topic_model\\lib\\site-packages\\sklearn\\metrics\\classification.py:1143: UndefinedMetricWarning: Precision and F-score are ill-defined and being set to 0.0 in labels with no predicted samples.\n",
      "  'precision', 'predicted', average, warn_for)\n"
     ]
    },
    {
     "data": {
      "text/html": [
       "<div>\n",
       "<style scoped>\n",
       "    .dataframe tbody tr th:only-of-type {\n",
       "        vertical-align: middle;\n",
       "    }\n",
       "\n",
       "    .dataframe tbody tr th {\n",
       "        vertical-align: top;\n",
       "    }\n",
       "\n",
       "    .dataframe thead th {\n",
       "        text-align: right;\n",
       "    }\n",
       "</style>\n",
       "<table border=\"1\" class=\"dataframe\">\n",
       "  <thead>\n",
       "    <tr style=\"text-align: right;\">\n",
       "      <th></th>\n",
       "      <th>Predicted Phase 1</th>\n",
       "      <th>Predicted Phase 2</th>\n",
       "      <th>Predicted Phase 3</th>\n",
       "      <th>Predicted Phase 4</th>\n",
       "      <th>Predicted Phase 5</th>\n",
       "    </tr>\n",
       "  </thead>\n",
       "  <tbody>\n",
       "    <tr>\n",
       "      <th>Phase 1</th>\n",
       "      <td>18</td>\n",
       "      <td>0</td>\n",
       "      <td>11</td>\n",
       "      <td>0</td>\n",
       "      <td>26</td>\n",
       "    </tr>\n",
       "    <tr>\n",
       "      <th>Phase 2</th>\n",
       "      <td>7</td>\n",
       "      <td>7</td>\n",
       "      <td>2</td>\n",
       "      <td>0</td>\n",
       "      <td>11</td>\n",
       "    </tr>\n",
       "    <tr>\n",
       "      <th>Phase 3</th>\n",
       "      <td>10</td>\n",
       "      <td>0</td>\n",
       "      <td>17</td>\n",
       "      <td>0</td>\n",
       "      <td>19</td>\n",
       "    </tr>\n",
       "    <tr>\n",
       "      <th>Phase 4</th>\n",
       "      <td>0</td>\n",
       "      <td>0</td>\n",
       "      <td>0</td>\n",
       "      <td>0</td>\n",
       "      <td>7</td>\n",
       "    </tr>\n",
       "    <tr>\n",
       "      <th>Phase 5</th>\n",
       "      <td>17</td>\n",
       "      <td>0</td>\n",
       "      <td>4</td>\n",
       "      <td>0</td>\n",
       "      <td>25</td>\n",
       "    </tr>\n",
       "  </tbody>\n",
       "</table>\n",
       "</div>"
      ],
      "text/plain": [
       "         Predicted Phase 1  Predicted Phase 2  Predicted Phase 3  \\\n",
       "Phase 1                 18                  0                 11   \n",
       "Phase 2                  7                  7                  2   \n",
       "Phase 3                 10                  0                 17   \n",
       "Phase 4                  0                  0                  0   \n",
       "Phase 5                 17                  0                  4   \n",
       "\n",
       "         Predicted Phase 4  Predicted Phase 5  \n",
       "Phase 1                  0                 26  \n",
       "Phase 2                  0                 11  \n",
       "Phase 3                  0                 19  \n",
       "Phase 4                  0                  7  \n",
       "Phase 5                  0                 25  "
      ]
     },
     "execution_count": 17,
     "metadata": {},
     "output_type": "execute_result"
    }
   ],
   "source": [
    "labels = [\"Phase {}\".format(i) for i in range(1,6)]\n",
    "df = pd.DataFrame(confusion_matrix(y_all, second_layer),columns=[\"Predicted {}\".format(i) for i in labels])\n",
    "df.index = labels\n",
    "print(classification_report(y_all, second_layer))\n",
    "df"
   ]
  },
  {
   "cell_type": "markdown",
   "metadata": {},
   "source": [
    "### Test 2"
   ]
  },
  {
   "cell_type": "code",
   "execution_count": 18,
   "metadata": {},
   "outputs": [
    {
     "name": "stdout",
     "output_type": "stream",
     "text": [
      "100\n",
      "key 1, samples: 17, prop: 0.17\n",
      "key 2, samples: 6, prop: 0.06\n",
      "key 3, samples: 24, prop: 0.24\n",
      "key 4, samples: 1, prop: 0.01\n",
      "key 5, samples: 52, prop: 0.52\n"
     ]
    }
   ],
   "source": [
    "test_i = '[test2]'\n",
    "file_name = test_i+'IBL_topic_distribution_by_utterance_with_phrase_before_and_after_time_utterance_minimum_0_words_with_stemming_{}_{}.xlsx'.format(WITH_STEMMING,NUM_TOPICS)\n",
    "df_data = pd.read_excel(os.path.join(tables_path,'test',file_name))\n",
    "the_keys = list(set(df_data['phase']))\n",
    "total_samples = 0\n",
    "class_samples = {}\n",
    "for key in the_keys:\n",
    "    n = list(df_data.phase.values).count(key)\n",
    "    #print(\"key {}, total {}\".format(key,n))\n",
    "    total_samples += n\n",
    "    class_samples[key] = n\n",
    "print(total_samples)\n",
    "for key in the_keys:\n",
    "    print(\"key {}, samples: {}, prop: {}\".format(key,class_samples[key],round(class_samples[key]*1.0/total_samples,2)))"
   ]
  },
  {
   "cell_type": "code",
   "execution_count": 19,
   "metadata": {
    "scrolled": true
   },
   "outputs": [],
   "source": [
    "all_set = pc.split_df_test(df_data)\n",
    "X_all,y_all = pc.get_data_from_dict(all_set,filter_rows)\n",
    "X_all = [element[selected_features] for element in X_all] \n",
    "output_first_layer = pc.first_layer_classifier(X_all,t,name_classifier)\n",
    "comparison = list(zip(output_first_layer,y_all))\n",
    "df_data['first_layer'] = output_first_layer\n",
    "second_layer = pc.second_layer_combination_test(X_all,coeff,svc)\n",
    "df_data['second_layer'] = second_layer\n",
    "#df_data.to_excel(os.path.join(output_path,'[second_layer]'+file_name))"
   ]
  },
  {
   "cell_type": "code",
   "execution_count": 20,
   "metadata": {},
   "outputs": [
    {
     "data": {
      "text/plain": [
       "0"
      ]
     },
     "execution_count": 20,
     "metadata": {},
     "output_type": "execute_result"
    }
   ],
   "source": [
    "second_layer.count(-1)"
   ]
  },
  {
   "cell_type": "code",
   "execution_count": 21,
   "metadata": {
    "scrolled": false
   },
   "outputs": [
    {
     "name": "stdout",
     "output_type": "stream",
     "text": [
      "              precision    recall  f1-score   support\n",
      "\n",
      "           1       0.42      0.76      0.54        17\n",
      "           2       1.00      0.33      0.50         6\n",
      "           3       0.58      0.46      0.51        24\n",
      "           4       0.00      0.00      0.00         1\n",
      "           5       0.67      0.62      0.64        52\n",
      "\n",
      "   micro avg       0.58      0.58      0.58       100\n",
      "   macro avg       0.53      0.43      0.44       100\n",
      "weighted avg       0.62      0.58      0.58       100\n",
      "\n"
     ]
    },
    {
     "name": "stderr",
     "output_type": "stream",
     "text": [
      "C:\\Users\\CATALINA ESPINOZA\\AppData\\Local\\conda\\conda\\envs\\teacher_topic_model\\lib\\site-packages\\sklearn\\metrics\\classification.py:1143: UndefinedMetricWarning: Precision and F-score are ill-defined and being set to 0.0 in labels with no predicted samples.\n",
      "  'precision', 'predicted', average, warn_for)\n"
     ]
    },
    {
     "data": {
      "text/html": [
       "<div>\n",
       "<style scoped>\n",
       "    .dataframe tbody tr th:only-of-type {\n",
       "        vertical-align: middle;\n",
       "    }\n",
       "\n",
       "    .dataframe tbody tr th {\n",
       "        vertical-align: top;\n",
       "    }\n",
       "\n",
       "    .dataframe thead th {\n",
       "        text-align: right;\n",
       "    }\n",
       "</style>\n",
       "<table border=\"1\" class=\"dataframe\">\n",
       "  <thead>\n",
       "    <tr style=\"text-align: right;\">\n",
       "      <th></th>\n",
       "      <th>Predicted Phase 1</th>\n",
       "      <th>Predicted Phase 2</th>\n",
       "      <th>Predicted Phase 3</th>\n",
       "      <th>Predicted Phase 4</th>\n",
       "      <th>Predicted Phase 5</th>\n",
       "    </tr>\n",
       "  </thead>\n",
       "  <tbody>\n",
       "    <tr>\n",
       "      <th>Phase 1</th>\n",
       "      <td>13</td>\n",
       "      <td>0</td>\n",
       "      <td>0</td>\n",
       "      <td>0</td>\n",
       "      <td>4</td>\n",
       "    </tr>\n",
       "    <tr>\n",
       "      <th>Phase 2</th>\n",
       "      <td>0</td>\n",
       "      <td>2</td>\n",
       "      <td>0</td>\n",
       "      <td>0</td>\n",
       "      <td>4</td>\n",
       "    </tr>\n",
       "    <tr>\n",
       "      <th>Phase 3</th>\n",
       "      <td>6</td>\n",
       "      <td>0</td>\n",
       "      <td>11</td>\n",
       "      <td>0</td>\n",
       "      <td>7</td>\n",
       "    </tr>\n",
       "    <tr>\n",
       "      <th>Phase 4</th>\n",
       "      <td>0</td>\n",
       "      <td>0</td>\n",
       "      <td>0</td>\n",
       "      <td>0</td>\n",
       "      <td>1</td>\n",
       "    </tr>\n",
       "    <tr>\n",
       "      <th>Phase 5</th>\n",
       "      <td>12</td>\n",
       "      <td>0</td>\n",
       "      <td>8</td>\n",
       "      <td>0</td>\n",
       "      <td>32</td>\n",
       "    </tr>\n",
       "  </tbody>\n",
       "</table>\n",
       "</div>"
      ],
      "text/plain": [
       "         Predicted Phase 1  Predicted Phase 2  Predicted Phase 3  \\\n",
       "Phase 1                 13                  0                  0   \n",
       "Phase 2                  0                  2                  0   \n",
       "Phase 3                  6                  0                 11   \n",
       "Phase 4                  0                  0                  0   \n",
       "Phase 5                 12                  0                  8   \n",
       "\n",
       "         Predicted Phase 4  Predicted Phase 5  \n",
       "Phase 1                  0                  4  \n",
       "Phase 2                  0                  4  \n",
       "Phase 3                  0                  7  \n",
       "Phase 4                  0                  1  \n",
       "Phase 5                  0                 32  "
      ]
     },
     "execution_count": 21,
     "metadata": {},
     "output_type": "execute_result"
    }
   ],
   "source": [
    "labels = [\"Phase {}\".format(i) for i in range(1,6)]\n",
    "df = pd.DataFrame(confusion_matrix(y_all, second_layer),columns=[\"Predicted {}\".format(i) for i in labels])\n",
    "df.index = labels\n",
    "print(classification_report(y_all, second_layer))\n",
    "df"
   ]
  },
  {
   "cell_type": "code",
   "execution_count": 22,
   "metadata": {},
   "outputs": [
    {
     "name": "stdout",
     "output_type": "stream",
     "text": [
      "Accuracy of SVM classifier on training set: 0.55\n"
     ]
    }
   ],
   "source": [
    "print('Accuracy of SVM classifier on training set: {:.2f}'\n",
    "     .format(svc.score(X_all, y_all)))"
   ]
  },
  {
   "cell_type": "code",
   "execution_count": null,
   "metadata": {},
   "outputs": [],
   "source": []
  }
 ],
 "metadata": {
  "kernelspec": {
   "display_name": "Python 3",
   "language": "python",
   "name": "python3"
  },
  "language_info": {
   "codemirror_mode": {
    "name": "ipython",
    "version": 3
   },
   "file_extension": ".py",
   "mimetype": "text/x-python",
   "name": "python",
   "nbconvert_exporter": "python",
   "pygments_lexer": "ipython3",
   "version": "3.6.6"
  }
 },
 "nbformat": 4,
 "nbformat_minor": 2
}
